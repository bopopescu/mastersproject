{
 "cells": [
  {
   "cell_type": "markdown",
   "metadata": {},
   "source": [
    "# Overview\n",
    "This notebook is intended to demonstrate the _quarter-five spot_ problem (see e.g. https://users.wpi.edu/~sweekes/GEO/fivespot.html).\n",
    "\n",
    "In simple terms, consider a domain with no-flow boundary (all neumann = 0). Let the lower-left corner be an injection well ($f=1$ in that cell) and the upper-right corner be a production well ($f=-1$ in that cell).\n",
    "\n",
    "The governing equation and setup is described below.\n",
    "\n",
    "## Setup\n",
    "Let's setup the problem.\n",
    "\n",
    "Recall, our aim is to solve single-phase flow,\n",
    "$$-\\nabla\\cdot K \\nabla p = f$$\n",
    "over the domain $\\Omega$. \n",
    "\n",
    "The boundary conditions will be defined over $\\partial\\Omega$, and are mathematically written as\n",
    "$$p=p_b, \\quad -K\\nabla p \\cdot \\mathbf{n} = u_b$$\n",
    "for Dirichlet ($\\partial\\Omega_d$) and Neumann ($\\partial\\Omega_n$) conditions respectively.\n",
    "\n",
    "$f$ is a scalar source/sink term. $K$ is the permeability matrix. $p_b$ is the pressure at the boundary (Dirichlet), $u_b$ is the flux at the boundary (Neumann).\n",
    "\n",
    "The basic setup is:\n",
    "$$\n",
    "\\Omega = [0,1]^2, \\quad \n",
    "\\partial \\Omega_n = \\partial\\Omega,\\quad \n",
    "\\partial \\Omega_d = \\emptyset \n",
    "$$\n",
    "\n",
    "with data: \n",
    "$$\n",
    "f=0, \\quad\n",
    "K=1\n",
    "\\quad \n",
    "\\text{ and }\\quad  \n",
    "u_b=0\n",
    "$$\n",
    "And $f=1$ at the origin and $f=-1$ at $(1,1)$"
   ]
  },
  {
   "cell_type": "code",
   "execution_count": 1,
   "metadata": {},
   "outputs": [],
   "source": [
    "# Imports\n",
    "import numpy as np\n",
    "import scipy.sparse as sps\n",
    "import porepy as pp"
   ]
  },
  {
   "cell_type": "code",
   "execution_count": 2,
   "metadata": {},
   "outputs": [],
   "source": [
    "# Setup grid\n",
    "Nx = Ny = 8\n",
    "g = pp.CartGrid([Nx,Ny], [1,1])\n",
    "g.compute_geometry()"
   ]
  },
  {
   "cell_type": "code",
   "execution_count": 3,
   "metadata": {},
   "outputs": [],
   "source": [
    "# Boundary conditions\n",
    "b_faces = g.tags['domain_boundary_faces'].nonzero()[0]\n",
    "\n",
    "#labels = np.array(['dir']*b_faces.size)\n",
    "#labels[g.face_centers[1, b_faces] == 1.] = 'neu'\n",
    "\n",
    "labels = np.array(['neu']*b_faces.size) # Simplified: neumann everywhere\n",
    "\n",
    "bc = pp.BoundaryCondition(g, b_faces, labels)\n",
    "\n",
    "bc_val = np.zeros(g.num_faces) #no-flow condition\n",
    "#bottom = b_faces[g.face_centers[1, b_faces] == 0.]\n",
    "#bc_val[bottom] = np.ones(bottom.size)"
   ]
  },
  {
   "cell_type": "code",
   "execution_count": 4,
   "metadata": {},
   "outputs": [],
   "source": [
    "# Permeability\n",
    "perm = pp.SecondOrderTensor(np.ones(g.num_cells))\n",
    "\n",
    "# source\n",
    "f = np.zeros(g.num_cells)\n",
    "\n",
    "# Injection in lower-left corner. Production upper-right\n",
    "f[[0, -1]] = [1, 0]"
   ]
  },
  {
   "cell_type": "code",
   "execution_count": 5,
   "metadata": {},
   "outputs": [],
   "source": [
    "# Build problem\n",
    "specified_parameters = {\"second_order_tensor\": perm, \"source\": f, \"bc\": bc, \"bc_values\": bc_val}\n",
    "data = pp.initialize_default_data(g, {}, \"flow\", specified_parameters)"
   ]
  },
  {
   "cell_type": "code",
   "execution_count": 6,
   "metadata": {},
   "outputs": [],
   "source": [
    "# Problem solution\n",
    "solver = pp.Tpfa(\"flow\")\n",
    "solver.discretize(g, data)\n",
    "A, b = solver.assemble_matrix_rhs(g, data)\n",
    "p = sps.linalg.spsolve(A, b)"
   ]
  },
  {
   "cell_type": "code",
   "execution_count": 7,
   "metadata": {},
   "outputs": [
    {
     "data": {
      "image/png": "[encoded data removed]",
      "text/plain": [
       "<Figure size 1080x864 with 2 Axes>"
      ]
     },
     "metadata": {
      "needs_background": "light"
     },
     "output_type": "display_data"
    }
   ],
   "source": [
    "# Visualization\n",
    "pp.plot_grid(g, p, figsize=(15, 12), plot_2d=True)"
   ]
  },
  {
   "cell_type": "code",
   "execution_count": null,
   "metadata": {},
   "outputs": [],
   "source": []
  }
 ],
 "metadata": {
  "kernelspec": {
   "display_name": "Python 3",
   "language": "python",
   "name": "python3"
  },
  "language_info": {
   "codemirror_mode": {
    "name": "ipython",
    "version": 3
   },
   "file_extension": ".py",
   "mimetype": "text/x-python",
   "name": "python",
   "nbconvert_exporter": "python",
   "pygments_lexer": "ipython3",
   "version": "3.7.3"
  }
 },
 "nbformat": 4,
 "nbformat_minor": 2
}
