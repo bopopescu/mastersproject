{
 "cells": [
  {
   "cell_type": "markdown",
   "metadata": {},
   "source": [
    "# Fractures\n",
    "\n",
    "This notebook is intended to experiment with fractures in a simple domain with simple boundary conditions.\n",
    "\n",
    "Some central questions to be asked:\n",
    "* How are solutions affected by high `aperture * fracture_perm` relative to rock permeability?\n",
    "* What about low?\n",
    "* What is the relationship between fracture aperature and fracture permeability? Look up `cubic law`.\n",
    "\n",
    "\n",
    "## Basic setup\n",
    "\n",
    "This notebook will consider a 2D domain with physical dimensions of $[0,1]^2$. As such, fractures are 1D lines, and interesctions of fractures are 0D points.\n",
    "\n",
    "Let $\\Omega$ be a unit square with boundary $\\partial\\Omega$. Consider a partition of the boundary in two parts consisting of $\\partial\\Omega_d$, representing Dirichlet boundary, and $\\partial\\Omega_n$, representing a Neumann boundary. By convention, let $\\mathbf{n}$ be the outward unit vector normal to $\\partial\\Omega$.\n",
    "\n",
    "Single phase flow, in its primal formulation, can be written as\n",
    "$$-\\nabla \\cdot K \\nabla p = f$$\n",
    "with boundary conditions on $\\partial\\Omega_n$ and $\\partial\\Omega_d$:\n",
    "$$\\mathbf{u}\\cdot\\mathbf{n}=u_b, \\quad p = p_b$$\n",
    "Here, $f$ is a scalar source, $K$ is the permability tensor, $p_b$ is the pressure at the boundary (Dirichlet), and $u_b$ us the flux at the boundary (Neumann)."
   ]
  },
  {
   "cell_type": "markdown",
   "metadata": {},
   "source": [
    "## Import necessary modules\n",
    "Before we can start, we need the following modules:"
   ]
  },
  {
   "cell_type": "code",
   "execution_count": 1,
   "metadata": {},
   "outputs": [],
   "source": [
    "import numpy as np\n",
    "import scipy.sparse as sps\n",
    "import porepy as pp"
   ]
  },
  {
   "cell_type": "markdown",
   "metadata": {},
   "source": [
    "## Define the fractured grid\n",
    "Next, we define a $[0,1]^2$ grid with $20\\cdot20$ cells. In addition, a fracture located at $y=0.8$ parallel to the x-axis from $x=0.2$ to $x=0.8$ is defined.\n",
    "\n",
    "This setup is passed along to a method `cart_grid` (note, not the same as `pp.CartGrid`!) which generates the grid containing a meshed 2D region (rock domain) and a 1D line representing the fracture. The communication between the fracture and the rock domain is handled by interfaces. "
   ]
  },
  {
   "cell_type": "code",
   "execution_count": 13,
   "metadata": {},
   "outputs": [],
   "source": [
    "Nx = Ny = 20\n",
    "phys_dims = [1,1]\n",
    "fracture = np.array([[0.2, 0.8], [0.8, 0.8]])\n",
    "gb = pp.meshing.cart_grid([fracture], [Nx, Ny], physdims=phys_dims)\n",
    "\n",
    "data_key=\"flow\""
   ]
  },
  {
   "cell_type": "markdown",
   "metadata": {},
   "source": [
    "Next, define the permeability and boundary conditions of each grid in the grid bucket. In our case, we have one grid representing the rock domain and one representing the fracture."
   ]
  },
  {
   "cell_type": "code",
   "execution_count": 20,
   "metadata": {},
   "outputs": [
    {
     "name": "stdout",
     "output_type": "stream",
     "text": [
      "[0.025 0.025 0.075 0.075 0.125 0.125 0.175 0.175 0.225 0.225 0.275 0.275\n",
      " 0.325 0.325 0.375 0.375 0.425 0.425 0.475 0.475 0.525 0.525 0.575 0.575\n",
      " 0.625 0.625 0.675 0.675 0.725 0.725 0.775 0.775 0.825 0.825 0.875 0.875\n",
      " 0.925 0.925 0.975 0.975 0.    0.    0.    0.    0.    0.    0.    0.\n",
      " 0.    0.    0.    0.    0.    0.    0.    0.    0.    0.    0.    0.\n",
      " 1.    1.    1.    1.    1.    1.    1.    1.    1.    1.    1.    1.\n",
      " 1.    1.    1.    1.    1.    1.    1.    1.   ]\n",
      "\n",
      "[  0  20  21  41  42  62  63  83  84 104 105 125 126 146 147 167 168 188\n",
      " 189 209 210 230 231 251 252 272 273 293 294 314 315 335 336 356 357 377\n",
      " 378 398 399 419 420 421 422 423 424 425 426 427 428 429 430 431 432 433\n",
      " 434 435 436 437 438 439 820 821 822 823 824 825 826 827 828 829 830 831\n",
      " 832 833 834 835 836 837 838 839]\n",
      "------\n",
      "[]\n",
      "\n",
      "[]\n",
      "------\n"
     ]
    }
   ],
   "source": [
    "for g,d in gb:\n",
    "    b_faces = g.tags['domain_boundary_faces'].nonzero()[0]\n",
    "    print(g.face_centers[1,b_faces])\n",
    "    print(\"\")\n",
    "    print(b_faces)\n",
    "    print(\"------\")"
   ]
  },
  {
   "cell_type": "code",
   "execution_count": 24,
   "metadata": {},
   "outputs": [],
   "source": [
    "# Thickness of fracture\n",
    "aperture = 1e-3\n",
    "fracture_perm = 1e-5\n",
    "\n",
    "for g, d in gb:\n",
    "    # The concept of specific volumes accounts for the thickness\n",
    "    # of the fracture, which is collapsed in the mixed-dimensional\n",
    "    # model.\n",
    "    specific_volumes = np.power(aperture, gb.dim_max()-g.dim)\n",
    "    # Permeability\n",
    "    k = np.ones(g.num_cells) * specific_volumes\n",
    "    if g.dim < gb.dim_max():\n",
    "        k *= fracture_perm\n",
    "    perm = pp.SecondOrderTensor(k)                     \n",
    "\n",
    "    # Unitary scalar source already integrated in each cell\n",
    "    f = 1e-2* g.cell_volumes * specific_volumes \n",
    "\n",
    "    # Boundary conditions\n",
    "    b_faces = g.tags['domain_boundary_faces'].nonzero()[0]\n",
    "    bc = pp.BoundaryCondition(g, b_faces, ['dir']*b_faces.size)\n",
    "    bc_val = np.zeros(g.num_faces)\n",
    "    bc_val[b_faces] = g.face_centers[1, b_faces]\n",
    "\n",
    "    parameters = {\"second_order_tensor\": perm, \"source\": f, \"bc\": bc, \"bc_values\": bc_val}\n",
    "    pp.initialize_data(g, d, data_key, parameters)\n",
    "\n",
    "for e, d in gb.edges():\n",
    "        gl, _ = gb.nodes_of_edge(e)\n",
    "        mg = d[\"mortar_grid\"]\n",
    "        # Division through aperture/2 may be thought of as taking the gradient, i.e.\n",
    "        # dividing by the distance from the matrix to the center of the fracture.\n",
    "        kn = fracture_perm / (aperture/2)\n",
    "        pp.initialize_data(mg, d, data_key, {\"normal_diffusivity\": kn})"
   ]
  },
  {
   "cell_type": "markdown",
   "metadata": {},
   "source": [
    "Let's make note of some features of the above code.\n",
    "\n",
    "`specific_volumes` is either equal to the fracture aperture if a 1D fracture is being considered, or is $1$ if the rock domain is considered. (If a 0D point is considered, `specific_volumes` will be the aperture squared).\n",
    "\n",
    "For fractures, the permeability tensor which initially is homogeneously 1, is multiplied by the `fracture_perm` only when a fracture is considered. This is similar for the source term $f$.\n",
    "\n"
   ]
  },
  {
   "cell_type": "code",
   "execution_count": null,
   "metadata": {},
   "outputs": [],
   "source": []
  }
 ],
 "metadata": {
  "kernelspec": {
   "display_name": "Python 3",
   "language": "python",
   "name": "python3"
  },
  "language_info": {
   "codemirror_mode": {
    "name": "ipython",
    "version": 3
   },
   "file_extension": ".py",
   "mimetype": "text/x-python",
   "name": "python",
   "nbconvert_exporter": "python",
   "pygments_lexer": "ipython3",
   "version": "3.7.3"
  }
 },
 "nbformat": 4,
 "nbformat_minor": 2
}
