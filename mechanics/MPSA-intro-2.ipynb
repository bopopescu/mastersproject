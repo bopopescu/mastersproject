{
 "cells": [
  {
   "cell_type": "markdown",
   "metadata": {},
   "source": [
    "# Second example with MPSA\n",
    "This notebook is tied to the latex document \"intro_to_mechanics\", which briefly describes the theoretical foundations of the pure mechanics problem, and presents the results of experiments like this one."
   ]
  },
  {
   "cell_type": "markdown",
   "metadata": {},
   "source": [
    "# Setup\n",
    "We aim to solve\n",
    "\\begin{equation}\n",
    "\\nabla\\cdot \\boldsymbol{\\sigma} = \\vec{f}\n",
    "\\end{equation}\n",
    "under the following assumptions:\n",
    "\\begin{equation}\n",
    "\\boldsymbol{\\sigma} = C : \\boldsymbol{\\epsilon} = 2\\mu\\boldsymbol{\\epsilon} + \\lambda \\text{tr}(\\boldsymbol{\\epsilon}) \\boldsymbol{I}\n",
    "\\end{equation}\n",
    "where $\\boldsymbol{\\epsilon} = (\\nabla u + (\\nabla u)^T) /2$, and $\\mu$ and $\\lambda$ are the Lamé parameters. \n",
    "\n",
    "We consider a grid on $[0,1]\\times [0,1]$. \n",
    "\n",
    "This time, we're interested to observe the effects of varying $\\mu$ and $\\lambda$. For simplicitly, each of their values will be homogeneous over the domain."
   ]
  },
  {
   "cell_type": "code",
   "execution_count": null,
   "metadata": {},
   "outputs": [],
   "source": []
  }
 ],
 "metadata": {
  "kernelspec": {
   "display_name": "Python 3",
   "language": "python",
   "name": "python3"
  },
  "language_info": {
   "codemirror_mode": {
    "name": "ipython",
    "version": 3
   },
   "file_extension": ".py",
   "mimetype": "text/x-python",
   "name": "python",
   "nbconvert_exporter": "python",
   "pygments_lexer": "ipython3",
   "version": "3.7.3"
  }
 },
 "nbformat": 4,
 "nbformat_minor": 2
}
