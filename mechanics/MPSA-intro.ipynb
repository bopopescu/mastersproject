{
 "cells": [
  {
   "cell_type": "markdown",
   "metadata": {},
   "source": [
    "# Multi-point stress approximation - walkthrough of tutorial\n",
    "This notebook focuses on dissembling the `mpsa` notebook. The equations and code is looked at in detail"
   ]
  },
  {
   "cell_type": "markdown",
   "metadata": {},
   "source": [
    "# Equation and physics\n",
    "\n",
    "The linear elasticity problem may be represented with the following equation,\n",
    "$$\\nabla \\cdot \\sigma = - \\vec{f}, \\quad \\vec{x} \\in \\Omega$$\n",
    "where $\\vec{f}$ is a body force, and $\\sigma$ is the stress tensor. Stress is in PorePy represented as a linear function of the displacement\n",
    "$$\\sigma = C : \\vec{u}$$\n",
    "\n",
    "*Porepy* uses the following conventions:\n",
    "* *tension* is positive. I.e.: The Cartesian component of the traction $\\vec{T} = \\sigma \\cdot \\vec{n}$, for a direction $\\vec{r}$ is a positive number if the inner product $\\vec{T}\\cdot\\vec{r}$ is positive. (This is opposite to the convection in *Fundamentals of Rock Mechanics*)\n",
    "* The displacement vector given by $\\vec{u}$ points from the initial state $\\vec{x}$ to the final state $\\vec{x}^*$, i.e. $\\vec{u} = \\vec{x}^* - \\vec{x}$.\n",
    "\n",
    "The system is bounded by three possible boundary conditions; Neumann, Dirichlet, or Robin conditions. Dividing the boundary into disjoint sets $\\Gamma_N$, $\\Gamma_D$, and $\\Gamma_R$ for the types of conditions, we have\n",
    "\\begin{equation}\n",
    "\\vec{u} = g_D, \\quad \\vec{x} \\in \\Gamma_D \\\\\n",
    "\\sigma \\cdot n = g_N, \\quad \\vec{x} \\in \\Gamma_N \\\\\n",
    "\\sigma \\cdot n + W \\vec{u} = g_R, \\quad \\vec{x} \\in \\Gamma_R\n",
    "\\end{equation}"
   ]
  },
  {
   "cell_type": "markdown",
   "metadata": {},
   "source": [
    "## Create a non-fractured grid"
   ]
  },
  {
   "cell_type": "code",
   "execution_count": null,
   "metadata": {},
   "outputs": [],
   "source": [
    "import numpy as np\n",
    "import porepy as pp\n",
    "\n",
    "# Create grid\n",
    "n = 5\n",
    "g = pp.CartGrid([n,n])\n",
    "g.compute_geometry()"
   ]
  },
  {
   "cell_type": "markdown",
   "metadata": {},
   "source": [
    "Next, we define the stress tensor $C$. The constutitive law,\n",
    "\\begin{equation}\n",
    "\\sigma = C : u = 2 \\mu \\epsilon + \\lambda \\text{trace} (\\epsilon) I, \\quad \\epsilon = \\frac{1}{2} (\\nabla u + (\\nabla u)^T)\n",
    "\\end{equation}\n",
    "is implemented.\n",
    "Here, $\\sigma$ is the stress, $C$ is the linear mapping of stress and displacement (or strain). $\\mu$ is the shear modulus, and $\\lambda$ is the Lame parameter. $\\epsilon$ is the strain.\n",
    "Thus, defining $\\lambda$ and $\\mu$, we are able to provide the relationship between stress and strain.\n",
    "\n",
    "According to Keilegavlen et. al. (2017), the representation of stress, outlined above, is valid only for the case of isotropic media. Otherwise, $C$ (the stiffness tensor) has to be expressed more generally.\n",
    "\n",
    "The static momentum balance equation for an elastic medium, in Lagrangian coordinates are\n",
    "\\begin{equation}\n",
    "\\int_{\\partial\\Omega}\\boldsymbol{T}(\\boldsymbol{n})dA + \\int_{\\Omega} \\boldsymbol{f} dV = 0\n",
    "\\end{equation}\n",
    "where $\\boldsymbol{T}(\\boldsymbol{n})$ are the surface traction vectors on the boundary $\\partial \\Omega$ of the domain $\\Omega$. Here, $\\boldsymbol{n}$ is the outward facing normal vector, and $\\boldsymbol{f}$ represents body forces. Under the assumption of a linear stress-strain relation and small deformation, we may write\n",
    "\\begin{equation}\n",
    "\\boldsymbol{T}(\\boldsymbol{n}) = \\boldsymbol{\\pi}\\cdot\\boldsymbol{n} = (C:\\epsilon)\\cdot\\boldsymbol{n}\n",
    "\\end{equation}\n",
    "In this context, $\\boldsymbol{\\pi}$ represents \"the first Piola-Kirchhoff stress tensor\", $C$ is the stiffness tensor and $\\boldsymbol{\\epsilon}$ is the symmetric part of the strain $\\boldsymbol{\\epsilon} = (\\nabla\\boldsymbol{u} + (\\nabla\\boldsymbol{u})^T)/2$. In Euclidean space, under the assumption of small deformations, the Piola-Kirchhoff stress tensors are exactly the Cauchy stress tensor - and are symmetric.\n",
    "\n",
    "The differences between the two stresses may be illuminated (slightly) by the following wikipedia page:\n",
    "* https://en.wikipedia.org/wiki/Stress_measures#Nominal_stress/First_Piola-Kirchhoff_stress \\\n",
    "_Question:_ The wikipedia page mentions that the Kirchhoff stress is a \"two-point stress tensor like the deformation gradient\". Keilegavlen's article refers to $\\epsilon = (\\nabla u + (\\nabla u)^T)/2$ as a deformation gradient. (I called it \"strain\", just above, referencing notation in the Rock Mechanics book). What is this? Is it important? \\\n",
    "Link: https://en.wikipedia.org/wiki/Two-point_tensor"
   ]
  },
  {
   "cell_type": "code",
   "execution_count": null,
   "metadata": {},
   "outputs": [],
   "source": [
    "# Create stiffness matrix\n",
    "lam = np.ones(g.num_cells)\n",
    "mu = np.ones(g.num_cells)\n",
    "C = pp.FourthOrderTensor(mu, lam)"
   ]
  },
  {
   "cell_type": "markdown",
   "metadata": {},
   "source": [
    "Boundary conditions are set to\n",
    "* Bottom boundary, dirichlet\n",
    "* Otherwise, Neumann"
   ]
  },
  {
   "cell_type": "code",
   "execution_count": null,
   "metadata": {},
   "outputs": [],
   "source": [
    "# Boundary type\n",
    "dirich = np.ravel(np.argwhere(g.face_centers[1] < 1e-10))\n",
    "labels = ['dir']*dirich.size\n",
    "bound = pp.BoundaryConditionVectorial(g, dirich, labels)"
   ]
  },
  {
   "cell_type": "markdown",
   "metadata": {},
   "source": [
    "The discretization scheme used is the multi-point stress approximation. "
   ]
  }
 ],
 "metadata": {
  "kernelspec": {
   "display_name": "Python 3",
   "language": "python",
   "name": "python3"
  },
  "language_info": {
   "codemirror_mode": {
    "name": "ipython",
    "version": 3
   },
   "file_extension": ".py",
   "mimetype": "text/x-python",
   "name": "python",
   "nbconvert_exporter": "python",
   "pygments_lexer": "ipython3",
   "version": "3.7.3"
  }
 },
 "nbformat": 4,
 "nbformat_minor": 2
}
