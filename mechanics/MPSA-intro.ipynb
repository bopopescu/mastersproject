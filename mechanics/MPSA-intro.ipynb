{
 "cells": [
  {
   "cell_type": "markdown",
   "metadata": {},
   "source": [
    "# Multi-point stress approximation - walkthrough of tutorial\n",
    "This notebook focuses on dissembling the `mpsa` notebook. The equations and code is looked at in detail"
   ]
  },
  {
   "cell_type": "markdown",
   "metadata": {},
   "source": [
    "# Equation and physics\n",
    "\n",
    "The linear elasticity problem may be represented with the following equation,\n",
    "$$\\nabla \\cdot \\sigma = - \\vec{f}, \\quad \\vec{x} \\in \\Omega$$\n",
    "where $\\vec{f}$ is a body force, and $\\omega$ is the stress. Stress is in PorePy represented as a linear function of the displacement\n",
    "$$\\sigma = C : \\vec{u}$$\n",
    "\n",
    "*Porepy* uses the following conventions:\n",
    "* *tension* is positive. I.e.: The Cartesian component of the traction $\\vec{T} = \\sigma \\cdot \\vec{n}$, for a direction $\\vec{r}$ is a positive number if the inner product $\\vec{T}\\cdot\\vec{r}$ is positive. (This is opposite to the convection in *Fundamentals of Rock Mechanics*)\n",
    "* The displacement vector given by $\\vec{u}$ points from the initial state $\\vec{x}$ to the final state $\\vec{x}^*$, i.e. $\\vec{u} = \\vec{x}^* - \\vec{x}$.\n",
    "\n",
    "The system is bounded by three possible boundary conditions; Neumann, Dirichlet, or Robin conditions. Dividing the boundary into disjoint sets $\\Gamma_N$, $\\Gamma_D$, and $\\Gamma_R$ for the types of conditions, we have\n",
    "\\begin{equation}\n",
    "\\vec{u} = g_D, \\quad \\vec{x} \\in \\Gamma_D \\\\\n",
    "\\sigma \\cdot n = g_N, \\quad \\vec{x} \\in \\Gamma_N \\\\\n",
    "\\sigma \\cdot n + W \\vec{u} = g_R, \\quad \\vec{x} \\in \\Gamma_R\n",
    "\\end{equation}"
   ]
  },
  {
   "cell_type": "markdown",
   "metadata": {},
   "source": [
    "## Create a non-fractured grid"
   ]
  },
  {
   "cell_type": "code",
   "execution_count": 1,
   "metadata": {},
   "outputs": [],
   "source": [
    "import numpy as np\n",
    "import porepy as pp\n",
    "\n",
    "# Create grid\n",
    "n = 5\n",
    "g = pp.CartGrid([n,n])\n",
    "g.compute_geometry()"
   ]
  },
  {
   "cell_type": "markdown",
   "metadata": {},
   "source": [
    "Next, we define the stress tensor $C$. The constutitive law,\n",
    "\\begin{equation}\n",
    "\\sigma = C : u = 2 \\mu \\epsilon + \\lambda \\text{trace} (\\epsilon) I, \\quad \\epsilon = \\frac{1}{2} (\\nabla u + (\\nabla u)^T)\n",
    "\\end{equation}\n",
    "is implemented."
   ]
  },
  {
   "cell_type": "code",
   "execution_count": 2,
   "metadata": {},
   "outputs": [],
   "source": [
    "# Create stiffness matrix\n",
    "lam = np.ones(g.num_cells)\n",
    "mu = np.ones(g.num_cells)\n",
    "C = pp.FourthOrderTensor(mu, lam)"
   ]
  },
  {
   "cell_type": "markdown",
   "metadata": {},
   "source": [
    "Boundary conditions are set to\n",
    "* Bottom boundary, dirichlet\n",
    "* Otherwise, Neumann"
   ]
  },
  {
   "cell_type": "code",
   "execution_count": null,
   "metadata": {},
   "outputs": [],
   "source": [
    "# Boundary type\n",
    "dirich = np.ravel(np.argwhere(g.face_centers[1] < 1e-10))\n",
    "bound = pp.BoundaryConditionVectorial(g, dirich)"
   ]
  },
  {
   "cell_type": "markdown",
   "metadata": {},
   "source": [
    "**Question**: According to Wikipedia (https://en.wikipedia.org/wiki/Hooke%27s_law#Hooke's_law_for_continuous_media), the state of a medium around a point is represented by two second-order tensors, the *strain tensor* $\\mathbf{\\epsilon}$ (in lieu of the displacement $\\mathbf{X}$) and the *stress tensor* $\\mathbf{\\sigma}$ (replacing the restoring force $\\mathbf{F}$. The analogue of Hooke's spring law for continuous media is then\n",
    "\\begin{equation}\n",
    "\\mathbf{\\sigma} = -\\mathbf{c} \\mathbf{\\epsilon}\n",
    "\\end{equation}\n",
    "where $\\mathbf{c}$ is a *fourth-order tensor* (a linear map between second-order tensors) usually called the *stiffness tensor* or *elasticity tensor*\n",
    "\n",
    "---\n",
    "In linear elasticity (and thus PorePy), the basic assumption is that *components of stress are linear functions of the components of strain* (Jaeger, 2007). "
   ]
  },
  {
   "cell_type": "code",
   "execution_count": null,
   "metadata": {},
   "outputs": [],
   "source": []
  }
 ],
 "metadata": {
  "kernelspec": {
   "display_name": "Python 3",
   "language": "python",
   "name": "python3"
  },
  "language_info": {
   "codemirror_mode": {
    "name": "ipython",
    "version": 3
   },
   "file_extension": ".py",
   "mimetype": "text/x-python",
   "name": "python",
   "nbconvert_exporter": "python",
   "pygments_lexer": "ipython3",
   "version": "3.7.3"
  }
 },
 "nbformat": 4,
 "nbformat_minor": 2
}
