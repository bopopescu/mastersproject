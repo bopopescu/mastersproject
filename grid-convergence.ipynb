{
 "cells": [
  {
   "cell_type": "markdown",
   "metadata": {},
   "source": [
    "# Overview\n",
    "This notebook is intended to provide some easy methods for computing grid convergence.\n",
    "\n",
    "\n",
    "The governing equation and setup is described below.\n",
    "\n",
    "## Setup\n",
    "Let's setup the problem.\n",
    "\n",
    "Recall, our aim is to solve single-phase flow,\n",
    "$$-\\nabla\\cdot K \\nabla p = f$$\n",
    "over the domain $\\Omega$. \n",
    "\n",
    "The boundary conditions will be defined over $\\partial\\Omega$, and are mathematically written as\n",
    "$$p=p_b, \\quad -K\\nabla p \\cdot \\mathbf{n} = u_b$$\n",
    "for Dirichlet ($\\partial\\Omega_d$) and Neumann ($\\partial\\Omega_n$) conditions respectively.\n",
    "\n",
    "$f$ is a scalar source/sink term. $K$ is the permeability matrix. $p_b$ is the pressure at the boundary (Dirichlet), $u_b$ is the flux at the boundary (Neumann).\n",
    "\n",
    "The basic setup is:\n",
    "$$\n",
    "\\Omega = [0,1]^2, \\quad \n",
    "\\partial \\Omega_n = \\{\\text{'west', 'east'}\\},\\quad \n",
    "\\partial \\Omega_d = \\{\\text{'south', 'north'}\\} \n",
    "$$\n",
    "\n",
    "with data: \n",
    "$$\n",
    "f=0, \\quad\n",
    "K=1, \\quad \n",
    "u_b = 0, \\quad\n",
    "\\text{ and }\\quad  \n",
    "p_b = 1 \\text{ at top}, \\quad\n",
    "p_b = 0 \\text{ at bottom}\n",
    "$$"
   ]
  },
  {
   "cell_type": "code",
   "execution_count": 1,
   "metadata": {},
   "outputs": [],
   "source": [
    "# Imports\n",
    "import numpy as np\n",
    "import scipy.sparse as sps\n",
    "import porepy as pp\n",
    "import matplotlib.pyplot as plt"
   ]
  },
  {
   "cell_type": "code",
   "execution_count": 3,
   "metadata": {},
   "outputs": [],
   "source": [
    "def sp_flow(g):\n",
    "    \"\"\" Method to compute single phase flow for a given grid.\"\"\"\n",
    "    \n",
    "    # Boundary conditions\n",
    "    b_faces = g.tags['domain_boundary_faces'].nonzero()[0]\n",
    "    labels = np.array(['neu']*b_faces.size)\n",
    "    labels[g.face_centers[1, b_faces] == 0.] = 'dir'\n",
    "    labels[g.face_centers[1, b_faces] == 1.] = 'dir'\n",
    "    \n",
    "    bc = pp.BoundaryCondition(g, b_faces, labels)\n",
    "    \n",
    "    # In-flow on top. outflow on bottom.\n",
    "    #bottom = b_faces[g.face_centers[1, b_faces] == 0.]\n",
    "    top = b_faces[g.face_centers[1, b_faces] == 1.]\n",
    "    bc_val = np.zeros(g.num_faces)\n",
    "    #bc_val[bottom] = np.zeros(bottom.size)\n",
    "    bc_val[top] = np.ones(top.size)\n",
    "    \n",
    "    # Permeability\n",
    "    perm = pp.SecondOrderTensor(np.ones(g.num_cells))\n",
    "    \n",
    "    # Source\n",
    "    f = np.zeros(g.num_cells)\n",
    "    \n",
    "    # Build problem\n",
    "    specified_parameters = {\"second_order_tensor\": perm, \"source\": f, \"bc\": bc, \"bc_values\": bc_val}\n",
    "    data = pp.initialize_default_data(g, {}, \"flow\", specified_parameters)\n",
    "    \n",
    "    # Solve problem\n",
    "    solver = pp.Tpfa(\"flow\")\n",
    "    solver.discretize(g, data)\n",
    "    A, b = solver.assemble_matrix_rhs(g, data)\n",
    "    p = sps.linalg.spsolve(A, b)\n",
    "    return p"
   ]
  },
  {
   "cell_type": "code",
   "execution_count": 14,
   "metadata": {},
   "outputs": [],
   "source": [
    "def grid_convergence(plotting=False):\n",
    "    \"\"\" Compute grid convergence. Use last N as reference value\"\"\"\n",
    "    N = [8,16,32,64,128]\n",
    "    norm = np.ones(len(N))\n",
    "    \n",
    "    #ref_sol = sp_flow()\n",
    "    for i in range(len(N)):\n",
    "        Nx = Ny = N[i]\n",
    "         # Create grid\n",
    "        g = pp.CartGrid([Nx,Ny], [1,1])\n",
    "        g.compute_geometry()\n",
    "        \n",
    "        # Compute solution\n",
    "        val = sp_flow(g)\n",
    "        \n",
    "        # Compute L2-norm.\n",
    "        # Not sure if this is accurate since we are not comparing\n",
    "        # the same volumes, rather doing norm over all current values\n",
    "        norm[i] = pp.error.norm_L2(g, val)\n",
    "    \n",
    "    errors = np.abs(norm[:-1] - norm[-1])\n",
    "    slope = np.log(errors[-1] / errors[-2]) / np.log(N[-2] / N[-3])\n",
    "    slope = np.abs(slope)\n",
    "        \n",
    "    if plotting:\n",
    "        plt.loglog(N[:-1], errors)\n",
    "        plt.title(f\"Slope: {slope}\")\n",
    "        plt.show()\n",
    "    \n",
    "    return errors, slope\n",
    "        "
   ]
  },
  {
   "cell_type": "code",
   "execution_count": 15,
   "metadata": {},
   "outputs": [
    {
     "data": {
      "image/png": "[encoded data removed]",
      "text/plain": [
       "<Figure size 432x288 with 1 Axes>"
      ]
     },
     "metadata": {
      "needs_background": "light"
     },
     "output_type": "display_data"
    },
    {
     "data": {
      "text/plain": [
       "(array([1.12433576e-03, 2.77573320e-04, 6.60767801e-05, 1.32147510e-05]),\n",
       " 2.3219941444650325)"
      ]
     },
     "execution_count": 15,
     "metadata": {},
     "output_type": "execute_result"
    }
   ],
   "source": [
    "grid_convergence(True)"
   ]
  },
  {
   "cell_type": "code",
   "execution_count": 7,
   "metadata": {},
   "outputs": [
    {
     "data": {
      "image/png": "[encoded data removed]",
      "text/plain": [
       "<Figure size 1080x864 with 2 Axes>"
      ]
     },
     "metadata": {
      "needs_background": "light"
     },
     "output_type": "display_data"
    }
   ],
   "source": [
    "# For reference, a plot of the solution:\n",
    "Nx = Ny = 16\n",
    "g = pp.CartGrid([Nx,Ny], [1,1])\n",
    "g.compute_geometry()\n",
    "p = sp_flow(g)\n",
    "pp.plot_grid(g, p, figsize=(15,12), plot_2d=True)"
   ]
  },
  {
   "cell_type": "code",
   "execution_count": null,
   "metadata": {},
   "outputs": [],
   "source": []
  }
 ],
 "metadata": {
  "kernelspec": {
   "display_name": "Python 3",
   "language": "python",
   "name": "python3"
  },
  "language_info": {
   "codemirror_mode": {
    "name": "ipython",
    "version": 3
   },
   "file_extension": ".py",
   "mimetype": "text/x-python",
   "name": "python",
   "nbconvert_exporter": "python",
   "pygments_lexer": "ipython3",
   "version": "3.7.3"
  }
 },
 "nbformat": 4,
 "nbformat_minor": 2
}
