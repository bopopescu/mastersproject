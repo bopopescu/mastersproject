{
 "cells": [
  {
   "cell_type": "code",
   "execution_count": 2,
   "metadata": {},
   "outputs": [
    {
     "name": "stdout",
     "output_type": "stream",
     "text": [
      "second prologue\n",
      "third prologue\n",
      "first prologue\n",
      "first epilogue\n",
      "third epilogue\n",
      "second epilogue\n",
      "that's it\n"
     ]
    },
    {
     "data": {
      "text/plain": [
       "<__main__.Fourth at 0x7f72515d5f60>"
      ]
     },
     "execution_count": 2,
     "metadata": {},
     "output_type": "execute_result"
    }
   ],
   "source": [
    "class First(object):\n",
    "    def __init__(self):\n",
    "        print (\"first prologue\")\n",
    "        super(First, self).__init__()\n",
    "        print (\"first epilogue\")\n",
    " \n",
    "class Second(First):\n",
    "    def __init__(self):\n",
    "        print (\"second prologue\")\n",
    "        super(Second, self).__init__()\n",
    "        print (\"second epilogue\")\n",
    " \n",
    "class Third(First):\n",
    "    def __init__(self):\n",
    "        print (\"third prologue\")\n",
    "        super(Third, self).__init__()\n",
    "        print (\"third epilogue\")\n",
    " \n",
    "class Fourth(Second, Third):\n",
    "    def __init__(self):\n",
    "        super(Fourth, self).__init__()\n",
    "        print (\"that's it\")\n",
    " \n",
    "Fourth()"
   ]
  },
  {
   "cell_type": "markdown",
   "metadata": {},
   "source": [
    "    First\n",
    "    \n",
    "    /   \\\n",
    "    \n",
    "Second, Third\n",
    "\n",
    "     \\   /\n",
    "     \n",
    "    Fourth"
   ]
  },
  {
   "cell_type": "code",
   "execution_count": 18,
   "metadata": {},
   "outputs": [
    {
     "name": "stdout",
     "output_type": "stream",
     "text": [
      "Child enters\n",
      "Parent A enters with arg test_arg\n",
      "Parent B enters with arg test_arg\n",
      "Grand Parent enters\n",
      "Grand Parent exits\n",
      "Parent B exits with arg test_arg\n",
      "Parent A exits with arg test_arg\n",
      "Child exits\n"
     ]
    },
    {
     "data": {
      "text/plain": [
       "<__main__.Child at 0x7f7250cf0048>"
      ]
     },
     "execution_count": 18,
     "metadata": {},
     "output_type": "execute_result"
    }
   ],
   "source": [
    "class GrandParent():\n",
    "    def __init__(self):\n",
    "        print (\"Grand Parent enters\")\n",
    "        super(GrandParent, self).__init__()\n",
    "        print (\"Grand Parent exits\")\n",
    "\n",
    "\n",
    "class ParentA(GrandParent):\n",
    "    def __init__(self, arg, *args, **kwargs):\n",
    "        print (f\"Parent A enters with arg {arg}\")\n",
    "        super().__init__(arg, *args, **kwargs)\n",
    "        print (f\"Parent A exits with arg {arg}\")\n",
    "        \n",
    "class ParentB(GrandParent):\n",
    "    def __init__(self, other_arg, *args, **kwargs):\n",
    "        print (f\"Parent B enters with arg {other_arg}\")\n",
    "        # If this line is commented out, no call to GrandParent.__init__ will occur whatsoever.\n",
    "        super(ParentB, self).__init__()\n",
    "        print (f\"Parent B exits with arg {other_arg}\")\n",
    "        \n",
    "class Child(ParentA, ParentB):\n",
    "    def __init__(self):\n",
    "        print(\"Child enters\")\n",
    "#         super(Child, self).__init__(arg='test_arg', other_arg='other_arg')\n",
    "        super(Child, self).__init__('test_arg')\n",
    "        print(\"Child exits\")\n",
    "\n",
    "        \n",
    "Child()"
   ]
  },
  {
   "cell_type": "markdown",
   "metadata": {},
   "source": [
    "# Test use of super with child overwrite\n",
    "\n"
   ]
  },
  {
   "cell_type": "code",
   "execution_count": 37,
   "metadata": {},
   "outputs": [],
   "source": [
    "class GrandParent:\n",
    "    def method(self):\n",
    "        print(f\"I'm grand parent. Class: {self.__class__}\")\n",
    "\n",
    "        \n",
    "class Parent(GrandParent):\n",
    "    \n",
    "    def run_method(self):\n",
    "        super(Parent, self).method()\n",
    "    \n",
    "    def run_method2(self):\n",
    "        super().method()  # Same behaviour as above method\n",
    "    \n",
    "    def run_method3(self):\n",
    "        super(self.__class__, self).method()\n",
    "    \n",
    "    def run_method4(self):\n",
    "        self.method()\n",
    "    \n",
    "    #\n",
    "    def method(self):\n",
    "        print(f\"I'm parent. Class: {self.__class__}\")\n",
    "    \n",
    "\n",
    "class Child(Parent):\n",
    "    def method(self):\n",
    "        print(f\"I'm the child. Class: {self.__class__}\")\n",
    "\n",
    "class ChildsChild(Child):\n",
    "    def method(self):\n",
    "        print(f\"I'm child's child. Class: {self.__class__}\")"
   ]
  },
  {
   "cell_type": "code",
   "execution_count": 38,
   "metadata": {},
   "outputs": [
    {
     "name": "stdout",
     "output_type": "stream",
     "text": [
      "I'm grand parent. Class: <class '__main__.Child'>\n",
      "I'm grand parent. Class: <class '__main__.Child'>\n",
      "I'm parent. Class: <class '__main__.Child'>\n",
      "I'm the child. Class: <class '__main__.Child'>\n"
     ]
    }
   ],
   "source": [
    "child = Child()\n",
    "child.run_method()\n",
    "child.run_method2()\n",
    "child.run_method3()\n",
    "child.run_method4()"
   ]
  },
  {
   "cell_type": "code",
   "execution_count": 39,
   "metadata": {},
   "outputs": [
    {
     "name": "stdout",
     "output_type": "stream",
     "text": [
      "I'm grand parent. Class: <class '__main__.ChildsChild'>\n",
      "I'm grand parent. Class: <class '__main__.ChildsChild'>\n",
      "I'm the child. Class: <class '__main__.ChildsChild'>\n",
      "I'm child's child. Class: <class '__main__.ChildsChild'>\n"
     ]
    }
   ],
   "source": [
    "childs_child = ChildsChild()\n",
    "childs_child.run_method()\n",
    "childs_child.run_method2()\n",
    "childs_child.run_method3()\n",
    "childs_child.run_method4()"
   ]
  },
  {
   "cell_type": "markdown",
   "metadata": {},
   "source": [
    "# Test use of super() for cooperative calling arbitrary methods\n",
    "This test specifically focuses on whether a single parent need to implement a class for cooperative inheritance to work.\n",
    "\n",
    "This is a variant of the diamond problem"
   ]
  },
  {
   "cell_type": "code",
   "execution_count": 32,
   "metadata": {},
   "outputs": [],
   "source": [
    "class AbstractClass:\n",
    "    def other_method():\n",
    "        pass\n",
    "\n",
    "class Base(AbstractClass):\n",
    "    def good_super(self):\n",
    "        print(\"Base checking in\")\n",
    "    \n",
    "    def skip_a_super(self):\n",
    "        print(\"Base checking in\")\n",
    "\n",
    "class ChildOne(Base):\n",
    "    def good_super(self):\n",
    "        print(\"I'm ChildOne. Calling super()\")\n",
    "        super().good_super()\n",
    "        \n",
    "    def bad_super(self):\n",
    "        print(\"I'm ChildOne. Not calling super()\")\n",
    "    \n",
    "class ChildTwo(Base):\n",
    "    def good_super(self):\n",
    "        print(\"I'm ChildTwo. Calling super()\")\n",
    "        super().good_super()\n",
    "        \n",
    "    def bad_super(self):\n",
    "        print(\"I'm ChildTwo. Not calling super()\")\n",
    "        \n",
    "    def skip_a_super(self):\n",
    "        print(\"I'm ChildTwo. Calling super()\")\n",
    "        super().skip_a_super()\n",
    "\n",
    "\n",
    "class GrandKid(ChildOne, ChildTwo):\n",
    "    def good_super(self):\n",
    "        print(\"I'm GrandKid. Calling super()\")\n",
    "        super().good_super()\n",
    "        \n",
    "    def bad_super(self):\n",
    "        print(\"I'm GrandKid. calling super()\")\n",
    "        super().bad_super()\n",
    "    \n",
    "    def skip_a_super(self):\n",
    "        print(\"I'm GrandKid. Calling super()\")\n",
    "        super().skip_a_super()"
   ]
  },
  {
   "cell_type": "code",
   "execution_count": 33,
   "metadata": {},
   "outputs": [
    {
     "name": "stdout",
     "output_type": "stream",
     "text": [
      "I'm GrandKid. Calling super()\n",
      "I'm ChildOne. Calling super()\n",
      "I'm ChildTwo. Calling super()\n",
      "Base checking in\n"
     ]
    }
   ],
   "source": [
    "gk = GrandKid()\n",
    "gk.good_super()"
   ]
  },
  {
   "cell_type": "code",
   "execution_count": 34,
   "metadata": {
    "scrolled": true
   },
   "outputs": [
    {
     "name": "stdout",
     "output_type": "stream",
     "text": [
      "I'm GrandKid. calling super()\n",
      "I'm ChildOne. Not calling super()\n"
     ]
    }
   ],
   "source": [
    "gk.bad_super()"
   ]
  },
  {
   "cell_type": "code",
   "execution_count": 35,
   "metadata": {},
   "outputs": [
    {
     "name": "stdout",
     "output_type": "stream",
     "text": [
      "I'm GrandKid. Calling super()\n",
      "I'm ChildTwo. Calling super()\n",
      "Base checking in\n"
     ]
    }
   ],
   "source": [
    "gk.skip_a_super()"
   ]
  },
  {
   "cell_type": "markdown",
   "metadata": {},
   "source": [
    "   AbstractClass\n",
    "         |\n",
    "        Base\n",
    "       /    \\\n",
    "  ChildOne   ChildTwo\n",
    "      \\      /\n",
    "      GrandKid"
   ]
  },
  {
   "cell_type": "code",
   "execution_count": null,
   "metadata": {},
   "outputs": [],
   "source": []
  }
 ],
 "metadata": {
  "kernelspec": {
   "display_name": "Python 3",
   "language": "python",
   "name": "python3"
  },
  "language_info": {
   "codemirror_mode": {
    "name": "ipython",
    "version": 3
   },
   "file_extension": ".py",
   "mimetype": "text/x-python",
   "name": "python",
   "nbconvert_exporter": "python",
   "pygments_lexer": "ipython3",
   "version": "3.7.0"
  }
 },
 "nbformat": 4,
 "nbformat_minor": 4
}
