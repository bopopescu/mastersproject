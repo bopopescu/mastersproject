{
 "cells": [
  {
   "cell_type": "markdown",
   "metadata": {},
   "source": [
    "# Result 1\n",
    "Info    : Stopped on Mon Jan  6 12:59:49 2020\n",
    "\n",
    "INFO:porepy.fracs.fractures:Gmsh completed with status 0\n",
    "\n",
    "INFO:porepy.fracs.simplex:Grid creation completed. Elapsed time 0.3005707263946533\n",
    "\n",
    "INFO:porepy.fracs.simplex:Created 1 3-d grids with 14727 cells\n",
    "\n",
    "INFO:porepy.fracs.simplex:Created 5 2-d grids with 3305 cells\n",
    "\n",
    "INFO:porepy.fracs.simplex:Created 6 1-d grids with 63 cells\n",
    "\n",
    "INFO:porepy.fracs.meshing:Assemble in bucket\n",
    "\n",
    "INFO:porepy.fracs.meshing:Done. Elapsed time 0.4091780185699463\n",
    "\n",
    "INFO:porepy.fracs.meshing:Compute geometry\n",
    "\n",
    "INFO:porepy.fracs.meshing:Done. Elapsed time 0.23961377143859863\n",
    "\n",
    "INFO:porepy.fracs.meshing:Split fractures\n",
    "\n",
    "INFO:porepy.fracs.meshing:Done. Elapsed time 6.079968452453613\n",
    "\n",
    "INFO:root:Grid of name: S1_1, and dimension 2\n",
    "\n",
    "INFO:root:Setting non-zero source for scalar variable\n",
    "\n",
    "INFO:root:Closest cell found has distance: 0.180468\n",
    "\n",
    "INFO:porepy.models.contact_mechanics_biot_model:Discretize\n",
    "\n",
    "INFO:porepy.numerics.fv.mpsa:Split MPSA discretization into 1 parts\n",
    "\n",
    "## Error:\n",
    "in `biot.discretize(g, d)` \\\n",
    "in `self._discretize_mech(g, data)` \\\n",
    "`_local_discretization > _create_inverse_gradient_matrix > _inverse_gradient > invert_diagonal_blocks > block_diag_matrix > block_diag_index > rldecode(A, n) > [35] B = A[np.cumsum(j)] > MemoryError`"
   ]
  },
  {
   "cell_type": "code",
   "execution_count": null,
   "metadata": {},
   "outputs": [],
   "source": []
  }
 ],
 "metadata": {
  "kernelspec": {
   "display_name": "Python 3",
   "language": "python",
   "name": "python3"
  },
  "language_info": {
   "codemirror_mode": {
    "name": "ipython",
    "version": 3
   },
   "file_extension": ".py",
   "mimetype": "text/x-python",
   "name": "python",
   "nbconvert_exporter": "python",
   "pygments_lexer": "ipython3",
   "version": "3.7.4"
  }
 },
 "nbformat": 4,
 "nbformat_minor": 2
}
