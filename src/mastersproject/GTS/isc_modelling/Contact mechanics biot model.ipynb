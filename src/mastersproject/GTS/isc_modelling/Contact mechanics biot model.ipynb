{
 "cells": [
  {
   "cell_type": "markdown",
   "metadata": {},
   "source": [
    "# contact mechanics biot model\n",
    "Overview of theoretical background and adjustable parameters for the `contact_mechanics_biot_model` in the porepy project."
   ]
  },
  {
   "cell_type": "markdown",
   "metadata": {},
   "source": [
    "# Governing Equations\n",
    "Let us slowly assemble the governing equations for each type of problem in the total multiphysics formulation. \n",
    "\n",
    "(From mpsa tutorial): \\\n",
    "The linear elasticity problem reads:\n",
    "\\begin{equation}\n",
    "\\nabla \\cdot \\sigma = - \\vec{f}, \\quad \\vec{x} \\in \\Omega\n",
    "\\end{equation}\n",
    "here, $\\vec{f}$ is a body force. The stress $\\omega$ is given as a linear function of the displacement:\n",
    "\\begin{equation}\n",
    "\\sigma = C : \\vec{u}\n",
    "\\end{equation}\n",
    "\n",
    "Adhering to the theory of linear elasticity, we will define the relation $\\sigma=C:\\epsilon$ as:\n",
    "\\begin{equation}\n",
    "\\sigma = \\lambda \\text{trace}(\\epsilon) \\mathbf{I} + 2G\\epsilon\n",
    "\\end{equation}\n",
    "with $\\epsilon = \\frac{1}{2}(\\nabla \\mathbf{u} + (\\nabla \\mathbf{u})^T)$"
   ]
  },
  {
   "cell_type": "markdown",
   "metadata": {},
   "source": [
    "As such, we may follow the problem statement as described in (Berge et al, 2019): \\\n",
    "Linear elasticity: \\\n",
    "$$-\\nabla\\cdot\\sigma = \\mathbf{f_u}, \\quad x\\in\\Omega$$ \n",
    "$$C : \\epsilon - \\alpha p \\mathbf{I} = \\sigma, \\quad x\\in\\Omega$$ \n",
    "Note the inclusion of $- \\alpha p \\mathbf{I}$, which represents the isotropic pressure exterted the the fluid pressure. Here, $\\alpha$ is the Biot coefficient.\n",
    "\n",
    "Written out, \\\n",
    "$$\n",
    "- \\nabla\\cdot\\left(C:\\vec{u} - \\alpha p \\mathbf{I}\\right) \n",
    "= \n",
    "- \\left( \\nabla\\cdot \\left( G\\left(\\nabla\\mathbf{u} + (\\nabla\\mathbf{u})^T\\right) + \\lambda \\text{tr}(\\nabla\\mathbf{u})\\right) - \\alpha \\nabla p \\right)\n",
    "=\n",
    "\\mathbf{f_u}\n",
    "$$\n"
   ]
  },
  {
   "cell_type": "markdown",
   "metadata": {},
   "source": [
    "Separately, we may write the Darcy's relation for fluid pressure: \\\n",
    "$$c_0 \\frac{\\partial p}{\\partial t} - \\nabla \\cdot \\frac{K}{\\mu} \\nabla p = f_p, \\quad x\\in\\Omega$$\n",
    "with $c_o$ the compressibility, and $f_p$ being a source term. \\\n",
    "This equation may be coupled with the displacement by including the term $\\alpha \\nabla\\cdot \\frac{\\partial \\mathbf{u}}{\\partial t}$ on the left-hand side. We get,\n",
    "$$c_0 \\frac{\\partial p}{\\partial t} + \\alpha \\nabla\\cdot \\frac{\\partial \\mathbf{u}}{\\partial t} - \\nabla \\cdot \\frac{K}{\\mu} \\nabla p = f_p, \\quad x\\in\\Omega$$"
   ]
  },
  {
   "cell_type": "markdown",
   "metadata": {},
   "source": [
    "The equations in Ivar's presentation (disregarding thermal effects) reads: \\\n",
    "Equation for momentum balance (displacement):\n",
    "$$\n",
    "\\nabla \\cdot \\left( \\frac{D}{2}(\\nabla\\mathbf{u} + \\nabla\\mathbf{u}^T) - \\alpha p \\right) = \\mathbf{q_u}\n",
    "$$\n",
    "\n",
    "Mass balance, pressure\n",
    "$$\n",
    "C \\frac{\\partial p}{\\partial t} - \\nabla \\cdot \\frac{K}{\\mu}\\nabla p + \\alpha \\frac{\\partial(\\nabla\\cdot\\mathbf{u})}{\\partial t} = q_p\n",
    "$$\n",
    "\n",
    "For multi-dimensional modelling, we will model both equations in the matrix, but only pressure in the fracture. We will introduce other relations describing displacements in the fracture."
   ]
  },
  {
   "cell_type": "markdown",
   "metadata": {},
   "source": [
    "## Summarize the governing equations\n",
    "To summarize the above equations, we state the Biot's model for a poroelastic medium: \n",
    "\n",
    "Displacement: \\\n",
    "$$\n",
    "\\nabla \\cdot \\left( C : \\left(\\frac{\\nabla \\mathbf{u} + (\\nabla \\mathbf{u} )^T}{2}\\right) - \\alpha p \\mathbf{I} \\right) \n",
    "= \n",
    "\\mathbf{f_u}\n",
    "$$\n",
    "Pressue: \\\n",
    "$$\n",
    "c_0 \\frac{\\partial p}{\\partial t} - \\nabla \\cdot \\frac{K}{\\mu} \\nabla p + \\alpha \\nabla\\cdot \\frac{\\partial \\mathbf{u}}{\\partial t}\n",
    "=\n",
    "f_p\n",
    "$$"
   ]
  },
  {
   "cell_type": "markdown",
   "metadata": {},
   "source": [
    "where $C$ is the stress-displacement relation \n",
    "$$\n",
    "\\sigma\n",
    "=\n",
    "C : \\vec{u} \n",
    "= \n",
    "G\\left(\\nabla \\mathbf{u} + (\\nabla \\mathbf{u})^T\\right) \n",
    "+ \\lambda \\text{ trace}(\\nabla \\mathbf{u}) \\mathbf{I}\n",
    "$$\n",
    "determined by the Lamé parameters $(G,\\lambda)$. \\\n",
    "$\\alpha$ is the Biot coefficient, $c_0$ is storage coefficient, $K$ is permeability, $\\mu$ is dynamic viscosity. \\\n",
    "Finally, $\\mathbf{f_u}$ and $f_p$ are source terms for the linear elasticity and flow problem, respectively."
   ]
  },
  {
   "cell_type": "markdown",
   "metadata": {},
   "source": [
    "### For time-stepping\n",
    "In terms of a time-stepping approach, we can re-order the second equation to:\n",
    "$$\n",
    "\\frac{\\partial}{\\partial t}\\left( c_0 p + \\alpha\\nabla\\cdot \\mathbf{u}\\right) -\\nabla\\cdot \\frac{K}{\\mu}\\nabla p\n",
    "= \n",
    "f_p\n",
    "$$"
   ]
  },
  {
   "cell_type": "markdown",
   "metadata": {},
   "source": [
    "# Friction law on fractures\n"
   ]
  },
  {
   "cell_type": "markdown",
   "metadata": {},
   "source": [
    "# Parameters to be set in `contact_mechanics_biot_model.py`\n",
    "There are several parameters to be set in the model.\n",
    "\n",
    "### Physical parameters\n",
    "`biot_alpha(g)`: Set biot alpha coefficient. \\\n",
    "`compute_aperture(g)`: Set aperture per grid. \\\n",
    "\n",
    "\n",
    "\n",
    "### Model parameters\n",
    "`time_step`: Size of time step (presumably in seconds). \\\n",
    "`end_time`: Final time. \\\n",
    "\n",
    "### Boundary conditions\n",
    "_Scalar_: \\\n",
    "`bc_type_scalar(g)`: Set bc type for scalar variable. \\\n",
    "`bc_values_scalar(g)`: Set bc values for scalar variable. \\\n",
    "_Vectorial_: \\\n",
    "`bc_type_mechanics(g)`: Set bc type for mechanics variable. \\\n",
    "`bc_values_mechanics(g)`: Set bc values for mechanics variable. \n"
   ]
  }
 ],
 "metadata": {
  "kernelspec": {
   "display_name": "Python 3",
   "language": "python",
   "name": "python3"
  },
  "language_info": {
   "codemirror_mode": {
    "name": "ipython",
    "version": 3
   },
   "file_extension": ".py",
   "mimetype": "text/x-python",
   "name": "python",
   "nbconvert_exporter": "python",
   "pygments_lexer": "ipython3",
   "version": "3.7.0"
  }
 },
 "nbformat": 4,
 "nbformat_minor": 2
}
