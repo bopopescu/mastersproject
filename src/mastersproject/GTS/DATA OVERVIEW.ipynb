{
 "cells": [
  {
   "cell_type": "markdown",
   "metadata": {},
   "source": [
    "# Data overview\n",
    "\n",
    "Note: Original coordinates (large numbers) are in Swiss coordinate system. New coordinates are in local GTS coordinates:\n",
    "- GTS_coordinates.x = 667400\n",
    "- GTS_coordinates.y = 158800\n",
    "- GTS_coordinates.z = 1700\n",
    "\n",
    "The folder `01BasicInputData` has the following structure:\n",
    "- `01_TunnelCavernCoordinates`\n",
    "- `02_Boreholes`  \n",
    "    - Files: `INJ`, `FBS`, `GEO`, `PRP`, `SBH`.\n",
    "        - Summary: Data on each borehole (INJ1, INJ2, ... )\n",
    "        - Columns: Coordinates (Swiss, x,y,z), length, diameter, azimuth, upward gradient\n",
    "- `03_GeologicalMapping`\n",
    "    - `01_TunnelIntersections`\n",
    "        - Files: `Tunnel_intersections` \\\n",
    "            - Summary: Data on tunnel-shearzone intersections (wrt. tunnels)\n",
    "            - Columns: Coordinates (Swiss, x,y,z), true dip direction, dip, tunnel, shearzone\n",
    "    - `02_BoreholeIntersections` \\\n",
    "        - Files: `INJ1_structures`, `INJ2_structures`, ... \\\n",
    "            - Summary: Data on borehole-structures intersections (wrt. boreholes)\n",
    "            - Columns: depth, azimuth, dip, aperture, type\n",
    "- `04_Geostatistics`\n",
    "- `05_independetConstraints`\n",
    "- `06_ShearzoneInterpolation`\n",
    "    - Files: `S1_1`, `S2_2`, ... \n",
    "        - Summary: Data on depth of all boreholes for intersection with given shearzone\n",
    "        - Columns: borehole, depth\n",
    "    - Files: `S1_1-patches`, `S1_2-patches`, ... \n",
    "        - Summary: Many collections (patches) of 3 boreholes/tunnels. Each patch signifies vertices of a linear interpolation (fracture plane) for the given shearzone.\n",
    "        - Content: x rows, each with lists of 3 different boreholes/tunnels. \n",
    "    - Files `S1_2N`, `S1_3N`, `S3_1N`, `S3_2N` (note not S1_1). \\\n",
    "        - Summary: Northern and southern boundaries of shearzones in tunnels\n",
    "        - Columns: Shearzone, id, coordinates (Swiss, x,y,z), tunnel\n",
    "    - Files: `S11_interp_grid`, ...\n",
    "        - Summary: 3rd order polynomial interpolation of shearzones\n",
    "        - Content: Rows 1-20 (x-coordinates), rows 21-40 (y-coordinates), rows 41-60 (z-coordinates) \\\n",
    "            1000 coordinates for plotting"
   ]
  },
  {
   "cell_type": "code",
   "execution_count": null,
   "metadata": {},
   "outputs": [],
   "source": []
  }
 ],
 "metadata": {
  "kernelspec": {
   "display_name": "Python 3",
   "language": "python",
   "name": "python3"
  },
  "language_info": {
   "codemirror_mode": {
    "name": "ipython",
    "version": 3
   },
   "file_extension": ".py",
   "mimetype": "text/x-python",
   "name": "python",
   "nbconvert_exporter": "python",
   "pygments_lexer": "ipython3",
   "version": "3.7.4"
  }
 },
 "nbformat": 4,
 "nbformat_minor": 2
}
