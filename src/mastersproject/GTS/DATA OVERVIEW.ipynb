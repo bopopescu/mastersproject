{
 "cells": [
  {
   "cell_type": "markdown",
   "metadata": {},
   "source": [
    "# Data overview\n",
    "\n",
    "Note: Original coordinates (large numbers) are in Swiss coordinate system. New coordinates are in local GTS coordinates:\n",
    "- GTS_coordinates.x = 667400\n",
    "- GTS_coordinates.y = 158800\n",
    "- GTS_coordinates.z = 1700\n",
    "\n",
    "The folder `01BasicInputData` has the following structure:\n",
    "- `01_TunnelCavernCoordinates`\n",
    "- `02_Boreholes`  \n",
    "    - Contains `INJ`, `FBS`, `GEO`, `PRP`, `SBH`. \\\n",
    "        Within each file are coordinates, orientations, etc. for each borehole within that category.\n",
    "- `03_GeologicalMapping`\n",
    "- `04_Geostatistics`\n",
    "- `05_independetConstraints`\n",
    "- `06_ShearzoneInterpolation`\n",
    "    - Contains `S1_1`, `S2_2`, ... \\\n",
    "        which are depth into each borehole for intersection with the shear zone.\n",
    "    - Contains `S1_1-patches`, `S1_2-patches`, ... \\\n",
    "        which is a matrix of tunnel/borehole names *what is it for????*\n",
    "    - Contains `S1_2N`, `S1_3N`, `S3_1N`, `S3_2N` (note not S1_1). \\\n",
    "        which ???\n",
    "    - "
   ]
  },
  {
   "cell_type": "code",
   "execution_count": null,
   "metadata": {},
   "outputs": [],
   "source": []
  }
 ],
 "metadata": {
  "kernelspec": {
   "display_name": "Python 3",
   "language": "python",
   "name": "python3"
  },
  "language_info": {
   "codemirror_mode": {
    "name": "ipython",
    "version": 3
   },
   "file_extension": ".py",
   "mimetype": "text/x-python",
   "name": "python",
   "nbconvert_exporter": "python",
   "pygments_lexer": "ipython3",
   "version": "3.7.3"
  }
 },
 "nbformat": 4,
 "nbformat_minor": 2
}
