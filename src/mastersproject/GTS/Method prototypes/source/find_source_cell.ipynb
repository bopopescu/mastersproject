{
 "cells": [
  {
   "cell_type": "markdown",
   "metadata": {},
   "source": [
    "# Compute source cell\n",
    "\n",
    "We will probably have injection in shear-zones. Compute the cell nearest to the intersection, in the fracture."
   ]
  },
  {
   "cell_type": "code",
   "execution_count": 3,
   "metadata": {},
   "outputs": [
    {
     "name": "stdout",
     "output_type": "stream",
     "text": [
      "The autoreload extension is already loaded. To reload it, use:\n",
      "  %reload_ext autoreload\n"
     ]
    }
   ],
   "source": [
    "%load_ext autoreload\n",
    "%autoreload 2\n",
    "\n",
    "import sys\n",
    "sys.path.extend(['C:\\\\Users\\\\Haakon\\\\OneDrive\\\\Dokumenter\\\\FORSKNING\\\\mastersproject', \n",
    "                 'C:\\\\Users\\\\Haakon\\\\OneDrive\\\\Dokumenter\\\\FORSKNING\\\\mastersproject\\\\src\\\\mastersproject', \n",
    "                 'C:/Users/Haakon/OneDrive/Dokumenter/FORSKNING/mastersproject'])"
   ]
  },
  {
   "cell_type": "code",
   "execution_count": 4,
   "metadata": {},
   "outputs": [],
   "source": [
    "import numpy as np\n",
    "\n",
    "import GTS as gts\n",
    "import porepy as pp"
   ]
  },
  {
   "cell_type": "code",
   "execution_count": null,
   "metadata": {},
   "outputs": [],
   "source": [
    "def create_isc_domain(shearzone_names, domain, export=True, path='linux'):\n",
    "    \"\"\" Create a domain with isc data. Tag fractures\"\"\""
   ]
  },
  {
   "cell_type": "code",
   "execution_count": null,
   "metadata": {},
   "outputs": [],
   "source": [
    "def source_cell(p, pset):\n",
    "    \"\"\" Compute the index of the nearest point in a pointset to a given point.\n",
    "    \n",
    "    Parameters\n",
    "    ----------\n",
    "    p : np.array : (3,)\n",
    "        point \n",
    "    pset : np.ndarray : (3,n)\n",
    "        point cloud\n",
    "    \n",
    "    Returns\n",
    "    -------\n",
    "    index : int\n",
    "        Index of point in pset closest to p.\n",
    "        \n",
    "    \"\"\"\n",
    "    d = pp.geometry.distances.point_pointset(p, pset)"
   ]
  }
 ],
 "metadata": {
  "kernelspec": {
   "display_name": "Python 3",
   "language": "python",
   "name": "python3"
  },
  "language_info": {
   "codemirror_mode": {
    "name": "ipython",
    "version": 3
   },
   "file_extension": ".py",
   "mimetype": "text/x-python",
   "name": "python",
   "nbconvert_exporter": "python",
   "pygments_lexer": "ipython3",
   "version": "3.7.4"
  }
 },
 "nbformat": 4,
 "nbformat_minor": 2
}
