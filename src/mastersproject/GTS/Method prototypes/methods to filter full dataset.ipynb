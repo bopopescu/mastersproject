{
 "cells": [
  {
   "cell_type": "markdown",
   "metadata": {},
   "source": [
    "# Filter on full dataset\n",
    "This notebook experiments with methods to filter specific (useful) information from the full dataset."
   ]
  },
  {
   "cell_type": "code",
   "execution_count": 8,
   "metadata": {},
   "outputs": [],
   "source": [
    "%load_ext autoreload\n",
    "%autoreload 2\n",
    "import sys\n",
    "sys.path.extend([\n",
    "    'C:/Users/Haakon/OneDrive/Dokumenter/FORSKNING/mastersproject/src/mastersproject',\n",
    "    'C:/Users/Haakon/OneDrive/Dokumenter/FORSKNING/mastersproject/src/mastersproject/GTS'\n",
    "])"
   ]
  },
  {
   "cell_type": "code",
   "execution_count": 27,
   "metadata": {},
   "outputs": [],
   "source": [
    "import numpy as np\n",
    "import pandas as pd\n",
    "\n",
    "import GTS as gts"
   ]
  },
  {
   "cell_type": "code",
   "execution_count": 10,
   "metadata": {},
   "outputs": [],
   "source": [
    "cls = gts.ISCData()"
   ]
  },
  {
   "cell_type": "code",
   "execution_count": 11,
   "metadata": {},
   "outputs": [],
   "source": [
    "df = cls.full_structure_geometry()"
   ]
  },
  {
   "cell_type": "code",
   "execution_count": 155,
   "metadata": {
    "scrolled": true
   },
   "outputs": [
    {
     "ename": "AttributeError",
     "evalue": "'Series' object has no attribute 'type'",
     "output_type": "error",
     "traceback": [
      "\u001b[1;31m---------------------------------------------------------------------------\u001b[0m",
      "\u001b[1;31mAttributeError\u001b[0m                            Traceback (most recent call last)",
      "\u001b[1;32m<ipython-input-155-920d8ce49ff5>\u001b[0m in \u001b[0;36m<module>\u001b[1;34m\u001b[0m\n\u001b[1;32m----> 1\u001b[1;33m \u001b[0mdf\u001b[0m\u001b[1;33m[\u001b[0m\u001b[0mdf\u001b[0m\u001b[1;33m.\u001b[0m\u001b[0mshearzone\u001b[0m\u001b[1;33m.\u001b[0m\u001b[0mtype\u001b[0m\u001b[1;33m.\u001b[0m\u001b[0misin\u001b[0m\u001b[1;33m(\u001b[0m\u001b[1;33m[\u001b[0m\u001b[1;34m'S3 Shear-zone'\u001b[0m\u001b[1;33m,\u001b[0m \u001b[1;34m'S1 Shear-zone'\u001b[0m\u001b[1;33m]\u001b[0m\u001b[1;33m)\u001b[0m\u001b[1;33m]\u001b[0m\u001b[1;33m\u001b[0m\u001b[1;33m\u001b[0m\u001b[0m\n\u001b[0m",
      "\u001b[1;32mc:\\users\\haakon\\appdata\\local\\programs\\python\\python37\\lib\\site-packages\\pandas\\core\\generic.py\u001b[0m in \u001b[0;36m__getattr__\u001b[1;34m(self, name)\u001b[0m\n\u001b[0;32m   5177\u001b[0m             \u001b[1;32mif\u001b[0m \u001b[0mself\u001b[0m\u001b[1;33m.\u001b[0m\u001b[0m_info_axis\u001b[0m\u001b[1;33m.\u001b[0m\u001b[0m_can_hold_identifiers_and_holds_name\u001b[0m\u001b[1;33m(\u001b[0m\u001b[0mname\u001b[0m\u001b[1;33m)\u001b[0m\u001b[1;33m:\u001b[0m\u001b[1;33m\u001b[0m\u001b[1;33m\u001b[0m\u001b[0m\n\u001b[0;32m   5178\u001b[0m                 \u001b[1;32mreturn\u001b[0m \u001b[0mself\u001b[0m\u001b[1;33m[\u001b[0m\u001b[0mname\u001b[0m\u001b[1;33m]\u001b[0m\u001b[1;33m\u001b[0m\u001b[1;33m\u001b[0m\u001b[0m\n\u001b[1;32m-> 5179\u001b[1;33m             \u001b[1;32mreturn\u001b[0m \u001b[0mobject\u001b[0m\u001b[1;33m.\u001b[0m\u001b[0m__getattribute__\u001b[0m\u001b[1;33m(\u001b[0m\u001b[0mself\u001b[0m\u001b[1;33m,\u001b[0m \u001b[0mname\u001b[0m\u001b[1;33m)\u001b[0m\u001b[1;33m\u001b[0m\u001b[1;33m\u001b[0m\u001b[0m\n\u001b[0m\u001b[0;32m   5180\u001b[0m \u001b[1;33m\u001b[0m\u001b[0m\n\u001b[0;32m   5181\u001b[0m     \u001b[1;32mdef\u001b[0m \u001b[0m__setattr__\u001b[0m\u001b[1;33m(\u001b[0m\u001b[0mself\u001b[0m\u001b[1;33m,\u001b[0m \u001b[0mname\u001b[0m\u001b[1;33m,\u001b[0m \u001b[0mvalue\u001b[0m\u001b[1;33m)\u001b[0m\u001b[1;33m:\u001b[0m\u001b[1;33m\u001b[0m\u001b[1;33m\u001b[0m\u001b[0m\n",
      "\u001b[1;31mAttributeError\u001b[0m: 'Series' object has no attribute 'type'"
     ]
    }
   ],
   "source": [
    "df[df.shearzone.type.isin(['S3 Shear-zone', 'S1 Shear-zone'])]"
   ]
  },
  {
   "cell_type": "code",
   "execution_count": null,
   "metadata": {},
   "outputs": [],
   "source": [
    "df[df.shearzone.type.isin(['S3 Shear-zone', 'S1 Shear-zone'])]"
   ]
  },
  {
   "cell_type": "markdown",
   "metadata": {},
   "source": [
    "## Some shear-zone -- borehole intersections are not used for calculating planes\n",
    "Consider borehole FBS2. Here we see that none of the `S1 shear-zone` have been classified as a shearzone. \\\n",
    "This means that the files in `06ShearzoneInterpolation > Sx_y.txt` does not use these intersections in shear-zone calculations."
   ]
  },
  {
   "cell_type": "code",
   "execution_count": 69,
   "metadata": {
    "scrolled": false
   },
   "outputs": [
    {
     "data": {
      "text/html": [
       "<div>\n",
       "<style scoped>\n",
       "    .dataframe tbody tr th:only-of-type {\n",
       "        vertical-align: middle;\n",
       "    }\n",
       "\n",
       "    .dataframe tbody tr th {\n",
       "        vertical-align: top;\n",
       "    }\n",
       "\n",
       "    .dataframe thead th {\n",
       "        text-align: right;\n",
       "    }\n",
       "</style>\n",
       "<table border=\"1\" class=\"dataframe\">\n",
       "  <thead>\n",
       "    <tr style=\"text-align: right;\">\n",
       "      <th></th>\n",
       "      <th>depth</th>\n",
       "      <th>type</th>\n",
       "      <th>borehole</th>\n",
       "      <th>shearzone</th>\n",
       "    </tr>\n",
       "  </thead>\n",
       "  <tbody>\n",
       "    <tr>\n",
       "      <th>94</th>\n",
       "      <td>11.15</td>\n",
       "      <td>S1 Shear-zone</td>\n",
       "      <td>FBS2</td>\n",
       "      <td>NaN</td>\n",
       "    </tr>\n",
       "    <tr>\n",
       "      <th>461</th>\n",
       "      <td>35.09</td>\n",
       "      <td>S1 Shear-zone</td>\n",
       "      <td>FBS2</td>\n",
       "      <td>NaN</td>\n",
       "    </tr>\n",
       "    <tr>\n",
       "      <th>576</th>\n",
       "      <td>44.08</td>\n",
       "      <td>S1 Shear-zone</td>\n",
       "      <td>FBS2</td>\n",
       "      <td>NaN</td>\n",
       "    </tr>\n",
       "  </tbody>\n",
       "</table>\n",
       "</div>"
      ],
      "text/plain": [
       "     depth           type borehole shearzone\n",
       "94   11.15  S1 Shear-zone     FBS2       NaN\n",
       "461  35.09  S1 Shear-zone     FBS2       NaN\n",
       "576  44.08  S1 Shear-zone     FBS2       NaN"
      ]
     },
     "execution_count": 69,
     "metadata": {},
     "output_type": "execute_result"
    }
   ],
   "source": [
    "_mask_type = df.type.isin(['S1 Shear-zone', 'S3 Shear-zone', 'Minor ductile Shear-zone'])\n",
    "_mask_sz_nan = df.shearzone.isna()\n",
    "_mask_bh = df.borehole == 'FBS2'\n",
    "df.loc[_mask_type & _mask_sz_nan & _mask_bh, ('depth', 'type', 'borehole', 'shearzone')].sort_values('borehole')"
   ]
  },
  {
   "cell_type": "markdown",
   "metadata": {},
   "source": [
    "___________"
   ]
  },
  {
   "cell_type": "markdown",
   "metadata": {},
   "source": [
    "# TODO:\n",
    "1) Get gts coordinates for each shear zone as numpy array (3, n)\n",
    "\n",
    "2) for a given borehole and a depth, or depth interval. Locate all structures in that region - or only shear-zones. \n",
    "\n",
    "3) Do regression over the shearzone points to get planes (normals and vertices)\n",
    "    - Construct fractures\n",
    "    \n",
    "4) Do regression over shearzone points with one (or two) fixed points.\n",
    "    - E.g. you'd want to fix the injection point for a shearzone-borehole intersection.\n",
    "    \n",
    "5) Mesh the fractured domain\n",
    "\n",
    "6) Find nearest cell to a given coordinate on the map\n",
    "    - Nearest point to a given borehole depth (depth-interval)\n",
    "    - Nearest point to a fracture-shearzone intersection"
   ]
  },
  {
   "cell_type": "markdown",
   "metadata": {},
   "source": [
    "# 1): Get gts coordinates for each shear zone as numpy array (3, n)\n",
    "\n",
    "* Filter df by shear-zone\n",
    "* df.to_numpy()\n",
    "* np.T"
   ]
  },
  {
   "cell_type": "code",
   "execution_count": 23,
   "metadata": {},
   "outputs": [],
   "source": [
    "def get_shearzone(sz: str, coords: str = 'gts'):\n",
    "    \"\"\" Extract shear-zone coordinates for a given shear-zone\n",
    "    \n",
    "    Coordinates extracted will either be 'swiss' or 'gts'.\n",
    "    \n",
    "    Parameters:\n",
    "    sz (str): Name of shear-zone (S1_1, S1_2, S1_3, S3_1, S3_2)\n",
    "    coords (str, Default: 'gts'): \n",
    "        Get coordinates in 'gts' or 'swiss'.\n",
    "    \n",
    "    Returns\n",
    "    np.ndarray (3, n): Coordinates of shearzone intersections.\n",
    "    \"\"\"\n",
    "\n",
    "    assert sz in ['S1_1', 'S1_2', 'S1_3', 'S3_1', 'S3_2'], f\"unknown shear-zone {sz}.\"\n",
    "    assert coords in ['swiss', 'gts'], f\"unknown coordinate system {coords}.\"\n",
    "    sz = df.loc[df.shearzone == sz, (f'x_{coords}', f'y_{coords}', f'z_{coords}')]\n",
    "    return sz.to_numpy().T"
   ]
  },
  {
   "cell_type": "code",
   "execution_count": 24,
   "metadata": {},
   "outputs": [],
   "source": [
    "arr = get_shearzone('S1_1')"
   ]
  },
  {
   "cell_type": "code",
   "execution_count": 25,
   "metadata": {},
   "outputs": [
    {
     "data": {
      "text/plain": [
       "array([[ 58.40884847,  61.40764443,  54.63522029,  58.59978767,\n",
       "         50.78924812,  56.35671854,  48.44373512,  51.23287523,\n",
       "         43.78967103,  72.625     ,   9.735     ],\n",
       "       [111.99926347, 114.36994694, 112.00845129, 113.66474862,\n",
       "        109.42440764, 110.06692009, 108.19723976, 107.51656832,\n",
       "        106.94429858, 125.321     ,  88.36      ],\n",
       "       [ 18.61481037,  20.48661828,  21.6404976 ,  22.29365105,\n",
       "         17.17388556,  11.49011407,  16.34363975,   9.68848744,\n",
       "         13.5331971 ,  33.436     ,  35.419     ]])"
      ]
     },
     "execution_count": 25,
     "metadata": {},
     "output_type": "execute_result"
    }
   ],
   "source": [
    "arr"
   ]
  },
  {
   "cell_type": "markdown",
   "metadata": {},
   "source": [
    "# 2): for a given borehole and a depth, or depth interval. Locate all structures in that region - or only shear-zones.\n",
    "* Filter by borehole\n",
    "* filter by absolute depth or depth-interval\n",
    "* optionally filter by structure-type"
   ]
  },
  {
   "cell_type": "code",
   "execution_count": 28,
   "metadata": {},
   "outputs": [
    {
     "data": {
      "text/plain": [
       "Index(['depth', 'azimuth_struc', 'dip', 'aperture', 'type', 'borehole', 'x',\n",
       "       'y', 'z', 'length', 'diameter', 'azimuth_bh', 'upward_gradient',\n",
       "       'shearzone', '_trig_x', '_trig_y', '_trig_z', 'x_swiss', 'y_swiss',\n",
       "       'z_swiss', 'x_gts', 'y_gts', 'z_gts'],\n",
       "      dtype='object')"
      ]
     },
     "execution_count": 28,
     "metadata": {},
     "output_type": "execute_result"
    }
   ],
   "source": [
    "df.columns"
   ]
  },
  {
   "cell_type": "code",
   "execution_count": 47,
   "metadata": {},
   "outputs": [],
   "source": [
    "def structures_depth(borehole: str, depth: np.ndarray, structure=None, shearzone=None, coords='gts'):\n",
    "    \"\"\" Get structures in a borehole at depth\n",
    "    \n",
    "    For a given borehole, and a given depth (or depth interval),\n",
    "    get all structures - or a subset of structures, or specific shearzones.\n",
    "    \n",
    "    Parameters:\n",
    "    borehole (str): name of borehole (INJ1, INJ2, ...)\n",
    "    depth (np.array): Depth interval in borehole.\n",
    "    structure (str or list, Optiona): Filter by certain structures \n",
    "        (Fracture, Minor ductile Shear-zone, S1 Shear-zone, Quartz, ...)\n",
    "    shearzone (str or list, Optional): Filter by certain shear-zones\n",
    "        (S1_1, S1_2, ...)\n",
    "    coords (str, optional): which coordinate system to return\n",
    "    \n",
    "    Returns:\n",
    "    pd.DataFrame: Filtered dataframe\n",
    "    \n",
    "    \"\"\"\n",
    "    assert (depth.shape[0] == 2) and (depth[0] <= depth[1]), \"Depth must be given as an interval.\"\n",
    "    assert coords in ['swiss', 'gts'], f\"unknown coordinate system {coords}.\"\n",
    "    \n",
    "    # Structure mask\n",
    "    if isinstance(structure, str):\n",
    "        structure = [structure]\n",
    "    if structure is not None:\n",
    "        _mask_struc = df.type.isin(structure)\n",
    "    else:\n",
    "        _mask_struc = np.ones(df.shape[0], dtype=bool)\n",
    "    \n",
    "    # Shear-zone mask\n",
    "    if isinstance(shearzone, str):\n",
    "        shearzone = [shearzone]\n",
    "    if shearzone is not None:\n",
    "        _mask_sz = df.shearzone.isin(shearzone)\n",
    "    else:\n",
    "        _mask_sz = np.ones(df.shape[0], dtype=bool)\n",
    "    \n",
    "    # Borehole mask\n",
    "    _mask_bh = df.borehole == borehole\n",
    "    \n",
    "    # Depth mask\n",
    "    _mask_depth = (depth[0] <= df.depth) & (df.depth <= depth[1])\n",
    "    \n",
    "    # Full mask #\n",
    "    _mask = _mask_bh & _mask_depth & _mask_struc & _mask_sz\n",
    "    \n",
    "    # Filter DataFrame #\n",
    "    _bh = df.loc[_mask, ('depth', 'azimuth_struc', 'dip', 'aperture', 'type', \n",
    "                         'borehole', 'shearzone', \n",
    "                         f'x_{coords}', f'y_{coords}', f'z_{coords}')]\n",
    "    return _bh"
   ]
  },
  {
   "cell_type": "code",
   "execution_count": 62,
   "metadata": {
    "scrolled": true
   },
   "outputs": [
    {
     "data": {
      "text/html": [
       "<div>\n",
       "<style scoped>\n",
       "    .dataframe tbody tr th:only-of-type {\n",
       "        vertical-align: middle;\n",
       "    }\n",
       "\n",
       "    .dataframe tbody tr th {\n",
       "        vertical-align: top;\n",
       "    }\n",
       "\n",
       "    .dataframe thead th {\n",
       "        text-align: right;\n",
       "    }\n",
       "</style>\n",
       "<table border=\"1\" class=\"dataframe\">\n",
       "  <thead>\n",
       "    <tr style=\"text-align: right;\">\n",
       "      <th></th>\n",
       "      <th>depth</th>\n",
       "      <th>azimuth_struc</th>\n",
       "      <th>dip</th>\n",
       "      <th>aperture</th>\n",
       "      <th>type</th>\n",
       "      <th>borehole</th>\n",
       "      <th>shearzone</th>\n",
       "      <th>x_gts</th>\n",
       "      <th>y_gts</th>\n",
       "      <th>z_gts</th>\n",
       "    </tr>\n",
       "  </thead>\n",
       "  <tbody>\n",
       "    <tr>\n",
       "      <th>327</th>\n",
       "      <td>25.32</td>\n",
       "      <td>150.68</td>\n",
       "      <td>85.56</td>\n",
       "      <td>0.00</td>\n",
       "      <td>Fracture</td>\n",
       "      <td>GEO3</td>\n",
       "      <td>NaN</td>\n",
       "      <td>53.915039</td>\n",
       "      <td>111.996126</td>\n",
       "      <td>13.658828</td>\n",
       "    </tr>\n",
       "    <tr>\n",
       "      <th>330</th>\n",
       "      <td>25.37</td>\n",
       "      <td>159.50</td>\n",
       "      <td>78.99</td>\n",
       "      <td>0.00</td>\n",
       "      <td>Fracture</td>\n",
       "      <td>GEO3</td>\n",
       "      <td>NaN</td>\n",
       "      <td>53.881453</td>\n",
       "      <td>111.996103</td>\n",
       "      <td>13.621787</td>\n",
       "    </tr>\n",
       "    <tr>\n",
       "      <th>345</th>\n",
       "      <td>26.49</td>\n",
       "      <td>165.79</td>\n",
       "      <td>73.15</td>\n",
       "      <td>380.94</td>\n",
       "      <td>Minor ductile Shear-zone</td>\n",
       "      <td>GEO3</td>\n",
       "      <td>S1_2</td>\n",
       "      <td>53.129126</td>\n",
       "      <td>111.995578</td>\n",
       "      <td>12.792086</td>\n",
       "    </tr>\n",
       "    <tr>\n",
       "      <th>352</th>\n",
       "      <td>26.73</td>\n",
       "      <td>160.03</td>\n",
       "      <td>82.12</td>\n",
       "      <td>0.00</td>\n",
       "      <td>Fracture</td>\n",
       "      <td>GEO3</td>\n",
       "      <td>NaN</td>\n",
       "      <td>52.967913</td>\n",
       "      <td>111.995465</td>\n",
       "      <td>12.614293</td>\n",
       "    </tr>\n",
       "    <tr>\n",
       "      <th>365</th>\n",
       "      <td>27.66</td>\n",
       "      <td>161.16</td>\n",
       "      <td>66.69</td>\n",
       "      <td>0.00</td>\n",
       "      <td>Fracture</td>\n",
       "      <td>GEO3</td>\n",
       "      <td>NaN</td>\n",
       "      <td>52.343213</td>\n",
       "      <td>111.995029</td>\n",
       "      <td>11.925345</td>\n",
       "    </tr>\n",
       "  </tbody>\n",
       "</table>\n",
       "</div>"
      ],
      "text/plain": [
       "     depth  azimuth_struc    dip  aperture                      type borehole  \\\n",
       "327  25.32         150.68  85.56      0.00                  Fracture     GEO3   \n",
       "330  25.37         159.50  78.99      0.00                  Fracture     GEO3   \n",
       "345  26.49         165.79  73.15    380.94  Minor ductile Shear-zone     GEO3   \n",
       "352  26.73         160.03  82.12      0.00                  Fracture     GEO3   \n",
       "365  27.66         161.16  66.69      0.00                  Fracture     GEO3   \n",
       "\n",
       "    shearzone      x_gts       y_gts      z_gts  \n",
       "327       NaN  53.915039  111.996126  13.658828  \n",
       "330       NaN  53.881453  111.996103  13.621787  \n",
       "345      S1_2  53.129126  111.995578  12.792086  \n",
       "352       NaN  52.967913  111.995465  12.614293  \n",
       "365       NaN  52.343213  111.995029  11.925345  "
      ]
     },
     "execution_count": 62,
     "metadata": {},
     "output_type": "execute_result"
    }
   ],
   "source": [
    "arr1 = structures_depth(borehole='GEO3', depth=np.array([25,28]))\n",
    "arr1"
   ]
  },
  {
   "cell_type": "markdown",
   "metadata": {},
   "source": [
    "# 3): Do regression over the shearzone points to get planes (normals and vertices) \n",
    "* Get numpy array of points for each shear-zone (use `get_shearzone()` method).\n",
    "* Calculate shear-zone planes with linear regression."
   ]
  },
  {
   "cell_type": "markdown",
   "metadata": {},
   "source": [
    "_This method returns a dataframe_. Let's put that tactic on pause for a moment"
   ]
  },
  {
   "cell_type": "code",
   "execution_count": 123,
   "metadata": {},
   "outputs": [],
   "source": [
    "# def shearzone_plane(shearzone, coords='gts'):\n",
    "#     \"\"\" Calculate shear-zone planes from shear-zones.\n",
    "    \n",
    "#     Given a reference to a shear-zone, calculate the best-fit plane.\n",
    "    \n",
    "#     Parameters:\n",
    "#     shearzone (str or list): Names of shearzones to construct planes of (S1_1, S1_2, ...)\n",
    "#     coords (str, optional): Coordinate system to use. Default: 'gts'.\n",
    "    \n",
    "#     Returns:\n",
    "#     pd.DataFrame: Dataframe with columns x,y,z coordinates, type ('proj' or 'n') and shearzone ('S1_1', etc.)\n",
    "#     e.g.:\n",
    "#        x_gts       y_gts       z_gts       type    shearzone\n",
    "#     0  87.806066   61.332718   34.064036   proj    S1_1\n",
    "#     1  90.829214   63.661430   35.948641   proj    S1_1\n",
    "#     2  -0.485260   0.836353    -0.255021   n       S1_1\n",
    "    \n",
    "#     \"\"\"\n",
    "#     if isinstance(shearzone, str):\n",
    "#         shearzone = [shearzone]\n",
    "#     elif shearzone is None:\n",
    "#         shearzone = ['S1_1', 'S1_2', 'S1_3', 'S3_1', 'S3_2']\n",
    "    \n",
    "# #     planes = {sz:{} for sz in shearzone}\n",
    "#     planes = []\n",
    "    \n",
    "#     for sz in shearzone:\n",
    "#         # Calculate point cloud projected to the fitted plane.\n",
    "#         sz_cloud = get_shearzone(sz=sz, coords=coords)\n",
    "#         fp = gts.FitPlane(sz_cloud)\n",
    "#         proj = pd.DataFrame(fp.proj.T, columns=(f'x_{coords}', f'y_{coords}', f'z_{coords}'))\n",
    "#         proj['type'] = 'proj'\n",
    "#         cn={'type':'n', f'x_{coords}': fp.n[0], f'y_{coords}': fp.n[1], f'z_{coords}': fp.n[2]}\n",
    "#         data = proj.append(cn, ignore_index=True)\n",
    "#         data['shearzone'] = sz\n",
    "#         planes.append(data)\n",
    "    \n",
    "#     return pd.concat(planes).reset_index(drop=True)"
   ]
  },
  {
   "cell_type": "code",
   "execution_count": 136,
   "metadata": {},
   "outputs": [],
   "source": [
    "def convex_plane(shearzone, coords='gts'):\n",
    "    \"\"\" Calculate shear-zone planes from shear-zones.\n",
    "    \n",
    "    Given a reference to a shear-zone, calculate the best-fit plane.\n",
    "    \n",
    "    Parameters:\n",
    "    shearzone (str or list): Names of shearzones to construct planes of (S1_1, S1_2, ...)\n",
    "    coords (str, optional): Coordinate system to use. Default: 'gts'.\n",
    "    \n",
    "    Returns:\n",
    "    dict: the pointcloud projected to a convex, fitted plane.\n",
    "    \n",
    "    \"\"\"\n",
    "    if isinstance(shearzone, str):\n",
    "        shearzone = [shearzone]\n",
    "    elif shearzone is None:\n",
    "        shearzone = ['S1_1', 'S1_2', 'S1_3', 'S3_1', 'S3_2']\n",
    "    \n",
    "    shearzones = {sz:{} for sz in shearzone}\n",
    "    \n",
    "    for sz in shearzones:\n",
    "        sz_cloud = get_shearzone(sz=sz, coords=coords)\n",
    "        fp = gts.FitPlane(sz_cloud)\n",
    "        \n",
    "        shearzones[sz]['proj'] = fp.proj\n",
    "        shearzones[sz]['n'] = fp.n\n",
    "        shearzones[sz]['vertices'] = gts.convex_hull(fp.proj)\n",
    "    \n",
    "    return shearzones\n",
    "        "
   ]
  },
  {
   "cell_type": "code",
   "execution_count": 138,
   "metadata": {},
   "outputs": [
    {
     "data": {
      "text/plain": [
       "{'S1_1': {'proj': array([[ 87.80606576,  90.82921356,  84.55033821,  88.17271714,\n",
       "           81.11402366,  86.33461738,  78.92552538,  81.6052199 ,\n",
       "           75.2066799 , 102.24710506,  38.92030081],\n",
       "         [ 61.33271767,  63.66143038,  60.44929596,  62.69536022,\n",
       "           57.15920124,  58.39956091,  55.66141613,  55.16937582,\n",
       "           52.79661162,  74.26685673,  38.05869544],\n",
       "         [ 34.06403553,  35.94864115,  37.36189694,  37.83521887,\n",
       "           33.11057374,  27.24450689,  32.36284444,  25.6501748 ,\n",
       "           30.04389059,  49.00341124,  50.75685593]]),\n",
       "  'n': array([-0.48526028,  0.83635338, -0.25502057]),\n",
       "  'vertices': array([[ 38.92030081, 102.24710506,  86.33461738,  81.6052199 ],\n",
       "         [ 38.05869544,  74.26685673,  58.39956091,  55.16937582],\n",
       "         [ 50.75685593,  49.00341124,  27.24450689,  25.6501748 ]])}}"
      ]
     },
     "execution_count": 138,
     "metadata": {},
     "output_type": "execute_result"
    }
   ],
   "source": [
    "shearzones = convex_plane('S1_1')\n",
    "shearzones"
   ]
  },
  {
   "cell_type": "code",
   "execution_count": 139,
   "metadata": {},
   "outputs": [
    {
     "data": {
      "text/plain": [
       "array([[ 87.80606576,  61.33271767,  34.06403553],\n",
       "       [ 90.82921356,  63.66143038,  35.94864115],\n",
       "       [ 84.55033821,  60.44929596,  37.36189694],\n",
       "       [ 88.17271714,  62.69536022,  37.83521887],\n",
       "       [ 81.11402366,  57.15920124,  33.11057374],\n",
       "       [ 86.33461738,  58.39956091,  27.24450689],\n",
       "       [ 78.92552538,  55.66141613,  32.36284444],\n",
       "       [ 81.6052199 ,  55.16937582,  25.6501748 ],\n",
       "       [ 75.2066799 ,  52.79661162,  30.04389059],\n",
       "       [102.24710506,  74.26685673,  49.00341124],\n",
       "       [ 38.92030081,  38.05869544,  50.75685593]])"
      ]
     },
     "execution_count": 139,
     "metadata": {},
     "output_type": "execute_result"
    }
   ],
   "source": [
    "shearzones['S1_1']['proj'].T"
   ]
  },
  {
   "cell_type": "code",
   "execution_count": 140,
   "metadata": {},
   "outputs": [
    {
     "data": {
      "text/plain": [
       "array([[ 38.92030081,  38.05869544,  50.75685593],\n",
       "       [102.24710506,  74.26685673,  49.00341124],\n",
       "       [ 86.33461738,  58.39956091,  27.24450689],\n",
       "       [ 81.6052199 ,  55.16937582,  25.6501748 ]])"
      ]
     },
     "execution_count": 140,
     "metadata": {},
     "output_type": "execute_result"
    }
   ],
   "source": [
    "shearzones['S1_1']['vertices'].T"
   ]
  },
  {
   "cell_type": "code",
   "execution_count": 143,
   "metadata": {
    "scrolled": false
   },
   "outputs": [
    {
     "data": {
      "text/html": [
       "<div>\n",
       "<style scoped>\n",
       "    .dataframe tbody tr th:only-of-type {\n",
       "        vertical-align: middle;\n",
       "    }\n",
       "\n",
       "    .dataframe tbody tr th {\n",
       "        vertical-align: top;\n",
       "    }\n",
       "\n",
       "    .dataframe thead th {\n",
       "        text-align: right;\n",
       "    }\n",
       "</style>\n",
       "<table border=\"1\" class=\"dataframe\">\n",
       "  <thead>\n",
       "    <tr style=\"text-align: right;\">\n",
       "      <th></th>\n",
       "      <th>x_gts</th>\n",
       "      <th>y_gts</th>\n",
       "      <th>z_gts</th>\n",
       "    </tr>\n",
       "  </thead>\n",
       "  <tbody>\n",
       "    <tr>\n",
       "      <th>199</th>\n",
       "      <td>58.408848</td>\n",
       "      <td>111.999263</td>\n",
       "      <td>18.614810</td>\n",
       "    </tr>\n",
       "    <tr>\n",
       "      <th>218</th>\n",
       "      <td>61.407644</td>\n",
       "      <td>114.369947</td>\n",
       "      <td>20.486618</td>\n",
       "    </tr>\n",
       "    <tr>\n",
       "      <th>220</th>\n",
       "      <td>54.635220</td>\n",
       "      <td>112.008451</td>\n",
       "      <td>21.640498</td>\n",
       "    </tr>\n",
       "    <tr>\n",
       "      <th>336</th>\n",
       "      <td>58.599788</td>\n",
       "      <td>113.664749</td>\n",
       "      <td>22.293651</td>\n",
       "    </tr>\n",
       "    <tr>\n",
       "      <th>405</th>\n",
       "      <td>50.789248</td>\n",
       "      <td>109.424408</td>\n",
       "      <td>17.173886</td>\n",
       "    </tr>\n",
       "    <tr>\n",
       "      <th>411</th>\n",
       "      <td>56.356719</td>\n",
       "      <td>110.066920</td>\n",
       "      <td>11.490114</td>\n",
       "    </tr>\n",
       "    <tr>\n",
       "      <th>414</th>\n",
       "      <td>48.443735</td>\n",
       "      <td>108.197240</td>\n",
       "      <td>16.343640</td>\n",
       "    </tr>\n",
       "    <tr>\n",
       "      <th>438</th>\n",
       "      <td>51.232875</td>\n",
       "      <td>107.516568</td>\n",
       "      <td>9.688487</td>\n",
       "    </tr>\n",
       "    <tr>\n",
       "      <th>458</th>\n",
       "      <td>43.789671</td>\n",
       "      <td>106.944299</td>\n",
       "      <td>13.533197</td>\n",
       "    </tr>\n",
       "    <tr>\n",
       "      <th>591</th>\n",
       "      <td>72.625000</td>\n",
       "      <td>125.321000</td>\n",
       "      <td>33.436000</td>\n",
       "    </tr>\n",
       "    <tr>\n",
       "      <th>592</th>\n",
       "      <td>9.735000</td>\n",
       "      <td>88.360000</td>\n",
       "      <td>35.419000</td>\n",
       "    </tr>\n",
       "  </tbody>\n",
       "</table>\n",
       "</div>"
      ],
      "text/plain": [
       "         x_gts       y_gts      z_gts\n",
       "199  58.408848  111.999263  18.614810\n",
       "218  61.407644  114.369947  20.486618\n",
       "220  54.635220  112.008451  21.640498\n",
       "336  58.599788  113.664749  22.293651\n",
       "405  50.789248  109.424408  17.173886\n",
       "411  56.356719  110.066920  11.490114\n",
       "414  48.443735  108.197240  16.343640\n",
       "438  51.232875  107.516568   9.688487\n",
       "458  43.789671  106.944299  13.533197\n",
       "591  72.625000  125.321000  33.436000\n",
       "592   9.735000   88.360000  35.419000"
      ]
     },
     "execution_count": 143,
     "metadata": {},
     "output_type": "execute_result"
    }
   ],
   "source": [
    "orig_s1_1 = df.loc[df.shearzone=='S1_1', ('x_gts', 'y_gts', 'z_gts')]\n",
    "orig_s1_1"
   ]
  },
  {
   "cell_type": "code",
   "execution_count": 146,
   "metadata": {},
   "outputs": [
    {
     "data": {
      "text/plain": [
       "array([[ 58.40884847, 111.99926347,  18.61481037],\n",
       "       [ 61.40764443, 114.36994694,  20.48661828],\n",
       "       [ 54.63522029, 112.00845129,  21.6404976 ],\n",
       "       [ 58.59978767, 113.66474862,  22.29365105],\n",
       "       [ 50.78924812, 109.42440764,  17.17388556],\n",
       "       [ 56.35671854, 110.06692009,  11.49011407],\n",
       "       [ 48.44373512, 108.19723976,  16.34363975],\n",
       "       [ 51.23287523, 107.51656832,   9.68848744],\n",
       "       [ 43.78967103, 106.94429858,  13.5331971 ],\n",
       "       [ 72.625     , 125.321     ,  33.436     ],\n",
       "       [  9.735     ,  88.36      ,  35.419     ]])"
      ]
     },
     "execution_count": 146,
     "metadata": {},
     "output_type": "execute_result"
    }
   ],
   "source": [
    "s1_1 = orig_s1_1.to_numpy()\n",
    "s1_1"
   ]
  },
  {
   "cell_type": "code",
   "execution_count": 147,
   "metadata": {
    "scrolled": true
   },
   "outputs": [
    {
     "data": {
      "text/plain": [
       "array([[ 29.39721729, -50.6665458 ,  15.44922516],\n",
       "       [ 29.42156913, -50.70851656,  15.46202287],\n",
       "       [ 29.91511792, -51.55915533,  15.72139934],\n",
       "       [ 29.57292948, -50.96938841,  15.54156782],\n",
       "       [ 30.32477554, -52.2652064 ,  15.93668818],\n",
       "       [ 29.97789884, -51.66735918,  15.75439282],\n",
       "       [ 30.48179026, -52.53582363,  16.01920469],\n",
       "       [ 30.37234467, -52.3471925 ,  15.96168736],\n",
       "       [ 31.41700887, -54.14768696,  16.51069349],\n",
       "       [ 29.62210506, -51.05414327,  15.56741124],\n",
       "       [ 29.18530081, -50.30130456,  15.33785593]])"
      ]
     },
     "execution_count": 147,
     "metadata": {},
     "output_type": "execute_result"
    }
   ],
   "source": [
    "shearzones['S1_1']['proj'].T - s1_1"
   ]
  },
  {
   "cell_type": "code",
   "execution_count": 150,
   "metadata": {},
   "outputs": [
    {
     "data": {
      "text/plain": [
       "array([ 51.45670445, 109.80662225,  20.01090011])"
      ]
     },
     "execution_count": 150,
     "metadata": {},
     "output_type": "execute_result"
    }
   ],
   "source": [
    "# Is this constant shift the mean of the original dataset?\n",
    "s1_1.mean(axis=0)"
   ]
  },
  {
   "cell_type": "markdown",
   "metadata": {},
   "source": [
    "### Found bug: The entire shearzone is translated by a constant vector.\n",
    "Find out where this vector comes from. \\\n",
    "Solution: Translate back!"
   ]
  },
  {
   "cell_type": "markdown",
   "metadata": {},
   "source": [
    "# 6) Find nearest cell to a given coordinate on the map\n",
    "\n",
    "- Nearest point to a given borehole depth (depth-interval)\n",
    "- Nearest point to a fracture-shearzone intersection\n",
    "\n",
    "For this method, use `pp.geometry.distances > point_pointset` which computes distance between a point and a set of points. \\\n",
    "Then, use the `g.cell_center` mapping to find cell index of closest point.\n",
    "\n",
    "This cell should be tagged (find out how to tag in a good way). \\\n"
   ]
  },
  {
   "cell_type": "code",
   "execution_count": null,
   "metadata": {},
   "outputs": [],
   "source": []
  }
 ],
 "metadata": {
  "kernelspec": {
   "display_name": "Python 3",
   "language": "python",
   "name": "python3"
  },
  "language_info": {
   "codemirror_mode": {
    "name": "ipython",
    "version": 3
   },
   "file_extension": ".py",
   "mimetype": "text/x-python",
   "name": "python",
   "nbconvert_exporter": "python",
   "pygments_lexer": "ipython3",
   "version": "3.7.4"
  }
 },
 "nbformat": 4,
 "nbformat_minor": 2
}
