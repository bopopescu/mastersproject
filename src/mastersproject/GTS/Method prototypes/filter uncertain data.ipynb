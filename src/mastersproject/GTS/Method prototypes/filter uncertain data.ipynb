{
 "cells": [
  {
   "cell_type": "code",
   "execution_count": 1,
   "metadata": {},
   "outputs": [],
   "source": [
    "%load_ext autoreload\n",
    "%autoreload 2\n",
    "import sys\n",
    "sys.path.extend([\n",
    "    'C:/Users/Haakon/OneDrive/Dokumenter/FORSKNING/mastersproject/src/mastersproject',\n",
    "    'C:/Users/Haakon/OneDrive/Dokumenter/FORSKNING/mastersproject/src/mastersproject/GTS'\n",
    "])\n",
    "\n",
    "# Notebook images\n",
    "from IPython.display import Image"
   ]
  },
  {
   "cell_type": "code",
   "execution_count": 2,
   "metadata": {},
   "outputs": [],
   "source": [
    "import GTS as gts\n",
    "# from GTS.ISC_data.isc import ISCData\n",
    "import numpy as np\n",
    "import pandas as pd"
   ]
  },
  {
   "cell_type": "code",
   "execution_count": 3,
   "metadata": {},
   "outputs": [],
   "source": [
    "cls = gts.ISCData()"
   ]
  },
  {
   "cell_type": "code",
   "execution_count": null,
   "metadata": {},
   "outputs": [],
   "source": []
  },
  {
   "cell_type": "code",
   "execution_count": 15,
   "metadata": {
    "scrolled": true
   },
   "outputs": [
    {
     "data": {
      "text/html": [
       "<div>\n",
       "<style scoped>\n",
       "    .dataframe tbody tr th:only-of-type {\n",
       "        vertical-align: middle;\n",
       "    }\n",
       "\n",
       "    .dataframe tbody tr th {\n",
       "        vertical-align: top;\n",
       "    }\n",
       "\n",
       "    .dataframe thead th {\n",
       "        text-align: right;\n",
       "    }\n",
       "</style>\n",
       "<table border=\"1\" class=\"dataframe\">\n",
       "  <thead>\n",
       "    <tr style=\"text-align: right;\">\n",
       "      <th></th>\n",
       "      <th>borehole</th>\n",
       "      <th>depth</th>\n",
       "      <th>shearzone</th>\n",
       "    </tr>\n",
       "  </thead>\n",
       "  <tbody>\n",
       "    <tr>\n",
       "      <th>0</th>\n",
       "      <td>INJ1</td>\n",
       "      <td>34.92</td>\n",
       "      <td>S1_1</td>\n",
       "    </tr>\n",
       "    <tr>\n",
       "      <th>1</th>\n",
       "      <td>INJ2</td>\n",
       "      <td>30.99</td>\n",
       "      <td>S1_1</td>\n",
       "    </tr>\n",
       "    <tr>\n",
       "      <th>2</th>\n",
       "      <td>FBS1</td>\n",
       "      <td>31.09</td>\n",
       "      <td>S1_1</td>\n",
       "    </tr>\n",
       "  </tbody>\n",
       "</table>\n",
       "</div>"
      ],
      "text/plain": [
       "  borehole  depth shearzone\n",
       "0     INJ1  34.92      S1_1\n",
       "1     INJ2  30.99      S1_1\n",
       "2     FBS1  31.09      S1_1"
      ]
     },
     "execution_count": 15,
     "metadata": {},
     "output_type": "execute_result"
    }
   ],
   "source": [
    "# Import shear-zone -- borehole data.\n",
    "sz_bh = cls.shearzone_borehole_data()\n",
    "sz_bh = sz_bh[sz_bh['depth'].notna()]  # Remove rows with no intersection.\n",
    "sz_bh.head(3)"
   ]
  },
  {
   "cell_type": "code",
   "execution_count": 19,
   "metadata": {},
   "outputs": [
    {
     "data": {
      "text/html": [
       "<div>\n",
       "<style scoped>\n",
       "    .dataframe tbody tr th:only-of-type {\n",
       "        vertical-align: middle;\n",
       "    }\n",
       "\n",
       "    .dataframe tbody tr th {\n",
       "        vertical-align: top;\n",
       "    }\n",
       "\n",
       "    .dataframe thead th {\n",
       "        text-align: right;\n",
       "    }\n",
       "</style>\n",
       "<table border=\"1\" class=\"dataframe\">\n",
       "  <thead>\n",
       "    <tr style=\"text-align: right;\">\n",
       "      <th></th>\n",
       "      <th>depth</th>\n",
       "      <th>type</th>\n",
       "      <th>borehole</th>\n",
       "    </tr>\n",
       "  </thead>\n",
       "  <tbody>\n",
       "    <tr>\n",
       "      <th>0</th>\n",
       "      <td>2.35</td>\n",
       "      <td>Minor ductile Shear-zone</td>\n",
       "      <td>FBS1</td>\n",
       "    </tr>\n",
       "    <tr>\n",
       "      <th>1</th>\n",
       "      <td>2.99</td>\n",
       "      <td>Minor ductile Shear-zone</td>\n",
       "      <td>FBS1</td>\n",
       "    </tr>\n",
       "    <tr>\n",
       "      <th>2</th>\n",
       "      <td>3.27</td>\n",
       "      <td>Foliation</td>\n",
       "      <td>FBS1</td>\n",
       "    </tr>\n",
       "    <tr>\n",
       "      <th>3</th>\n",
       "      <td>5.02</td>\n",
       "      <td>Minor ductile Shear-zone</td>\n",
       "      <td>FBS1</td>\n",
       "    </tr>\n",
       "    <tr>\n",
       "      <th>4</th>\n",
       "      <td>6.76</td>\n",
       "      <td>Foliation</td>\n",
       "      <td>FBS1</td>\n",
       "    </tr>\n",
       "  </tbody>\n",
       "</table>\n",
       "</div>"
      ],
      "text/plain": [
       "   depth                      type borehole\n",
       "0   2.35  Minor ductile Shear-zone     FBS1\n",
       "1   2.99  Minor ductile Shear-zone     FBS1\n",
       "2   3.27                 Foliation     FBS1\n",
       "3   5.02  Minor ductile Shear-zone     FBS1\n",
       "4   6.76                 Foliation     FBS1"
      ]
     },
     "execution_count": 19,
     "metadata": {},
     "output_type": "execute_result"
    }
   ],
   "source": [
    "strc = cls.borehole_structure_data().merge(cls.borehole_data(), how='outer', on='borehole', \n",
    "                                           suffixes=('_struc', '_bh'), validate='m:1')\n",
    "# strc['shearzone'] = np.nan\n",
    "strc1 = strc.loc[:,['depth', 'type', 'borehole']]\n",
    "strc1.head()"
   ]
  },
  {
   "cell_type": "code",
   "execution_count": 25,
   "metadata": {},
   "outputs": [
    {
     "data": {
      "text/plain": [
       "(591, 3)"
      ]
     },
     "execution_count": 25,
     "metadata": {},
     "output_type": "execute_result"
    }
   ],
   "source": [
    "strc1.shape"
   ]
  },
  {
   "cell_type": "code",
   "execution_count": 22,
   "metadata": {
    "scrolled": true
   },
   "outputs": [
    {
     "data": {
      "text/html": [
       "<div>\n",
       "<style scoped>\n",
       "    .dataframe tbody tr th:only-of-type {\n",
       "        vertical-align: middle;\n",
       "    }\n",
       "\n",
       "    .dataframe tbody tr th {\n",
       "        vertical-align: top;\n",
       "    }\n",
       "\n",
       "    .dataframe thead th {\n",
       "        text-align: right;\n",
       "    }\n",
       "</style>\n",
       "<table border=\"1\" class=\"dataframe\">\n",
       "  <thead>\n",
       "    <tr style=\"text-align: right;\">\n",
       "      <th></th>\n",
       "      <th>depth</th>\n",
       "      <th>azimuth_struc</th>\n",
       "      <th>dip</th>\n",
       "      <th>aperture</th>\n",
       "      <th>type</th>\n",
       "      <th>borehole</th>\n",
       "      <th>x</th>\n",
       "      <th>y</th>\n",
       "      <th>z</th>\n",
       "      <th>length</th>\n",
       "      <th>diameter</th>\n",
       "      <th>azimuth_bh</th>\n",
       "      <th>upward_gradient</th>\n",
       "      <th>shearzone</th>\n",
       "    </tr>\n",
       "  </thead>\n",
       "  <tbody>\n",
       "    <tr>\n",
       "      <th>151</th>\n",
       "      <td>15.57</td>\n",
       "      <td>185.46</td>\n",
       "      <td>60.58</td>\n",
       "      <td>308.85</td>\n",
       "      <td>S3 Shear-zone</td>\n",
       "      <td>PRP3</td>\n",
       "      <td>667468.39</td>\n",
       "      <td>158892.66</td>\n",
       "      <td>1733.1</td>\n",
       "      <td>32.33</td>\n",
       "      <td>131</td>\n",
       "      <td>335.01</td>\n",
       "      <td>-25.0</td>\n",
       "      <td>S3_1</td>\n",
       "    </tr>\n",
       "    <tr>\n",
       "      <th>216</th>\n",
       "      <td>19.34</td>\n",
       "      <td>166.63</td>\n",
       "      <td>56.55</td>\n",
       "      <td>315.75</td>\n",
       "      <td>S3 Shear-zone</td>\n",
       "      <td>PRP3</td>\n",
       "      <td>667468.39</td>\n",
       "      <td>158892.66</td>\n",
       "      <td>1733.1</td>\n",
       "      <td>32.33</td>\n",
       "      <td>131</td>\n",
       "      <td>335.01</td>\n",
       "      <td>-25.0</td>\n",
       "      <td>S3_2</td>\n",
       "    </tr>\n",
       "    <tr>\n",
       "      <th>336</th>\n",
       "      <td>25.57</td>\n",
       "      <td>176.50</td>\n",
       "      <td>55.72</td>\n",
       "      <td>1539.04</td>\n",
       "      <td>S1 Shear-zone</td>\n",
       "      <td>PRP3</td>\n",
       "      <td>667468.39</td>\n",
       "      <td>158892.66</td>\n",
       "      <td>1733.1</td>\n",
       "      <td>32.33</td>\n",
       "      <td>131</td>\n",
       "      <td>335.01</td>\n",
       "      <td>-25.0</td>\n",
       "      <td>S1_1</td>\n",
       "    </tr>\n",
       "    <tr>\n",
       "      <th>415</th>\n",
       "      <td>31.14</td>\n",
       "      <td>166.40</td>\n",
       "      <td>54.90</td>\n",
       "      <td>1201.46</td>\n",
       "      <td>S1 Shear-zone</td>\n",
       "      <td>PRP3</td>\n",
       "      <td>667468.39</td>\n",
       "      <td>158892.66</td>\n",
       "      <td>1733.1</td>\n",
       "      <td>32.33</td>\n",
       "      <td>131</td>\n",
       "      <td>335.01</td>\n",
       "      <td>-25.0</td>\n",
       "      <td>S1_2</td>\n",
       "    </tr>\n",
       "  </tbody>\n",
       "</table>\n",
       "</div>"
      ],
      "text/plain": [
       "     depth  azimuth_struc    dip  aperture           type borehole          x  \\\n",
       "151  15.57         185.46  60.58    308.85  S3 Shear-zone     PRP3  667468.39   \n",
       "216  19.34         166.63  56.55    315.75  S3 Shear-zone     PRP3  667468.39   \n",
       "336  25.57         176.50  55.72   1539.04  S1 Shear-zone     PRP3  667468.39   \n",
       "415  31.14         166.40  54.90   1201.46  S1 Shear-zone     PRP3  667468.39   \n",
       "\n",
       "             y       z  length  diameter  azimuth_bh  upward_gradient  \\\n",
       "151  158892.66  1733.1   32.33       131      335.01            -25.0   \n",
       "216  158892.66  1733.1   32.33       131      335.01            -25.0   \n",
       "336  158892.66  1733.1   32.33       131      335.01            -25.0   \n",
       "415  158892.66  1733.1   32.33       131      335.01            -25.0   \n",
       "\n",
       "    shearzone  \n",
       "151      S3_1  \n",
       "216      S3_2  \n",
       "336      S1_1  \n",
       "415      S1_2  "
      ]
     },
     "execution_count": 22,
     "metadata": {},
     "output_type": "execute_result"
    }
   ],
   "source": [
    "full_df = pd.merge_asof(strc.sort_values('depth'),\n",
    "                  sz_bh.sort_values('depth'),\n",
    "                  by='borehole', \n",
    "                  on='depth',\n",
    "                  tolerance=0.01, \n",
    "                  direction='nearest')\n",
    "df_no_na = full_df[full_df.shearzone.notna()]\n",
    "# t3 = tt[tt['borehole'] == 'PRP3']\n",
    "\n",
    "df_filtered = df_no_na[df_no_na.type.isin(['S1 Shear-zone', 'S3 Shear-zone', 'Minor ductile Shear-zone'])]\n",
    "df_filtered[df_filtered['borehole'] == 'PRP3']"
   ]
  },
  {
   "cell_type": "code",
   "execution_count": 24,
   "metadata": {},
   "outputs": [
    {
     "data": {
      "text/plain": [
       "(591, 14)"
      ]
     },
     "execution_count": 24,
     "metadata": {},
     "output_type": "execute_result"
    }
   ],
   "source": [
    "full_df.shape"
   ]
  },
  {
   "cell_type": "code",
   "execution_count": 27,
   "metadata": {},
   "outputs": [
    {
     "data": {
      "text/plain": [
       "(39, 14)"
      ]
     },
     "execution_count": 27,
     "metadata": {},
     "output_type": "execute_result"
    }
   ],
   "source": [
    "df_filtered.shape"
   ]
  },
  {
   "cell_type": "code",
   "execution_count": null,
   "metadata": {},
   "outputs": [],
   "source": []
  },
  {
   "cell_type": "code",
   "execution_count": null,
   "metadata": {},
   "outputs": [],
   "source": []
  },
  {
   "cell_type": "code",
   "execution_count": 12,
   "metadata": {},
   "outputs": [],
   "source": [
    "# The mask can be used to save the index\n",
    "_mask_sz = strc.loc[:,'type'].isin(['Minor ductile Shear-zone', \n",
    "                                    'S1 Shear-zone', \n",
    "                                    'S3 Shear-zone']).values\n",
    "\n",
    "# Original index we have reduced to\n",
    "sz_idx = strc1.index[_mask_sz]\n",
    "\n",
    "# Reduced problem: only shear-zone like rows.\n",
    "sz1 = strc1[_mask_sz]"
   ]
  },
  {
   "cell_type": "code",
   "execution_count": null,
   "metadata": {},
   "outputs": [],
   "source": []
  }
 ],
 "metadata": {
  "kernelspec": {
   "display_name": "Python 3",
   "language": "python",
   "name": "python3"
  },
  "language_info": {
   "codemirror_mode": {
    "name": "ipython",
    "version": 3
   },
   "file_extension": ".py",
   "mimetype": "text/x-python",
   "name": "python",
   "nbconvert_exporter": "python",
   "pygments_lexer": "ipython3",
   "version": "3.7.4"
  }
 },
 "nbformat": 4,
 "nbformat_minor": 2
}
