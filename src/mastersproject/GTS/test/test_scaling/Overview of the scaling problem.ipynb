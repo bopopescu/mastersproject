{
 "cells": [
  {
   "cell_type": "markdown",
   "metadata": {},
   "source": [
    "# Overview (11.04.2020)\n",
    "\n",
    "We refer to `test optimal scaling full model` from 02.04.20. There, we explored optimal values for scaling coefficients, and it turned out that we still have really poor condition number on the full setup (5 fractures). There are a number of reasons this may be the case:\n",
    "* The grid is poorly meshed:\n",
    "    * too few cells\n",
    "    * poorly chosen `mesh_args`\n",
    "* the complexity makes it a non-trivial problem\n",
    "    * five fractures is a lot. How does it compare to 4, 3, 2, 1, 0 fractures?"
   ]
  },
  {
   "cell_type": "markdown",
   "metadata": {},
   "source": [
    "## Organization of this notebook\n",
    "This notebook will serve as a central point to other notebooks in this folder, each of which will address various aspects of the issues proposed above.\n",
    "\n",
    "The results of these tests will be summarized here.\n",
    "\n",
    "## Updates\n",
    "* **12.04.2020**\n",
    "    * Update results from testing conditioning for various number of fractures\n",
    "* **13.04.2020**\n",
    "    * Update results from refine by splitting for a particular result over 4 fractures"
   ]
  },
  {
   "cell_type": "markdown",
   "metadata": {},
   "source": [
    "# 1. For a given `mesh_args` build up the model from 0 to 5 fractures\n",
    "* Location: `fracture complexity.ipynb`\n",
    "\n",
    "### Results (12.04.20):\n",
    "For the given setup, we note the following trend:\n",
    "* Optimal `length_scale` is generally in the range `[0.05, 0.8]`\n",
    "* Optimal `scalar_scale` is generally in the range `[1e10, 1e12]` \n",
    "    * (except for no fractures, where optimal `ls=1e8`)\n",
    "* Estimated Condition Number (Ratio of `max_A_sum` to `min_A_sum`)\n",
    "    * No fractures: Ratio `~1e1`\n",
    "    * No intersections (1-3 fracs): Ratio `~1e5`\n",
    "    * At least one intersection (4-5 fracs): Ratio `~5e8`\n",
    "    \n",
    "**Raw data**:\n",
    "* The optimal result for each `n_sz` (note that the 2nd best is often very similar conditioning. See the notebook)\n",
    "```\n",
    "ls \t    ss \t            max_elem \t    max_A_sum     min_A_sum \t  ratio \t    n_sz\n",
    "0.080 \t5.000000e+08 \t7.246959e+04 \t2.433867e+05 \t24708.840    9.850188e+00\t     0\n",
    "0.800 \t1.000000e+12 \t1.596350e+05 \t2.651434e+05 \t2.991827 \t8.862257e+04 \t    1\n",
    "0.800 \t5.000000e+11 \t2.322696e+05 \t2.387651e+05 \t2.991827 \t7.980578e+04 \t    2\n",
    "0.300 \t5.000000e+10 \t1.418793e+05 \t2.200546e+05 \t2.870429 \t7.666261e+04 \t    3\n",
    "0.005 \t1.000000e+09 \t7.283247e+08 \t8.546161e+08 \t2.005668 \t4.261004e+08 \t    4\n",
    "0.050 \t1.000000e+12 \t7.283754e+08 \t9.291072e+08 \t2.005668 \t4.632408e+08 \t    5\n",
    "```"
   ]
  },
  {
   "cell_type": "markdown",
   "metadata": {},
   "source": [
    "# 2. For a given number of fractures and given `mesh_args`, run `refine_by_splitting` and compare condition number\n",
    "* Location: `refine_by_splitting condition number`\n",
    "\n",
    "### Results (13.04.20):\n",
    "For the given setup:\n",
    "* 4 fractures (S1 + S3_1)\n",
    "* `sz: 80`\n",
    "* length scale: `0.05`\n",
    "* scalar scale: `1e9`\n",
    "* 3 refine by splitting iterations\n",
    "\n",
    "we find:\n",
    "* The condition number remains almost constant across all refinements.\n",
    "\n",
    "**Raw data:**\n",
    "```\n",
    "max_A_sum \tmax_elem \tmin_A_sum \tnum_cells \tratio\n",
    "1.191105e+12 \t1.178567e+12 \t2.628590 \t289.0 \t4.531344e+11\n",
    "1.271067e+12 \t1.151192e+12 \t2.608115 \t2162.0 \t4.873508e+11\n",
    "1.271067e+12 \t1.151192e+12 \t2.759436 \t16732.0 \t4.606255e+11\n",
    "```"
   ]
  },
  {
   "cell_type": "code",
   "execution_count": null,
   "metadata": {},
   "outputs": [],
   "source": []
  }
 ],
 "metadata": {
  "kernelspec": {
   "display_name": "Python 3",
   "language": "python",
   "name": "python3"
  },
  "language_info": {
   "codemirror_mode": {
    "name": "ipython",
    "version": 3
   },
   "file_extension": ".py",
   "mimetype": "text/x-python",
   "name": "python",
   "nbconvert_exporter": "python",
   "pygments_lexer": "ipython3",
   "version": "3.7.0"
  }
 },
 "nbformat": 4,
 "nbformat_minor": 4
}
