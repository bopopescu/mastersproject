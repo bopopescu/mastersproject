{
 "cells": [
  {
   "cell_type": "markdown",
   "metadata": {},
   "source": [
    "# A proxy to assess scaling\n",
    "To assess scaling, we consider the injection protocol for Grimsel Test Site, and the corresponding pressure values at the injection point. That is, for a given injection rate, we should expect that our model is able to reproduce a pressure (in the injection cell) that is similar to the pressure reported in the publications.\n",
    "\n",
    "### Code setup\n",
    "We are working on a custom changelist that sets the time step to `40 minutes`, with duration `[0, 40 minutes]`. The injection rate is set to a constant amount of `20 l/min`.\n",
    "\n",
    "### Parameter setup\n",
    "We include the shearzone `S1_2` and conduct injection to the borehole `INJ1`.\n",
    "\n",
    "We turn off all gravity effects. This means that:\n",
    "* No source terms (scalar and mechanics)\n",
    "* Scalar dirichlet set to 0\n",
    "* Mechanics neumann set to 0 except at 3 points on bottom of domain\n",
    "\n",
    "\n",
    "\n",
    "### Expected results\n",
    "From the literature (Doetsch et al 2019), for injection rates of `[10, 25] l/min`, we expect a pressure response to be in the range `[5, 9] MPa`."
   ]
  },
  {
   "cell_type": "code",
   "execution_count": 1,
   "metadata": {},
   "outputs": [
    {
     "name": "stderr",
     "output_type": "stream",
     "text": [
      "/home/haakon/porepy/src/porepy/viz/exporter.py:928: NumbaPerformanceWarning: np.dot() is faster on contiguous arrays, called on (array(float64, 1d, A), array(float64, 1d, C))\n",
      "  angle = np.arccos(np.dot(normals[:, fi], reference))\n"
     ]
    }
   ],
   "source": [
    "import sys\n",
    "sys.path.extend([\n",
    "    '/home/haakon/mastersproject', \n",
    "    '/home/haakon/mastersproject/src/mastersproject'\n",
    "])\n",
    "\n",
    "import GTS as gts\n",
    "from GTS.isc_modelling.setup import run_abstract_model\n",
    "import porepy as pp\n",
    "import numpy as np"
   ]
  },
  {
   "cell_type": "code",
   "execution_count": 2,
   "metadata": {},
   "outputs": [],
   "source": [
    "# Prepare parameterse for run_abstract_model\n",
    "model = gts.ContactMechanicsBiotISC\n",
    "run_model_method = pp.run_time_dependent_model\n",
    "\n",
    "params = {\n",
    "    \"length_scale\": .1,\n",
    "    \"scalar_scale\": pp.GIGA,\n",
    "    \"shearzone_names\": [\"S1_2\"]\n",
    "}"
   ]
  },
  {
   "cell_type": "code",
   "execution_count": 3,
   "metadata": {
    "scrolled": true
   },
   "outputs": [
    {
     "name": "stderr",
     "output_type": "stream",
     "text": [
      "INFO:GTS.isc_modelling.setup:Preparing setup for simulation on 2020-03-31T14:27:21+02:00\n",
      "INFO:GTS.isc_modelling.setup:Simulation parameters:\n",
      " {'bounding_box': {'xmax': 80,\n",
      "                  'xmin': -20,\n",
      "                  'ymax': 150,\n",
      "                  'ymin': 50,\n",
      "                  'zmax': 75,\n",
      "                  'zmin': -25},\n",
      " 'folder_name': PosixPath('/home/haakon/mastersproject/src/mastersproject/GTS/isc_modelling/results/200331/default/default_1'),\n",
      " 'length_scale': 0.1,\n",
      " 'mesh_args': {'mesh_size_bound': 60,\n",
      "               'mesh_size_frac': 10,\n",
      "               'mesh_size_min': 1.0},\n",
      " 'scalar_scale': 1000000000.0,\n",
      " 'shearzone_names': ['S1_2'],\n",
      " 'solver': 'direct',\n",
      " 'source_scalar_borehole_shearzone': {'borehole': 'INJ1', 'shearzone': 'S1_2'},\n",
      " 'stress': array([[-11393046.22034133,    597621.26708787,   1842573.57669909],\n",
      "       [   597621.26708787,  -8873267.78285116,   -586150.35104884],\n",
      "       [  1842573.57669909,   -586150.35104884, -10733685.99680752]])}\n",
      "INFO:GTS.isc_modelling.contact_mechanics_biot:Initializing contact mechanics biot on ISC dataset\n",
      "INFO:GTS.isc_modelling.mechanics:Initializing contact mechanics on ISC dataset at 2020-03-31T14:27:21+02:00\n",
      "INFO:GTS.ISC_data.isc:GTS-ISC data located at: /home/haakon/mastersproject/src/mastersproject/GTS/01BasicInputData.\n",
      "INFO:GTS.isc_modelling.setup:Options for Newton solver: \n",
      " {'max_iterations': 40, 'nl_convergence_tol': 1e-06, 'nl_divergence_tol': 100000.0}\n",
      "INFO:GTS.isc_modelling.setup:Setup complete. Starting simulation\n",
      "INFO:GTS.isc_modelling.contact_mechanics_biot:Calling prepare_simulation\n",
      "INFO:GTS.isc_modelling.mechanics:Calling create_grid(<GTS.isc_modelling.contact_mechanics_biot.ContactMechanicsBiotISC object at 0x7f7e40601828>)\n",
      "INFO:GTS.ISC_data.isc:GTS-ISC data located at: /home/haakon/mastersproject/src/mastersproject/GTS/01BasicInputData.\n",
      "INFO:GTS.ISC_data.fracture:Interpolating shearzone S1_2 ...\n",
      "/home/haakon/.local/lib/python3.7/site-packages/vtk/util/numpy_support.py:137: FutureWarning: Conversion of the second argument of issubdtype from `complex` to `np.complexfloating` is deprecated. In future, it will be treated as `np.complex128 == np.dtype(complex).type`.\n",
      "  assert not numpy.issubdtype(z.dtype, complex), \\\n",
      "INFO:GTS.ISC_data.fracture:Saving vtk file of fracture network in 3D.\n",
      "INFO:GTS.ISC_data.fracture:Saving vtk file of fracture network in 3D.\n",
      "INFO:porepy.fracs.fractures:Find intersection between fratures\n",
      "INFO:porepy.fracs.fractures:Find intersection between fratures\n",
      "INFO:porepy.fracs.fractures:Found 12 intersections. Ellapsed time: 0.01355\n",
      "INFO:porepy.fracs.fractures:Found 12 intersections. Ellapsed time: 0.01355\n",
      "INFO:porepy.fracs.fractures:Split intersections\n",
      "INFO:porepy.fracs.fractures:Split intersections\n",
      "INFO:porepy.fracs.fractures:Compile list of points and edges\n",
      "INFO:porepy.fracs.fractures:Compile list of points and edges\n",
      "INFO:porepy.fracs.fractures:Points and edges done. Elapsed time 0.00075\n",
      "INFO:porepy.fracs.fractures:Points and edges done. Elapsed time 0.00075\n",
      "INFO:porepy.fracs.fractures:Uniquify points and edges, starting with 52 points, 40\n",
      "                    edges\n",
      "INFO:porepy.fracs.fractures:Uniquify points and edges, starting with 52 points, 40\n",
      "                    edges\n",
      "INFO:porepy.fracs.fractures:Uniquify complete. 12 points, 16 edges. Ellapsed time\n",
      "                    0.01322\n",
      "INFO:porepy.fracs.fractures:Uniquify complete. 12 points, 16 edges. Ellapsed time\n",
      "                    0.01322\n",
      "INFO:porepy.fracs.fractures:Remove edge intersections\n",
      "INFO:porepy.fracs.fractures:Remove edge intersections\n",
      "DEBUG:porepy.fracs.fractures:Remove intersections from fracture 0\n",
      "DEBUG:porepy.geometry.intersections:Segment intersection found in one point\n",
      "DEBUG:porepy.geometry.intersections:Segment intersection found in one point\n",
      "DEBUG:porepy.geometry.intersections:Segment intersection found in one point\n",
      "DEBUG:porepy.geometry.intersections:Segment intersection found in one point\n",
      "DEBUG:porepy.fracs.fractures:Remove intersections from fracture 1\n",
      "DEBUG:porepy.geometry.intersections:Segment intersection found in one point\n",
      "DEBUG:porepy.geometry.intersections:Segment intersection found in one point\n",
      "DEBUG:porepy.geometry.intersections:Segment intersection found in one point\n",
      "DEBUG:porepy.geometry.intersections:Segment intersection found in one point\n",
      "DEBUG:porepy.fracs.fractures:Remove intersections from fracture 2\n",
      "DEBUG:porepy.geometry.intersections:Segment intersection found in one point\n",
      "DEBUG:porepy.geometry.intersections:Segment intersection found in one point\n",
      "DEBUG:porepy.geometry.intersections:Segment intersection found in one point\n",
      "DEBUG:porepy.geometry.intersections:Segment intersection found in one point\n",
      "DEBUG:porepy.fracs.fractures:Remove intersections from fracture 3\n",
      "DEBUG:porepy.geometry.intersections:Segment intersection found in one point\n",
      "DEBUG:porepy.geometry.intersections:Segment intersection found in one point\n",
      "DEBUG:porepy.geometry.intersections:Segment intersection found in one point\n",
      "DEBUG:porepy.geometry.intersections:Segment intersection found in one point\n",
      "DEBUG:porepy.fracs.fractures:Remove intersections from fracture 4\n",
      "DEBUG:porepy.geometry.intersections:Segment intersection found in one point\n",
      "DEBUG:porepy.geometry.intersections:Segment intersection found in one point\n",
      "DEBUG:porepy.geometry.intersections:Segment intersection found in one point\n",
      "DEBUG:porepy.geometry.intersections:Segment intersection found in one point\n",
      "DEBUG:porepy.fracs.fractures:Remove intersections from fracture 5\n",
      "DEBUG:porepy.geometry.intersections:Segment intersection found in one point\n",
      "DEBUG:porepy.geometry.intersections:Segment intersection found in one point\n",
      "DEBUG:porepy.geometry.intersections:Segment intersection found in one point\n",
      "DEBUG:porepy.geometry.intersections:Segment intersection found in one point\n",
      "DEBUG:porepy.fracs.fractures:Remove intersections from fracture 6\n",
      "DEBUG:porepy.geometry.intersections:Segment intersection found in one point\n",
      "DEBUG:porepy.geometry.intersections:Segment intersection found in one point\n",
      "DEBUG:porepy.geometry.intersections:Segment intersection found in one point\n",
      "DEBUG:porepy.geometry.intersections:Segment intersection found in one point\n",
      "INFO:porepy.fracs.fractures:Done with intersection removal. Elapsed time 0.07255\n",
      "INFO:porepy.fracs.fractures:Done with intersection removal. Elapsed time 0.07255\n",
      "INFO:porepy.fracs.fractures:Uniquify points and edges, starting with 12 points, 16\n",
      "                    edges\n",
      "INFO:porepy.fracs.fractures:Uniquify points and edges, starting with 12 points, 16\n",
      "                    edges\n",
      "INFO:porepy.fracs.fractures:Uniquify complete. 12 points, 16 edges. Ellapsed time\n",
      "                    0.01151\n",
      "INFO:porepy.fracs.fractures:Uniquify complete. 12 points, 16 edges. Ellapsed time\n",
      "                    0.01151\n",
      "INFO:porepy.fracs.fractures:Finished fracture splitting after 0.11530 seconds\n",
      "INFO:porepy.fracs.fractures:Finished fracture splitting after 0.11530 seconds\n",
      "INFO:porepy.fracs.fractures:Minimal distance between points encountered is 87.21907427899889\n",
      "INFO:porepy.fracs.fractures:Minimal distance between points encountered is 87.21907427899889\n",
      "INFO:porepy.fracs.fractures:Gmsh completed with status 0\n",
      "INFO:porepy.fracs.fractures:Gmsh completed with status 0\n",
      "INFO:porepy.fracs.simplex:Grid creation completed. Elapsed time 0.03863644599914551\n",
      "INFO:porepy.fracs.simplex:Grid creation completed. Elapsed time 0.03863644599914551\n",
      "INFO:porepy.fracs.simplex:Created 1 3-d grids with 519 cells\n",
      "INFO:porepy.fracs.simplex:Created 1 3-d grids with 519 cells\n",
      "INFO:porepy.fracs.simplex:Created 1 2-d grids with 44 cells\n",
      "INFO:porepy.fracs.simplex:Created 1 2-d grids with 44 cells\n",
      "INFO:porepy.fracs.meshing:Assemble in bucket\n",
      "INFO:porepy.fracs.meshing:Assemble in bucket\n",
      "INFO:porepy.fracs.meshing:Done. Elapsed time 0.005314826965332031\n",
      "INFO:porepy.fracs.meshing:Done. Elapsed time 0.005314826965332031\n",
      "INFO:porepy.fracs.meshing:Compute geometry\n",
      "INFO:porepy.fracs.meshing:Compute geometry\n",
      "INFO:porepy.fracs.meshing:Done. Elapsed time 0.01193094253540039\n",
      "INFO:porepy.fracs.meshing:Done. Elapsed time 0.01193094253540039\n",
      "INFO:porepy.fracs.meshing:Split fractures\n",
      "INFO:porepy.fracs.meshing:Split fractures\n",
      "INFO:porepy.fracs.meshing:Done. Elapsed time 0.08541512489318848\n",
      "INFO:porepy.fracs.meshing:Done. Elapsed time 0.08541512489318848\n"
     ]
    },
    {
     "name": "stderr",
     "output_type": "stream",
     "text": [
      "INFO:GTS.isc_modelling.mechanics:Finished 'create_grid' in 1.3370 secs\n",
      "INFO:GTS.isc_modelling.mechanics:Finished 'create_grid' in 1.3370 secs\n",
      "INFO:GTS.isc_modelling.mechanics:'create_grid' returned None\n",
      "INFO:GTS.isc_modelling.mechanics:'create_grid' returned None\n",
      "INFO:GTS.isc_modelling.contact_mechanics_biot:Tagging grid of name: S1_2, and dimension 2\n",
      "INFO:GTS.isc_modelling.contact_mechanics_biot:Tagging grid of name: S1_2, and dimension 2\n",
      "INFO:GTS.isc_modelling.contact_mechanics_biot:Setting non-zero source value for pressure\n",
      "INFO:GTS.isc_modelling.contact_mechanics_biot:Setting non-zero source value for pressure\n",
      "INFO:GTS.isc_modelling.contact_mechanics_biot:Closest cell found has distance: 20.557855\n",
      "INFO:GTS.isc_modelling.contact_mechanics_biot:Closest cell found has distance: 20.557855\n",
      "INFO:porepy.models.contact_mechanics_biot_model:Discretize\n",
      "INFO:porepy.models.contact_mechanics_biot_model:Discretize\n",
      "INFO:porepy.numerics.fv.mpsa:Split MPSA discretization into 1 parts\n",
      "INFO:porepy.numerics.fv.mpsa:Split MPSA discretization into 1 parts\n",
      "DEBUG:porepy.numerics.fv.mpsa:number of ncasym eliminated: 144\n",
      "DEBUG:porepy.numerics.fv.mpsa:max igrad: 0.039816800195175917\n",
      "INFO:porepy.numerics.fv.biot:Done with subproblem 0. Elapsed time 3.060792922973633\n",
      "INFO:porepy.numerics.fv.biot:Done with subproblem 0. Elapsed time 3.060792922973633\n",
      "DEBUG:porepy.numerics.interface_laws.contact_mechanics_interface_laws:Done. Elapsed time 0.013669490814208984\n",
      "DEBUG:porepy.numerics.interface_laws.contact_mechanics_interface_laws:Done. Elapsed time 0.012651205062866211\n",
      "INFO:porepy.models.contact_mechanics_biot_model:Done. Elapsed time 6.779448747634888\n",
      "INFO:porepy.models.contact_mechanics_biot_model:Done. Elapsed time 6.779448747634888\n",
      "INFO:porepy.viz.exporter:Construct 3d grid information using pure python\n",
      "INFO:porepy.viz.exporter:Construct 3d grid information using pure python\n",
      "INFO:GTS.isc_modelling.contact_mechanics_biot:Finished 'prepare_simulation' in 8.6312 secs\n",
      "INFO:GTS.isc_modelling.contact_mechanics_biot:Finished 'prepare_simulation' in 8.6312 secs\n",
      "INFO:porepy.models.run_models:\n",
      "Time step 1 at time 2.4e+03 of 2.4e+03 with time step 2.4e+03\n",
      "INFO:porepy.models.run_models:\n",
      "Time step 1 at time 2.4e+03 of 2.4e+03 with time step 2.4e+03\n",
      "INFO:GTS.isc_modelling.contact_mechanics_biot:Calling before_newton_loop(<GTS.isc_modelling.contact_mechanics_biot.ContactMechanicsBiotISC object at 0x7f7e40601828>)\n",
      "INFO:GTS.isc_modelling.contact_mechanics_biot:Calling before_newton_loop(<GTS.isc_modelling.contact_mechanics_biot.ContactMechanicsBiotISC object at 0x7f7e40601828>)\n",
      "INFO:GTS.isc_modelling.contact_mechanics_biot:A new phase has started: Phase 5. Injection set to 20 l/min\n",
      "INFO:GTS.isc_modelling.contact_mechanics_biot:A new phase has started: Phase 5. Injection set to 20 l/min\n",
      "INFO:porepy.models.contact_mechanics_biot_model:Discretize\n",
      "INFO:porepy.models.contact_mechanics_biot_model:Discretize\n",
      "INFO:porepy.numerics.fv.mpsa:Split MPSA discretization into 1 parts\n",
      "INFO:porepy.numerics.fv.mpsa:Split MPSA discretization into 1 parts\n",
      "DEBUG:porepy.numerics.fv.mpsa:number of ncasym eliminated: 144\n",
      "DEBUG:porepy.numerics.fv.mpsa:max igrad: 0.039816800195175917\n",
      "INFO:porepy.numerics.fv.biot:Done with subproblem 0. Elapsed time 2.4793765544891357\n",
      "INFO:porepy.numerics.fv.biot:Done with subproblem 0. Elapsed time 2.4793765544891357\n",
      "DEBUG:porepy.numerics.interface_laws.contact_mechanics_interface_laws:Done. Elapsed time 0.012594223022460938\n",
      "DEBUG:porepy.numerics.interface_laws.contact_mechanics_interface_laws:Done. Elapsed time 0.011954784393310547\n",
      "INFO:porepy.models.contact_mechanics_biot_model:Done. Elapsed time 6.104732990264893\n",
      "INFO:porepy.models.contact_mechanics_biot_model:Done. Elapsed time 6.104732990264893\n",
      "INFO:GTS.isc_modelling.contact_mechanics_biot:Finished 'before_newton_loop' in 6.1125 secs\n",
      "INFO:GTS.isc_modelling.contact_mechanics_biot:Finished 'before_newton_loop' in 6.1125 secs\n",
      "INFO:GTS.isc_modelling.contact_mechanics_biot:'before_newton_loop' returned None\n",
      "INFO:GTS.isc_modelling.contact_mechanics_biot:'before_newton_loop' returned None\n",
      "INFO:porepy.numerics.nonlinear.nonlinear_solvers:Newton iteration number 0 of 40\n",
      "INFO:porepy.numerics.nonlinear.nonlinear_solvers:Newton iteration number 0 of 40\n",
      "DEBUG:porepy.numerics.interface_laws.contact_mechanics_interface_laws:Done. Elapsed time 0.018251419067382812\n",
      "DEBUG:porepy.models.contact_mechanics_biot_model:Max element in A 2.69e+05\n",
      "DEBUG:porepy.models.contact_mechanics_biot_model:Max 3.58e+05 and min 3.10e+00 A sum.\n",
      "INFO:GTS.isc_modelling.contact_mechanics_biot:diff iter u = 1.699614e-01\n",
      "INFO:GTS.isc_modelling.contact_mechanics_biot:diff iter u = 1.699614e-01\n",
      "INFO:GTS.isc_modelling.contact_mechanics_biot:diff init u = 1.699614e-01\n",
      "INFO:GTS.isc_modelling.contact_mechanics_biot:diff init u = 1.699614e-01\n",
      "INFO:GTS.isc_modelling.contact_mechanics_biot:diff iter contact = 6.145489e+29\n",
      "INFO:GTS.isc_modelling.contact_mechanics_biot:diff iter contact = 6.145489e+29\n",
      "INFO:GTS.isc_modelling.contact_mechanics_biot:diff init contact = 6.145489e+29\n",
      "INFO:GTS.isc_modelling.contact_mechanics_biot:diff init contact = 6.145489e+29\n",
      "INFO:GTS.isc_modelling.contact_mechanics_biot:diff iter scalar = 2.706077e+16\n",
      "INFO:GTS.isc_modelling.contact_mechanics_biot:diff iter scalar = 2.706077e+16\n",
      "INFO:GTS.isc_modelling.contact_mechanics_biot:diff init scalar = 2.706077e+16\n",
      "INFO:GTS.isc_modelling.contact_mechanics_biot:diff init scalar = 2.706077e+16\n",
      "INFO:GTS.isc_modelling.contact_mechanics_biot:Error in contact force is 1.000000e+00\n",
      "INFO:GTS.isc_modelling.contact_mechanics_biot:Error in contact force is 1.000000e+00\n",
      "INFO:GTS.isc_modelling.contact_mechanics_biot:Error in matrix displacement is 1.000000e+00\n",
      "INFO:GTS.isc_modelling.contact_mechanics_biot:Error in matrix displacement is 1.000000e+00\n",
      "INFO:GTS.isc_modelling.contact_mechanics_biot:Error in pressure is 1.000000e+00.\n",
      "INFO:GTS.isc_modelling.contact_mechanics_biot:Error in pressure is 1.000000e+00.\n",
      "INFO:porepy.numerics.nonlinear.nonlinear_solvers:Newton iteration number 1 of 40\n",
      "INFO:porepy.numerics.nonlinear.nonlinear_solvers:Newton iteration number 1 of 40\n",
      "DEBUG:porepy.numerics.interface_laws.contact_mechanics_interface_laws:Done. Elapsed time 0.020229816436767578\n",
      "DEBUG:porepy.models.contact_mechanics_biot_model:Max element in A 2.69e+05\n",
      "DEBUG:porepy.models.contact_mechanics_biot_model:Max 3.58e+05 and min 1.00e+00 A sum.\n",
      "INFO:GTS.isc_modelling.contact_mechanics_biot:diff iter u = 5.887638e-05\n",
      "INFO:GTS.isc_modelling.contact_mechanics_biot:diff iter u = 5.887638e-05\n",
      "INFO:GTS.isc_modelling.contact_mechanics_biot:diff init u = 1.700884e-01\n",
      "INFO:GTS.isc_modelling.contact_mechanics_biot:diff init u = 1.700884e-01\n",
      "INFO:GTS.isc_modelling.contact_mechanics_biot:diff iter contact = 6.145489e+29\n",
      "INFO:GTS.isc_modelling.contact_mechanics_biot:diff iter contact = 6.145489e+29\n",
      "INFO:GTS.isc_modelling.contact_mechanics_biot:diff init contact = 1.256756e+17\n",
      "INFO:GTS.isc_modelling.contact_mechanics_biot:diff init contact = 1.256756e+17\n",
      "INFO:GTS.isc_modelling.contact_mechanics_biot:diff iter scalar = 2.606290e+15\n",
      "INFO:GTS.isc_modelling.contact_mechanics_biot:diff iter scalar = 2.606290e+15\n",
      "INFO:GTS.isc_modelling.contact_mechanics_biot:diff init scalar = 1.962377e+16\n",
      "INFO:GTS.isc_modelling.contact_mechanics_biot:diff init scalar = 1.962377e+16\n",
      "INFO:GTS.isc_modelling.contact_mechanics_biot:Error in contact force is 4.889960e+12\n",
      "INFO:GTS.isc_modelling.contact_mechanics_biot:Error in contact force is 4.889960e+12\n",
      "INFO:GTS.isc_modelling.contact_mechanics_biot:Error in matrix displacement is 3.461517e-04\n",
      "INFO:GTS.isc_modelling.contact_mechanics_biot:Error in matrix displacement is 3.461517e-04\n",
      "INFO:GTS.isc_modelling.contact_mechanics_biot:Error in pressure is 1.328129e-01.\n",
      "INFO:GTS.isc_modelling.contact_mechanics_biot:Error in pressure is 1.328129e-01.\n",
      "INFO:porepy.numerics.nonlinear.nonlinear_solvers:Newton iteration number 2 of 40\n",
      "INFO:porepy.numerics.nonlinear.nonlinear_solvers:Newton iteration number 2 of 40\n",
      "DEBUG:porepy.numerics.interface_laws.contact_mechanics_interface_laws:Done. Elapsed time 0.019403696060180664\n",
      "DEBUG:porepy.models.contact_mechanics_biot_model:Max element in A 2.69e+05\n",
      "DEBUG:porepy.models.contact_mechanics_biot_model:Max 3.58e+05 and min 1.00e+00 A sum.\n"
     ]
    },
    {
     "name": "stderr",
     "output_type": "stream",
     "text": [
      "INFO:GTS.isc_modelling.contact_mechanics_biot:diff iter u = 5.762930e-06\n",
      "INFO:GTS.isc_modelling.contact_mechanics_biot:diff iter u = 5.762930e-06\n",
      "INFO:GTS.isc_modelling.contact_mechanics_biot:diff init u = 1.702807e-01\n",
      "INFO:GTS.isc_modelling.contact_mechanics_biot:diff init u = 1.702807e-01\n",
      "INFO:GTS.isc_modelling.contact_mechanics_biot:diff iter contact = 1.113396e+17\n",
      "INFO:GTS.isc_modelling.contact_mechanics_biot:diff iter contact = 1.113396e+17\n",
      "INFO:GTS.isc_modelling.contact_mechanics_biot:diff init contact = 4.239128e+15\n",
      "INFO:GTS.isc_modelling.contact_mechanics_biot:diff init contact = 4.239128e+15\n",
      "INFO:GTS.isc_modelling.contact_mechanics_biot:diff iter scalar = 4.758050e+12\n",
      "INFO:GTS.isc_modelling.contact_mechanics_biot:diff iter scalar = 4.758050e+12\n",
      "INFO:GTS.isc_modelling.contact_mechanics_biot:diff init scalar = 1.965433e+16\n",
      "INFO:GTS.isc_modelling.contact_mechanics_biot:diff init scalar = 1.965433e+16\n",
      "INFO:GTS.isc_modelling.contact_mechanics_biot:Error in contact force is 2.626474e+01\n",
      "INFO:GTS.isc_modelling.contact_mechanics_biot:Error in contact force is 2.626474e+01\n",
      "INFO:GTS.isc_modelling.contact_mechanics_biot:Error in matrix displacement is 3.384371e-05\n",
      "INFO:GTS.isc_modelling.contact_mechanics_biot:Error in matrix displacement is 3.384371e-05\n",
      "INFO:GTS.isc_modelling.contact_mechanics_biot:Error in pressure is 2.420866e-04.\n",
      "INFO:GTS.isc_modelling.contact_mechanics_biot:Error in pressure is 2.420866e-04.\n",
      "INFO:porepy.numerics.nonlinear.nonlinear_solvers:Newton iteration number 3 of 40\n",
      "INFO:porepy.numerics.nonlinear.nonlinear_solvers:Newton iteration number 3 of 40\n",
      "DEBUG:porepy.numerics.interface_laws.contact_mechanics_interface_laws:Done. Elapsed time 0.020020008087158203\n",
      "DEBUG:porepy.models.contact_mechanics_biot_model:Max element in A 2.69e+05\n",
      "DEBUG:porepy.models.contact_mechanics_biot_model:Max 3.58e+05 and min 1.00e+00 A sum.\n",
      "INFO:GTS.isc_modelling.contact_mechanics_biot:diff iter u = 1.312972e-13\n",
      "INFO:GTS.isc_modelling.contact_mechanics_biot:diff iter u = 1.312972e-13\n",
      "INFO:GTS.isc_modelling.contact_mechanics_biot:diff init u = 1.702806e-01\n",
      "INFO:GTS.isc_modelling.contact_mechanics_biot:diff init u = 1.702806e-01\n",
      "INFO:GTS.isc_modelling.contact_mechanics_biot:diff iter contact = 4.208393e+09\n",
      "INFO:GTS.isc_modelling.contact_mechanics_biot:diff iter contact = 4.208393e+09\n",
      "INFO:GTS.isc_modelling.contact_mechanics_biot:diff init contact = 4.238915e+15\n",
      "INFO:GTS.isc_modelling.contact_mechanics_biot:diff init contact = 4.238915e+15\n",
      "INFO:GTS.isc_modelling.contact_mechanics_biot:diff iter scalar = 1.490066e+05\n",
      "INFO:GTS.isc_modelling.contact_mechanics_biot:diff iter scalar = 1.490066e+05\n",
      "INFO:GTS.isc_modelling.contact_mechanics_biot:diff init scalar = 1.965434e+16\n",
      "INFO:GTS.isc_modelling.contact_mechanics_biot:diff init scalar = 1.965434e+16\n",
      "INFO:GTS.isc_modelling.contact_mechanics_biot:u converged absolutely.\n",
      "INFO:GTS.isc_modelling.contact_mechanics_biot:u converged absolutely.\n",
      "INFO:GTS.isc_modelling.contact_mechanics_biot:pressure converged relatively\n",
      "INFO:GTS.isc_modelling.contact_mechanics_biot:pressure converged relatively\n",
      "INFO:GTS.isc_modelling.contact_mechanics_biot:Error in contact force is 9.927997e-07\n",
      "INFO:GTS.isc_modelling.contact_mechanics_biot:Error in contact force is 9.927997e-07\n",
      "INFO:GTS.isc_modelling.contact_mechanics_biot:Error in matrix displacement is 1.312972e-13\n",
      "INFO:GTS.isc_modelling.contact_mechanics_biot:Error in matrix displacement is 1.312972e-13\n",
      "INFO:GTS.isc_modelling.contact_mechanics_biot:Error in pressure is 7.581359e-12.\n",
      "INFO:GTS.isc_modelling.contact_mechanics_biot:Error in pressure is 7.581359e-12.\n",
      "INFO:GTS.isc_modelling.contact_mechanics_biot:Calling after_newton_convergence(<GTS.isc_modelling.contact_mechanics_biot.ContactMechanicsBiotISC object at 0x7f7e40601828>, array([-1.05484836e-01, -5.58909691e-02,  7.74135279e-03, ...,\n",
      "        6.05700627e-09,  1.81569533e-09,  4.96820494e-10]), [1.0, 0.0003461517161002651, 3.384371186096969e-05, 1.3129723542425223e-13], 3)\n",
      "INFO:GTS.isc_modelling.contact_mechanics_biot:Calling after_newton_convergence(<GTS.isc_modelling.contact_mechanics_biot.ContactMechanicsBiotISC object at 0x7f7e40601828>, array([-1.05484836e-01, -5.58909691e-02,  7.74135279e-03, ...,\n",
      "        6.05700627e-09,  1.81569533e-09,  4.96820494e-10]), [1.0, 0.0003461517161002651, 3.384371186096969e-05, 1.3129723542425223e-13], 3)\n",
      "INFO:GTS.isc_modelling.contact_mechanics_biot:Calling export_step(<GTS.isc_modelling.contact_mechanics_biot.ContactMechanicsBiotISC object at 0x7f7e40601828>)\n",
      "INFO:GTS.isc_modelling.contact_mechanics_biot:Calling export_step(<GTS.isc_modelling.contact_mechanics_biot.ContactMechanicsBiotISC object at 0x7f7e40601828>)\n",
      "/home/haakon/.local/lib/python3.7/site-packages/vtk/util/numpy_support.py:137: FutureWarning: Conversion of the second argument of issubdtype from `complex` to `np.complexfloating` is deprecated. In future, it will be treated as `np.complex128 == np.dtype(complex).type`.\n",
      "  assert not numpy.issubdtype(z.dtype, complex), \\\n",
      "INFO:GTS.isc_modelling.contact_mechanics_biot:'export_step' returned None\n",
      "INFO:GTS.isc_modelling.contact_mechanics_biot:'export_step' returned None\n",
      "INFO:GTS.isc_modelling.contact_mechanics_biot:'after_newton_convergence' returned None\n",
      "INFO:GTS.isc_modelling.contact_mechanics_biot:'after_newton_convergence' returned None\n",
      "INFO:GTS.isc_modelling.contact_mechanics_biot:Solution exported to folder \n",
      " /home/haakon/mastersproject/src/mastersproject/GTS/isc_modelling/results/200331/default/default_1\n",
      "INFO:GTS.isc_modelling.contact_mechanics_biot:Solution exported to folder \n",
      " /home/haakon/mastersproject/src/mastersproject/GTS/isc_modelling/results/200331/default/default_1\n",
      "INFO:GTS.isc_modelling.setup:Simulation complete. Exporting solution. Time: 2020-03-31T14:27:39+02:00\n",
      "INFO:GTS.isc_modelling.setup:Simulation complete. Exporting solution. Time: 2020-03-31T14:27:39+02:00\n"
     ]
    }
   ],
   "source": [
    "# Run the model\n",
    "setup = run_abstract_model(\n",
    "    model=model,\n",
    "    run_model_method=run_model_method,\n",
    "    params=params,\n",
    ")"
   ]
  },
  {
   "cell_type": "code",
   "execution_count": 4,
   "metadata": {},
   "outputs": [],
   "source": [
    "f = setup.gb.grids_of_dimension(2)[0]\n",
    "df = setup.gb.node_props(f)\n",
    "\n",
    "g = setup.gb.grids_of_dimension(3)[0]\n",
    "d = setup.gb.node_props(g)"
   ]
  },
  {
   "cell_type": "code",
   "execution_count": 5,
   "metadata": {},
   "outputs": [
    {
     "data": {
      "text/plain": [
       "array([98.48889702])"
      ]
     },
     "execution_count": 5,
     "metadata": {},
     "output_type": "execute_result"
    }
   ],
   "source": [
    "state=df['state']\n",
    "well = state['well']\n",
    "loc = np.where(well)[0]\n",
    "state['p_exp'][loc] / pp.MEGA"
   ]
  },
  {
   "cell_type": "code",
   "execution_count": 32,
   "metadata": {},
   "outputs": [
    {
     "data": {
      "text/plain": [
       "array([106.47070393])"
      ]
     },
     "execution_count": 32,
     "metadata": {},
     "output_type": "execute_result"
    }
   ],
   "source": [
    "state=df['state']\n",
    "well = state['well']\n",
    "loc = np.where(well)[0]\n",
    "state['p_exp'][loc] / pp.MEGA"
   ]
  },
  {
   "cell_type": "code",
   "execution_count": 36,
   "metadata": {},
   "outputs": [
    {
     "data": {
      "text/plain": [
       "array([98.48821998])"
      ]
     },
     "execution_count": 36,
     "metadata": {},
     "output_type": "execute_result"
    }
   ],
   "source": [
    "state=df['state']\n",
    "well = state['well']\n",
    "loc = np.where(well)[0]\n",
    "state['p_exp'][loc] / pp.MEGA"
   ]
  },
  {
   "cell_type": "code",
   "execution_count": 37,
   "metadata": {},
   "outputs": [
    {
     "data": {
      "text/plain": [
       "Grid bucket containing 2 grids:\n",
       "1 grids of dimension 3\n",
       "1 grids of dimension 2"
      ]
     },
     "execution_count": 37,
     "metadata": {},
     "output_type": "execute_result"
    }
   ],
   "source": [
    "setup.gb"
   ]
  },
  {
   "cell_type": "code",
   "execution_count": 44,
   "metadata": {},
   "outputs": [
    {
     "data": {
      "text/plain": [
       "array([ 4.40767671,  8.58911425,  8.81202665,  9.33535998,  9.59605464,\n",
       "       10.29953118, 10.32956062, 10.38993816, 10.54576518, 10.5848433 ,\n",
       "       10.64216312, 10.68274871, 10.71203841, 10.74731369, 10.75837069,\n",
       "       10.80083865, 10.80693201, 10.80974007, 10.86908971, 10.89234737,\n",
       "       10.94464609, 10.9707235 , 10.97463278, 11.00130669, 11.00272508,\n",
       "       11.05820776, 11.06385637, 11.06570477, 11.08943185, 11.09274676,\n",
       "       11.15605645, 11.17980071, 11.18157882, 11.19180413, 11.19406144,\n",
       "       11.19910787, 11.19938549, 11.20340204, 11.20909583, 11.27627384,\n",
       "       11.32844804, 11.33204887, 12.43846052, 98.48821998])"
      ]
     },
     "execution_count": 44,
     "metadata": {},
     "output_type": "execute_result"
    }
   ],
   "source": [
    "p_exp2 = state['p_exp'] / pp.MEGA\n",
    "np.sort(p_exp2)"
   ]
  },
  {
   "cell_type": "code",
   "execution_count": 47,
   "metadata": {},
   "outputs": [
    {
     "data": {
      "text/plain": [
       "array([11, 37])"
      ]
     },
     "execution_count": 47,
     "metadata": {},
     "output_type": "execute_result"
    }
   ],
   "source": [
    "# 3d Grid\n",
    "state3 = d['state']\n",
    "p_exp3 = state3['p_exp'] / pp.MEGA\n",
    "np.where(p_exp3>30)[0]"
   ]
  },
  {
   "cell_type": "code",
   "execution_count": 49,
   "metadata": {},
   "outputs": [
    {
     "data": {
      "text/plain": [
       "array([[ 44.32205995,  39.88655706],\n",
       "       [105.74178145, 111.58983313],\n",
       "       [ 12.2387516 ,  10.64923882]])"
      ]
     },
     "execution_count": 49,
     "metadata": {},
     "output_type": "execute_result"
    }
   ],
   "source": [
    "g.cell_centers[:, np.where(p_exp3>30)[0]] * .1"
   ]
  },
  {
   "cell_type": "code",
   "execution_count": 55,
   "metadata": {},
   "outputs": [
    {
     "data": {
      "text/plain": [
       "array([[ 403.06083064],\n",
       "       [1075.03563715],\n",
       "       [ 126.75489484]])"
      ]
     },
     "execution_count": 55,
     "metadata": {},
     "output_type": "execute_result"
    }
   ],
   "source": [
    "well = f.cell_centers[:, loc]\n",
    "well"
   ]
  },
  {
   "cell_type": "code",
   "execution_count": 56,
   "metadata": {},
   "outputs": [
    {
     "data": {
      "text/plain": [
       "(array([11]), array([44.07117768]))"
      ]
     },
     "execution_count": 56,
     "metadata": {},
     "output_type": "execute_result"
    }
   ],
   "source": [
    "ids, dsts = g.closest_cell(well, return_distance=True)\n",
    "(ids, dsts)"
   ]
  },
  {
   "cell_type": "code",
   "execution_count": null,
   "metadata": {},
   "outputs": [],
   "source": [
    "np.norm()"
   ]
  }
 ],
 "metadata": {
  "kernelspec": {
   "display_name": "Python 3",
   "language": "python",
   "name": "python3"
  },
  "language_info": {
   "codemirror_mode": {
    "name": "ipython",
    "version": 3
   },
   "file_extension": ".py",
   "mimetype": "text/x-python",
   "name": "python",
   "nbconvert_exporter": "python",
   "pygments_lexer": "ipython3",
   "version": "3.7.0"
  }
 },
 "nbformat": 4,
 "nbformat_minor": 4
}
