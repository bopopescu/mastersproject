{
 "cells": [
  {
   "cell_type": "code",
   "execution_count": 1,
   "metadata": {},
   "outputs": [
    {
     "name": "stderr",
     "output_type": "stream",
     "text": [
      "/home/haakon/porepy/src/porepy/viz/exporter.py:928: NumbaPerformanceWarning: \u001b[1m\u001b[1mnp.dot() is faster on contiguous arrays, called on (array(float64, 1d, A), array(float64, 1d, C))\u001b[0m\u001b[0m\n",
      "  angle = np.arccos(np.dot(normals[:, fi], reference))\n"
     ]
    }
   ],
   "source": [
    "import os\n",
    "import sys\n",
    "from pathlib import Path\n",
    "\n",
    "import pendulum\n",
    "import numpy as np\n",
    "import porepy as pp\n",
    "\n",
    "\n",
    "sys.path.extend([\n",
    "    '/home/haakon/mastersproject', \n",
    "    '/home/haakon/mastersproject/src/mastersproject'\n",
    "])\n",
    "\n",
    "import GTS as gts\n",
    "import GTS.test.util as test_util\n"
   ]
  },
  {
   "cell_type": "code",
   "execution_count": 2,
   "metadata": {},
   "outputs": [],
   "source": [
    "def setup_simple_gb(**kwargs):\n",
    "    \"\"\" Setup simple grid bucket\n",
    "    \n",
    "    Keyword arguments used for\n",
    "        length_scale,\n",
    "        scalar_scale,\n",
    "        path_tail (Default: \"test_1\"),\n",
    "        setup_loggers (Default: False),\n",
    "        \n",
    "    \"\"\"\n",
    "    length_scale = kwargs.get(\"length_scale\", 1)\n",
    "    scalar_scale = kwargs.get(\"scalar_scale\", 1)\n",
    "    \n",
    "    # Storage path details\n",
    "    path_tail = kwargs.get(\"path_tail\", \"test_1\")\n",
    "    name = \"test_parameter_scaling_on_regular_grid_ipynb\"\n",
    "    date = pendulum.now().format(\"YYMMDD\")\n",
    "    _folder_root = f\"{name}/{date}/{path_tail}/ss{scalar_scale}ls{length_scale}\"\n",
    "    \n",
    "    # Parameter setup\n",
    "    \n",
    "    # Size of domain - scaled by length scale.\n",
    "    physdims = np.array([10, 10, 10]) / length_scale\n",
    "\n",
    "    params = {\n",
    "            \"mesh_args\":\n",
    "                {None},\n",
    "            \"bounding_box\":\n",
    "                {\"xmin\": 0, \"xmax\": physdims[0],\n",
    "                 \"ymin\": 0, \"ymax\": physdims[1],\n",
    "                 \"zmin\": 0, \"zmax\": physdims[2],},\n",
    "            \"shearzone_names\":\n",
    "                [\"S1_1\"],\n",
    "            \"length_scale\":\n",
    "                length_scale,\n",
    "            \"scalar_scale\":\n",
    "                scalar_scale,\n",
    "        }\n",
    "    \n",
    "    setup_loggers = kwargs.get(\"setup_loggers\", False)\n",
    "\n",
    "    setup = test_util.prepare_setup(\n",
    "            model=gts.ContactMechanicsBiotISC,\n",
    "            path_head=_folder_root,\n",
    "            params=params,\n",
    "            prepare_simulation=False,\n",
    "            setup_loggers=setup_loggers,\n",
    "        )\n",
    "    \n",
    "    ### Set up simple grid bucket with one fracture ###\n",
    "    \n",
    "    # Grid is 2x2x2 cells, with a fracture in the lower middle part of the grid.\n",
    "    #  _ _\n",
    "    # |   |\n",
    "    # |_|_|\n",
    "\n",
    "    # Frac point coordinates, scaled by length scale\n",
    "    f_1 = np.array([\n",
    "        [5, 5, 5, 5],\n",
    "        [0, 0, 5, 5],\n",
    "        [0, 5, 5, 0]\n",
    "\n",
    "    ]) / length_scale\n",
    "    \n",
    "    # Number of cells in each dimension.\n",
    "    n_cells = np.array([2, 2, 2])\n",
    "\n",
    "    gb = pp.meshing.cart_grid(\n",
    "        fracs=[f_1],\n",
    "        nx=n_cells,\n",
    "        physdims=physdims,\n",
    "    )\n",
    "    \n",
    "    # Assign the simple grid to the grid bucket\n",
    "    setup.set_grid(gb)\n",
    "    \n",
    "    run_model = kwargs.get(\"run_model\", True)\n",
    "    if run_model:\n",
    "        nl_options = {}\n",
    "        pp.run_time_dependent_model(setup, nl_options)\n",
    "    \n",
    "    return setup"
   ]
  },
  {
   "cell_type": "markdown",
   "metadata": {},
   "source": [
    "# Run with unscaled variables\n",
    "I.e., the following (default) scalings apply:\\\n",
    "`length_scale = 1`\\\n",
    "`scalar_scale = 1`"
   ]
  },
  {
   "cell_type": "code",
   "execution_count": 3,
   "metadata": {},
   "outputs": [
    {
     "name": "stderr",
     "output_type": "stream",
     "text": [
      "No injection cell was tagged.\n",
      "/home/haakon/anaconda3/envs/porepy-safe/lib/python3.7/site-packages/vtk/util/numpy_support.py:137: FutureWarning: Conversion of the second argument of issubdtype from `complex` to `np.complexfloating` is deprecated. In future, it will be treated as `np.complex128 == np.dtype(complex).type`.\n",
      "  assert not numpy.issubdtype(z.dtype, complex), \\\n",
      "/home/haakon/anaconda3/envs/porepy-safe/lib/python3.7/site-packages/vtk/util/numpy_support.py:137: FutureWarning: Conversion of the second argument of issubdtype from `complex` to `np.complexfloating` is deprecated. In future, it will be treated as `np.complex128 == np.dtype(complex).type`.\n",
      "  assert not numpy.issubdtype(z.dtype, complex), \\\n"
     ]
    }
   ],
   "source": [
    "unscl = setup_simple_gb()"
   ]
  },
  {
   "cell_type": "markdown",
   "metadata": {},
   "source": [
    "# Next, re-run with scaled variables\n",
    "We apply the following scalings:\\\n",
    "`length_scale = 1`\\\n",
    "`scalar_scale = 1 * pp.MEGA`\n",
    "\n",
    "This isolates testing for the `scalar_scale`."
   ]
  },
  {
   "cell_type": "code",
   "execution_count": 4,
   "metadata": {},
   "outputs": [
    {
     "name": "stderr",
     "output_type": "stream",
     "text": [
      "WARNING:GTS.isc_modelling.contact_mechanics_biot:No injection cell was tagged.\n",
      "/home/haakon/anaconda3/envs/porepy-safe/lib/python3.7/site-packages/vtk/util/numpy_support.py:137: FutureWarning: Conversion of the second argument of issubdtype from `complex` to `np.complexfloating` is deprecated. In future, it will be treated as `np.complex128 == np.dtype(complex).type`.\n",
      "  assert not numpy.issubdtype(z.dtype, complex), \\\n",
      "/home/haakon/anaconda3/envs/porepy-safe/lib/python3.7/site-packages/vtk/util/numpy_support.py:137: FutureWarning: Conversion of the second argument of issubdtype from `complex` to `np.complexfloating` is deprecated. In future, it will be treated as `np.complex128 == np.dtype(complex).type`.\n",
      "  assert not numpy.issubdtype(z.dtype, complex), \\\n"
     ]
    }
   ],
   "source": [
    "scl = setup_simple_gb(\n",
    "    length_scale=1,\n",
    "    scalar_scale=1*pp.MEGA,\n",
    ")"
   ]
  },
  {
   "cell_type": "markdown",
   "metadata": {},
   "source": [
    "# Compare the results\n",
    "\n",
    "Recall, we only scale the pressure scale here"
   ]
  },
  {
   "cell_type": "code",
   "execution_count": 6,
   "metadata": {},
   "outputs": [],
   "source": [
    "def assert_solutions(scl, unscl, dim):\n",
    "    \"\"\" Assert that solutions scale correctly\n",
    "    \n",
    "    Parameters\n",
    "    ----------\n",
    "    scl, unscl : ContactMechanicsBiotISC\n",
    "        scaled and unscaled setups, respectively\n",
    "    dim : int\n",
    "        which grid dimension to extract solutions over\n",
    "    \"\"\"\n",
    "    \n",
    "    # Fetch the scalings\n",
    "    ls = scl.length_scale\n",
    "    ss = scl.scalar_scale\n",
    "    \n",
    "    # Grids\n",
    "    gb_scl = scl.gb\n",
    "    g_scl = gb_scl.grids_of_dimension(dim)[0]\n",
    "\n",
    "    gb_unscl = unscl.gb\n",
    "    g_unscl = gb_unscl.grids_of_dimension(dim)[0]\n",
    "\n",
    "    # Data\n",
    "    d_s = gb_scl.node_props(g_scl)\n",
    "    d_u = gb_unscl.node_props(g_unscl)\n",
    "\n",
    "    state_s = d_s['state']\n",
    "    state_u = d_u['state']\n",
    "\n",
    "    ### Assertions ###\n",
    "    # Assert that each geometric index corresponds to one another\n",
    "    assert np.allclose(\n",
    "        g_scl.cell_centers * ls, \n",
    "        g_unscl.cell_centers,\n",
    "    )\n",
    "    \n",
    "    ## Non-zero on all grids ##\n",
    "    # Assert that the pressure results are equal\n",
    "    assert np.allclose(\n",
    "        state_s['p'] * ss,\n",
    "        state_u['p'],\n",
    "    )\n",
    "    assert np.allclose(  # Assert that the exported results are upscaled correctly\n",
    "        state_s['p_exp'],\n",
    "        state_u['p_exp'],\n",
    "    )\n",
    "    \n",
    "    ## Relevant on matrix (Nd-grids) ##\n",
    "    # Assert that the displacement results are equal\n",
    "    if 'u' in state_s:\n",
    "        assert np.allclose(\n",
    "            state_s['u'] * ls,\n",
    "            state_u['u'],\n",
    "        )\n",
    "    assert np.allclose(  # Assert that the exported results are upscaled correctly\n",
    "        state_s['u_exp'],\n",
    "        state_u['u_exp'],\n",
    "    )\n",
    "    \n",
    "    ## Relevant on fractures (Nd-1 grids)\n",
    "    \n",
    "    # Normal and tangential fracture displacement (already upscaled)\n",
    "    assert np.allclose(\n",
    "        state_s['normal_frac_u'],\n",
    "        state_u['normal_frac_u'],\n",
    "    )\n",
    "    assert np.allclose(\n",
    "        state_s['tangential_frac_u'],\n",
    "        state_u['tangential_frac_u'],\n",
    "    )\n",
    "    \n",
    "    # Traction\n",
    "    assert np.allclose(\n",
    "        state_s['traction_exp'],\n",
    "        state_u['traction_exp'],\n",
    "    )  \n",
    "    "
   ]
  },
  {
   "cell_type": "code",
   "execution_count": 7,
   "metadata": {},
   "outputs": [
    {
     "ename": "AssertionError",
     "evalue": "",
     "output_type": "error",
     "traceback": [
      "\u001b[0;31m---------------------------------------------------------------------------\u001b[0m",
      "\u001b[0;31mAssertionError\u001b[0m                            Traceback (most recent call last)",
      "\u001b[0;32m<ipython-input-7-a5d9bf80dd97>\u001b[0m in \u001b[0;36m<module>\u001b[0;34m\u001b[0m\n\u001b[1;32m      3\u001b[0m \u001b[0;34m\u001b[0m\u001b[0m\n\u001b[1;32m      4\u001b[0m \u001b[0;31m## Assert solutions on 2D grid ##\u001b[0m\u001b[0;34m\u001b[0m\u001b[0;34m\u001b[0m\u001b[0;34m\u001b[0m\u001b[0m\n\u001b[0;32m----> 5\u001b[0;31m \u001b[0massert_solutions\u001b[0m\u001b[0;34m(\u001b[0m\u001b[0mscl\u001b[0m\u001b[0;34m,\u001b[0m \u001b[0munscl\u001b[0m\u001b[0;34m,\u001b[0m \u001b[0;36m2\u001b[0m\u001b[0;34m)\u001b[0m\u001b[0;34m\u001b[0m\u001b[0;34m\u001b[0m\u001b[0m\n\u001b[0m",
      "\u001b[0;32m<ipython-input-6-497829c817a1>\u001b[0m in \u001b[0;36massert_solutions\u001b[0;34m(scl, unscl, dim)\u001b[0m\n\u001b[1;32m     55\u001b[0m     assert np.allclose(  # Assert that the exported results are upscaled correctly\n\u001b[1;32m     56\u001b[0m         \u001b[0mstate_s\u001b[0m\u001b[0;34m[\u001b[0m\u001b[0;34m'u_exp'\u001b[0m\u001b[0;34m]\u001b[0m\u001b[0;34m,\u001b[0m\u001b[0;34m\u001b[0m\u001b[0;34m\u001b[0m\u001b[0m\n\u001b[0;32m---> 57\u001b[0;31m         \u001b[0mstate_u\u001b[0m\u001b[0;34m[\u001b[0m\u001b[0;34m'u_exp'\u001b[0m\u001b[0;34m]\u001b[0m\u001b[0;34m,\u001b[0m\u001b[0;34m\u001b[0m\u001b[0;34m\u001b[0m\u001b[0m\n\u001b[0m\u001b[1;32m     58\u001b[0m     )\n\u001b[1;32m     59\u001b[0m \u001b[0;34m\u001b[0m\u001b[0m\n",
      "\u001b[0;31mAssertionError\u001b[0m: "
     ]
    }
   ],
   "source": [
    "## Assert solutions on 3D grid ##\n",
    "assert_solutions(scl, unscl, 3)\n",
    "\n",
    "## Assert solutions on 2D grid ##\n",
    "assert_solutions(scl, unscl, 2)"
   ]
  },
  {
   "cell_type": "code",
   "execution_count": 8,
   "metadata": {},
   "outputs": [
    {
     "name": "stdout",
     "output_type": "stream",
     "text": [
      "> \u001b[0;32m<ipython-input-6-497829c817a1>\u001b[0m(57)\u001b[0;36massert_solutions\u001b[0;34m()\u001b[0m\n",
      "\u001b[0;32m     55 \u001b[0;31m    assert np.allclose(  # Assert that the exported results are upscaled correctly\n",
      "\u001b[0m\u001b[0;32m     56 \u001b[0;31m        \u001b[0mstate_s\u001b[0m\u001b[0;34m[\u001b[0m\u001b[0;34m'u_exp'\u001b[0m\u001b[0;34m]\u001b[0m\u001b[0;34m,\u001b[0m\u001b[0;34m\u001b[0m\u001b[0;34m\u001b[0m\u001b[0m\n",
      "\u001b[0m\u001b[0;32m---> 57 \u001b[0;31m        \u001b[0mstate_u\u001b[0m\u001b[0;34m[\u001b[0m\u001b[0;34m'u_exp'\u001b[0m\u001b[0;34m]\u001b[0m\u001b[0;34m,\u001b[0m\u001b[0;34m\u001b[0m\u001b[0;34m\u001b[0m\u001b[0m\n",
      "\u001b[0m\u001b[0;32m     58 \u001b[0;31m    )\n",
      "\u001b[0m\u001b[0;32m     59 \u001b[0;31m\u001b[0;34m\u001b[0m\u001b[0m\n",
      "\u001b[0m\n",
      "ipdb> state_s['u_exp']\n",
      "array([[0.00024465],\n",
      "       [0.00010413],\n",
      "       [0.        ]])\n",
      "ipdb> state_u['u_exp']\n",
      "array([[0.00019639],\n",
      "       [0.00017925],\n",
      "       [0.        ]])\n",
      "ipdb> q\n"
     ]
    }
   ],
   "source": [
    "%debug"
   ]
  },
  {
   "cell_type": "code",
   "execution_count": null,
   "metadata": {},
   "outputs": [
    {
     "name": "stdout",
     "output_type": "stream",
     "text": [
      "> \u001b[0;32m<ipython-input-6-497829c817a1>\u001b[0m(57)\u001b[0;36massert_solutions\u001b[0;34m()\u001b[0m\n",
      "\u001b[0;32m     55 \u001b[0;31m    assert np.allclose(  # Assert that the exported results are upscaled correctly\n",
      "\u001b[0m\u001b[0;32m     56 \u001b[0;31m        \u001b[0mstate_s\u001b[0m\u001b[0;34m[\u001b[0m\u001b[0;34m'u_exp'\u001b[0m\u001b[0;34m]\u001b[0m\u001b[0;34m,\u001b[0m\u001b[0;34m\u001b[0m\u001b[0;34m\u001b[0m\u001b[0m\n",
      "\u001b[0m\u001b[0;32m---> 57 \u001b[0;31m        \u001b[0mstate_u\u001b[0m\u001b[0;34m[\u001b[0m\u001b[0;34m'u_exp'\u001b[0m\u001b[0;34m]\u001b[0m\u001b[0;34m,\u001b[0m\u001b[0;34m\u001b[0m\u001b[0;34m\u001b[0m\u001b[0m\n",
      "\u001b[0m\u001b[0;32m     58 \u001b[0;31m    )\n",
      "\u001b[0m\u001b[0;32m     59 \u001b[0;31m\u001b[0;34m\u001b[0m\u001b[0m\n",
      "\u001b[0m\n",
      "ipdb> state_s['u']\n",
      "*** KeyError: 'u'\n"
     ]
    }
   ],
   "source": [
    "%debug"
   ]
  },
  {
   "cell_type": "code",
   "execution_count": null,
   "metadata": {},
   "outputs": [],
   "source": [
    "def assert_parameter_scaling(scl, unscl):\n",
    "    \"\"\" Check that all equation parameters are scaled correctly\"\"\"\n",
    "    \n",
    "    "
   ]
  },
  {
   "cell_type": "code",
   "execution_count": null,
   "metadata": {},
   "outputs": [],
   "source": []
  }
 ],
 "metadata": {
  "kernelspec": {
   "display_name": "Python 3",
   "language": "python",
   "name": "python3"
  },
  "language_info": {
   "codemirror_mode": {
    "name": "ipython",
    "version": 3
   },
   "file_extension": ".py",
   "mimetype": "text/x-python",
   "name": "python",
   "nbconvert_exporter": "python",
   "pygments_lexer": "ipython3",
   "version": "3.7.3"
  }
 },
 "nbformat": 4,
 "nbformat_minor": 2
}
