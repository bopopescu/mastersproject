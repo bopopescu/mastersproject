{
 "cells": [
  {
   "cell_type": "code",
   "execution_count": 1,
   "metadata": {},
   "outputs": [
    {
     "name": "stderr",
     "output_type": "stream",
     "text": [
      "/home/haakon/porepy/src/porepy/viz/exporter.py:928: NumbaPerformanceWarning: np.dot() is faster on contiguous arrays, called on (array(float64, 1d, A), array(float64, 1d, C))\n",
      "  angle = np.arccos(np.dot(normals[:, fi], reference))\n"
     ]
    }
   ],
   "source": [
    "import os\n",
    "import sys\n",
    "from pathlib import Path\n",
    "\n",
    "import pendulum\n",
    "import numpy as np\n",
    "import porepy as pp\n",
    "\n",
    "\n",
    "sys.path.extend([\n",
    "    '/home/haakon/mastersproject', \n",
    "    '/home/haakon/mastersproject/src/mastersproject'\n",
    "])\n",
    "\n",
    "import GTS as gts\n",
    "import GTS.test.util as test_util\n",
    "\n"
   ]
  },
  {
   "cell_type": "markdown",
   "metadata": {},
   "source": [
    "## Setup\n",
    "We consider a simple setup in 3D with one vertical fracture in the yz-plane.\n",
    "\n",
    "#### Scalar:\n",
    "* Boundary condition:\n",
    "    * Dirichlet: 0\n",
    "* Source terms:\n",
    "    * No source\n",
    "#### Mechanics:\n",
    "* Boundary condition:\n",
    "    *  \n",
    "* Source terms:\n",
    "    *"
   ]
  },
  {
   "cell_type": "code",
   "execution_count": 8,
   "metadata": {},
   "outputs": [],
   "source": [
    "def setup_simple_gb(**kwargs):\n",
    "    \"\"\" Setup simple grid bucket\n",
    "    \n",
    "    Keyword arguments used for\n",
    "        length_scale,\n",
    "        scalar_scale,\n",
    "        path_tail (Default: \"test_1\"),\n",
    "        setup_loggers (Default: False),\n",
    "        \n",
    "    \"\"\"\n",
    "    length_scale = kwargs.get(\"length_scale\", 1)\n",
    "    scalar_scale = kwargs.get(\"scalar_scale\", 1)\n",
    "    \n",
    "    # Storage path details\n",
    "    path_tail = kwargs.get(\"path_tail\", \"test_1\")\n",
    "    name = \"test_parameter_scaling_on_regular_grid_ipynb\"\n",
    "    date = pendulum.now().format(\"YYMMDD\")\n",
    "    _folder_root = f\"{name}/{date}/{path_tail}/ss{scalar_scale}ls{length_scale}\"\n",
    "    \n",
    "    # Parameter setup\n",
    "    \n",
    "    # Size of domain - scaled by length scale.\n",
    "    physdims = np.array([10, 10, 10]) / length_scale\n",
    "\n",
    "    params = {\n",
    "            \"mesh_args\":\n",
    "                {None},\n",
    "            \"bounding_box\":\n",
    "                {\"xmin\": 0, \"xmax\": physdims[0],\n",
    "                 \"ymin\": 0, \"ymax\": physdims[1],\n",
    "                 \"zmin\": 0, \"zmax\": physdims[2],},\n",
    "            \"shearzone_names\":\n",
    "                [\"S1_1\"],\n",
    "            \"length_scale\":\n",
    "                length_scale,\n",
    "            \"scalar_scale\":\n",
    "                scalar_scale,\n",
    "            # Turn of gravity effects:\n",
    "            \"_gravity_bc_p\": False,\n",
    "            \"_gravity_src\": False,\n",
    "            \"_gravity_bc\": False,\n",
    "        }\n",
    "    \n",
    "    setup_loggers = kwargs.get(\"setup_loggers\", False)\n",
    "\n",
    "    setup = test_util.prepare_setup(\n",
    "            model=gts.ContactMechanicsBiotISC,\n",
    "            path_head=_folder_root,\n",
    "            params=params,\n",
    "            prepare_simulation=False,\n",
    "            setup_loggers=setup_loggers,\n",
    "        )\n",
    "    \n",
    "    ### Set up simple grid bucket with one fracture ###\n",
    "    \n",
    "    # Grid is 2x2x2 cells, with a fracture in the lower middle part of the grid.\n",
    "    #  _ _\n",
    "    # |   |\n",
    "    # |_|_|\n",
    "\n",
    "    # Frac point coordinates, scaled by length scale\n",
    "    # The fracture lies in the yz-plane.\n",
    "    f_1 = np.array([\n",
    "        [5, 5, 5, 5],\n",
    "        [0, 0, 5, 5],\n",
    "        [0, 5, 5, 0]\n",
    "\n",
    "    ]) / length_scale\n",
    "    \n",
    "    # Number of cells in each dimension.\n",
    "    n_cells = np.array([2, 2, 2])\n",
    "\n",
    "    gb = pp.meshing.cart_grid(\n",
    "        fracs=[f_1],\n",
    "        nx=n_cells,\n",
    "        physdims=physdims,\n",
    "    )\n",
    "    \n",
    "    # Assign the simple grid to the grid bucket\n",
    "    setup.set_grid(gb)\n",
    "    \n",
    "    run_model = kwargs.get(\"run_model\", True)\n",
    "    if run_model:\n",
    "        nl_options = {\n",
    "            \"max_iterations\": 20,\n",
    "        }\n",
    "        pp.run_time_dependent_model(setup, nl_options)\n",
    "    \n",
    "    return setup"
   ]
  },
  {
   "cell_type": "markdown",
   "metadata": {},
   "source": [
    "# Run with unscaled variables\n",
    "I.e., the following (default) scalings apply:\\\n",
    "`length_scale = 1`\\\n",
    "`scalar_scale = 1`"
   ]
  },
  {
   "cell_type": "code",
   "execution_count": 9,
   "metadata": {
    "scrolled": true
   },
   "outputs": [
    {
     "name": "stderr",
     "output_type": "stream",
     "text": [
      "No injection cell was tagged.\n",
      "/home/haakon/.local/lib/python3.7/site-packages/vtk/util/numpy_support.py:137: FutureWarning: Conversion of the second argument of issubdtype from `complex` to `np.complexfloating` is deprecated. In future, it will be treated as `np.complex128 == np.dtype(complex).type`.\n",
      "  assert not numpy.issubdtype(z.dtype, complex), \\\n"
     ]
    }
   ],
   "source": [
    "unscl = setup_simple_gb()"
   ]
  },
  {
   "cell_type": "markdown",
   "metadata": {},
   "source": [
    "# Next, re-run with scaled variables\n",
    "We apply the following scalings:\\\n",
    "`length_scale = 1`\\\n",
    "`scalar_scale = 1 * pp.MEGA`\n",
    "\n",
    "This isolates testing for the `scalar_scale`."
   ]
  },
  {
   "cell_type": "code",
   "execution_count": 10,
   "metadata": {},
   "outputs": [
    {
     "name": "stderr",
     "output_type": "stream",
     "text": [
      "WARNING:GTS.isc_modelling.contact_mechanics_biot:No injection cell was tagged.\n",
      "/home/haakon/.local/lib/python3.7/site-packages/vtk/util/numpy_support.py:137: FutureWarning: Conversion of the second argument of issubdtype from `complex` to `np.complexfloating` is deprecated. In future, it will be treated as `np.complex128 == np.dtype(complex).type`.\n",
      "  assert not numpy.issubdtype(z.dtype, complex), \\\n"
     ]
    }
   ],
   "source": [
    "scl = setup_simple_gb(\n",
    "    length_scale=1,\n",
    "    scalar_scale=1*pp.MEGA,\n",
    ")"
   ]
  },
  {
   "cell_type": "markdown",
   "metadata": {},
   "source": [
    "# Compare the results\n",
    "\n",
    "Recall, we only scale the pressure scale here"
   ]
  },
  {
   "cell_type": "code",
   "execution_count": 11,
   "metadata": {},
   "outputs": [],
   "source": [
    "def assert_solutions(s1, s2, dim):\n",
    "    \"\"\" Assert that solutions scale correctly\n",
    "    \n",
    "    Parameters\n",
    "    ----------\n",
    "    s1, s2 : ContactMechanicsBiotISC\n",
    "        Setups\n",
    "    dim : int\n",
    "        which grid dimension to extract solutions over\n",
    "    \"\"\"\n",
    "    \n",
    "    def fetch_values_from_setup(s, dim):\n",
    "        # scales\n",
    "        ls = s.length_scale\n",
    "        ss = s.scalar_scale\n",
    "        # grids\n",
    "        gb = s.gb\n",
    "        g = gb.grids_of_dimension(dim)[0]\n",
    "        # data\n",
    "        d = gb.node_props(g)\n",
    "        state = d[pp.STATE]\n",
    "        \n",
    "        ### Quantities ###\n",
    "        cell_centers = g.cell_centers * ls\n",
    "        cell_volumes = g.cell_volumes * (ls)**dim\n",
    "        face_areas = g.face_areas * (ls)**(dim-1)\n",
    "        p = state['p'] * ss\n",
    "        p_exp = state['p_exp']\n",
    "        \n",
    "        Nd = s.Nd\n",
    "        # Matrix displacement\n",
    "        if dim == Nd:\n",
    "            u = state['u']\n",
    "            traction = state['traction_exp']\n",
    "            tangential_traction = traction[:-1, :]\n",
    "            normal_traction = traction[-1, :]\n",
    "        # Fracture displacement in global coordinates\n",
    "        elif dim == Nd - 1:\n",
    "            e, d_e = next(gb.edges())\n",
    "            # Displacement\n",
    "            mg = d_e['mortar_grid']\n",
    "            mortar_u = d_e['state']['mortar_u']\n",
    "            u = (mg.mortar_to_slave_avg(nd=Nd) \n",
    "                 * mg.sign_of_mortar_sides(nd=Nd)\n",
    "                 * mortar_u)\n",
    "            \n",
    "            # Traction\n",
    "            # recall: traction is represented in local coordinates directly.\n",
    "            proj = d_e['tangential_normal_projection']\n",
    "            proj.tangential_basis[:,:,0]\n",
    "            traction = d['state']['contact_traction']\n",
    "            tangential_traction_local = traction[:-1]\n",
    "            normal_traction = traction[-1]\n",
    "            tangential_traction = proj.tangential_basis[:,:,0].dot(tangential_traction_local)\n",
    "            # upscale the scaled result\n",
    "            normal_traction = normal_traction * ss * ls**(Nd-1)\n",
    "            tangential_traction = tangential_traction * ss * ls**(Nd-1)\n",
    "\n",
    "        u = u * ls\n",
    "        \n",
    "        return cell_centers, cell_volumes, face_areas, p, p_exp, u, normal_traction, tangential_traction\n",
    "    \n",
    "    (cell_centers1, cell_volumes1, face_areas1, p1, p_exp1, u1, \n",
    "     normal_traction1, tangential_traction1) = fetch_values_from_setup(s1, dim)\n",
    "    \n",
    "    (cell_centers2, cell_volumes2, face_areas2, p2, p_exp2, u2, \n",
    "     normal_traction2, tangential_traction2) = fetch_values_from_setup(s2, dim)\n",
    "\n",
    "    ### Assertions ###\n",
    "    # Assert that each geometric index corresponds to one another\n",
    "    assert np.allclose(cell_centers1, cell_centers2)\n",
    "    \n",
    "    # Assert that all volumes and areas are the same\n",
    "    assert np.allclose(cell_volumes1, cell_volumes2)\n",
    "    assert np.allclose(face_areas1, face_areas2)\n",
    "    \n",
    "    ## Non-zero on all grids ##\n",
    "    # Assert that the pressure results are equal\n",
    "    p_true = np.allclose(p1, p2)\n",
    "#     assert p_true\n",
    "    print(f\"p: {p_true}\")\n",
    "    \n",
    "    # Assert that the exported results are upscaled correctly\n",
    "    p_exp_true = np.allclose(p_exp1, p_exp2)\n",
    "#     assert p_exp_true\n",
    "    print(f\"p_exp: {p_exp_true}\")\n",
    "    \n",
    "    # Assert that the displacement results are equal\n",
    "    u_true = np.allclose(u1, u2)\n",
    "#     assert u_true\n",
    "    print(f\"u: {u_true}\")\n",
    "\n",
    "\n",
    "    # Traction\n",
    "    n_traction_true = np.allclose(normal_traction1, normal_traction2)\n",
    "#     assert n_traction_true\n",
    "    print(f\"normal_traction: {n_traction_true}\")\n",
    "    t_traction_true = np.allclose(tangential_traction1, tangential_traction2)\n",
    "#     assert t_traction_true\n",
    "    print(f\"tangential_traction: {t_traction_true}\")\n",
    "    \n",
    "    assert p_true and p_exp_true and u_true and n_traction_true and t_traction_true"
   ]
  },
  {
   "cell_type": "code",
   "execution_count": 12,
   "metadata": {
    "scrolled": true
   },
   "outputs": [
    {
     "name": "stdout",
     "output_type": "stream",
     "text": [
      "p: True\n",
      "p_exp: True\n",
      "u: True\n",
      "normal_traction: True\n",
      "tangential_traction: True\n",
      "p: True\n",
      "p_exp: True\n",
      "u: True\n",
      "normal_traction: True\n",
      "tangential_traction: True\n"
     ]
    }
   ],
   "source": [
    "# ONLY SCALAR SCALE\n",
    "\n",
    "## Assert solutions on 3D grid ##\n",
    "assert_solutions(scl, unscl, 3)\n",
    "\n",
    "## Assert solutions on 2D grid ##\n",
    "assert_solutions(scl, unscl, 2)"
   ]
  },
  {
   "cell_type": "code",
   "execution_count": 84,
   "metadata": {},
   "outputs": [],
   "source": [
    "def check_parameter_scaling(s1, s2, dim):\n",
    "    \"\"\" Test parameter scaling for two setups\"\"\"\n",
    "    \n",
    "    def fetch_values_from_setup(s, dim):\n",
    "        # scales\n",
    "        ls = s.length_scale\n",
    "        ss = s.scalar_scale\n",
    "        # grids\n",
    "        gb = s.gb\n",
    "        g = gb.grids_of_dimension(dim)[0]\n",
    "        # data\n",
    "        data = gb.node_props(g)\n",
    "        params_u = data['parameters']['mechanics']\n",
    "        params_p = data['parameters']['flow']\n",
    "        \n",
    "        neu_p = params_p['bc'].is_neu\n",
    "        dir_p = params_p['bc'].is_dir\n",
    "        \n",
    "        # Compute unscaled quantities: \n",
    "        # MECHANICS\n",
    "        if dim == s.Nd: # On rock matrix\n",
    "            neu_u = (params_u['bc'].is_neu).ravel(order='F')\n",
    "            dir_u = (params_u['bc'].is_dir).ravel(order='F')\n",
    "            mech = {\n",
    "                'bc_values': {\n",
    "                    'dir': params_u['bc_values'][dir_u].reshape((3, -1), order='F') * ls, # [L]\n",
    "                    'neu': params_u['bc_values'][neu_u].reshape((3, -1), order='F') * ss * ls**(dim-1), # [P L^(dim-1)]\n",
    "                },\n",
    "                'source':\n",
    "                    params_u['source'] * ss * ls**(dim-1), # [P L^(dim-1)]\n",
    "                'biot_alpha': # [ ]\n",
    "                    params_u['biot_alpha'], \n",
    "                'mu':\n",
    "                    params_u['fourth_order_tensor'].mu * ss, # [P]\n",
    "                'lambda':\n",
    "                    params_u['fourth_order_tensor'].lmbda * ss, # [P]\n",
    "            }\n",
    "        elif dim == s.Nd-1: # On fracture\n",
    "            mech = params_u # We're only interested in the friction coefficient\n",
    "        \n",
    "        # FLOW\n",
    "        flow = {\n",
    "            'bc_values': {\n",
    "                'dir': params_p['bc_values'][dir_p] * ss, # [P]\n",
    "                'neu': params_p['bc_values'][neu_p] * ls**dim, # [L^(dim)]\n",
    "            },\n",
    "            'mass_weight':  \n",
    "                params_p['mass_weight'] / ss,  # [1/P]\n",
    "            'source':\n",
    "                params_p['source'] * ls**dim, # [L^(dim)]\n",
    "            'biot_alpha': # [ ]\n",
    "                params_p['biot_alpha'],\n",
    "            'kxx':\n",
    "                params_p['second_order_tensor'].values[0, 0, :] * ls**2 / ss, #k/mu: [L^2 / P]\n",
    "        }\n",
    "        return mech, flow\n",
    "    \n",
    "    mech1, flow1 = fetch_values_from_setup(s1, dim)\n",
    "    mech2, flow2 = fetch_values_from_setup(s2, dim)\n",
    "    \n",
    "    # -- ASSERTIONS --\n",
    "    # Mechanics\n",
    "    if dim == s1.Nd:\n",
    "        # BC:\n",
    "        assert np.allclose(mech1['bc_values']['dir'], mech2['bc_values']['dir'])\n",
    "        assert np.allclose(mech1['bc_values']['neu'], mech2['bc_values']['neu'])\n",
    "        # Source\n",
    "        assert np.allclose(mech1['source'], mech2['source'])\n",
    "        # Physical parameters\n",
    "        assert np.allclose(mech1['biot_alpha'], mech2['biot_alpha'])\n",
    "        assert np.allclose(mech1['mu'], mech2['mu'])\n",
    "        assert np.allclose(mech1['lambda'], mech2['lambda'])\n",
    "    elif dim == s1.Nd-1:\n",
    "        assert np.allclose(mech1['friction_coefficient'], mech2['friction_coefficient'])\n",
    "    \n",
    "    # Flow\n",
    "    # BC:\n",
    "    assert np.allclose(flow1['bc_values']['dir'], flow2['bc_values']['dir'])\n",
    "    assert np.allclose(flow1['bc_values']['neu'], flow2['bc_values']['neu'])\n",
    "    # Source\n",
    "    assert np.allclose(flow1['source'], flow2['source'])\n",
    "    # Physical parameters\n",
    "    assert np.allclose(flow1['biot_alpha'], flow2['biot_alpha'])\n",
    "    assert np.allclose(flow1['kxx'], flow2['kxx'])\n",
    "    \n",
    "def check_mortar_parameter_scaling(s1, s2):\n",
    "    def fetch_values_from_setup(s, dim):\n",
    "        # scales\n",
    "        ls = s.length_scale\n",
    "        ss = s.scalar_scale\n",
    "        # grids\n",
    "        gb = s.gb\n",
    "        \n",
    "        for e, d in gb.edges():\n",
    "            k = d['parameters']['flow']['normal_diffusivity']"
   ]
  },
  {
   "cell_type": "code",
   "execution_count": 85,
   "metadata": {},
   "outputs": [],
   "source": [
    "check_mortar_parameter_scaling(scl, unscl)"
   ]
  },
  {
   "cell_type": "code",
   "execution_count": 120,
   "metadata": {},
   "outputs": [
    {
     "name": "stdout",
     "output_type": "stream",
     "text": [
      "[[-243887.11514382       0.        ]\n",
      " [      0.         -243887.11514382]]\n"
     ]
    }
   ],
   "source": [
    "for e, d in scl.gb.edges():\n",
    "    print(d['discretization_matrices']['flow']['Robin_discr'].toarray() * scl.scalar_scale**2)\n",
    "    d=d"
   ]
  },
  {
   "cell_type": "code",
   "execution_count": 113,
   "metadata": {},
   "outputs": [
    {
     "data": {
      "text/plain": [
       "array([[-2.43887115e-07,  0.00000000e+00],\n",
       "       [ 0.00000000e+00, -2.43887115e-07]])"
      ]
     },
     "execution_count": 113,
     "metadata": {},
     "output_type": "execute_result"
    }
   ],
   "source": [
    "d['discretization_matrices']['flow']['Robin_discr'].toarray()"
   ]
  },
  {
   "cell_type": "code",
   "execution_count": 118,
   "metadata": {},
   "outputs": [
    {
     "name": "stdout",
     "output_type": "stream",
     "text": [
      "[[-243887.11514382       0.        ]\n",
      " [      0.         -243887.11514382]]\n"
     ]
    }
   ],
   "source": [
    "for e, d in unscl.gb.edges():\n",
    "    print(d['discretization_matrices']['flow']['Robin_discr'].toarray())"
   ]
  },
  {
   "cell_type": "code",
   "execution_count": 102,
   "metadata": {},
   "outputs": [
    {
     "data": {
      "text/plain": [
       "array([6.14713941e-11, 6.95372972e-11])"
      ]
     },
     "execution_count": 102,
     "metadata": {},
     "output_type": "execute_result"
    }
   ],
   "source": [
    "d['state']['mortar_p']"
   ]
  },
  {
   "cell_type": "code",
   "execution_count": 95,
   "metadata": {},
   "outputs": [
    {
     "data": {
      "text/plain": [
       "array([164010.3044247, 164010.3044247])"
      ]
     },
     "execution_count": 95,
     "metadata": {},
     "output_type": "execute_result"
    }
   ],
   "source": [
    "d['parameters']['flow']['normal_diffusivity']"
   ]
  },
  {
   "cell_type": "code",
   "execution_count": 44,
   "metadata": {},
   "outputs": [],
   "source": [
    "# ONLY SCALAR SCALE\n",
    "\n",
    "## Assert parameters on 3D grid ##\n",
    "check_parameter_scaling(scl, unscl, 3)\n",
    "\n",
    "## Assert parameters on 2D grid ##\n",
    "check_parameter_scaling(scl, unscl, 2)"
   ]
  },
  {
   "cell_type": "markdown",
   "metadata": {},
   "source": [
    "### Sjekk slip i globale koordinater!\n",
    "\n",
    "* Sjekk med mindre skalering (1e8, 1e6)\n",
    "* Introduser lengdeskalering\n",
    "\n",
    "\n",
    "* Du kan regne ut analytisk om du vil ha slip\n",
    "Hvilke skjærkrefter har du. Bruk MC for å regne om du får slip.\n",
    "\n",
    "Du kan regne betingelser for å akkurat ha slip eller akkurat ikke ha slip.\n",
    "\n",
    "Rotasjon av stress kan gjøre at vi får slip."
   ]
  },
  {
   "cell_type": "markdown",
   "metadata": {},
   "source": [
    "# What do we observe?\n",
    "We observe that the displacement of the fracture for each of the runs is different. Not but a big amount, but still different. We investigate reasons why this can be.\n",
    "\n",
    "1. The numerical parameter `c` (`contact_mechanics_numerical_parameter`) may have units, and therefore influence the results. We first investigate how this parameter is used.\n",
    "\n",
    "In the code, `c` is used in `contact_conditions.py`. \n",
    "It is used to compute the friction bound in the following way:\n",
    "```\n",
    "friction_bound = (\n",
    "    friction_coefficient * np.clip(\n",
    "        - contact_force_normal \n",
    "        + c_num_normal * displacement_jump_normal, \n",
    "    0, np.inf) \n",
    "    + scaled_cohesion\n",
    "```\n",
    "\n",
    "where `friction_coefficient` is the assigned (unitless) friction coefficient, `np.clip` is in this instance a function that clips and output of the inner expression in the range `[0, +inf]`; `contact_force_normal` is the normal contact force from the previous iteration (hence, it is scaled) and has units `[Pa m2]` (tractions are scaled with area, according to the code); `c_num_normal` is the product `c_num * mean_constit * area` where `c_num` the numerical parameter `c`, `mean_constit` is the average of `mu` and `lambda` (`[Pa]`, scaled Lame parameters) mapped from the nearest grid cell to internal boundary the mortar grid to the fracture (by averaging), `area` `[m2]` is the scaled area of the fracture cell; `displacement_jump_normal` `[m]` is the fracture displacement normal dilation; `scaled_cohesion` is the `cohesion` (0 by default) multiplied with fracture area `[m2]`."
   ]
  },
  {
   "cell_type": "markdown",
   "metadata": {},
   "source": [
    "------------\n",
    "# Compare moderately scaled solutions\n",
    "We apply the following scalings:\\\n",
    "`length_scale = 1`\\\n",
    "`scalar_scale = 1e5`\n",
    "\n",
    "We aim to compare the solutions with scalar scale 1e5 and 1e6. Hopefully these should be very similar."
   ]
  },
  {
   "cell_type": "code",
   "execution_count": 45,
   "metadata": {
    "scrolled": true
   },
   "outputs": [
    {
     "name": "stderr",
     "output_type": "stream",
     "text": [
      "WARNING:GTS.isc_modelling.contact_mechanics_biot:No injection cell was tagged.\n",
      "/home/haakon/.local/lib/python3.7/site-packages/vtk/util/numpy_support.py:137: FutureWarning: Conversion of the second argument of issubdtype from `complex` to `np.complexfloating` is deprecated. In future, it will be treated as `np.complex128 == np.dtype(complex).type`.\n",
      "  assert not numpy.issubdtype(z.dtype, complex), \\\n"
     ]
    }
   ],
   "source": [
    "scl_mod = setup_simple_gb(\n",
    "    length_scale=1,\n",
    "    scalar_scale=1e6,\n",
    ")"
   ]
  },
  {
   "cell_type": "code",
   "execution_count": 47,
   "metadata": {},
   "outputs": [
    {
     "name": "stdout",
     "output_type": "stream",
     "text": [
      "dim: 3\n",
      "p: True\n",
      "p_exp: True\n",
      "u: True\n",
      "normal_traction: True\n",
      "tangential_traction: True\n",
      "dim: 2\n",
      "p: True\n",
      "p_exp: True\n",
      "u: True\n",
      "normal_traction: True\n",
      "tangential_traction: True\n"
     ]
    }
   ],
   "source": [
    "# ONLY SCALAR SCALE\n",
    "\n",
    "## Assert solutions on 3D grid ##\n",
    "print(\"dim: 3\")\n",
    "assert_solutions(scl, scl_mod, 3)\n",
    "\n",
    "## Assert solutions on 2D grid ##\n",
    "print(\"dim: 2\")\n",
    "assert_solutions(scl, scl_mod, 2)"
   ]
  },
  {
   "cell_type": "code",
   "execution_count": 46,
   "metadata": {},
   "outputs": [],
   "source": [
    "## Assert parameters on 3D grid ##\n",
    "check_parameter_scaling(scl, scl_mod, 3)\n",
    "\n",
    "## Assert parameters on 2D grid ##\n",
    "check_parameter_scaling(scl, scl_mod, 2)"
   ]
  },
  {
   "cell_type": "markdown",
   "metadata": {},
   "source": [
    "------------\n",
    "# Apply length scale in addition\n",
    "We apply the following scalings:\\\n",
    "`length_scale = 100`\\\n",
    "`scalar_scale = pp.MEGA`"
   ]
  },
  {
   "cell_type": "code",
   "execution_count": 48,
   "metadata": {
    "scrolled": true
   },
   "outputs": [
    {
     "name": "stderr",
     "output_type": "stream",
     "text": [
      "WARNING:GTS.isc_modelling.contact_mechanics_biot:No injection cell was tagged.\n",
      "/home/haakon/.local/lib/python3.7/site-packages/vtk/util/numpy_support.py:137: FutureWarning: Conversion of the second argument of issubdtype from `complex` to `np.complexfloating` is deprecated. In future, it will be treated as `np.complex128 == np.dtype(complex).type`.\n",
      "  assert not numpy.issubdtype(z.dtype, complex), \\\n"
     ]
    }
   ],
   "source": [
    "scl_l1 = setup_simple_gb(\n",
    "    length_scale=.1,\n",
    "    scalar_scale=pp.MEGA,\n",
    ")"
   ]
  },
  {
   "cell_type": "code",
   "execution_count": 49,
   "metadata": {
    "scrolled": true
   },
   "outputs": [
    {
     "name": "stderr",
     "output_type": "stream",
     "text": [
      "WARNING:GTS.isc_modelling.contact_mechanics_biot:No injection cell was tagged.\n",
      "/home/haakon/.local/lib/python3.7/site-packages/vtk/util/numpy_support.py:137: FutureWarning: Conversion of the second argument of issubdtype from `complex` to `np.complexfloating` is deprecated. In future, it will be treated as `np.complex128 == np.dtype(complex).type`.\n",
      "  assert not numpy.issubdtype(z.dtype, complex), \\\n"
     ]
    }
   ],
   "source": [
    "scl_l2 = setup_simple_gb(\n",
    "    length_scale=.01,\n",
    "    scalar_scale=pp.MEGA,\n",
    ")"
   ]
  },
  {
   "cell_type": "code",
   "execution_count": 50,
   "metadata": {},
   "outputs": [],
   "source": [
    "## Assert parameters on 3D grid ##\n",
    "check_parameter_scaling(scl_l1, scl_l2, 3)\n",
    "\n",
    "## Assert parameters on 2D grid ##\n",
    "check_parameter_scaling(scl_l1, scl_l2, 2)"
   ]
  },
  {
   "cell_type": "code",
   "execution_count": 51,
   "metadata": {},
   "outputs": [
    {
     "name": "stdout",
     "output_type": "stream",
     "text": [
      "p: False\n",
      "p_exp: False\n",
      "u: False\n",
      "normal_traction: True\n",
      "tangential_traction: True\n"
     ]
    },
    {
     "ename": "AssertionError",
     "evalue": "",
     "output_type": "error",
     "traceback": [
      "\u001b[0;31m---------------------------------------------------------------------------\u001b[0m",
      "\u001b[0;31mAssertionError\u001b[0m                            Traceback (most recent call last)",
      "\u001b[0;32m<ipython-input-51-76c876b274fe>\u001b[0m in \u001b[0;36m<module>\u001b[0;34m\u001b[0m\n\u001b[1;32m      1\u001b[0m \u001b[0;31m## Assert solutions on 3D grid ##\u001b[0m\u001b[0;34m\u001b[0m\u001b[0;34m\u001b[0m\u001b[0m\n\u001b[0;32m----> 2\u001b[0;31m \u001b[0massert_solutions\u001b[0m\u001b[0;34m(\u001b[0m\u001b[0mscl_l1\u001b[0m\u001b[0;34m,\u001b[0m \u001b[0mscl_l2\u001b[0m\u001b[0;34m,\u001b[0m \u001b[0;36m3\u001b[0m\u001b[0;34m)\u001b[0m\u001b[0;34m\u001b[0m\u001b[0m\n\u001b[0m",
      "\u001b[0;32m<ipython-input-11-053b18d4a322>\u001b[0m in \u001b[0;36massert_solutions\u001b[0;34m(s1, s2, dim)\u001b[0m\n\u001b[1;32m    100\u001b[0m     \u001b[0mprint\u001b[0m\u001b[0;34m(\u001b[0m\u001b[0;34mf\"tangential_traction: {t_traction_true}\"\u001b[0m\u001b[0;34m)\u001b[0m\u001b[0;34m\u001b[0m\u001b[0m\n\u001b[1;32m    101\u001b[0m \u001b[0;34m\u001b[0m\u001b[0m\n\u001b[0;32m--> 102\u001b[0;31m     \u001b[0;32massert\u001b[0m \u001b[0mp_true\u001b[0m \u001b[0;32mand\u001b[0m \u001b[0mp_exp_true\u001b[0m \u001b[0;32mand\u001b[0m \u001b[0mu_true\u001b[0m \u001b[0;32mand\u001b[0m \u001b[0mn_traction_true\u001b[0m \u001b[0;32mand\u001b[0m \u001b[0mt_traction_true\u001b[0m\u001b[0;34m\u001b[0m\u001b[0m\n\u001b[0m",
      "\u001b[0;31mAssertionError\u001b[0m: "
     ]
    }
   ],
   "source": [
    "## Assert solutions on 3D grid ##\n",
    "assert_solutions(scl_l1, scl_l2, 3)"
   ]
  },
  {
   "cell_type": "code",
   "execution_count": 52,
   "metadata": {},
   "outputs": [
    {
     "name": "stdout",
     "output_type": "stream",
     "text": [
      "> \u001b[0;32m<ipython-input-11-053b18d4a322>\u001b[0m(102)\u001b[0;36massert_solutions\u001b[0;34m()\u001b[0m\n",
      "\u001b[0;32m     98 \u001b[0;31m    \u001b[0mt_traction_true\u001b[0m \u001b[0;34m=\u001b[0m \u001b[0mnp\u001b[0m\u001b[0;34m.\u001b[0m\u001b[0mallclose\u001b[0m\u001b[0;34m(\u001b[0m\u001b[0mtangential_traction1\u001b[0m\u001b[0;34m,\u001b[0m \u001b[0mtangential_traction2\u001b[0m\u001b[0;34m)\u001b[0m\u001b[0;34m\u001b[0m\u001b[0m\n",
      "\u001b[0m\u001b[0;32m     99 \u001b[0;31m\u001b[0;31m#     assert t_traction_true\u001b[0m\u001b[0;34m\u001b[0m\u001b[0;34m\u001b[0m\u001b[0m\n",
      "\u001b[0m\u001b[0;32m    100 \u001b[0;31m    \u001b[0mprint\u001b[0m\u001b[0;34m(\u001b[0m\u001b[0;34mf\"tangential_traction: {t_traction_true}\"\u001b[0m\u001b[0;34m)\u001b[0m\u001b[0;34m\u001b[0m\u001b[0m\n",
      "\u001b[0m\u001b[0;32m    101 \u001b[0;31m\u001b[0;34m\u001b[0m\u001b[0m\n",
      "\u001b[0m\u001b[0;32m--> 102 \u001b[0;31m    \u001b[0;32massert\u001b[0m \u001b[0mp_true\u001b[0m \u001b[0;32mand\u001b[0m \u001b[0mp_exp_true\u001b[0m \u001b[0;32mand\u001b[0m \u001b[0mu_true\u001b[0m \u001b[0;32mand\u001b[0m \u001b[0mn_traction_true\u001b[0m \u001b[0;32mand\u001b[0m \u001b[0mt_traction_true\u001b[0m\u001b[0;34m\u001b[0m\u001b[0m\n",
      "\u001b[0m\n",
      "ipdb> (p1-p2)\n",
      "array([  9509.43203906, -79935.6754485 ,  22552.47472484,  18491.05820819,\n",
      "        39356.48409328, -55076.15488598,   3629.70316187,   9535.34945661])\n",
      "ipdb> (p1-p2)/p2\n",
      "array([ 0.00133404, -0.01243743,  0.0031233 ,  0.00273505,  0.00636189,\n",
      "       -0.00875856,  0.00058205,  0.00154501])\n",
      "ipdb> q\n"
     ]
    }
   ],
   "source": [
    "# We observe discreprancies \n",
    "%debug"
   ]
  },
  {
   "cell_type": "code",
   "execution_count": 53,
   "metadata": {
    "scrolled": true
   },
   "outputs": [
    {
     "name": "stdout",
     "output_type": "stream",
     "text": [
      "p: False\n",
      "p_exp: False\n",
      "u: False\n",
      "normal_traction: False\n",
      "tangential_traction: False\n"
     ]
    },
    {
     "ename": "AssertionError",
     "evalue": "",
     "output_type": "error",
     "traceback": [
      "\u001b[0;31m---------------------------------------------------------------------------\u001b[0m",
      "\u001b[0;31mAssertionError\u001b[0m                            Traceback (most recent call last)",
      "\u001b[0;32m<ipython-input-53-8305a334246b>\u001b[0m in \u001b[0;36m<module>\u001b[0;34m\u001b[0m\n\u001b[1;32m      1\u001b[0m \u001b[0;31m## Assert solutions on 2D grid ##\u001b[0m\u001b[0;34m\u001b[0m\u001b[0;34m\u001b[0m\u001b[0m\n\u001b[0;32m----> 2\u001b[0;31m \u001b[0massert_solutions\u001b[0m\u001b[0;34m(\u001b[0m\u001b[0mscl_l1\u001b[0m\u001b[0;34m,\u001b[0m \u001b[0mscl_l2\u001b[0m\u001b[0;34m,\u001b[0m \u001b[0;36m2\u001b[0m\u001b[0;34m)\u001b[0m\u001b[0;34m\u001b[0m\u001b[0m\n\u001b[0m",
      "\u001b[0;32m<ipython-input-11-053b18d4a322>\u001b[0m in \u001b[0;36massert_solutions\u001b[0;34m(s1, s2, dim)\u001b[0m\n\u001b[1;32m    100\u001b[0m     \u001b[0mprint\u001b[0m\u001b[0;34m(\u001b[0m\u001b[0;34mf\"tangential_traction: {t_traction_true}\"\u001b[0m\u001b[0;34m)\u001b[0m\u001b[0;34m\u001b[0m\u001b[0m\n\u001b[1;32m    101\u001b[0m \u001b[0;34m\u001b[0m\u001b[0m\n\u001b[0;32m--> 102\u001b[0;31m     \u001b[0;32massert\u001b[0m \u001b[0mp_true\u001b[0m \u001b[0;32mand\u001b[0m \u001b[0mp_exp_true\u001b[0m \u001b[0;32mand\u001b[0m \u001b[0mu_true\u001b[0m \u001b[0;32mand\u001b[0m \u001b[0mn_traction_true\u001b[0m \u001b[0;32mand\u001b[0m \u001b[0mt_traction_true\u001b[0m\u001b[0;34m\u001b[0m\u001b[0m\n\u001b[0m",
      "\u001b[0;31mAssertionError\u001b[0m: "
     ]
    }
   ],
   "source": [
    "## Assert solutions on 2D grid ##\n",
    "assert_solutions(scl_l1, scl_l2, 2)"
   ]
  },
  {
   "cell_type": "code",
   "execution_count": 54,
   "metadata": {},
   "outputs": [
    {
     "name": "stdout",
     "output_type": "stream",
     "text": [
      "> \u001b[0;32m<ipython-input-11-053b18d4a322>\u001b[0m(102)\u001b[0;36massert_solutions\u001b[0;34m()\u001b[0m\n",
      "\u001b[0;32m     98 \u001b[0;31m    \u001b[0mt_traction_true\u001b[0m \u001b[0;34m=\u001b[0m \u001b[0mnp\u001b[0m\u001b[0;34m.\u001b[0m\u001b[0mallclose\u001b[0m\u001b[0;34m(\u001b[0m\u001b[0mtangential_traction1\u001b[0m\u001b[0;34m,\u001b[0m \u001b[0mtangential_traction2\u001b[0m\u001b[0;34m)\u001b[0m\u001b[0;34m\u001b[0m\u001b[0m\n",
      "\u001b[0m\u001b[0;32m     99 \u001b[0;31m\u001b[0;31m#     assert t_traction_true\u001b[0m\u001b[0;34m\u001b[0m\u001b[0;34m\u001b[0m\u001b[0m\n",
      "\u001b[0m\u001b[0;32m    100 \u001b[0;31m    \u001b[0mprint\u001b[0m\u001b[0;34m(\u001b[0m\u001b[0;34mf\"tangential_traction: {t_traction_true}\"\u001b[0m\u001b[0;34m)\u001b[0m\u001b[0;34m\u001b[0m\u001b[0m\n",
      "\u001b[0m\u001b[0;32m    101 \u001b[0;31m\u001b[0;34m\u001b[0m\u001b[0m\n",
      "\u001b[0m\u001b[0;32m--> 102 \u001b[0;31m    \u001b[0;32massert\u001b[0m \u001b[0mp_true\u001b[0m \u001b[0;32mand\u001b[0m \u001b[0mp_exp_true\u001b[0m \u001b[0;32mand\u001b[0m \u001b[0mu_true\u001b[0m \u001b[0;32mand\u001b[0m \u001b[0mn_traction_true\u001b[0m \u001b[0;32mand\u001b[0m \u001b[0mt_traction_true\u001b[0m\u001b[0;34m\u001b[0m\u001b[0m\n",
      "\u001b[0m\n",
      "ipdb> (p1-p2)/p2\n",
      "array([-0.60207816])\n",
      "ipdb> (tangential_traction1-tangential_traction2)/tangential_traction1\n"
     ]
    },
    {
     "name": "stderr",
     "output_type": "stream",
     "text": [
      "/home/haakon/anaconda3/envs/pore/lib/python3.7/site-packages/ipykernel_launcher.py:1: RuntimeWarning: invalid value encountered in true_divide\n",
      "  \"\"\"Entry point for launching an IPython kernel.\n"
     ]
    },
    {
     "name": "stdout",
     "output_type": "stream",
     "text": [
      "array([       nan, 0.35701384, 0.36453701])\n",
      "ipdb> q\n"
     ]
    }
   ],
   "source": [
    "%debug"
   ]
  },
  {
   "cell_type": "code",
   "execution_count": 55,
   "metadata": {},
   "outputs": [],
   "source": [
    "A, b = scl_l1.assembler.assemble_matrix_rhs()"
   ]
  },
  {
   "cell_type": "code",
   "execution_count": 79,
   "metadata": {},
   "outputs": [
    {
     "data": {
      "text/plain": [
       "'9.8029e+07'"
      ]
     },
     "execution_count": 79,
     "metadata": {},
     "output_type": "execute_result"
    }
   ],
   "source": [
    "f\"{np.max(np.abs(A)):.4e}\""
   ]
  },
  {
   "cell_type": "code",
   "execution_count": 80,
   "metadata": {},
   "outputs": [
    {
     "data": {
      "text/plain": [
       "'0.0000e+00'"
      ]
     },
     "execution_count": 80,
     "metadata": {},
     "output_type": "execute_result"
    }
   ],
   "source": [
    "f\"{np.min(np.abs(A)):.4e}\""
   ]
  },
  {
   "cell_type": "code",
   "execution_count": 81,
   "metadata": {},
   "outputs": [
    {
     "data": {
      "text/plain": [
       "'9.8029e+07, 2.0000e+00'"
      ]
     },
     "execution_count": 81,
     "metadata": {},
     "output_type": "execute_result"
    }
   ],
   "source": [
    "f\"{np.max(np.sum(np.abs(A), axis=1)):.4e}, {np.min(np.sum(np.abs(A), axis=1)):.4e}\""
   ]
  },
  {
   "cell_type": "code",
   "execution_count": 77,
   "metadata": {},
   "outputs": [
    {
     "data": {
      "text/plain": [
       "'4.9015e+07'"
      ]
     },
     "execution_count": 77,
     "metadata": {},
     "output_type": "execute_result"
    }
   ],
   "source": [
    "f\"{np.max(np.sum(np.abs(A), axis=1)) / np.min(np.sum(np.abs(A), axis=1)):.4e}\""
   ]
  },
  {
   "cell_type": "markdown",
   "metadata": {},
   "source": [
    "# Mulige problem (fra veilednignsmøte 24.03.2020)\n",
    "\n",
    "* Kan hende det ikke er lengdeskalering på randkrav\n",
    "* Slå av gravitasjonseffekter (sett til 0)\n",
    "   - Slå av vann (Dirichlet=0) og gravitasjon.\n",
    "   - Problemet kan være drevet av anisotrop bakgrunnsstress.\n",
    "  \n",
    "Merk: Problemet er nok ikke drevet av væske. Hvis det er satt opp riktig vil det være en likevekt mellom randkrav og kildeledd. Dermed vil ikke det være utgangspunktet for feilene våre.\n",
    "\n",
    "Merk2: Feilen i trykket er for stort til at det handler om dårlig kondisjonering av problemet. Det er heller drevet av feil i grunnleggende skalering av -- rand, kilde, parameter."
   ]
  },
  {
   "cell_type": "code",
   "execution_count": null,
   "metadata": {},
   "outputs": [],
   "source": []
  },
  {
   "cell_type": "code",
   "execution_count": null,
   "metadata": {},
   "outputs": [],
   "source": []
  },
  {
   "cell_type": "code",
   "execution_count": null,
   "metadata": {},
   "outputs": [],
   "source": []
  },
  {
   "cell_type": "code",
   "execution_count": null,
   "metadata": {},
   "outputs": [],
   "source": [
    "A, b = scl_l1.assembler.assemble_matrix_rhs(add_matrices=False)"
   ]
  },
  {
   "cell_type": "code",
   "execution_count": null,
   "metadata": {
    "scrolled": true
   },
   "outputs": [],
   "source": [
    "A"
   ]
  },
  {
   "cell_type": "code",
   "execution_count": null,
   "metadata": {
    "scrolled": true
   },
   "outputs": [],
   "source": [
    "key = 'mass_p'\n",
    "print(A[key].toarray())\n",
    "print(f\"{np.max(np.sum(np.abs(A[key]), axis=0)):.4e}\")"
   ]
  },
  {
   "cell_type": "markdown",
   "metadata": {},
   "source": [
    "------------"
   ]
  },
  {
   "cell_type": "code",
   "execution_count": null,
   "metadata": {},
   "outputs": [],
   "source": [
    "A2, b2 = scl_l2.assembler.assemble_matrix_rhs(add_matrices=False)"
   ]
  },
  {
   "cell_type": "code",
   "execution_count": null,
   "metadata": {},
   "outputs": [],
   "source": [
    "key = 'mass_p'\n",
    "print(A2[key].toarray())\n",
    "print(f\"{np.max(np.sum(np.abs(A2[key]), axis=0)):.4e}\")"
   ]
  },
  {
   "cell_type": "code",
   "execution_count": null,
   "metadata": {},
   "outputs": [],
   "source": []
  }
 ],
 "metadata": {
  "kernelspec": {
   "display_name": "Python 3",
   "language": "python",
   "name": "python3"
  },
  "language_info": {
   "codemirror_mode": {
    "name": "ipython",
    "version": 3
   },
   "file_extension": ".py",
   "mimetype": "text/x-python",
   "name": "python",
   "nbconvert_exporter": "python",
   "pygments_lexer": "ipython3",
   "version": "3.7.0"
  }
 },
 "nbformat": 4,
 "nbformat_minor": 2
}
