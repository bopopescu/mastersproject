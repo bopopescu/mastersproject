{
 "cells": [
  {
   "cell_type": "markdown",
   "metadata": {},
   "source": [
    "# Test on 20.04.2020\n",
    "Test run on full Biot GTS model"
   ]
  },
  {
   "cell_type": "code",
   "execution_count": 1,
   "metadata": {},
   "outputs": [],
   "source": [
    "%load_ext autoreload\n",
    "%autoreload 2\n",
    "\n",
    "import sys\n",
    "sys.path.extend([\n",
    "    '/home/haakon/mastersproject', \n",
    "    '/home/haakon/mastersproject/src/mastersproject'\n",
    "])\n",
    "\n",
    "import GTS as gts\n",
    "from GTS.isc_modelling.setup import run_abstract_model\n",
    "import porepy as pp\n",
    "import numpy as np\n",
    "import pendulum\n",
    "\n",
    "import logging\n",
    "logging.basicConfig(level=\"INFO\")"
   ]
  },
  {
   "cell_type": "markdown",
   "metadata": {},
   "source": [
    "## Setup 1:\n",
    "scaling coefficients from optimal overview:\n",
    "* `ls = 0.05`, `ss = 1e12`\n",
    "\n",
    "Setup:\n",
    "* no gravity\n",
    "* 5 shear zones\n",
    "* old permeability parameters"
   ]
  },
  {
   "cell_type": "code",
   "execution_count": 2,
   "metadata": {
    "scrolled": true
   },
   "outputs": [
    {
     "name": "stderr",
     "output_type": "stream",
     "text": [
      "INFO:GTS.isc_modelling.setup:Preparing setup for simulation on 2020-04-21T09:54:54+02:00\n",
      "INFO:GTS.isc_modelling.setup:Simulation parameters:\n",
      " {'_gravity_bc': False,\n",
      " '_gravity_bc_p': False,\n",
      " '_gravity_src': False,\n",
      " 'bounding_box': {'xmax': 80,\n",
      "                  'xmin': -20,\n",
      "                  'ymax': 150,\n",
      "                  'ymin': 50,\n",
      "                  'zmax': 75,\n",
      "                  'zmin': -25},\n",
      " 'folder_name': PosixPath('/home/haakon/mastersproject/src/mastersproject/GTS/isc_modelling/results/200421/full_model_tests/test_1'),\n",
      " 'length_scale': 0.05,\n",
      " 'mesh_args': {'mesh_size_bound': 180,\n",
      "               'mesh_size_frac': 30,\n",
      "               'mesh_size_min': 3.0},\n",
      " 'path_head': '200421/full_model_tests/test_1',\n",
      " 'scalar_scale': 1000000000000.0,\n",
      " 'shearzone_names': ['S1_1', 'S1_2', 'S1_3', 'S3_1', 'S3_2'],\n",
      " 'solver': 'direct',\n",
      " 'source_scalar_borehole_shearzone': {'borehole': 'INJ1', 'shearzone': 'S1_2'},\n",
      " 'stress': array([[-11393046.22034133,    597621.26708787,   1842573.57669909],\n",
      "       [   597621.26708787,  -8873267.78285116,   -586150.35104884],\n",
      "       [  1842573.57669909,   -586150.35104884, -10733685.99680752]])}\n"
     ]
    }
   ],
   "source": [
    "# Prepare parameters\n",
    "model = gts.ContactMechanicsBiotISC\n",
    "run_model_method = pp.run_time_dependent_model\n",
    "\n",
    "now_as_YYMMDD = pendulum.now().format(\"YYMMDD\")\n",
    "head = f\"{now_as_YYMMDD}/full_model_tests/test_1\"\n",
    "\n",
    "sz = 30  # mesh size\n",
    "\n",
    "params = {\n",
    "    \"length_scale\": .05,\n",
    "    \"scalar_scale\": 1e12,\n",
    "    \"shearzone_names\": [\"S1_1\",\"S1_2\", \"S1_3\", \"S3_1\", \"S3_2\"],\n",
    "    \n",
    "    # turn off gravity\n",
    "    \"_gravity_bc_p\": False,\n",
    "    \"_gravity_src\": False,\n",
    "    \"_gravity_bc\": False,\n",
    "    \"path_head\": head,\n",
    "    \n",
    "    'mesh_args': {\n",
    "        'mesh_size_frac': sz,\n",
    "        'mesh_size_min': 0.1 * sz,\n",
    "        'mesh_size_bound': 6 * sz,\n",
    "    },\n",
    "    \n",
    "}\n",
    "from GTS.isc_modelling.setup import _prepare_params\n",
    "params = _prepare_params(params, False)"
   ]
  },
  {
   "cell_type": "code",
   "execution_count": 3,
   "metadata": {},
   "outputs": [
    {
     "name": "stderr",
     "output_type": "stream",
     "text": [
      "INFO:GTS.isc_modelling.contact_mechanics_biot:Initializing contact mechanics biot on ISC dataset\n",
      "INFO:GTS.isc_modelling.mechanics:Initializing contact mechanics on ISC dataset at 2020-04-21T09:54:54+02:00\n",
      "INFO:GTS.ISC_data.isc:GTS-ISC data located at: /home/haakon/mastersproject/src/mastersproject/GTS/01BasicInputData.\n"
     ]
    }
   ],
   "source": [
    "setup = gts.ContactMechanicsBiotISC(params=params)\n",
    "\n",
    "newton_params = {\n",
    "    \"max_iterations\": 40,\n",
    "    \"nl_convergence_tol\": 1e-10,\n",
    "    \"nl_divergence_tol\": 1e5,\n",
    "}"
   ]
  },
  {
   "cell_type": "code",
   "execution_count": 4,
   "metadata": {
    "scrolled": false
   },
   "outputs": [
    {
     "name": "stderr",
     "output_type": "stream",
     "text": [
      "INFO:GTS.isc_modelling.contact_mechanics_biot:Calling prepare_simulation\n",
      "INFO:GTS.isc_modelling.mechanics:Calling create_grid(<GTS.isc_modelling.contact_mechanics_biot.ContactMechanicsBiotISC object at 0x7f57d13d9160>)\n",
      "INFO:GTS.ISC_data.isc:GTS-ISC data located at: /home/haakon/mastersproject/src/mastersproject/GTS/01BasicInputData.\n",
      "INFO:GTS.ISC_data.fracture:Interpolating shearzone S1_1 ...\n",
      "INFO:root:Sum of pointwise relative errors: 0.0724\n",
      "INFO:GTS.ISC_data.fracture:Interpolating shearzone S1_2 ...\n",
      "INFO:root:Sum of pointwise relative errors: 0.1129\n",
      "INFO:GTS.ISC_data.fracture:Interpolating shearzone S1_3 ...\n",
      "INFO:root:Sum of pointwise relative errors: 0.0917\n",
      "INFO:GTS.ISC_data.fracture:Interpolating shearzone S3_1 ...\n",
      "INFO:root:Sum of pointwise relative errors: 0.0375\n",
      "INFO:GTS.ISC_data.fracture:Interpolating shearzone S3_2 ...\n",
      "INFO:root:Sum of pointwise relative errors: 0.0840\n",
      "/home/haakon/.local/lib/python3.7/site-packages/vtk/util/numpy_support.py:137: FutureWarning: Conversion of the second argument of issubdtype from `complex` to `np.complexfloating` is deprecated. In future, it will be treated as `np.complex128 == np.dtype(complex).type`.\n",
      "  assert not numpy.issubdtype(z.dtype, complex), \\\n",
      "INFO:GTS.ISC_data.fracture:Saving vtk file of fracture network in 3D.\n",
      "INFO:porepy.fracs.fractures_3d:Find intersection between fratures\n",
      "INFO:porepy.fracs.fractures_3d:Found 18 intersections. Ellapsed time: 0.02183\n",
      "INFO:porepy.fracs.fractures_3d:Split intersections\n",
      "INFO:porepy.fracs.fractures_3d:Compile list of points and edges\n",
      "INFO:porepy.fracs.fractures_3d:Points and edges done. Elapsed time 0.00177\n",
      "INFO:porepy.fracs.fractures_3d:Uniquify points and edges, starting with 97 points, 79\n",
      "                    edges\n",
      "INFO:porepy.fracs.fractures_3d:Uniquify complete. 57 points, 55 edges. Ellapsed time\n",
      "                    0.01080\n",
      "INFO:porepy.fracs.fractures_3d:Remove edge intersections\n",
      "INFO:porepy.fracs.fractures_3d:Done with intersection removal. Elapsed time 0.11472\n",
      "INFO:porepy.fracs.fractures_3d:Uniquify points and edges, starting with 57 points, 67\n",
      "                    edges\n",
      "INFO:porepy.fracs.fractures_3d:Uniquify complete. 57 points, 67 edges. Ellapsed time\n",
      "                    0.01011\n",
      "INFO:porepy.fracs.fractures_3d:Finished fracture splitting after 0.14790 seconds\n",
      "INFO:porepy.fracs.fractures_3d:Minimal distance between points encountered is 15.051993782552357\n",
      "INFO:porepy.fracs.simplex:Grid creation completed. Elapsed time 0.10134172439575195\n",
      "INFO:porepy.fracs.simplex:Created 1 3-d grids with 3520 cells\n",
      "INFO:porepy.fracs.simplex:Created 5 2-d grids with 758 cells\n",
      "INFO:porepy.fracs.simplex:Created 6 1-d grids with 23 cells\n",
      "INFO:porepy.fracs.meshing:Assemble in bucket\n",
      "INFO:porepy.fracs.meshing:Done. Elapsed time 0.10702109336853027\n",
      "INFO:porepy.fracs.meshing:Compute geometry\n",
      "INFO:porepy.fracs.meshing:Done. Elapsed time 0.058066368103027344\n",
      "INFO:porepy.fracs.meshing:Split fractures\n",
      "INFO:porepy.fracs.meshing:Done. Elapsed time 1.299776315689087\n",
      "INFO:GTS.isc_modelling.mechanics:Finished 'create_grid' in 2.7821 secs\n",
      "INFO:GTS.isc_modelling.mechanics:'create_grid' returned None\n",
      "INFO:GTS.isc_modelling.contact_mechanics_biot:Tagging grid of name: S1_2, and dimension 2\n",
      "INFO:GTS.isc_modelling.contact_mechanics_biot:Setting non-zero source value for pressure\n",
      "INFO:GTS.isc_modelling.contact_mechanics_biot:Closest cell found has distance: 21.650650\n",
      "INFO:porepy.models.contact_mechanics_biot_model:Discretize\n",
      "INFO:porepy.numerics.fv.mpsa:Split MPSA discretization into 1 parts\n",
      "INFO:porepy.numerics.fv.biot:Done with subproblem 0. Elapsed time 23.044031143188477\n",
      "INFO:porepy.models.contact_mechanics_biot_model:Done. Elapsed time 36.79902458190918\n",
      "INFO:porepy.viz.exporter:Construct 3d grid information using numba\n",
      "/home/haakon/porepy/src/porepy/viz/exporter.py:932: NumbaPerformanceWarning: np.dot() is faster on contiguous arrays, called on (array(float64, 1d, A), array(float64, 1d, C))\n",
      "  angle = np.arccos(np.dot(normals[:, fi], reference))\n",
      "INFO:GTS.isc_modelling.contact_mechanics_biot:Finished 'prepare_simulation' in 45.7255 secs\n",
      "INFO:porepy.models.run_models:\n",
      "Time step 1 at time 2.4e+03 of 7.2e+03 with time step 2.4e+03\n",
      "INFO:GTS.isc_modelling.contact_mechanics_biot:Calling before_newton_loop(<GTS.isc_modelling.contact_mechanics_biot.ContactMechanicsBiotISC object at 0x7f57d13d9160>)\n",
      "INFO:GTS.isc_modelling.contact_mechanics_biot:A new phase has started: Phase 5. Injection set to 20 l/min\n",
      "INFO:GTS.isc_modelling.contact_mechanics_biot:Finished 'before_newton_loop' in 0.0615 secs\n",
      "INFO:GTS.isc_modelling.contact_mechanics_biot:'before_newton_loop' returned None\n",
      "INFO:porepy.numerics.nonlinear.nonlinear_solvers:Newton iteration number 0 of 40\n",
      "INFO:porepy.models.contact_mechanics_biot_model:||b-Ax|| = 5.472860724019194e-05\n",
      "INFO:porepy.models.contact_mechanics_biot_model:||b-Ax|| / ||b|| = 1.5320101324872603e-09\n",
      "INFO:GTS.isc_modelling.contact_mechanics_biot:diff iter u = 5.335950e-02\n",
      "INFO:GTS.isc_modelling.contact_mechanics_biot:diff init u = 5.335950e-02\n",
      "INFO:GTS.isc_modelling.contact_mechanics_biot:diff iter contact = 3.083527e+28\n",
      "INFO:GTS.isc_modelling.contact_mechanics_biot:diff init contact = 3.083527e+28\n",
      "INFO:GTS.isc_modelling.contact_mechanics_biot:diff iter scalar = 4.985700e+18\n",
      "INFO:GTS.isc_modelling.contact_mechanics_biot:diff init scalar = 4.985700e+18\n",
      "INFO:GTS.isc_modelling.contact_mechanics_biot:Error in contact force is 1.000000e+00\n",
      "INFO:GTS.isc_modelling.contact_mechanics_biot:Error in matrix displacement is 1.000000e+00\n",
      "INFO:GTS.isc_modelling.contact_mechanics_biot:Error in pressure is 1.000000e+00.\n",
      "INFO:porepy.numerics.nonlinear.nonlinear_solvers:Newton iteration number 1 of 40\n"
     ]
    },
    {
     "name": "stdout",
     "output_type": "stream",
     "text": [
      "Solved whole system using direct solver in 147.63780236244202 s.\n"
     ]
    },
    {
     "name": "stderr",
     "output_type": "stream",
     "text": [
      "INFO:porepy.models.contact_mechanics_biot_model:||b-Ax|| = 2.0086224772405953e-06\n",
      "INFO:porepy.models.contact_mechanics_biot_model:||b-Ax|| / ||b|| = 5.6227083835131355e-11\n",
      "INFO:GTS.isc_modelling.contact_mechanics_biot:diff iter u = 4.825690e-03\n",
      "INFO:GTS.isc_modelling.contact_mechanics_biot:diff init u = 6.295017e-02\n",
      "INFO:GTS.isc_modelling.contact_mechanics_biot:diff iter contact = 3.083437e+28\n",
      "INFO:GTS.isc_modelling.contact_mechanics_biot:diff init contact = 4.744540e+21\n",
      "INFO:GTS.isc_modelling.contact_mechanics_biot:diff iter scalar = 2.574492e+18\n",
      "INFO:GTS.isc_modelling.contact_mechanics_biot:diff init scalar = 6.621827e+17\n",
      "INFO:GTS.isc_modelling.contact_mechanics_biot:Error in contact force is 6.498917e+06\n",
      "INFO:GTS.isc_modelling.contact_mechanics_biot:Error in matrix displacement is 7.665889e-02\n",
      "INFO:GTS.isc_modelling.contact_mechanics_biot:Error in pressure is 3.887888e+00.\n",
      "INFO:porepy.numerics.nonlinear.nonlinear_solvers:Newton iteration number 2 of 40\n"
     ]
    },
    {
     "name": "stdout",
     "output_type": "stream",
     "text": [
      "Solved whole system using direct solver in 116.17273259162903 s.\n"
     ]
    },
    {
     "name": "stderr",
     "output_type": "stream",
     "text": [
      "INFO:porepy.models.contact_mechanics_biot_model:||b-Ax|| = 2.6484900569354306e-06\n",
      "INFO:porepy.models.contact_mechanics_biot_model:||b-Ax|| / ||b|| = 7.413880614623421e-11\n",
      "INFO:GTS.isc_modelling.contact_mechanics_biot:diff iter u = 2.879635e-03\n",
      "INFO:GTS.isc_modelling.contact_mechanics_biot:diff init u = 5.749481e-02\n",
      "INFO:GTS.isc_modelling.contact_mechanics_biot:diff iter contact = 1.005525e+19\n",
      "INFO:GTS.isc_modelling.contact_mechanics_biot:diff init contact = 4.733444e+21\n",
      "INFO:GTS.isc_modelling.contact_mechanics_biot:diff iter scalar = 4.648365e+16\n",
      "INFO:GTS.isc_modelling.contact_mechanics_biot:diff init scalar = 7.474322e+17\n",
      "INFO:GTS.isc_modelling.contact_mechanics_biot:Error in contact force is 2.124298e-03\n",
      "INFO:GTS.isc_modelling.contact_mechanics_biot:Error in matrix displacement is 5.008513e-02\n",
      "INFO:GTS.isc_modelling.contact_mechanics_biot:Error in pressure is 6.219113e-02.\n",
      "INFO:porepy.numerics.nonlinear.nonlinear_solvers:Newton iteration number 3 of 40\n"
     ]
    },
    {
     "name": "stdout",
     "output_type": "stream",
     "text": [
      "Solved whole system using direct solver in 154.7628116607666 s.\n"
     ]
    },
    {
     "name": "stderr",
     "output_type": "stream",
     "text": [
      "INFO:porepy.models.contact_mechanics_biot_model:||b-Ax|| = 2.8877786600173157e-06\n",
      "INFO:porepy.models.contact_mechanics_biot_model:||b-Ax|| / ||b|| = 8.083717803980117e-11\n",
      "INFO:GTS.isc_modelling.contact_mechanics_biot:diff iter u = 7.773646e-03\n",
      "INFO:GTS.isc_modelling.contact_mechanics_biot:diff init u = 6.692974e-02\n",
      "INFO:GTS.isc_modelling.contact_mechanics_biot:diff iter contact = 3.130622e+19\n",
      "INFO:GTS.isc_modelling.contact_mechanics_biot:diff init contact = 4.747921e+21\n",
      "INFO:GTS.isc_modelling.contact_mechanics_biot:diff iter scalar = 1.499755e+17\n",
      "INFO:GTS.isc_modelling.contact_mechanics_biot:diff init scalar = 7.838087e+17\n",
      "INFO:GTS.isc_modelling.contact_mechanics_biot:Error in contact force is 6.593669e-03\n",
      "INFO:GTS.isc_modelling.contact_mechanics_biot:Error in matrix displacement is 1.161464e-01\n",
      "INFO:GTS.isc_modelling.contact_mechanics_biot:Error in pressure is 1.913419e-01.\n",
      "INFO:porepy.numerics.nonlinear.nonlinear_solvers:Newton iteration number 4 of 40\n"
     ]
    },
    {
     "name": "stdout",
     "output_type": "stream",
     "text": [
      "Solved whole system using direct solver in 132.09116649627686 s.\n"
     ]
    },
    {
     "name": "stderr",
     "output_type": "stream",
     "text": [
      "INFO:porepy.models.contact_mechanics_biot_model:||b-Ax|| = 3.6931599624022855e-06\n",
      "INFO:porepy.models.contact_mechanics_biot_model:||b-Ax|| / ||b|| = 1.0338210247642339e-10\n",
      "INFO:GTS.isc_modelling.contact_mechanics_biot:diff iter u = 4.220614e-03\n",
      "INFO:GTS.isc_modelling.contact_mechanics_biot:diff init u = 6.506855e-02\n",
      "INFO:GTS.isc_modelling.contact_mechanics_biot:diff iter contact = 2.647524e+19\n",
      "INFO:GTS.isc_modelling.contact_mechanics_biot:diff init contact = 4.719634e+21\n",
      "INFO:GTS.isc_modelling.contact_mechanics_biot:diff iter scalar = 1.195182e+17\n",
      "INFO:GTS.isc_modelling.contact_mechanics_biot:diff init scalar = 6.992164e+17\n",
      "INFO:GTS.isc_modelling.contact_mechanics_biot:Error in contact force is 5.609596e-03\n",
      "INFO:GTS.isc_modelling.contact_mechanics_biot:Error in matrix displacement is 6.486411e-02\n",
      "INFO:GTS.isc_modelling.contact_mechanics_biot:Error in pressure is 1.709317e-01.\n",
      "INFO:porepy.numerics.nonlinear.nonlinear_solvers:Newton iteration number 5 of 40\n"
     ]
    },
    {
     "name": "stdout",
     "output_type": "stream",
     "text": [
      "Solved whole system using direct solver in 121.08080673217773 s.\n"
     ]
    },
    {
     "name": "stderr",
     "output_type": "stream",
     "text": [
      "INFO:porepy.models.contact_mechanics_biot_model:||b-Ax|| = 4.691898986642332e-06\n",
      "INFO:porepy.models.contact_mechanics_biot_model:||b-Ax|| / ||b|| = 1.313396622022004e-10\n",
      "INFO:GTS.isc_modelling.contact_mechanics_biot:diff iter u = 3.181894e-03\n",
      "INFO:GTS.isc_modelling.contact_mechanics_biot:diff init u = 6.791571e-02\n",
      "INFO:GTS.isc_modelling.contact_mechanics_biot:diff iter contact = 1.185652e+19\n",
      "INFO:GTS.isc_modelling.contact_mechanics_biot:diff init contact = 4.725505e+21\n",
      "INFO:GTS.isc_modelling.contact_mechanics_biot:diff iter scalar = 4.837392e+16\n",
      "INFO:GTS.isc_modelling.contact_mechanics_biot:diff init scalar = 6.876373e+17\n",
      "INFO:GTS.isc_modelling.contact_mechanics_biot:Error in contact force is 2.509049e-03\n",
      "INFO:GTS.isc_modelling.contact_mechanics_biot:Error in matrix displacement is 4.685064e-02\n",
      "INFO:GTS.isc_modelling.contact_mechanics_biot:Error in pressure is 7.034802e-02.\n",
      "INFO:porepy.numerics.nonlinear.nonlinear_solvers:Newton iteration number 6 of 40\n"
     ]
    },
    {
     "name": "stdout",
     "output_type": "stream",
     "text": [
      "Solved whole system using direct solver in 135.28276705741882 s.\n"
     ]
    },
    {
     "name": "stderr",
     "output_type": "stream",
     "text": [
      "INFO:porepy.models.contact_mechanics_biot_model:||b-Ax|| = 5.0997969585093e-06\n",
      "INFO:porepy.models.contact_mechanics_biot_model:||b-Ax|| / ||b|| = 1.427578922106339e-10\n",
      "INFO:GTS.isc_modelling.contact_mechanics_biot:diff iter u = 2.182083e-02\n",
      "INFO:GTS.isc_modelling.contact_mechanics_biot:diff init u = 9.852855e-02\n",
      "INFO:GTS.isc_modelling.contact_mechanics_biot:diff iter contact = 6.312037e+19\n",
      "INFO:GTS.isc_modelling.contact_mechanics_biot:diff init contact = 4.757535e+21\n",
      "INFO:GTS.isc_modelling.contact_mechanics_biot:diff iter scalar = 3.906385e+17\n",
      "INFO:GTS.isc_modelling.contact_mechanics_biot:diff init scalar = 1.020976e+18\n",
      "INFO:GTS.isc_modelling.contact_mechanics_biot:Error in contact force is 1.326745e-02\n",
      "INFO:GTS.isc_modelling.contact_mechanics_biot:Error in matrix displacement is 2.214671e-01\n",
      "INFO:GTS.isc_modelling.contact_mechanics_biot:Error in pressure is 3.826126e-01.\n",
      "INFO:porepy.numerics.nonlinear.nonlinear_solvers:Newton iteration number 7 of 40\n"
     ]
    },
    {
     "name": "stdout",
     "output_type": "stream",
     "text": [
      "Solved whole system using direct solver in 141.87058472633362 s.\n"
     ]
    },
    {
     "name": "stderr",
     "output_type": "stream",
     "text": [
      "INFO:porepy.models.contact_mechanics_biot_model:||b-Ax|| = 3.011746734465197e-06\n",
      "INFO:porepy.models.contact_mechanics_biot_model:||b-Ax|| / ||b|| = 8.430739872774863e-11\n",
      "INFO:GTS.isc_modelling.contact_mechanics_biot:diff iter u = 9.809848e-02\n",
      "INFO:GTS.isc_modelling.contact_mechanics_biot:diff init u = 1.196857e-01\n",
      "INFO:GTS.isc_modelling.contact_mechanics_biot:diff iter contact = 1.219038e+21\n",
      "INFO:GTS.isc_modelling.contact_mechanics_biot:diff init contact = 5.903696e+21\n",
      "INFO:GTS.isc_modelling.contact_mechanics_biot:diff iter scalar = 1.183149e+19\n",
      "INFO:GTS.isc_modelling.contact_mechanics_biot:diff init scalar = 1.211590e+19\n",
      "INFO:GTS.isc_modelling.contact_mechanics_biot:Error in contact force is 2.064873e-01\n",
      "INFO:GTS.isc_modelling.contact_mechanics_biot:Error in matrix displacement is 8.196339e-01\n",
      "INFO:GTS.isc_modelling.contact_mechanics_biot:Error in pressure is 9.765261e-01.\n",
      "INFO:porepy.numerics.nonlinear.nonlinear_solvers:Newton iteration number 8 of 40\n"
     ]
    },
    {
     "name": "stdout",
     "output_type": "stream",
     "text": [
      "Solved whole system using direct solver in 138.83417224884033 s.\n"
     ]
    },
    {
     "name": "stderr",
     "output_type": "stream",
     "text": [
      "INFO:porepy.models.contact_mechanics_biot_model:||b-Ax|| = 4.2221786584971536e-06\n",
      "INFO:porepy.models.contact_mechanics_biot_model:||b-Ax|| / ||b|| = 1.1819084740478115e-10\n",
      "INFO:GTS.isc_modelling.contact_mechanics_biot:diff iter u = 7.803552e-02\n",
      "INFO:GTS.isc_modelling.contact_mechanics_biot:diff init u = 1.038632e-01\n",
      "INFO:GTS.isc_modelling.contact_mechanics_biot:diff iter contact = 1.239863e+21\n",
      "INFO:GTS.isc_modelling.contact_mechanics_biot:diff init contact = 4.820591e+21\n",
      "INFO:GTS.isc_modelling.contact_mechanics_biot:diff iter scalar = 1.271183e+19\n",
      "INFO:GTS.isc_modelling.contact_mechanics_biot:diff init scalar = 2.290917e+18\n",
      "INFO:GTS.isc_modelling.contact_mechanics_biot:Error in contact force is 2.572014e-01\n",
      "INFO:GTS.isc_modelling.contact_mechanics_biot:Error in matrix displacement is 7.513300e-01\n",
      "INFO:GTS.isc_modelling.contact_mechanics_biot:Error in pressure is 5.548795e+00.\n",
      "INFO:porepy.numerics.nonlinear.nonlinear_solvers:Newton iteration number 9 of 40\n"
     ]
    },
    {
     "name": "stdout",
     "output_type": "stream",
     "text": [
      "Solved whole system using direct solver in 115.61397552490234 s.\n"
     ]
    },
    {
     "name": "stderr",
     "output_type": "stream",
     "text": [
      "INFO:porepy.models.contact_mechanics_biot_model:||b-Ax|| = 1.976675842897257e-06\n",
      "INFO:porepy.models.contact_mechanics_biot_model:||b-Ax|| / ||b|| = 5.53328061166402e-11\n",
      "INFO:GTS.isc_modelling.contact_mechanics_biot:diff iter u = 3.406976e-02\n",
      "INFO:GTS.isc_modelling.contact_mechanics_biot:diff init u = 6.908415e-02\n",
      "INFO:GTS.isc_modelling.contact_mechanics_biot:diff iter contact = 1.049193e+20\n",
      "INFO:GTS.isc_modelling.contact_mechanics_biot:diff init contact = 4.735220e+21\n",
      "INFO:GTS.isc_modelling.contact_mechanics_biot:diff iter scalar = 1.750001e+18\n",
      "INFO:GTS.isc_modelling.contact_mechanics_biot:diff init scalar = 8.552873e+17\n",
      "INFO:GTS.isc_modelling.contact_mechanics_biot:Error in contact force is 2.215722e-02\n",
      "INFO:GTS.isc_modelling.contact_mechanics_biot:Error in matrix displacement is 4.931632e-01\n",
      "INFO:GTS.isc_modelling.contact_mechanics_biot:Error in pressure is 2.046097e+00.\n",
      "INFO:porepy.numerics.nonlinear.nonlinear_solvers:Newton iteration number 10 of 40\n"
     ]
    },
    {
     "name": "stdout",
     "output_type": "stream",
     "text": [
      "Solved whole system using direct solver in 111.44492387771606 s.\n"
     ]
    },
    {
     "name": "stderr",
     "output_type": "stream",
     "text": [
      "INFO:porepy.models.contact_mechanics_biot_model:||b-Ax|| = 3.253573871339421e-06\n",
      "INFO:porepy.models.contact_mechanics_biot_model:||b-Ax|| / ||b|| = 9.107683140493386e-11\n",
      "INFO:GTS.isc_modelling.contact_mechanics_biot:diff iter u = 3.517103e-01\n",
      "INFO:GTS.isc_modelling.contact_mechanics_biot:diff init u = 3.961909e-01\n",
      "INFO:GTS.isc_modelling.contact_mechanics_biot:diff iter contact = 1.402811e+21\n",
      "INFO:GTS.isc_modelling.contact_mechanics_biot:diff init contact = 6.095433e+21\n",
      "INFO:GTS.isc_modelling.contact_mechanics_biot:diff iter scalar = 3.763067e+18\n",
      "INFO:GTS.isc_modelling.contact_mechanics_biot:diff init scalar = 4.345325e+18\n",
      "INFO:GTS.isc_modelling.contact_mechanics_biot:Error in contact force is 2.301413e-01\n",
      "INFO:GTS.isc_modelling.contact_mechanics_biot:Error in matrix displacement is 8.877294e-01\n",
      "INFO:GTS.isc_modelling.contact_mechanics_biot:Error in pressure is 8.660035e-01.\n",
      "INFO:porepy.numerics.nonlinear.nonlinear_solvers:Newton iteration number 11 of 40\n"
     ]
    },
    {
     "name": "stdout",
     "output_type": "stream",
     "text": [
      "Solved whole system using direct solver in 113.91319251060486 s.\n"
     ]
    },
    {
     "name": "stderr",
     "output_type": "stream",
     "text": [
      "INFO:porepy.models.contact_mechanics_biot_model:||b-Ax|| = 2.6720338489518216e-05\n",
      "INFO:porepy.models.contact_mechanics_biot_model:||b-Ax|| / ||b|| = 7.479786394820163e-10\n",
      "INFO:GTS.isc_modelling.contact_mechanics_biot:diff iter u = 1.207017e+00\n",
      "INFO:GTS.isc_modelling.contact_mechanics_biot:diff init u = 1.074415e+00\n",
      "INFO:GTS.isc_modelling.contact_mechanics_biot:diff iter contact = 2.344964e+22\n",
      "INFO:GTS.isc_modelling.contact_mechanics_biot:diff init contact = 2.681794e+22\n",
      "INFO:GTS.isc_modelling.contact_mechanics_biot:diff iter scalar = 1.305944e+19\n",
      "INFO:GTS.isc_modelling.contact_mechanics_biot:diff init scalar = 9.973015e+18\n",
      "INFO:GTS.isc_modelling.contact_mechanics_biot:Error in contact force is 8.744014e-01\n",
      "INFO:GTS.isc_modelling.contact_mechanics_biot:Error in matrix displacement is 1.123418e+00\n",
      "INFO:GTS.isc_modelling.contact_mechanics_biot:Error in pressure is 1.309477e+00.\n",
      "INFO:porepy.numerics.nonlinear.nonlinear_solvers:Newton iteration number 12 of 40\n"
     ]
    },
    {
     "name": "stdout",
     "output_type": "stream",
     "text": [
      "Solved whole system using direct solver in 100.75505995750427 s.\n"
     ]
    },
    {
     "name": "stderr",
     "output_type": "stream",
     "text": [
      "INFO:porepy.models.contact_mechanics_biot_model:||b-Ax|| = 1.4148986269275206e-05\n",
      "INFO:porepy.models.contact_mechanics_biot_model:||b-Ax|| / ||b|| = 3.960705361504693e-10\n",
      "INFO:GTS.isc_modelling.contact_mechanics_biot:diff iter u = 7.904106e-01\n",
      "INFO:GTS.isc_modelling.contact_mechanics_biot:diff init u = 1.990294e-01\n",
      "INFO:GTS.isc_modelling.contact_mechanics_biot:diff iter contact = 2.287169e+22\n",
      "INFO:GTS.isc_modelling.contact_mechanics_biot:diff init contact = 5.553837e+21\n",
      "INFO:GTS.isc_modelling.contact_mechanics_biot:diff iter scalar = 9.777629e+18\n",
      "INFO:GTS.isc_modelling.contact_mechanics_biot:diff init scalar = 1.612575e+18\n",
      "INFO:GTS.isc_modelling.contact_mechanics_biot:Error in contact force is 4.118177e+00\n",
      "INFO:GTS.isc_modelling.contact_mechanics_biot:Error in matrix displacement is 3.971326e+00\n",
      "INFO:GTS.isc_modelling.contact_mechanics_biot:Error in pressure is 6.063364e+00.\n",
      "INFO:porepy.numerics.nonlinear.nonlinear_solvers:Newton iteration number 13 of 40\n"
     ]
    },
    {
     "name": "stdout",
     "output_type": "stream",
     "text": [
      "Solved whole system using direct solver in 126.4958872795105 s.\n"
     ]
    },
    {
     "name": "stderr",
     "output_type": "stream",
     "text": [
      "INFO:porepy.models.contact_mechanics_biot_model:||b-Ax|| = 2.6780812120778934e-06\n",
      "INFO:porepy.models.contact_mechanics_biot_model:||b-Ax|| / ||b|| = 7.496714703253336e-11\n",
      "INFO:GTS.isc_modelling.contact_mechanics_biot:diff iter u = 1.043163e-01\n",
      "INFO:GTS.isc_modelling.contact_mechanics_biot:diff init u = 7.173135e-02\n",
      "INFO:GTS.isc_modelling.contact_mechanics_biot:diff iter contact = 8.419841e+20\n",
      "INFO:GTS.isc_modelling.contact_mechanics_biot:diff init contact = 4.740237e+21\n",
      "INFO:GTS.isc_modelling.contact_mechanics_biot:diff iter scalar = 1.194214e+18\n",
      "INFO:GTS.isc_modelling.contact_mechanics_biot:diff init scalar = 8.300125e+17\n",
      "INFO:GTS.isc_modelling.contact_mechanics_biot:Error in contact force is 1.776249e-01\n",
      "INFO:GTS.isc_modelling.contact_mechanics_biot:Error in matrix displacement is 1.454264e+00\n",
      "INFO:GTS.isc_modelling.contact_mechanics_biot:Error in pressure is 1.438790e+00.\n",
      "INFO:porepy.numerics.nonlinear.nonlinear_solvers:Newton iteration number 14 of 40\n"
     ]
    },
    {
     "name": "stdout",
     "output_type": "stream",
     "text": [
      "Solved whole system using direct solver in 129.3246054649353 s.\n"
     ]
    },
    {
     "name": "stderr",
     "output_type": "stream",
     "text": [
      "INFO:porepy.models.contact_mechanics_biot_model:||b-Ax|| = 2.476105700327748e-06\n",
      "INFO:porepy.models.contact_mechanics_biot_model:||b-Ax|| / ||b|| = 6.931327532001669e-11\n",
      "INFO:GTS.isc_modelling.contact_mechanics_biot:diff iter u = 1.030700e-02\n",
      "INFO:GTS.isc_modelling.contact_mechanics_biot:diff init u = 5.871761e-02\n",
      "INFO:GTS.isc_modelling.contact_mechanics_biot:diff iter contact = 3.909297e+19\n",
      "INFO:GTS.isc_modelling.contact_mechanics_biot:diff init contact = 4.754122e+21\n",
      "INFO:GTS.isc_modelling.contact_mechanics_biot:diff iter scalar = 2.079130e+17\n",
      "INFO:GTS.isc_modelling.contact_mechanics_biot:diff init scalar = 7.577859e+17\n",
      "INFO:GTS.isc_modelling.contact_mechanics_biot:Error in contact force is 8.222964e-03\n",
      "INFO:GTS.isc_modelling.contact_mechanics_biot:Error in matrix displacement is 1.755350e-01\n",
      "INFO:GTS.isc_modelling.contact_mechanics_biot:Error in pressure is 2.743691e-01.\n",
      "INFO:porepy.numerics.nonlinear.nonlinear_solvers:Newton iteration number 15 of 40\n"
     ]
    },
    {
     "name": "stdout",
     "output_type": "stream",
     "text": [
      "Solved whole system using direct solver in 110.07447290420532 s.\n"
     ]
    },
    {
     "name": "stderr",
     "output_type": "stream",
     "text": [
      "INFO:porepy.models.contact_mechanics_biot_model:||b-Ax|| = 5.6112744844561545e-06\n",
      "INFO:porepy.models.contact_mechanics_biot_model:||b-Ax|| / ||b|| = 1.5707560997955913e-10\n",
      "INFO:GTS.isc_modelling.contact_mechanics_biot:diff iter u = 5.824363e-02\n",
      "INFO:GTS.isc_modelling.contact_mechanics_biot:diff init u = 9.844083e-02\n",
      "INFO:GTS.isc_modelling.contact_mechanics_biot:diff iter contact = 2.887679e+20\n",
      "INFO:GTS.isc_modelling.contact_mechanics_biot:diff init contact = 4.981357e+21\n",
      "INFO:GTS.isc_modelling.contact_mechanics_biot:diff iter scalar = 5.999458e+17\n",
      "INFO:GTS.isc_modelling.contact_mechanics_biot:diff init scalar = 1.336485e+18\n",
      "INFO:GTS.isc_modelling.contact_mechanics_biot:Error in contact force is 5.796972e-02\n",
      "INFO:GTS.isc_modelling.contact_mechanics_biot:Error in matrix displacement is 5.916613e-01\n",
      "INFO:GTS.isc_modelling.contact_mechanics_biot:Error in pressure is 4.488982e-01.\n",
      "INFO:porepy.numerics.nonlinear.nonlinear_solvers:Newton iteration number 16 of 40\n"
     ]
    },
    {
     "name": "stdout",
     "output_type": "stream",
     "text": [
      "Solved whole system using direct solver in 112.27707958221436 s.\n"
     ]
    },
    {
     "name": "stderr",
     "output_type": "stream",
     "text": [
      "INFO:porepy.models.contact_mechanics_biot_model:||b-Ax|| = 3.7612139290405747e-06\n",
      "INFO:porepy.models.contact_mechanics_biot_model:||b-Ax|| / ||b|| = 1.0528712727636706e-10\n",
      "INFO:GTS.isc_modelling.contact_mechanics_biot:diff iter u = 8.940710e-02\n",
      "INFO:GTS.isc_modelling.contact_mechanics_biot:diff init u = 1.103380e-01\n",
      "INFO:GTS.isc_modelling.contact_mechanics_biot:diff iter contact = 5.870004e+20\n",
      "INFO:GTS.isc_modelling.contact_mechanics_biot:diff init contact = 5.025365e+21\n",
      "INFO:GTS.isc_modelling.contact_mechanics_biot:diff iter scalar = 1.316830e+18\n",
      "INFO:GTS.isc_modelling.contact_mechanics_biot:diff init scalar = 1.524569e+18\n",
      "INFO:GTS.isc_modelling.contact_mechanics_biot:Error in contact force is 1.168075e-01\n",
      "INFO:GTS.isc_modelling.contact_mechanics_biot:Error in matrix displacement is 8.103022e-01\n",
      "INFO:GTS.isc_modelling.contact_mechanics_biot:Error in pressure is 8.637390e-01.\n",
      "INFO:porepy.numerics.nonlinear.nonlinear_solvers:Newton iteration number 17 of 40\n"
     ]
    },
    {
     "name": "stdout",
     "output_type": "stream",
     "text": [
      "Solved whole system using direct solver in 123.5688145160675 s.\n"
     ]
    },
    {
     "name": "stderr",
     "output_type": "stream",
     "text": [
      "INFO:porepy.models.contact_mechanics_biot_model:||b-Ax|| = 3.654302078709408e-06\n",
      "INFO:porepy.models.contact_mechanics_biot_model:||b-Ax|| / ||b|| = 1.0229435908257941e-10\n",
      "INFO:GTS.isc_modelling.contact_mechanics_biot:diff iter u = 2.822512e-01\n",
      "INFO:GTS.isc_modelling.contact_mechanics_biot:diff init u = 3.840420e-01\n",
      "INFO:GTS.isc_modelling.contact_mechanics_biot:diff iter contact = 1.008942e+21\n",
      "INFO:GTS.isc_modelling.contact_mechanics_biot:diff init contact = 5.494970e+21\n",
      "INFO:GTS.isc_modelling.contact_mechanics_biot:diff iter scalar = 3.796112e+18\n",
      "INFO:GTS.isc_modelling.contact_mechanics_biot:diff init scalar = 3.731503e+18\n",
      "INFO:GTS.isc_modelling.contact_mechanics_biot:Error in contact force is 1.836120e-01\n",
      "INFO:GTS.isc_modelling.contact_mechanics_biot:Error in matrix displacement is 7.349487e-01\n",
      "INFO:GTS.isc_modelling.contact_mechanics_biot:Error in pressure is 1.017315e+00.\n",
      "INFO:porepy.numerics.nonlinear.nonlinear_solvers:Newton iteration number 18 of 40\n"
     ]
    },
    {
     "name": "stdout",
     "output_type": "stream",
     "text": [
      "Solved whole system using direct solver in 127.77995896339417 s.\n"
     ]
    },
    {
     "name": "stderr",
     "output_type": "stream",
     "text": [
      "INFO:porepy.models.contact_mechanics_biot_model:||b-Ax|| = 5.804566192891559e-05\n",
      "INFO:porepy.models.contact_mechanics_biot_model:||b-Ax|| / ||b|| = 1.6248639652000734e-09\n",
      "INFO:GTS.isc_modelling.contact_mechanics_biot:diff iter u = 1.400566e+01\n",
      "INFO:GTS.isc_modelling.contact_mechanics_biot:diff init u = 1.368375e+01\n",
      "INFO:GTS.isc_modelling.contact_mechanics_biot:diff iter contact = 4.339045e+22\n",
      "INFO:GTS.isc_modelling.contact_mechanics_biot:diff init contact = 4.728679e+22\n",
      "INFO:GTS.isc_modelling.contact_mechanics_biot:diff iter scalar = 3.100769e+20\n",
      "INFO:GTS.isc_modelling.contact_mechanics_biot:diff init scalar = 3.039292e+20\n",
      "INFO:GTS.isc_modelling.contact_mechanics_biot:Error in contact force is 9.176020e-01\n",
      "INFO:GTS.isc_modelling.contact_mechanics_biot:Error in matrix displacement is 1.023525e+00\n",
      "INFO:GTS.isc_modelling.contact_mechanics_biot:Error in pressure is 1.020227e+00.\n",
      "INFO:porepy.numerics.nonlinear.nonlinear_solvers:Newton iteration number 19 of 40\n"
     ]
    },
    {
     "name": "stdout",
     "output_type": "stream",
     "text": [
      "Solved whole system using direct solver in 129.83955001831055 s.\n"
     ]
    },
    {
     "name": "stderr",
     "output_type": "stream",
     "text": [
      "INFO:porepy.models.contact_mechanics_biot_model:||b-Ax|| = 0.0007464836498017588\n",
      "INFO:porepy.models.contact_mechanics_biot_model:||b-Ax|| / ||b|| = 2.0896198661173002e-08\n",
      "INFO:GTS.isc_modelling.contact_mechanics_biot:diff iter u = 2.784338e+03\n",
      "INFO:GTS.isc_modelling.contact_mechanics_biot:diff init u = 2.846031e+03\n",
      "INFO:GTS.isc_modelling.contact_mechanics_biot:diff iter contact = 7.095335e+24\n",
      "INFO:GTS.isc_modelling.contact_mechanics_biot:diff init contact = 7.060950e+24\n",
      "INFO:GTS.isc_modelling.contact_mechanics_biot:diff iter scalar = 5.972407e+22\n",
      "INFO:GTS.isc_modelling.contact_mechanics_biot:diff init scalar = 5.885764e+22\n",
      "INFO:GTS.isc_modelling.contact_mechanics_biot:Error in contact force is 1.004870e+00\n",
      "INFO:GTS.isc_modelling.contact_mechanics_biot:Error in matrix displacement is 9.783232e-01\n",
      "INFO:GTS.isc_modelling.contact_mechanics_biot:Error in pressure is 1.014721e+00.\n",
      "INFO:porepy.numerics.nonlinear.nonlinear_solvers:Newton iteration number 20 of 40\n"
     ]
    },
    {
     "name": "stdout",
     "output_type": "stream",
     "text": [
      "Solved whole system using direct solver in 105.14978551864624 s.\n"
     ]
    },
    {
     "name": "stderr",
     "output_type": "stream",
     "text": [
      "INFO:porepy.models.contact_mechanics_biot_model:||b-Ax|| = 0.00022612114800454625\n",
      "INFO:porepy.models.contact_mechanics_biot_model:||b-Ax|| / ||b|| = 6.329629592880704e-09\n",
      "INFO:GTS.isc_modelling.contact_mechanics_biot:diff iter u = 3.011226e+03\n",
      "INFO:GTS.isc_modelling.contact_mechanics_biot:diff init u = 6.322562e+02\n",
      "INFO:GTS.isc_modelling.contact_mechanics_biot:diff iter contact = 1.483307e+25\n",
      "INFO:GTS.isc_modelling.contact_mechanics_biot:diff init contact = 7.831429e+24\n",
      "INFO:GTS.isc_modelling.contact_mechanics_biot:diff iter scalar = 7.415701e+22\n",
      "INFO:GTS.isc_modelling.contact_mechanics_biot:diff init scalar = 1.386266e+22\n",
      "INFO:GTS.isc_modelling.contact_mechanics_biot:Error in contact force is 1.894044e+00\n",
      "INFO:GTS.isc_modelling.contact_mechanics_biot:Error in matrix displacement is 4.762667e+00\n",
      "INFO:GTS.isc_modelling.contact_mechanics_biot:Error in pressure is 5.349406e+00.\n",
      "INFO:porepy.numerics.nonlinear.nonlinear_solvers:Newton iteration number 21 of 40\n"
     ]
    },
    {
     "name": "stdout",
     "output_type": "stream",
     "text": [
      "Solved whole system using direct solver in 141.94620776176453 s.\n"
     ]
    },
    {
     "name": "stderr",
     "output_type": "stream",
     "text": [
      "INFO:porepy.models.contact_mechanics_biot_model:||b-Ax|| = 0.000795011974069058\n",
      "INFO:porepy.models.contact_mechanics_biot_model:||b-Ax|| / ||b|| = 2.22544137563868e-08\n",
      "INFO:GTS.isc_modelling.contact_mechanics_biot:diff iter u = 2.632634e+03\n",
      "INFO:GTS.isc_modelling.contact_mechanics_biot:diff init u = 1.748528e+03\n",
      "INFO:GTS.isc_modelling.contact_mechanics_biot:diff iter contact = 2.271767e+25\n",
      "INFO:GTS.isc_modelling.contact_mechanics_biot:diff init contact = 1.492127e+25\n",
      "INFO:GTS.isc_modelling.contact_mechanics_biot:diff iter scalar = 7.781191e+22\n",
      "INFO:GTS.isc_modelling.contact_mechanics_biot:diff init scalar = 6.802787e+22\n",
      "INFO:GTS.isc_modelling.contact_mechanics_biot:Error in contact force is 1.522502e+00\n",
      "INFO:GTS.isc_modelling.contact_mechanics_biot:Error in matrix displacement is 1.505628e+00\n",
      "INFO:GTS.isc_modelling.contact_mechanics_biot:Error in pressure is 1.143824e+00.\n",
      "INFO:porepy.numerics.nonlinear.nonlinear_solvers:Newton iteration number 22 of 40\n"
     ]
    },
    {
     "name": "stdout",
     "output_type": "stream",
     "text": [
      "Solved whole system using direct solver in 122.56907320022583 s.\n"
     ]
    },
    {
     "name": "stderr",
     "output_type": "stream",
     "text": [
      "INFO:porepy.models.contact_mechanics_biot_model:||b-Ax|| = 0.0012174923874981708\n",
      "INFO:porepy.models.contact_mechanics_biot_model:||b-Ax|| / ||b|| = 3.4080587259318095e-08\n",
      "INFO:GTS.isc_modelling.contact_mechanics_biot:diff iter u = 1.083207e+04\n",
      "INFO:GTS.isc_modelling.contact_mechanics_biot:diff init u = 8.312299e+03\n",
      "INFO:GTS.isc_modelling.contact_mechanics_biot:diff iter contact = 5.485253e+25\n",
      "INFO:GTS.isc_modelling.contact_mechanics_biot:diff init contact = 4.036819e+25\n",
      "INFO:GTS.isc_modelling.contact_mechanics_biot:diff iter scalar = 2.198691e+23\n",
      "INFO:GTS.isc_modelling.contact_mechanics_biot:diff init scalar = 1.481254e+23\n",
      "INFO:GTS.isc_modelling.contact_mechanics_biot:Error in contact force is 1.358806e+00\n",
      "INFO:GTS.isc_modelling.contact_mechanics_biot:Error in matrix displacement is 1.303138e+00\n",
      "INFO:GTS.isc_modelling.contact_mechanics_biot:Error in pressure is 1.484344e+00.\n",
      "INFO:porepy.numerics.nonlinear.nonlinear_solvers:Newton iteration number 23 of 40\n"
     ]
    },
    {
     "name": "stdout",
     "output_type": "stream",
     "text": [
      "Solved whole system using direct solver in 126.58901786804199 s.\n"
     ]
    },
    {
     "name": "stderr",
     "output_type": "stream",
     "text": [
      "INFO:porepy.models.contact_mechanics_biot_model:||b-Ax|| = 0.00046274378967837857\n",
      "INFO:porepy.models.contact_mechanics_biot_model:||b-Ax|| / ||b|| = 1.2948967618249072e-08\n",
      "INFO:GTS.isc_modelling.contact_mechanics_biot:diff iter u = 8.993686e+03\n",
      "INFO:GTS.isc_modelling.contact_mechanics_biot:diff init u = 2.344080e+03\n",
      "INFO:GTS.isc_modelling.contact_mechanics_biot:diff iter contact = 4.747321e+25\n",
      "INFO:GTS.isc_modelling.contact_mechanics_biot:diff init contact = 7.198206e+24\n",
      "INFO:GTS.isc_modelling.contact_mechanics_biot:diff iter scalar = 2.534549e+23\n",
      "INFO:GTS.isc_modelling.contact_mechanics_biot:diff init scalar = 8.746572e+22\n",
      "INFO:GTS.isc_modelling.contact_mechanics_biot:Error in contact force is 6.595145e+00\n",
      "INFO:GTS.isc_modelling.contact_mechanics_biot:Error in matrix displacement is 3.836766e+00\n",
      "INFO:GTS.isc_modelling.contact_mechanics_biot:Error in pressure is 2.897763e+00.\n",
      "INFO:porepy.numerics.nonlinear.nonlinear_solvers:Newton iteration number 24 of 40\n"
     ]
    },
    {
     "name": "stdout",
     "output_type": "stream",
     "text": [
      "Solved whole system using direct solver in 131.92772269248962 s.\n"
     ]
    },
    {
     "name": "stderr",
     "output_type": "stream",
     "text": [
      "INFO:porepy.models.contact_mechanics_biot_model:||b-Ax|| = 0.0006013979640043424\n",
      "INFO:porepy.models.contact_mechanics_biot_model:||b-Ax|| / ||b|| = 1.6832531955417608e-08\n",
      "INFO:GTS.isc_modelling.contact_mechanics_biot:diff iter u = 1.794354e+03\n",
      "INFO:GTS.isc_modelling.contact_mechanics_biot:diff init u = 3.321403e+02\n",
      "INFO:GTS.isc_modelling.contact_mechanics_biot:diff iter contact = 7.978771e+24\n",
      "INFO:GTS.isc_modelling.contact_mechanics_biot:diff init contact = 1.425313e+24\n",
      "INFO:GTS.isc_modelling.contact_mechanics_biot:diff iter scalar = 8.054818e+22\n",
      "INFO:GTS.isc_modelling.contact_mechanics_biot:diff init scalar = 1.471791e+22\n",
      "INFO:GTS.isc_modelling.contact_mechanics_biot:Error in contact force is 5.597908e+00\n",
      "INFO:GTS.isc_modelling.contact_mechanics_biot:Error in matrix displacement is 5.402397e+00\n",
      "INFO:GTS.isc_modelling.contact_mechanics_biot:Error in pressure is 5.472800e+00.\n",
      "INFO:porepy.numerics.nonlinear.nonlinear_solvers:Newton iteration number 25 of 40\n"
     ]
    },
    {
     "name": "stdout",
     "output_type": "stream",
     "text": [
      "Solved whole system using direct solver in 140.1103241443634 s.\n"
     ]
    },
    {
     "name": "stderr",
     "output_type": "stream",
     "text": [
      "INFO:porepy.models.contact_mechanics_biot_model:||b-Ax|| = 0.0003175590486000319\n",
      "INFO:porepy.models.contact_mechanics_biot_model:||b-Ax|| / ||b|| = 8.889319171087444e-09\n",
      "INFO:GTS.isc_modelling.contact_mechanics_biot:diff iter u = 2.463873e+03\n",
      "INFO:GTS.isc_modelling.contact_mechanics_biot:diff init u = 2.186862e+03\n",
      "INFO:GTS.isc_modelling.contact_mechanics_biot:diff iter contact = 1.081963e+25\n",
      "INFO:GTS.isc_modelling.contact_mechanics_biot:diff init contact = 9.451799e+24\n",
      "INFO:GTS.isc_modelling.contact_mechanics_biot:diff iter scalar = 6.186699e+22\n",
      "INFO:GTS.isc_modelling.contact_mechanics_biot:diff init scalar = 4.852792e+22\n",
      "INFO:GTS.isc_modelling.contact_mechanics_biot:Error in contact force is 1.144716e+00\n",
      "INFO:GTS.isc_modelling.contact_mechanics_biot:Error in matrix displacement is 1.126670e+00\n",
      "INFO:GTS.isc_modelling.contact_mechanics_biot:Error in pressure is 1.274874e+00.\n",
      "INFO:porepy.numerics.nonlinear.nonlinear_solvers:Newton iteration number 26 of 40\n"
     ]
    },
    {
     "name": "stdout",
     "output_type": "stream",
     "text": [
      "Solved whole system using direct solver in 146.7409152984619 s.\n"
     ]
    },
    {
     "name": "stderr",
     "output_type": "stream",
     "text": [
      "INFO:porepy.models.contact_mechanics_biot_model:||b-Ax|| = 0.000593354250757301\n",
      "INFO:porepy.models.contact_mechanics_biot_model:||b-Ax|| / ||b|| = 1.660825873502083e-08\n",
      "INFO:GTS.isc_modelling.contact_mechanics_biot:diff iter u = 5.442090e+03\n",
      "INFO:GTS.isc_modelling.contact_mechanics_biot:diff init u = 2.273491e+03\n",
      "INFO:GTS.isc_modelling.contact_mechanics_biot:diff iter contact = 1.384906e+25\n",
      "INFO:GTS.isc_modelling.contact_mechanics_biot:diff init contact = 5.018757e+24\n",
      "INFO:GTS.isc_modelling.contact_mechanics_biot:diff iter scalar = 1.132255e+23\n",
      "INFO:GTS.isc_modelling.contact_mechanics_biot:diff init scalar = 6.255258e+22\n",
      "INFO:GTS.isc_modelling.contact_mechanics_biot:Error in contact force is 2.759461e+00\n",
      "INFO:GTS.isc_modelling.contact_mechanics_biot:Error in matrix displacement is 2.393716e+00\n",
      "INFO:GTS.isc_modelling.contact_mechanics_biot:Error in pressure is 1.810085e+00.\n",
      "INFO:porepy.numerics.nonlinear.nonlinear_solvers:Newton iteration number 27 of 40\n"
     ]
    },
    {
     "name": "stdout",
     "output_type": "stream",
     "text": [
      "Solved whole system using direct solver in 130.09960627555847 s.\n"
     ]
    },
    {
     "name": "stderr",
     "output_type": "stream",
     "text": [
      "INFO:porepy.models.contact_mechanics_biot_model:||b-Ax|| = 0.0003895422627772034\n",
      "INFO:porepy.models.contact_mechanics_biot_model:||b-Ax|| / ||b|| = 1.0903448905737273e-08\n",
      "INFO:GTS.isc_modelling.contact_mechanics_biot:diff iter u = 5.380692e+03\n",
      "INFO:GTS.isc_modelling.contact_mechanics_biot:diff init u = 3.128901e+03\n",
      "INFO:GTS.isc_modelling.contact_mechanics_biot:diff iter contact = 2.947307e+25\n",
      "INFO:GTS.isc_modelling.contact_mechanics_biot:diff init contact = 2.467053e+25\n",
      "INFO:GTS.isc_modelling.contact_mechanics_biot:diff iter scalar = 7.688661e+22\n",
      "INFO:GTS.isc_modelling.contact_mechanics_biot:diff init scalar = 3.977244e+22\n",
      "INFO:GTS.isc_modelling.contact_mechanics_biot:Error in contact force is 1.194667e+00\n",
      "INFO:GTS.isc_modelling.contact_mechanics_biot:Error in matrix displacement is 1.719675e+00\n",
      "INFO:GTS.isc_modelling.contact_mechanics_biot:Error in pressure is 1.933163e+00.\n",
      "INFO:porepy.numerics.nonlinear.nonlinear_solvers:Newton iteration number 28 of 40\n"
     ]
    },
    {
     "name": "stdout",
     "output_type": "stream",
     "text": [
      "Solved whole system using direct solver in 110.7759006023407 s.\n"
     ]
    },
    {
     "name": "stderr",
     "output_type": "stream",
     "text": [
      "INFO:porepy.models.contact_mechanics_biot_model:||b-Ax|| = 0.0007908250634564516\n",
      "INFO:porepy.models.contact_mechanics_biot_model:||b-Ax|| / ||b|| = 2.2135211874756905e-08\n",
      "INFO:GTS.isc_modelling.contact_mechanics_biot:diff iter u = 3.683071e+03\n",
      "INFO:GTS.isc_modelling.contact_mechanics_biot:diff init u = 8.968278e+02\n",
      "INFO:GTS.isc_modelling.contact_mechanics_biot:diff iter contact = 3.644087e+25\n",
      "INFO:GTS.isc_modelling.contact_mechanics_biot:diff init contact = 1.245614e+25\n",
      "INFO:GTS.isc_modelling.contact_mechanics_biot:diff iter scalar = 9.531507e+22\n",
      "INFO:GTS.isc_modelling.contact_mechanics_biot:diff init scalar = 6.140381e+22\n",
      "INFO:GTS.isc_modelling.contact_mechanics_biot:Error in contact force is 2.925534e+00\n",
      "INFO:GTS.isc_modelling.contact_mechanics_biot:Error in matrix displacement is 4.106776e+00\n",
      "INFO:GTS.isc_modelling.contact_mechanics_biot:Error in pressure is 1.552266e+00.\n",
      "INFO:porepy.numerics.nonlinear.nonlinear_solvers:Newton iteration number 29 of 40\n"
     ]
    },
    {
     "name": "stdout",
     "output_type": "stream",
     "text": [
      "Solved whole system using direct solver in 135.8189618587494 s.\n"
     ]
    },
    {
     "name": "stderr",
     "output_type": "stream",
     "text": [
      "INFO:porepy.models.contact_mechanics_biot_model:||b-Ax|| = 0.00014114056123967612\n",
      "INFO:porepy.models.contact_mechanics_biot_model:||b-Ax|| / ||b|| = 3.950879978496409e-09\n",
      "INFO:GTS.isc_modelling.contact_mechanics_biot:diff iter u = 8.272135e+02\n",
      "INFO:GTS.isc_modelling.contact_mechanics_biot:diff init u = 1.736461e+02\n",
      "INFO:GTS.isc_modelling.contact_mechanics_biot:diff iter contact = 1.310140e+25\n",
      "INFO:GTS.isc_modelling.contact_mechanics_biot:diff init contact = 8.502384e+23\n",
      "INFO:GTS.isc_modelling.contact_mechanics_biot:diff iter scalar = 6.575203e+22\n",
      "INFO:GTS.isc_modelling.contact_mechanics_biot:diff init scalar = 3.858598e+21\n",
      "INFO:GTS.isc_modelling.contact_mechanics_biot:Error in contact force is 1.540909e+01\n",
      "INFO:GTS.isc_modelling.contact_mechanics_biot:Error in matrix displacement is 4.763791e+00\n",
      "INFO:GTS.isc_modelling.contact_mechanics_biot:Error in pressure is 1.704040e+01.\n",
      "INFO:porepy.numerics.nonlinear.nonlinear_solvers:Newton iteration number 30 of 40\n"
     ]
    },
    {
     "name": "stdout",
     "output_type": "stream",
     "text": [
      "Solved whole system using direct solver in 117.95701432228088 s.\n"
     ]
    },
    {
     "name": "stderr",
     "output_type": "stream",
     "text": [
      "INFO:porepy.models.contact_mechanics_biot_model:||b-Ax|| = 6.957505719378206e-05\n",
      "INFO:porepy.models.contact_mechanics_biot_model:||b-Ax|| / ||b|| = 1.9475971161255515e-09\n",
      "INFO:GTS.isc_modelling.contact_mechanics_biot:diff iter u = 1.378989e+02\n",
      "INFO:GTS.isc_modelling.contact_mechanics_biot:diff init u = 4.546695e+01\n",
      "INFO:GTS.isc_modelling.contact_mechanics_biot:diff iter contact = 9.187158e+23\n",
      "INFO:GTS.isc_modelling.contact_mechanics_biot:diff init contact = 1.150080e+23\n",
      "INFO:GTS.isc_modelling.contact_mechanics_biot:diff iter scalar = 3.561996e+21\n",
      "INFO:GTS.isc_modelling.contact_mechanics_biot:diff init scalar = 3.570943e+20\n",
      "INFO:GTS.isc_modelling.contact_mechanics_biot:Error in contact force is 7.988277e+00\n",
      "INFO:GTS.isc_modelling.contact_mechanics_biot:Error in matrix displacement is 3.032948e+00\n",
      "INFO:GTS.isc_modelling.contact_mechanics_biot:Error in pressure is 9.974945e+00.\n",
      "INFO:porepy.numerics.nonlinear.nonlinear_solvers:Newton iteration number 31 of 40\n"
     ]
    },
    {
     "name": "stdout",
     "output_type": "stream",
     "text": [
      "Solved whole system using direct solver in 139.154198884964 s.\n"
     ]
    },
    {
     "name": "stderr",
     "output_type": "stream",
     "text": [
      "INFO:porepy.models.contact_mechanics_biot_model:||b-Ax|| = 5.71361251761521e-05\n",
      "INFO:porepy.models.contact_mechanics_biot_model:||b-Ax|| / ||b|| = 1.5994013369732496e-09\n",
      "INFO:GTS.isc_modelling.contact_mechanics_biot:diff iter u = 2.812146e+01\n",
      "INFO:GTS.isc_modelling.contact_mechanics_biot:diff init u = 1.705840e+01\n",
      "INFO:GTS.isc_modelling.contact_mechanics_biot:diff iter contact = 2.288274e+23\n",
      "INFO:GTS.isc_modelling.contact_mechanics_biot:diff init contact = 1.228944e+23\n",
      "INFO:GTS.isc_modelling.contact_mechanics_biot:diff iter scalar = 5.279062e+20\n",
      "INFO:GTS.isc_modelling.contact_mechanics_biot:diff init scalar = 2.195058e+20\n",
      "INFO:GTS.isc_modelling.contact_mechanics_biot:Error in contact force is 1.861984e+00\n",
      "INFO:GTS.isc_modelling.contact_mechanics_biot:Error in matrix displacement is 1.648541e+00\n",
      "INFO:GTS.isc_modelling.contact_mechanics_biot:Error in pressure is 2.404976e+00.\n",
      "INFO:porepy.numerics.nonlinear.nonlinear_solvers:Newton iteration number 32 of 40\n"
     ]
    },
    {
     "name": "stdout",
     "output_type": "stream",
     "text": [
      "Solved whole system using direct solver in 127.3018307685852 s.\n"
     ]
    },
    {
     "name": "stderr",
     "output_type": "stream",
     "text": [
      "INFO:porepy.models.contact_mechanics_biot_model:||b-Ax|| = 2.845803395230705e-05\n",
      "INFO:porepy.models.contact_mechanics_biot_model:||b-Ax|| / ||b|| = 7.966215051772621e-10\n",
      "INFO:GTS.isc_modelling.contact_mechanics_biot:diff iter u = 1.595725e+01\n",
      "INFO:GTS.isc_modelling.contact_mechanics_biot:diff init u = 1.635083e+01\n",
      "INFO:GTS.isc_modelling.contact_mechanics_biot:diff iter contact = 2.053916e+23\n",
      "INFO:GTS.isc_modelling.contact_mechanics_biot:diff init contact = 9.297588e+22\n",
      "INFO:GTS.isc_modelling.contact_mechanics_biot:diff iter scalar = 4.038388e+20\n",
      "INFO:GTS.isc_modelling.contact_mechanics_biot:diff init scalar = 2.208106e+20\n",
      "INFO:GTS.isc_modelling.contact_mechanics_biot:Error in contact force is 2.209085e+00\n",
      "INFO:GTS.isc_modelling.contact_mechanics_biot:Error in matrix displacement is 9.759292e-01\n",
      "INFO:GTS.isc_modelling.contact_mechanics_biot:Error in pressure is 1.828892e+00.\n",
      "INFO:porepy.numerics.nonlinear.nonlinear_solvers:Newton iteration number 33 of 40\n"
     ]
    },
    {
     "name": "stdout",
     "output_type": "stream",
     "text": [
      "Solved whole system using direct solver in 146.21484327316284 s.\n"
     ]
    },
    {
     "name": "stderr",
     "output_type": "stream",
     "text": [
      "INFO:porepy.models.contact_mechanics_biot_model:||b-Ax|| = 8.731036708613677e-05\n",
      "INFO:porepy.models.contact_mechanics_biot_model:||b-Ax|| / ||b|| = 2.4440659096714327e-09\n",
      "INFO:GTS.isc_modelling.contact_mechanics_biot:diff iter u = 1.922805e+01\n",
      "INFO:GTS.isc_modelling.contact_mechanics_biot:diff init u = 9.190734e+00\n",
      "INFO:GTS.isc_modelling.contact_mechanics_biot:diff iter contact = 1.327250e+23\n",
      "INFO:GTS.isc_modelling.contact_mechanics_biot:diff init contact = 4.991914e+22\n",
      "INFO:GTS.isc_modelling.contact_mechanics_biot:diff iter scalar = 3.281984e+20\n",
      "INFO:GTS.isc_modelling.contact_mechanics_biot:diff init scalar = 1.694860e+20\n",
      "INFO:GTS.isc_modelling.contact_mechanics_biot:Error in contact force is 2.658800e+00\n",
      "INFO:GTS.isc_modelling.contact_mechanics_biot:Error in matrix displacement is 2.092112e+00\n",
      "INFO:GTS.isc_modelling.contact_mechanics_biot:Error in pressure is 1.936434e+00.\n",
      "INFO:porepy.numerics.nonlinear.nonlinear_solvers:Newton iteration number 34 of 40\n"
     ]
    },
    {
     "name": "stdout",
     "output_type": "stream",
     "text": [
      "Solved whole system using direct solver in 134.30986046791077 s.\n"
     ]
    },
    {
     "name": "stderr",
     "output_type": "stream",
     "text": [
      "INFO:porepy.models.contact_mechanics_biot_model:||b-Ax|| = 1.8455302673402887e-05\n",
      "INFO:porepy.models.contact_mechanics_biot_model:||b-Ax|| / ||b|| = 5.166166031953194e-10\n",
      "INFO:GTS.isc_modelling.contact_mechanics_biot:diff iter u = 9.262239e+00\n",
      "INFO:GTS.isc_modelling.contact_mechanics_biot:diff init u = 2.126337e+00\n",
      "INFO:GTS.isc_modelling.contact_mechanics_biot:diff iter contact = 4.933797e+22\n",
      "INFO:GTS.isc_modelling.contact_mechanics_biot:diff init contact = 9.345982e+21\n",
      "INFO:GTS.isc_modelling.contact_mechanics_biot:diff iter scalar = 1.848570e+20\n",
      "INFO:GTS.isc_modelling.contact_mechanics_biot:diff init scalar = 2.339088e+19\n",
      "INFO:GTS.isc_modelling.contact_mechanics_biot:Error in contact force is 5.279056e+00\n",
      "INFO:GTS.isc_modelling.contact_mechanics_biot:Error in matrix displacement is 4.355961e+00\n",
      "INFO:GTS.isc_modelling.contact_mechanics_biot:Error in pressure is 7.902949e+00.\n",
      "INFO:porepy.numerics.nonlinear.nonlinear_solvers:Newton iteration number 35 of 40\n"
     ]
    },
    {
     "name": "stdout",
     "output_type": "stream",
     "text": [
      "Solved whole system using direct solver in 135.11994409561157 s.\n"
     ]
    },
    {
     "name": "stderr",
     "output_type": "stream",
     "text": [
      "INFO:porepy.models.contact_mechanics_biot_model:||b-Ax|| = 1.032689385032203e-05\n",
      "INFO:porepy.models.contact_mechanics_biot_model:||b-Ax|| / ||b|| = 2.8907926132708226e-10\n",
      "INFO:GTS.isc_modelling.contact_mechanics_biot:diff iter u = 1.329994e+00\n",
      "INFO:GTS.isc_modelling.contact_mechanics_biot:diff init u = 4.675310e-01\n",
      "INFO:GTS.isc_modelling.contact_mechanics_biot:diff iter contact = 4.859811e+21\n",
      "INFO:GTS.isc_modelling.contact_mechanics_biot:diff init contact = 4.984208e+21\n",
      "INFO:GTS.isc_modelling.contact_mechanics_biot:diff iter scalar = 1.968255e+19\n",
      "INFO:GTS.isc_modelling.contact_mechanics_biot:diff init scalar = 3.237892e+18\n",
      "INFO:GTS.isc_modelling.contact_mechanics_biot:Error in contact force is 9.750418e-01\n",
      "INFO:GTS.isc_modelling.contact_mechanics_biot:Error in matrix displacement is 2.844718e+00\n",
      "INFO:GTS.isc_modelling.contact_mechanics_biot:Error in pressure is 6.078814e+00.\n",
      "INFO:porepy.numerics.nonlinear.nonlinear_solvers:Newton iteration number 36 of 40\n"
     ]
    },
    {
     "name": "stdout",
     "output_type": "stream",
     "text": [
      "Solved whole system using direct solver in 104.90375852584839 s.\n"
     ]
    },
    {
     "name": "stderr",
     "output_type": "stream",
     "text": [
      "INFO:porepy.models.contact_mechanics_biot_model:||b-Ax|| = 3.869932513613461e-06\n",
      "INFO:porepy.models.contact_mechanics_biot_model:||b-Ax|| / ||b|| = 1.083304704903525e-10\n",
      "INFO:GTS.isc_modelling.contact_mechanics_biot:diff iter u = 1.712411e-01\n",
      "INFO:GTS.isc_modelling.contact_mechanics_biot:diff init u = 2.845382e-01\n",
      "INFO:GTS.isc_modelling.contact_mechanics_biot:diff iter contact = 4.690509e+20\n",
      "INFO:GTS.isc_modelling.contact_mechanics_biot:diff init contact = 4.881128e+21\n",
      "INFO:GTS.isc_modelling.contact_mechanics_biot:diff iter scalar = 3.061146e+18\n",
      "INFO:GTS.isc_modelling.contact_mechanics_biot:diff init scalar = 1.642076e+18\n",
      "INFO:GTS.isc_modelling.contact_mechanics_biot:Error in contact force is 9.609476e-02\n",
      "INFO:GTS.isc_modelling.contact_mechanics_biot:Error in matrix displacement is 6.018211e-01\n",
      "INFO:GTS.isc_modelling.contact_mechanics_biot:Error in pressure is 1.864192e+00.\n",
      "INFO:porepy.numerics.nonlinear.nonlinear_solvers:Newton iteration number 37 of 40\n"
     ]
    },
    {
     "name": "stdout",
     "output_type": "stream",
     "text": [
      "Solved whole system using direct solver in 116.6274037361145 s.\n"
     ]
    },
    {
     "name": "stderr",
     "output_type": "stream",
     "text": [
      "INFO:porepy.models.contact_mechanics_biot_model:||b-Ax|| = 4.361346093576885e-06\n",
      "INFO:porepy.models.contact_mechanics_biot_model:||b-Ax|| / ||b|| = 1.2208654154784382e-10\n",
      "INFO:GTS.isc_modelling.contact_mechanics_biot:diff iter u = 9.353515e-02\n",
      "INFO:GTS.isc_modelling.contact_mechanics_biot:diff init u = 2.293335e-01\n",
      "INFO:GTS.isc_modelling.contact_mechanics_biot:diff iter contact = 3.342181e+20\n",
      "INFO:GTS.isc_modelling.contact_mechanics_biot:diff init contact = 4.832917e+21\n",
      "INFO:GTS.isc_modelling.contact_mechanics_biot:diff iter scalar = 1.578089e+18\n",
      "INFO:GTS.isc_modelling.contact_mechanics_biot:diff init scalar = 1.781756e+18\n",
      "INFO:GTS.isc_modelling.contact_mechanics_biot:Error in contact force is 6.915452e-02\n",
      "INFO:GTS.isc_modelling.contact_mechanics_biot:Error in matrix displacement is 4.078565e-01\n",
      "INFO:GTS.isc_modelling.contact_mechanics_biot:Error in pressure is 8.856930e-01.\n",
      "INFO:porepy.numerics.nonlinear.nonlinear_solvers:Newton iteration number 38 of 40\n"
     ]
    },
    {
     "name": "stdout",
     "output_type": "stream",
     "text": [
      "Solved whole system using direct solver in 120.38361382484436 s.\n"
     ]
    },
    {
     "name": "stderr",
     "output_type": "stream",
     "text": [
      "INFO:porepy.models.contact_mechanics_biot_model:||b-Ax|| = 7.680151613981518e-06\n",
      "INFO:porepy.models.contact_mechanics_biot_model:||b-Ax|| / ||b|| = 2.1498939300129684e-10\n",
      "INFO:GTS.isc_modelling.contact_mechanics_biot:diff iter u = 1.094132e+00\n",
      "INFO:GTS.isc_modelling.contact_mechanics_biot:diff init u = 1.228888e+00\n",
      "INFO:GTS.isc_modelling.contact_mechanics_biot:diff iter contact = 2.194393e+22\n",
      "INFO:GTS.isc_modelling.contact_mechanics_biot:diff init contact = 2.647948e+22\n",
      "INFO:GTS.isc_modelling.contact_mechanics_biot:diff iter scalar = 4.854175e+19\n",
      "INFO:GTS.isc_modelling.contact_mechanics_biot:diff init scalar = 4.778364e+19\n",
      "INFO:GTS.isc_modelling.contact_mechanics_biot:Error in contact force is 8.287146e-01\n",
      "INFO:GTS.isc_modelling.contact_mechanics_biot:Error in matrix displacement is 8.903427e-01\n",
      "INFO:GTS.isc_modelling.contact_mechanics_biot:Error in pressure is 1.015865e+00.\n",
      "INFO:porepy.numerics.nonlinear.nonlinear_solvers:Newton iteration number 39 of 40\n"
     ]
    },
    {
     "name": "stdout",
     "output_type": "stream",
     "text": [
      "Solved whole system using direct solver in 115.85963726043701 s.\n"
     ]
    },
    {
     "name": "stderr",
     "output_type": "stream",
     "text": [
      "INFO:porepy.models.contact_mechanics_biot_model:||b-Ax|| = 0.0002262306934711009\n",
      "INFO:porepy.models.contact_mechanics_biot_model:||b-Ax|| / ||b|| = 6.33284356236642e-09\n",
      "INFO:GTS.isc_modelling.contact_mechanics_biot:diff iter u = 1.015116e+02\n",
      "INFO:GTS.isc_modelling.contact_mechanics_biot:diff init u = 9.739337e+01\n",
      "INFO:GTS.isc_modelling.contact_mechanics_biot:diff iter contact = 1.703459e+24\n",
      "INFO:GTS.isc_modelling.contact_mechanics_biot:diff init contact = 1.686264e+24\n",
      "INFO:GTS.isc_modelling.contact_mechanics_biot:diff iter scalar = 2.161704e+21\n",
      "INFO:GTS.isc_modelling.contact_mechanics_biot:diff init scalar = 2.140802e+21\n",
      "INFO:GTS.isc_modelling.contact_mechanics_biot:Error in contact force is 1.010197e+00\n",
      "INFO:GTS.isc_modelling.contact_mechanics_biot:Error in matrix displacement is 1.042285e+00\n",
      "INFO:GTS.isc_modelling.contact_mechanics_biot:Error in pressure is 1.009764e+00.\n",
      "INFO:porepy.numerics.nonlinear.nonlinear_solvers:Newton iteration number 40 of 40\n"
     ]
    },
    {
     "name": "stdout",
     "output_type": "stream",
     "text": [
      "Solved whole system using direct solver in 150.84544587135315 s.\n"
     ]
    },
    {
     "name": "stderr",
     "output_type": "stream",
     "text": [
      "INFO:porepy.models.contact_mechanics_biot_model:||b-Ax|| = 0.00012731505877679208\n",
      "INFO:porepy.models.contact_mechanics_biot_model:||b-Ax|| / ||b|| = 3.563906372578049e-09\n",
      "INFO:GTS.isc_modelling.contact_mechanics_biot:diff iter u = 2.268873e+02\n",
      "INFO:GTS.isc_modelling.contact_mechanics_biot:diff init u = 1.426029e+02\n",
      "INFO:GTS.isc_modelling.contact_mechanics_biot:diff iter contact = 1.924363e+24\n",
      "INFO:GTS.isc_modelling.contact_mechanics_biot:diff init contact = 2.831592e+23\n",
      "INFO:GTS.isc_modelling.contact_mechanics_biot:diff iter scalar = 5.109424e+21\n",
      "INFO:GTS.isc_modelling.contact_mechanics_biot:diff init scalar = 3.359613e+21\n",
      "INFO:GTS.isc_modelling.contact_mechanics_biot:Error in contact force is 6.796044e+00\n",
      "INFO:GTS.isc_modelling.contact_mechanics_biot:Error in matrix displacement is 1.591043e+00\n",
      "INFO:GTS.isc_modelling.contact_mechanics_biot:Error in pressure is 1.520837e+00.\n",
      "ERROR:GTS.isc_modelling.contact_mechanics_biot:Newton iterations did not converge\n",
      "INFO:GTS.isc_modelling.contact_mechanics_biot:Calling after_newton_convergence(<GTS.isc_modelling.contact_mechanics_biot.ContactMechanicsBiotISC object at 0x7f57d13d9160>, array([ 0.06679251, -0.40954604, -0.04888759, ..., -0.08737623,\n",
      "        0.08296397,  0.08737623]), [1.0, 0.07665889024485359, 0.05008512688186124, 0.1161463633672319, 0.06486411123059838, 0.0468506362494693, 0.22146705769572117, 0.819633947102204, 0.751330041745617, 0.4931631766107148, 0.8877293773545757, 1.1234183588058093, 3.9713259813074635, 1.4542640503906556, 0.17553502796629689, 0.5916613382060407, 0.8103022384516372, 0.7349487232723161, 1.0235252369085668, 0.97832320640077, 4.762667219166647, 1.5056282216353951, 1.3031383244167671, 3.8367657434926126, 5.402397440910356, 1.126670436173678, 2.393715567892576, 1.719674650489483, 4.106776299998372, 4.763790868484136, 3.0329481720883473, 1.6485408011762754, 0.9759292233651277, 2.0921124911608615, 4.3559606055845395, 2.844718424207328, 0.6018211227077649, 0.407856545260384, 0.8903427053098606, 1.0422848937217155, 1.5910432778411827], 41)\n",
      "INFO:GTS.isc_modelling.contact_mechanics_biot:Calling export_step(<GTS.isc_modelling.contact_mechanics_biot.ContactMechanicsBiotISC object at 0x7f57d13d9160>)\n"
     ]
    },
    {
     "name": "stdout",
     "output_type": "stream",
     "text": [
      "Solved whole system using direct solver in 141.81474924087524 s.\n"
     ]
    },
    {
     "name": "stderr",
     "output_type": "stream",
     "text": [
      "/home/haakon/.local/lib/python3.7/site-packages/vtk/util/numpy_support.py:137: FutureWarning: Conversion of the second argument of issubdtype from `complex` to `np.complexfloating` is deprecated. In future, it will be treated as `np.complex128 == np.dtype(complex).type`.\n",
      "  assert not numpy.issubdtype(z.dtype, complex), \\\n",
      "INFO:GTS.isc_modelling.contact_mechanics_biot:'export_step' returned None\n",
      "INFO:GTS.isc_modelling.contact_mechanics_biot:'after_newton_convergence' returned None\n",
      "INFO:GTS.isc_modelling.contact_mechanics_biot:Solution exported to folder \n",
      " /home/haakon/mastersproject/src/mastersproject/GTS/isc_modelling/results/200421/full_model_tests/test_1\n",
      "INFO:porepy.models.run_models:\n",
      "Time step 2 at time 4.8e+03 of 7.2e+03 with time step 2.4e+03\n",
      "INFO:GTS.isc_modelling.contact_mechanics_biot:Calling before_newton_loop(<GTS.isc_modelling.contact_mechanics_biot.ContactMechanicsBiotISC object at 0x7f57d13d9160>)\n",
      "INFO:GTS.isc_modelling.contact_mechanics_biot:Finished 'before_newton_loop' in 0.0930 secs\n",
      "INFO:GTS.isc_modelling.contact_mechanics_biot:'before_newton_loop' returned None\n",
      "INFO:porepy.numerics.nonlinear.nonlinear_solvers:Newton iteration number 0 of 40\n",
      "INFO:porepy.models.contact_mechanics_biot_model:||b-Ax|| = 2.8506159976926242e-05\n",
      "INFO:porepy.models.contact_mechanics_biot_model:||b-Ax|| / ||b|| = 7.619419474290725e-10\n",
      "INFO:GTS.isc_modelling.contact_mechanics_biot:diff iter u = 6.403604e+01\n",
      "INFO:GTS.isc_modelling.contact_mechanics_biot:diff init u = 6.403604e+01\n",
      "INFO:GTS.isc_modelling.contact_mechanics_biot:diff iter contact = 2.937260e+23\n",
      "INFO:GTS.isc_modelling.contact_mechanics_biot:diff init contact = 2.937260e+23\n",
      "INFO:GTS.isc_modelling.contact_mechanics_biot:diff iter scalar = 3.399849e+21\n",
      "INFO:GTS.isc_modelling.contact_mechanics_biot:diff init scalar = 3.399849e+21\n",
      "INFO:GTS.isc_modelling.contact_mechanics_biot:Error in contact force is 1.000000e+00\n",
      "INFO:GTS.isc_modelling.contact_mechanics_biot:Error in matrix displacement is 1.000000e+00\n",
      "INFO:GTS.isc_modelling.contact_mechanics_biot:Error in pressure is 1.000000e+00.\n",
      "INFO:porepy.numerics.nonlinear.nonlinear_solvers:Newton iteration number 1 of 40\n"
     ]
    },
    {
     "name": "stdout",
     "output_type": "stream",
     "text": [
      "Solved whole system using direct solver in 125.40650916099548 s.\n"
     ]
    },
    {
     "name": "stderr",
     "output_type": "stream",
     "text": [
      "INFO:porepy.models.contact_mechanics_biot_model:||b-Ax|| = 1.899624405080319e-05\n",
      "INFO:porepy.models.contact_mechanics_biot_model:||b-Ax|| / ||b|| = 5.077550556919319e-10\n",
      "INFO:GTS.isc_modelling.contact_mechanics_biot:diff iter u = 1.320033e+01\n",
      "INFO:GTS.isc_modelling.contact_mechanics_biot:diff init u = 1.077318e+02\n",
      "INFO:GTS.isc_modelling.contact_mechanics_biot:diff iter contact = 1.655605e+22\n",
      "INFO:GTS.isc_modelling.contact_mechanics_biot:diff init contact = 2.916430e+23\n",
      "INFO:GTS.isc_modelling.contact_mechanics_biot:diff iter scalar = 3.448366e+20\n",
      "INFO:GTS.isc_modelling.contact_mechanics_biot:diff init scalar = 4.022058e+21\n",
      "INFO:GTS.isc_modelling.contact_mechanics_biot:Error in contact force is 5.676821e-02\n",
      "INFO:GTS.isc_modelling.contact_mechanics_biot:Error in matrix displacement is 1.225295e-01\n",
      "INFO:GTS.isc_modelling.contact_mechanics_biot:Error in pressure is 8.573636e-02.\n",
      "INFO:porepy.numerics.nonlinear.nonlinear_solvers:Newton iteration number 2 of 40\n"
     ]
    },
    {
     "name": "stdout",
     "output_type": "stream",
     "text": [
      "Solved whole system using direct solver in 137.39780807495117 s.\n"
     ]
    },
    {
     "name": "stderr",
     "output_type": "stream",
     "text": [
      "INFO:porepy.models.contact_mechanics_biot_model:||b-Ax|| = 0.0001387509907302717\n",
      "INFO:porepy.models.contact_mechanics_biot_model:||b-Ax|| / ||b|| = 3.7087135895131845e-09\n",
      "INFO:GTS.isc_modelling.contact_mechanics_biot:diff iter u = 1.936140e+02\n",
      "INFO:GTS.isc_modelling.contact_mechanics_biot:diff init u = 2.738809e+02\n",
      "INFO:GTS.isc_modelling.contact_mechanics_biot:diff iter contact = 3.705800e+23\n",
      "INFO:GTS.isc_modelling.contact_mechanics_biot:diff init contact = 6.689092e+23\n",
      "INFO:GTS.isc_modelling.contact_mechanics_biot:diff iter scalar = 4.461613e+21\n",
      "INFO:GTS.isc_modelling.contact_mechanics_biot:diff init scalar = 7.419291e+21\n",
      "INFO:GTS.isc_modelling.contact_mechanics_biot:Error in contact force is 5.540064e-01\n",
      "INFO:GTS.isc_modelling.contact_mechanics_biot:Error in matrix displacement is 7.069276e-01\n",
      "INFO:GTS.isc_modelling.contact_mechanics_biot:Error in pressure is 6.013530e-01.\n",
      "INFO:porepy.numerics.nonlinear.nonlinear_solvers:Newton iteration number 3 of 40\n"
     ]
    },
    {
     "name": "stdout",
     "output_type": "stream",
     "text": [
      "Solved whole system using direct solver in 149.38791799545288 s.\n"
     ]
    },
    {
     "name": "stderr",
     "output_type": "stream",
     "text": [
      "INFO:porepy.models.contact_mechanics_biot_model:||b-Ax|| = 0.00010538608597924683\n",
      "INFO:porepy.models.contact_mechanics_biot_model:||b-Ax|| / ||b|| = 2.8168792504277145e-09\n",
      "INFO:GTS.isc_modelling.contact_mechanics_biot:diff iter u = 2.069020e+02\n",
      "INFO:GTS.isc_modelling.contact_mechanics_biot:diff init u = 3.073388e+02\n",
      "INFO:GTS.isc_modelling.contact_mechanics_biot:diff iter contact = 9.251549e+23\n",
      "INFO:GTS.isc_modelling.contact_mechanics_biot:diff init contact = 8.730576e+23\n",
      "INFO:GTS.isc_modelling.contact_mechanics_biot:diff iter scalar = 7.894522e+21\n",
      "INFO:GTS.isc_modelling.contact_mechanics_biot:diff init scalar = 6.653488e+21\n",
      "INFO:GTS.isc_modelling.contact_mechanics_biot:Error in contact force is 1.059672e+00\n",
      "INFO:GTS.isc_modelling.contact_mechanics_biot:Error in matrix displacement is 6.732050e-01\n",
      "INFO:GTS.isc_modelling.contact_mechanics_biot:Error in pressure is 1.186524e+00.\n",
      "INFO:porepy.numerics.nonlinear.nonlinear_solvers:Newton iteration number 4 of 40\n"
     ]
    },
    {
     "name": "stdout",
     "output_type": "stream",
     "text": [
      "Solved whole system using direct solver in 152.33274483680725 s.\n"
     ]
    },
    {
     "name": "stderr",
     "output_type": "stream",
     "text": [
      "INFO:porepy.models.contact_mechanics_biot_model:||b-Ax|| = 0.00015994674321523212\n",
      "INFO:porepy.models.contact_mechanics_biot_model:||b-Ax|| / ||b|| = 4.275254687065578e-09\n",
      "INFO:GTS.isc_modelling.contact_mechanics_biot:diff iter u = 3.591592e+02\n",
      "INFO:GTS.isc_modelling.contact_mechanics_biot:diff init u = 5.503519e+02\n",
      "INFO:GTS.isc_modelling.contact_mechanics_biot:diff iter contact = 1.662831e+24\n",
      "INFO:GTS.isc_modelling.contact_mechanics_biot:diff init contact = 1.384165e+24\n",
      "INFO:GTS.isc_modelling.contact_mechanics_biot:diff iter scalar = 6.889187e+21\n",
      "INFO:GTS.isc_modelling.contact_mechanics_biot:diff init scalar = 7.848298e+21\n",
      "INFO:GTS.isc_modelling.contact_mechanics_biot:Error in contact force is 1.201324e+00\n",
      "INFO:GTS.isc_modelling.contact_mechanics_biot:Error in matrix displacement is 6.525991e-01\n",
      "INFO:GTS.isc_modelling.contact_mechanics_biot:Error in pressure is 8.777938e-01.\n",
      "INFO:porepy.numerics.nonlinear.nonlinear_solvers:Newton iteration number 5 of 40\n"
     ]
    },
    {
     "name": "stdout",
     "output_type": "stream",
     "text": [
      "Solved whole system using direct solver in 151.56955909729004 s.\n"
     ]
    },
    {
     "name": "stderr",
     "output_type": "stream",
     "text": [
      "INFO:porepy.models.contact_mechanics_biot_model:||b-Ax|| = 0.0009827542369524806\n",
      "INFO:porepy.models.contact_mechanics_biot_model:||b-Ax|| / ||b|| = 2.6268138702595468e-08\n",
      "INFO:GTS.isc_modelling.contact_mechanics_biot:diff iter u = 8.765553e+02\n",
      "INFO:GTS.isc_modelling.contact_mechanics_biot:diff init u = 1.003319e+03\n",
      "INFO:GTS.isc_modelling.contact_mechanics_biot:diff iter contact = 9.895321e+24\n",
      "INFO:GTS.isc_modelling.contact_mechanics_biot:diff init contact = 9.063081e+24\n",
      "INFO:GTS.isc_modelling.contact_mechanics_biot:diff iter scalar = 1.194965e+22\n",
      "INFO:GTS.isc_modelling.contact_mechanics_biot:diff init scalar = 1.075432e+22\n",
      "INFO:GTS.isc_modelling.contact_mechanics_biot:Error in contact force is 1.091827e+00\n",
      "INFO:GTS.isc_modelling.contact_mechanics_biot:Error in matrix displacement is 8.736560e-01\n",
      "INFO:GTS.isc_modelling.contact_mechanics_biot:Error in pressure is 1.111149e+00.\n",
      "INFO:porepy.numerics.nonlinear.nonlinear_solvers:Newton iteration number 6 of 40\n"
     ]
    },
    {
     "name": "stdout",
     "output_type": "stream",
     "text": [
      "Solved whole system using direct solver in 151.32755088806152 s.\n"
     ]
    },
    {
     "name": "stderr",
     "output_type": "stream",
     "text": [
      "INFO:porepy.models.contact_mechanics_biot_model:||b-Ax|| = 0.00013050292522641242\n",
      "INFO:porepy.models.contact_mechanics_biot_model:||b-Ax|| / ||b|| = 3.4881788579057356e-09\n",
      "INFO:GTS.isc_modelling.contact_mechanics_biot:diff iter u = 1.059077e+03\n",
      "INFO:GTS.isc_modelling.contact_mechanics_biot:diff init u = 4.852915e+02\n",
      "INFO:GTS.isc_modelling.contact_mechanics_biot:diff iter contact = 1.214342e+25\n",
      "INFO:GTS.isc_modelling.contact_mechanics_biot:diff init contact = 3.791785e+24\n",
      "INFO:GTS.isc_modelling.contact_mechanics_biot:diff iter scalar = 1.064005e+22\n",
      "INFO:GTS.isc_modelling.contact_mechanics_biot:diff init scalar = 6.410740e+21\n",
      "INFO:GTS.isc_modelling.contact_mechanics_biot:Error in contact force is 3.202560e+00\n",
      "INFO:GTS.isc_modelling.contact_mechanics_biot:Error in matrix displacement is 2.182352e+00\n",
      "INFO:GTS.isc_modelling.contact_mechanics_biot:Error in pressure is 1.659723e+00.\n",
      "INFO:porepy.numerics.nonlinear.nonlinear_solvers:Newton iteration number 7 of 40\n"
     ]
    },
    {
     "name": "stdout",
     "output_type": "stream",
     "text": [
      "Solved whole system using direct solver in 125.6029794216156 s.\n"
     ]
    },
    {
     "name": "stderr",
     "output_type": "stream",
     "text": [
      "INFO:porepy.models.contact_mechanics_biot_model:||b-Ax|| = 0.00016792106213921938\n",
      "INFO:porepy.models.contact_mechanics_biot_model:||b-Ax|| / ||b|| = 4.488389869925884e-09\n",
      "INFO:GTS.isc_modelling.contact_mechanics_biot:diff iter u = 6.025330e+02\n",
      "INFO:GTS.isc_modelling.contact_mechanics_biot:diff init u = 5.770985e+02\n",
      "INFO:GTS.isc_modelling.contact_mechanics_biot:diff iter contact = 5.345731e+24\n",
      "INFO:GTS.isc_modelling.contact_mechanics_biot:diff init contact = 2.164609e+24\n",
      "INFO:GTS.isc_modelling.contact_mechanics_biot:diff iter scalar = 8.884695e+21\n",
      "INFO:GTS.isc_modelling.contact_mechanics_biot:diff init scalar = 9.310727e+21\n",
      "INFO:GTS.isc_modelling.contact_mechanics_biot:Error in contact force is 2.469605e+00\n",
      "INFO:GTS.isc_modelling.contact_mechanics_biot:Error in matrix displacement is 1.044073e+00\n",
      "INFO:GTS.isc_modelling.contact_mechanics_biot:Error in pressure is 9.542429e-01.\n",
      "INFO:porepy.numerics.nonlinear.nonlinear_solvers:Newton iteration number 8 of 40\n"
     ]
    },
    {
     "name": "stdout",
     "output_type": "stream",
     "text": [
      "Solved whole system using direct solver in 143.034526348114 s.\n"
     ]
    },
    {
     "name": "stderr",
     "output_type": "stream",
     "text": [
      "INFO:porepy.models.contact_mechanics_biot_model:||b-Ax|| = 0.00014611519485418625\n",
      "INFO:porepy.models.contact_mechanics_biot_model:||b-Ax|| / ||b|| = 3.9054948071315515e-09\n",
      "INFO:GTS.isc_modelling.contact_mechanics_biot:diff iter u = 3.691909e+02\n",
      "INFO:GTS.isc_modelling.contact_mechanics_biot:diff init u = 2.784183e+02\n",
      "INFO:GTS.isc_modelling.contact_mechanics_biot:diff iter contact = 2.595842e+24\n",
      "INFO:GTS.isc_modelling.contact_mechanics_biot:diff init contact = 9.752893e+23\n",
      "INFO:GTS.isc_modelling.contact_mechanics_biot:diff iter scalar = 8.426595e+21\n",
      "INFO:GTS.isc_modelling.contact_mechanics_biot:diff init scalar = 6.570394e+21\n",
      "INFO:GTS.isc_modelling.contact_mechanics_biot:Error in contact force is 2.661613e+00\n",
      "INFO:GTS.isc_modelling.contact_mechanics_biot:Error in matrix displacement is 1.326029e+00\n",
      "INFO:GTS.isc_modelling.contact_mechanics_biot:Error in pressure is 1.282510e+00.\n",
      "INFO:porepy.numerics.nonlinear.nonlinear_solvers:Newton iteration number 9 of 40\n"
     ]
    },
    {
     "name": "stdout",
     "output_type": "stream",
     "text": [
      "Solved whole system using direct solver in 161.86118602752686 s.\n"
     ]
    },
    {
     "name": "stderr",
     "output_type": "stream",
     "text": [
      "INFO:porepy.models.contact_mechanics_biot_model:||b-Ax|| = 8.635552391037973e-05\n",
      "INFO:porepy.models.contact_mechanics_biot_model:||b-Ax|| / ||b|| = 2.3082140976106556e-09\n",
      "INFO:GTS.isc_modelling.contact_mechanics_biot:diff iter u = 2.692233e+02\n",
      "INFO:GTS.isc_modelling.contact_mechanics_biot:diff init u = 2.478678e+02\n",
      "INFO:GTS.isc_modelling.contact_mechanics_biot:diff iter contact = 1.150601e+24\n",
      "INFO:GTS.isc_modelling.contact_mechanics_biot:diff init contact = 7.522101e+23\n",
      "INFO:GTS.isc_modelling.contact_mechanics_biot:diff iter scalar = 6.093994e+21\n",
      "INFO:GTS.isc_modelling.contact_mechanics_biot:diff init scalar = 6.975036e+21\n",
      "INFO:GTS.isc_modelling.contact_mechanics_biot:Error in contact force is 1.529627e+00\n",
      "INFO:GTS.isc_modelling.contact_mechanics_biot:Error in matrix displacement is 1.086157e+00\n",
      "INFO:GTS.isc_modelling.contact_mechanics_biot:Error in pressure is 8.736865e-01.\n",
      "INFO:porepy.numerics.nonlinear.nonlinear_solvers:Newton iteration number 10 of 40\n"
     ]
    },
    {
     "name": "stdout",
     "output_type": "stream",
     "text": [
      "Solved whole system using direct solver in 154.92200636863708 s.\n"
     ]
    },
    {
     "name": "stderr",
     "output_type": "stream",
     "text": [
      "INFO:porepy.models.contact_mechanics_biot_model:||b-Ax|| = 8.146351886621585e-05\n",
      "INFO:porepy.models.contact_mechanics_biot_model:||b-Ax|| / ||b|| = 2.1774561989712054e-09\n",
      "INFO:GTS.isc_modelling.contact_mechanics_biot:diff iter u = 9.873928e+01\n",
      "INFO:GTS.isc_modelling.contact_mechanics_biot:diff init u = 1.838543e+02\n",
      "INFO:GTS.isc_modelling.contact_mechanics_biot:diff iter contact = 6.640438e+23\n",
      "INFO:GTS.isc_modelling.contact_mechanics_biot:diff init contact = 4.878248e+23\n",
      "INFO:GTS.isc_modelling.contact_mechanics_biot:diff iter scalar = 4.421652e+21\n",
      "INFO:GTS.isc_modelling.contact_mechanics_biot:diff init scalar = 4.873866e+21\n",
      "INFO:GTS.isc_modelling.contact_mechanics_biot:Error in contact force is 1.361234e+00\n",
      "INFO:GTS.isc_modelling.contact_mechanics_biot:Error in matrix displacement is 5.370519e-01\n",
      "INFO:GTS.isc_modelling.contact_mechanics_biot:Error in pressure is 9.072165e-01.\n",
      "INFO:porepy.numerics.nonlinear.nonlinear_solvers:Newton iteration number 11 of 40\n"
     ]
    },
    {
     "name": "stdout",
     "output_type": "stream",
     "text": [
      "Solved whole system using direct solver in 150.9994204044342 s.\n"
     ]
    },
    {
     "name": "stderr",
     "output_type": "stream",
     "text": [
      "INFO:porepy.models.contact_mechanics_biot_model:||b-Ax|| = 0.0009419381720961906\n",
      "INFO:porepy.models.contact_mechanics_biot_model:||b-Ax|| / ||b|| = 2.5177304896868778e-08\n",
      "INFO:GTS.isc_modelling.contact_mechanics_biot:diff iter u = 2.903328e+03\n",
      "INFO:GTS.isc_modelling.contact_mechanics_biot:diff init u = 3.057376e+03\n",
      "INFO:GTS.isc_modelling.contact_mechanics_biot:diff iter contact = 5.970830e+24\n",
      "INFO:GTS.isc_modelling.contact_mechanics_biot:diff init contact = 6.018727e+24\n",
      "INFO:GTS.isc_modelling.contact_mechanics_biot:diff iter scalar = 1.012961e+22\n",
      "INFO:GTS.isc_modelling.contact_mechanics_biot:diff init scalar = 1.300476e+22\n",
      "INFO:GTS.isc_modelling.contact_mechanics_biot:Error in contact force is 9.920420e-01\n",
      "INFO:GTS.isc_modelling.contact_mechanics_biot:Error in matrix displacement is 9.496146e-01\n",
      "INFO:GTS.isc_modelling.contact_mechanics_biot:Error in pressure is 7.789158e-01.\n",
      "INFO:porepy.numerics.nonlinear.nonlinear_solvers:Newton iteration number 12 of 40\n"
     ]
    },
    {
     "name": "stdout",
     "output_type": "stream",
     "text": [
      "Solved whole system using direct solver in 138.9787256717682 s.\n"
     ]
    },
    {
     "name": "stderr",
     "output_type": "stream",
     "text": [
      "INFO:porepy.models.contact_mechanics_biot_model:||b-Ax|| = 0.0028281496025985725\n",
      "INFO:porepy.models.contact_mechanics_biot_model:||b-Ax|| / ||b|| = 7.55862372812831e-08\n",
      "INFO:GTS.isc_modelling.contact_mechanics_biot:diff iter u = 4.462220e+04\n",
      "INFO:GTS.isc_modelling.contact_mechanics_biot:diff init u = 4.021567e+04\n",
      "INFO:GTS.isc_modelling.contact_mechanics_biot:diff iter contact = 2.783393e+26\n",
      "INFO:GTS.isc_modelling.contact_mechanics_biot:diff init contact = 2.732260e+26\n",
      "INFO:GTS.isc_modelling.contact_mechanics_biot:diff iter scalar = 8.627292e+23\n",
      "INFO:GTS.isc_modelling.contact_mechanics_biot:diff init scalar = 8.694188e+23\n",
      "INFO:GTS.isc_modelling.contact_mechanics_biot:Error in contact force is 1.018715e+00\n",
      "INFO:GTS.isc_modelling.contact_mechanics_biot:Error in matrix displacement is 1.109573e+00\n",
      "INFO:GTS.isc_modelling.contact_mechanics_biot:Error in pressure is 9.923056e-01.\n",
      "INFO:porepy.numerics.nonlinear.nonlinear_solvers:Newton iteration number 13 of 40\n"
     ]
    },
    {
     "name": "stdout",
     "output_type": "stream",
     "text": [
      "Solved whole system using direct solver in 144.10530829429626 s.\n"
     ]
    },
    {
     "name": "stderr",
     "output_type": "stream",
     "text": [
      "INFO:porepy.models.contact_mechanics_biot_model:||b-Ax|| = 0.0048869330601406386\n",
      "INFO:porepy.models.contact_mechanics_biot_model:||b-Ax|| / ||b|| = 1.3055971119590608e-07\n",
      "INFO:GTS.isc_modelling.contact_mechanics_biot:diff iter u = 5.526483e+05\n",
      "INFO:GTS.isc_modelling.contact_mechanics_biot:diff init u = 4.462764e+05\n",
      "INFO:GTS.isc_modelling.contact_mechanics_biot:diff iter contact = 1.431449e+27\n",
      "INFO:GTS.isc_modelling.contact_mechanics_biot:diff init contact = 1.161426e+27\n",
      "INFO:GTS.isc_modelling.contact_mechanics_biot:diff iter scalar = 5.580502e+24\n",
      "INFO:GTS.isc_modelling.contact_mechanics_biot:diff init scalar = 4.497122e+24\n",
      "INFO:GTS.isc_modelling.contact_mechanics_biot:Error in contact force is 1.232493e+00\n",
      "INFO:GTS.isc_modelling.contact_mechanics_biot:Error in matrix displacement is 1.238354e+00\n",
      "INFO:GTS.isc_modelling.contact_mechanics_biot:Error in pressure is 1.240905e+00.\n",
      "INFO:porepy.numerics.nonlinear.nonlinear_solvers:Newton iteration number 14 of 40\n"
     ]
    },
    {
     "name": "stdout",
     "output_type": "stream",
     "text": [
      "Solved whole system using direct solver in 118.25923871994019 s.\n"
     ]
    },
    {
     "name": "stderr",
     "output_type": "stream",
     "text": [
      "INFO:porepy.models.contact_mechanics_biot_model:||b-Ax|| = 0.013833505792878918\n",
      "INFO:porepy.models.contact_mechanics_biot_model:||b-Ax|| / ||b|| = 3.64872099402332e-07\n",
      "INFO:GTS.isc_modelling.contact_mechanics_biot:diff iter u = 3.942017e+05\n",
      "INFO:GTS.isc_modelling.contact_mechanics_biot:diff init u = 2.255699e+05\n",
      "INFO:GTS.isc_modelling.contact_mechanics_biot:diff iter contact = 3.576555e+27\n",
      "INFO:GTS.isc_modelling.contact_mechanics_biot:diff init contact = 2.446406e+27\n",
      "INFO:GTS.isc_modelling.contact_mechanics_biot:diff iter scalar = 7.130099e+24\n",
      "INFO:GTS.isc_modelling.contact_mechanics_biot:diff init scalar = 2.657125e+24\n",
      "INFO:GTS.isc_modelling.contact_mechanics_biot:Error in contact force is 1.461963e+00\n",
      "INFO:GTS.isc_modelling.contact_mechanics_biot:Error in matrix displacement is 1.747582e+00\n",
      "INFO:GTS.isc_modelling.contact_mechanics_biot:Error in pressure is 2.683389e+00.\n",
      "INFO:porepy.numerics.nonlinear.nonlinear_solvers:Newton iteration number 15 of 40\n"
     ]
    },
    {
     "name": "stdout",
     "output_type": "stream",
     "text": [
      "Solved whole system using direct solver in 140.87297439575195 s.\n"
     ]
    },
    {
     "name": "stderr",
     "output_type": "stream",
     "text": [
      "INFO:porepy.models.contact_mechanics_biot_model:||b-Ax|| = 0.00437529452295005\n",
      "INFO:porepy.models.contact_mechanics_biot_model:||b-Ax|| / ||b|| = 1.1639875293800984e-07\n",
      "INFO:GTS.isc_modelling.contact_mechanics_biot:diff iter u = 4.449872e+05\n",
      "INFO:GTS.isc_modelling.contact_mechanics_biot:diff init u = 1.732806e+05\n",
      "INFO:GTS.isc_modelling.contact_mechanics_biot:diff iter contact = 3.114205e+27\n",
      "INFO:GTS.isc_modelling.contact_mechanics_biot:diff init contact = 6.871462e+26\n",
      "INFO:GTS.isc_modelling.contact_mechanics_biot:diff iter scalar = 4.572217e+24\n",
      "INFO:GTS.isc_modelling.contact_mechanics_biot:diff init scalar = 2.070823e+24\n",
      "INFO:GTS.isc_modelling.contact_mechanics_biot:Error in contact force is 4.532085e+00\n",
      "INFO:GTS.isc_modelling.contact_mechanics_biot:Error in matrix displacement is 2.568015e+00\n",
      "INFO:GTS.isc_modelling.contact_mechanics_biot:Error in pressure is 2.207922e+00.\n",
      "INFO:porepy.numerics.nonlinear.nonlinear_solvers:Newton iteration number 16 of 40\n"
     ]
    },
    {
     "name": "stdout",
     "output_type": "stream",
     "text": [
      "Solved whole system using direct solver in 129.42813396453857 s.\n"
     ]
    },
    {
     "name": "stderr",
     "output_type": "stream",
     "text": [
      "INFO:porepy.models.contact_mechanics_biot_model:||b-Ax|| = 0.0012462845085123013\n",
      "INFO:porepy.models.contact_mechanics_biot_model:||b-Ax|| / ||b|| = 3.326254287414026e-08\n",
      "INFO:GTS.isc_modelling.contact_mechanics_biot:diff iter u = 1.546825e+05\n",
      "INFO:GTS.isc_modelling.contact_mechanics_biot:diff init u = 2.051666e+04\n",
      "INFO:GTS.isc_modelling.contact_mechanics_biot:diff iter contact = 7.033944e+26\n",
      "INFO:GTS.isc_modelling.contact_mechanics_biot:diff init contact = 2.923268e+25\n",
      "INFO:GTS.isc_modelling.contact_mechanics_biot:diff iter scalar = 2.201145e+24\n",
      "INFO:GTS.isc_modelling.contact_mechanics_biot:diff init scalar = 2.654984e+23\n",
      "INFO:GTS.isc_modelling.contact_mechanics_biot:Error in contact force is 2.406192e+01\n",
      "INFO:GTS.isc_modelling.contact_mechanics_biot:Error in matrix displacement is 7.539362e+00\n",
      "INFO:GTS.isc_modelling.contact_mechanics_biot:Error in pressure is 8.290613e+00.\n",
      "INFO:porepy.numerics.nonlinear.nonlinear_solvers:Newton iteration number 17 of 40\n"
     ]
    },
    {
     "name": "stdout",
     "output_type": "stream",
     "text": [
      "Solved whole system using direct solver in 123.36787915229797 s.\n"
     ]
    },
    {
     "name": "stderr",
     "output_type": "stream",
     "text": [
      "INFO:porepy.models.contact_mechanics_biot_model:||b-Ax|| = 0.006220223344550938\n",
      "INFO:porepy.models.contact_mechanics_biot_model:||b-Ax|| / ||b|| = 1.6620703437327074e-07\n",
      "INFO:GTS.isc_modelling.contact_mechanics_biot:diff iter u = 1.599476e+05\n",
      "INFO:GTS.isc_modelling.contact_mechanics_biot:diff init u = 1.388684e+05\n",
      "INFO:GTS.isc_modelling.contact_mechanics_biot:diff iter contact = 2.795029e+26\n",
      "INFO:GTS.isc_modelling.contact_mechanics_biot:diff init contact = 2.534474e+26\n",
      "INFO:GTS.isc_modelling.contact_mechanics_biot:diff iter scalar = 1.315187e+24\n",
      "INFO:GTS.isc_modelling.contact_mechanics_biot:diff init scalar = 1.071681e+24\n",
      "INFO:GTS.isc_modelling.contact_mechanics_biot:Error in contact force is 1.102805e+00\n",
      "INFO:GTS.isc_modelling.contact_mechanics_biot:Error in matrix displacement is 1.151793e+00\n",
      "INFO:GTS.isc_modelling.contact_mechanics_biot:Error in pressure is 1.227219e+00.\n",
      "INFO:porepy.numerics.nonlinear.nonlinear_solvers:Newton iteration number 18 of 40\n"
     ]
    },
    {
     "name": "stdout",
     "output_type": "stream",
     "text": [
      "Solved whole system using direct solver in 124.85976243019104 s.\n"
     ]
    },
    {
     "name": "stderr",
     "output_type": "stream",
     "text": [
      "INFO:porepy.models.contact_mechanics_biot_model:||b-Ax|| = 0.008789146158801798\n",
      "INFO:porepy.models.contact_mechanics_biot_model:||b-Ax|| / ||b|| = 2.3395375538994082e-07\n",
      "INFO:GTS.isc_modelling.contact_mechanics_biot:diff iter u = 4.037663e+05\n",
      "INFO:GTS.isc_modelling.contact_mechanics_biot:diff init u = 3.551590e+05\n",
      "INFO:GTS.isc_modelling.contact_mechanics_biot:diff iter contact = 3.278613e+27\n",
      "INFO:GTS.isc_modelling.contact_mechanics_biot:diff init contact = 3.030577e+27\n",
      "INFO:GTS.isc_modelling.contact_mechanics_biot:diff iter scalar = 6.459832e+24\n",
      "INFO:GTS.isc_modelling.contact_mechanics_biot:diff init scalar = 5.731661e+24\n",
      "INFO:GTS.isc_modelling.contact_mechanics_biot:Error in contact force is 1.081844e+00\n",
      "INFO:GTS.isc_modelling.contact_mechanics_biot:Error in matrix displacement is 1.136861e+00\n",
      "INFO:GTS.isc_modelling.contact_mechanics_biot:Error in pressure is 1.127044e+00.\n",
      "INFO:porepy.numerics.nonlinear.nonlinear_solvers:Newton iteration number 19 of 40\n"
     ]
    },
    {
     "name": "stdout",
     "output_type": "stream",
     "text": [
      "Solved whole system using direct solver in 148.84213399887085 s.\n"
     ]
    },
    {
     "name": "stderr",
     "output_type": "stream",
     "text": [
      "INFO:porepy.models.contact_mechanics_biot_model:||b-Ax|| = 0.009312657675235418\n",
      "INFO:porepy.models.contact_mechanics_biot_model:||b-Ax|| / ||b|| = 2.4663538263216946e-07\n",
      "INFO:GTS.isc_modelling.contact_mechanics_biot:diff iter u = 8.085178e+06\n",
      "INFO:GTS.isc_modelling.contact_mechanics_biot:diff init u = 7.584730e+06\n",
      "INFO:GTS.isc_modelling.contact_mechanics_biot:diff iter contact = 3.980484e+28\n",
      "INFO:GTS.isc_modelling.contact_mechanics_biot:diff init contact = 3.680787e+28\n",
      "INFO:GTS.isc_modelling.contact_mechanics_biot:diff iter scalar = 1.070036e+27\n",
      "INFO:GTS.isc_modelling.contact_mechanics_biot:diff init scalar = 1.074538e+27\n",
      "INFO:GTS.isc_modelling.contact_mechanics_biot:Error in contact force is 1.081422e+00\n",
      "INFO:GTS.isc_modelling.contact_mechanics_biot:Error in matrix displacement is 1.065981e+00\n",
      "INFO:GTS.isc_modelling.contact_mechanics_biot:Error in pressure is 9.958096e-01.\n",
      "INFO:porepy.numerics.nonlinear.nonlinear_solvers:Newton iteration number 20 of 40\n"
     ]
    },
    {
     "name": "stdout",
     "output_type": "stream",
     "text": [
      "Solved whole system using direct solver in 117.48936367034912 s.\n"
     ]
    },
    {
     "name": "stderr",
     "output_type": "stream",
     "text": [
      "INFO:porepy.models.contact_mechanics_biot_model:||b-Ax|| = 0.008911702871995933\n",
      "INFO:porepy.models.contact_mechanics_biot_model:||b-Ax|| / ||b|| = 2.1212546343352675e-07\n",
      "INFO:GTS.isc_modelling.contact_mechanics_biot:diff iter u = 5.760280e+06\n",
      "INFO:GTS.isc_modelling.contact_mechanics_biot:diff init u = 1.019760e+06\n",
      "INFO:GTS.isc_modelling.contact_mechanics_biot:diff iter contact = 4.094955e+28\n",
      "INFO:GTS.isc_modelling.contact_mechanics_biot:diff init contact = 4.775355e+27\n",
      "INFO:GTS.isc_modelling.contact_mechanics_biot:diff iter scalar = 1.073046e+27\n",
      "INFO:GTS.isc_modelling.contact_mechanics_biot:diff init scalar = 2.638423e+25\n",
      "INFO:GTS.isc_modelling.contact_mechanics_biot:Error in contact force is 8.575183e+00\n",
      "INFO:GTS.isc_modelling.contact_mechanics_biot:Error in matrix displacement is 5.648665e+00\n",
      "INFO:GTS.isc_modelling.contact_mechanics_biot:Error in pressure is 4.066996e+01.\n",
      "INFO:porepy.numerics.nonlinear.nonlinear_solvers:Newton iteration number 21 of 40\n"
     ]
    },
    {
     "name": "stdout",
     "output_type": "stream",
     "text": [
      "Solved whole system using direct solver in 129.7078309059143 s.\n"
     ]
    },
    {
     "name": "stderr",
     "output_type": "stream",
     "text": [
      "INFO:porepy.models.contact_mechanics_biot_model:||b-Ax|| = 0.008205352264270207\n",
      "INFO:porepy.models.contact_mechanics_biot_model:||b-Ax|| / ||b|| = 2.131308472553309e-07\n",
      "INFO:GTS.isc_modelling.contact_mechanics_biot:diff iter u = 7.722887e+05\n",
      "INFO:GTS.isc_modelling.contact_mechanics_biot:diff init u = 4.726917e+05\n",
      "INFO:GTS.isc_modelling.contact_mechanics_biot:diff iter contact = 5.986601e+27\n",
      "INFO:GTS.isc_modelling.contact_mechanics_biot:diff init contact = 1.368583e+27\n",
      "INFO:GTS.isc_modelling.contact_mechanics_biot:diff iter scalar = 2.728099e+25\n",
      "INFO:GTS.isc_modelling.contact_mechanics_biot:diff init scalar = 5.655653e+24\n",
      "INFO:GTS.isc_modelling.contact_mechanics_biot:Error in contact force is 4.374305e+00\n",
      "INFO:GTS.isc_modelling.contact_mechanics_biot:Error in matrix displacement is 1.633811e+00\n",
      "INFO:GTS.isc_modelling.contact_mechanics_biot:Error in pressure is 4.823668e+00.\n",
      "INFO:porepy.numerics.nonlinear.nonlinear_solvers:Newton iteration number 22 of 40\n"
     ]
    },
    {
     "name": "stdout",
     "output_type": "stream",
     "text": [
      "Solved whole system using direct solver in 119.72739696502686 s.\n"
     ]
    },
    {
     "name": "stderr",
     "output_type": "stream",
     "text": [
      "INFO:porepy.models.contact_mechanics_biot_model:||b-Ax|| = 0.001596727664592589\n",
      "INFO:porepy.models.contact_mechanics_biot_model:||b-Ax|| / ||b|| = 4.24620201710903e-08\n",
      "INFO:GTS.isc_modelling.contact_mechanics_biot:diff iter u = 2.657579e+05\n",
      "INFO:GTS.isc_modelling.contact_mechanics_biot:diff init u = 6.275613e+04\n",
      "INFO:GTS.isc_modelling.contact_mechanics_biot:diff iter contact = 1.320402e+27\n",
      "INFO:GTS.isc_modelling.contact_mechanics_biot:diff init contact = 3.236203e+25\n",
      "INFO:GTS.isc_modelling.contact_mechanics_biot:diff iter scalar = 4.863245e+24\n",
      "INFO:GTS.isc_modelling.contact_mechanics_biot:diff init scalar = 3.098783e+23\n",
      "INFO:GTS.isc_modelling.contact_mechanics_biot:Error in contact force is 4.080096e+01\n",
      "INFO:GTS.isc_modelling.contact_mechanics_biot:Error in matrix displacement is 4.234773e+00\n",
      "INFO:GTS.isc_modelling.contact_mechanics_biot:Error in pressure is 1.569405e+01.\n",
      "INFO:porepy.numerics.nonlinear.nonlinear_solvers:Newton iteration number 23 of 40\n"
     ]
    },
    {
     "name": "stdout",
     "output_type": "stream",
     "text": [
      "Solved whole system using direct solver in 129.1504487991333 s.\n"
     ]
    },
    {
     "name": "stderr",
     "output_type": "stream",
     "text": [
      "INFO:porepy.models.contact_mechanics_biot_model:||b-Ax|| = 0.0010035175285029252\n",
      "INFO:porepy.models.contact_mechanics_biot_model:||b-Ax|| / ||b|| = 2.6790863785952737e-08\n",
      "INFO:GTS.isc_modelling.contact_mechanics_biot:diff iter u = 2.816242e+04\n",
      "INFO:GTS.isc_modelling.contact_mechanics_biot:diff init u = 2.067584e+04\n",
      "INFO:GTS.isc_modelling.contact_mechanics_biot:diff iter contact = 4.873237e+25\n",
      "INFO:GTS.isc_modelling.contact_mechanics_biot:diff init contact = 1.872273e+25\n",
      "INFO:GTS.isc_modelling.contact_mechanics_biot:diff iter scalar = 2.939519e+23\n",
      "INFO:GTS.isc_modelling.contact_mechanics_biot:diff init scalar = 1.592808e+23\n",
      "INFO:GTS.isc_modelling.contact_mechanics_biot:Error in contact force is 2.602845e+00\n",
      "INFO:GTS.isc_modelling.contact_mechanics_biot:Error in matrix displacement is 1.362093e+00\n",
      "INFO:GTS.isc_modelling.contact_mechanics_biot:Error in pressure is 1.845494e+00.\n",
      "INFO:porepy.numerics.nonlinear.nonlinear_solvers:Newton iteration number 24 of 40\n"
     ]
    },
    {
     "name": "stdout",
     "output_type": "stream",
     "text": [
      "Solved whole system using direct solver in 121.94410467147827 s.\n"
     ]
    },
    {
     "name": "stderr",
     "output_type": "stream",
     "text": [
      "INFO:porepy.models.contact_mechanics_biot_model:||b-Ax|| = 0.0007937529912155996\n",
      "INFO:porepy.models.contact_mechanics_biot_model:||b-Ax|| / ||b|| = 2.1210376741145772e-08\n",
      "INFO:GTS.isc_modelling.contact_mechanics_biot:diff iter u = 6.870447e+03\n",
      "INFO:GTS.isc_modelling.contact_mechanics_biot:diff init u = 7.760872e+03\n",
      "INFO:GTS.isc_modelling.contact_mechanics_biot:diff iter contact = 2.699561e+25\n",
      "INFO:GTS.isc_modelling.contact_mechanics_biot:diff init contact = 9.445764e+24\n",
      "INFO:GTS.isc_modelling.contact_mechanics_biot:diff iter scalar = 1.403481e+23\n",
      "INFO:GTS.isc_modelling.contact_mechanics_biot:diff init scalar = 3.054891e+22\n",
      "INFO:GTS.isc_modelling.contact_mechanics_biot:Error in contact force is 2.857959e+00\n",
      "INFO:GTS.isc_modelling.contact_mechanics_biot:Error in matrix displacement is 8.852674e-01\n",
      "INFO:GTS.isc_modelling.contact_mechanics_biot:Error in pressure is 4.594210e+00.\n",
      "INFO:porepy.numerics.nonlinear.nonlinear_solvers:Newton iteration number 25 of 40\n"
     ]
    },
    {
     "name": "stdout",
     "output_type": "stream",
     "text": [
      "Solved whole system using direct solver in 138.9969766139984 s.\n"
     ]
    },
    {
     "name": "stderr",
     "output_type": "stream",
     "text": [
      "INFO:porepy.models.contact_mechanics_biot_model:||b-Ax|| = 0.0008090916023039319\n",
      "INFO:porepy.models.contact_mechanics_biot_model:||b-Ax|| / ||b|| = 2.1624248006971047e-08\n",
      "INFO:GTS.isc_modelling.contact_mechanics_biot:diff iter u = 4.096656e+03\n",
      "INFO:GTS.isc_modelling.contact_mechanics_biot:diff init u = 4.244791e+03\n",
      "INFO:GTS.isc_modelling.contact_mechanics_biot:diff iter contact = 2.539988e+25\n",
      "INFO:GTS.isc_modelling.contact_mechanics_biot:diff init contact = 1.673692e+25\n",
      "INFO:GTS.isc_modelling.contact_mechanics_biot:diff iter scalar = 4.032988e+22\n",
      "INFO:GTS.isc_modelling.contact_mechanics_biot:diff init scalar = 2.924694e+22\n",
      "INFO:GTS.isc_modelling.contact_mechanics_biot:Error in contact force is 1.517596e+00\n",
      "INFO:GTS.isc_modelling.contact_mechanics_biot:Error in matrix displacement is 9.651018e-01\n",
      "INFO:GTS.isc_modelling.contact_mechanics_biot:Error in pressure is 1.378944e+00.\n",
      "INFO:porepy.numerics.nonlinear.nonlinear_solvers:Newton iteration number 26 of 40\n"
     ]
    },
    {
     "name": "stdout",
     "output_type": "stream",
     "text": [
      "Solved whole system using direct solver in 107.8299195766449 s.\n"
     ]
    },
    {
     "name": "stderr",
     "output_type": "stream",
     "text": [
      "INFO:porepy.models.contact_mechanics_biot_model:||b-Ax|| = 0.0013614588223205572\n",
      "INFO:porepy.models.contact_mechanics_biot_model:||b-Ax|| / ||b|| = 3.6387806082775976e-08\n",
      "INFO:GTS.isc_modelling.contact_mechanics_biot:diff iter u = 5.268088e+03\n",
      "INFO:GTS.isc_modelling.contact_mechanics_biot:diff init u = 8.741292e+03\n",
      "INFO:GTS.isc_modelling.contact_mechanics_biot:diff iter contact = 6.572291e+25\n",
      "INFO:GTS.isc_modelling.contact_mechanics_biot:diff init contact = 4.952114e+25\n",
      "INFO:GTS.isc_modelling.contact_mechanics_biot:diff iter scalar = 7.146661e+22\n",
      "INFO:GTS.isc_modelling.contact_mechanics_biot:diff init scalar = 7.840575e+22\n",
      "INFO:GTS.isc_modelling.contact_mechanics_biot:Error in contact force is 1.327169e+00\n",
      "INFO:GTS.isc_modelling.contact_mechanics_biot:Error in matrix displacement is 6.026669e-01\n",
      "INFO:GTS.isc_modelling.contact_mechanics_biot:Error in pressure is 9.114971e-01.\n",
      "INFO:porepy.numerics.nonlinear.nonlinear_solvers:Newton iteration number 27 of 40\n"
     ]
    },
    {
     "name": "stdout",
     "output_type": "stream",
     "text": [
      "Solved whole system using direct solver in 128.40798664093018 s.\n"
     ]
    },
    {
     "name": "stderr",
     "output_type": "stream",
     "text": [
      "INFO:porepy.models.contact_mechanics_biot_model:||b-Ax|| = 0.000522039957222893\n",
      "INFO:porepy.models.contact_mechanics_biot_model:||b-Ax|| / ||b|| = 1.3951530655616507e-08\n",
      "INFO:GTS.isc_modelling.contact_mechanics_biot:diff iter u = 1.751977e+04\n",
      "INFO:GTS.isc_modelling.contact_mechanics_biot:diff init u = 5.040016e+03\n",
      "INFO:GTS.isc_modelling.contact_mechanics_biot:diff iter contact = 5.858057e+25\n",
      "INFO:GTS.isc_modelling.contact_mechanics_biot:diff init contact = 1.053160e+25\n",
      "INFO:GTS.isc_modelling.contact_mechanics_biot:diff iter scalar = 1.088848e+23\n",
      "INFO:GTS.isc_modelling.contact_mechanics_biot:diff init scalar = 3.533711e+22\n",
      "INFO:GTS.isc_modelling.contact_mechanics_biot:Error in contact force is 5.562361e+00\n",
      "INFO:GTS.isc_modelling.contact_mechanics_biot:Error in matrix displacement is 3.476134e+00\n",
      "INFO:GTS.isc_modelling.contact_mechanics_biot:Error in pressure is 3.081316e+00.\n",
      "INFO:porepy.numerics.nonlinear.nonlinear_solvers:Newton iteration number 28 of 40\n"
     ]
    },
    {
     "name": "stdout",
     "output_type": "stream",
     "text": [
      "Solved whole system using direct solver in 119.0321946144104 s.\n"
     ]
    },
    {
     "name": "stderr",
     "output_type": "stream",
     "text": [
      "INFO:porepy.models.contact_mechanics_biot_model:||b-Ax|| = 0.00042798277371265155\n",
      "INFO:porepy.models.contact_mechanics_biot_model:||b-Ax|| / ||b|| = 1.1439176002035507e-08\n",
      "INFO:GTS.isc_modelling.contact_mechanics_biot:diff iter u = 6.580061e+03\n",
      "INFO:GTS.isc_modelling.contact_mechanics_biot:diff init u = 3.626107e+03\n",
      "INFO:GTS.isc_modelling.contact_mechanics_biot:diff iter contact = 1.498365e+25\n",
      "INFO:GTS.isc_modelling.contact_mechanics_biot:diff init contact = 5.416672e+24\n",
      "INFO:GTS.isc_modelling.contact_mechanics_biot:diff iter scalar = 1.010601e+23\n",
      "INFO:GTS.isc_modelling.contact_mechanics_biot:diff init scalar = 8.498411e+22\n",
      "INFO:GTS.isc_modelling.contact_mechanics_biot:Error in contact force is 2.766210e+00\n",
      "INFO:GTS.isc_modelling.contact_mechanics_biot:Error in matrix displacement is 1.814635e+00\n",
      "INFO:GTS.isc_modelling.contact_mechanics_biot:Error in pressure is 1.189164e+00.\n",
      "INFO:porepy.numerics.nonlinear.nonlinear_solvers:Newton iteration number 29 of 40\n"
     ]
    },
    {
     "name": "stdout",
     "output_type": "stream",
     "text": [
      "Solved whole system using direct solver in 121.17644357681274 s.\n"
     ]
    },
    {
     "name": "stderr",
     "output_type": "stream",
     "text": [
      "INFO:porepy.models.contact_mechanics_biot_model:||b-Ax|| = 0.002333851906519296\n",
      "INFO:porepy.models.contact_mechanics_biot_model:||b-Ax|| / ||b|| = 6.237519049319482e-08\n",
      "INFO:GTS.isc_modelling.contact_mechanics_biot:diff iter u = 2.014895e+04\n",
      "INFO:GTS.isc_modelling.contact_mechanics_biot:diff init u = 1.508683e+04\n",
      "INFO:GTS.isc_modelling.contact_mechanics_biot:diff iter contact = 1.450796e+26\n",
      "INFO:GTS.isc_modelling.contact_mechanics_biot:diff init contact = 1.411598e+26\n",
      "INFO:GTS.isc_modelling.contact_mechanics_biot:diff iter scalar = 2.925055e+23\n",
      "INFO:GTS.isc_modelling.contact_mechanics_biot:diff init scalar = 2.467947e+23\n",
      "INFO:GTS.isc_modelling.contact_mechanics_biot:Error in contact force is 1.027768e+00\n",
      "INFO:GTS.isc_modelling.contact_mechanics_biot:Error in matrix displacement is 1.335533e+00\n",
      "INFO:GTS.isc_modelling.contact_mechanics_biot:Error in pressure is 1.185218e+00.\n",
      "INFO:porepy.numerics.nonlinear.nonlinear_solvers:Newton iteration number 30 of 40\n"
     ]
    },
    {
     "name": "stdout",
     "output_type": "stream",
     "text": [
      "Solved whole system using direct solver in 124.49185585975647 s.\n"
     ]
    },
    {
     "name": "stderr",
     "output_type": "stream",
     "text": [
      "INFO:porepy.models.contact_mechanics_biot_model:||b-Ax|| = 0.0010902099558192104\n",
      "INFO:porepy.models.contact_mechanics_biot_model:||b-Ax|| / ||b|| = 2.9130370212200354e-08\n",
      "INFO:GTS.isc_modelling.contact_mechanics_biot:diff iter u = 2.875096e+04\n",
      "INFO:GTS.isc_modelling.contact_mechanics_biot:diff init u = 2.175023e+04\n",
      "INFO:GTS.isc_modelling.contact_mechanics_biot:diff iter contact = 1.879193e+26\n",
      "INFO:GTS.isc_modelling.contact_mechanics_biot:diff init contact = 5.112959e+25\n",
      "INFO:GTS.isc_modelling.contact_mechanics_biot:diff iter scalar = 7.672270e+23\n",
      "INFO:GTS.isc_modelling.contact_mechanics_biot:diff init scalar = 5.475996e+23\n",
      "INFO:GTS.isc_modelling.contact_mechanics_biot:Error in contact force is 3.675353e+00\n",
      "INFO:GTS.isc_modelling.contact_mechanics_biot:Error in matrix displacement is 1.321869e+00\n",
      "INFO:GTS.isc_modelling.contact_mechanics_biot:Error in pressure is 1.401073e+00.\n",
      "INFO:porepy.numerics.nonlinear.nonlinear_solvers:Newton iteration number 31 of 40\n"
     ]
    },
    {
     "name": "stdout",
     "output_type": "stream",
     "text": [
      "Solved whole system using direct solver in 127.6209328174591 s.\n"
     ]
    },
    {
     "name": "stderr",
     "output_type": "stream",
     "text": [
      "INFO:porepy.models.contact_mechanics_biot_model:||b-Ax|| = 0.003587846723112432\n",
      "INFO:porepy.models.contact_mechanics_biot_model:||b-Ax|| / ||b|| = 9.585097528801402e-08\n",
      "INFO:GTS.isc_modelling.contact_mechanics_biot:diff iter u = 2.538288e+05\n",
      "INFO:GTS.isc_modelling.contact_mechanics_biot:diff init u = 2.396332e+05\n",
      "INFO:GTS.isc_modelling.contact_mechanics_biot:diff iter contact = 9.094805e+26\n",
      "INFO:GTS.isc_modelling.contact_mechanics_biot:diff init contact = 8.597960e+26\n",
      "INFO:GTS.isc_modelling.contact_mechanics_biot:diff iter scalar = 5.944616e+24\n",
      "INFO:GTS.isc_modelling.contact_mechanics_biot:diff init scalar = 4.880454e+24\n",
      "INFO:GTS.isc_modelling.contact_mechanics_biot:Error in contact force is 1.057786e+00\n",
      "INFO:GTS.isc_modelling.contact_mechanics_biot:Error in matrix displacement is 1.059239e+00\n",
      "INFO:GTS.isc_modelling.contact_mechanics_biot:Error in pressure is 1.218046e+00.\n",
      "INFO:porepy.numerics.nonlinear.nonlinear_solvers:Newton iteration number 32 of 40\n"
     ]
    },
    {
     "name": "stdout",
     "output_type": "stream",
     "text": [
      "Solved whole system using direct solver in 126.94163823127747 s.\n"
     ]
    },
    {
     "name": "stderr",
     "output_type": "stream",
     "text": [
      "INFO:porepy.models.contact_mechanics_biot_model:||b-Ax|| = 0.003772683978749684\n",
      "INFO:porepy.models.contact_mechanics_biot_model:||b-Ax|| / ||b|| = 1.0047998586862271e-07\n",
      "INFO:GTS.isc_modelling.contact_mechanics_biot:diff iter u = 5.901454e+05\n",
      "INFO:GTS.isc_modelling.contact_mechanics_biot:diff init u = 6.554150e+05\n",
      "INFO:GTS.isc_modelling.contact_mechanics_biot:diff iter contact = 1.750962e+27\n",
      "INFO:GTS.isc_modelling.contact_mechanics_biot:diff init contact = 9.069841e+26\n",
      "INFO:GTS.isc_modelling.contact_mechanics_biot:diff iter scalar = 9.699959e+24\n",
      "INFO:GTS.isc_modelling.contact_mechanics_biot:diff init scalar = 4.694905e+24\n",
      "INFO:GTS.isc_modelling.contact_mechanics_biot:Error in contact force is 1.930533e+00\n",
      "INFO:GTS.isc_modelling.contact_mechanics_biot:Error in matrix displacement is 9.004148e-01\n",
      "INFO:GTS.isc_modelling.contact_mechanics_biot:Error in pressure is 2.066061e+00.\n",
      "INFO:porepy.numerics.nonlinear.nonlinear_solvers:Newton iteration number 33 of 40\n"
     ]
    },
    {
     "name": "stdout",
     "output_type": "stream",
     "text": [
      "Solved whole system using direct solver in 133.82612538337708 s.\n"
     ]
    },
    {
     "name": "stderr",
     "output_type": "stream",
     "text": [
      "INFO:porepy.models.contact_mechanics_biot_model:||b-Ax|| = 0.006253497965575759\n",
      "INFO:porepy.models.contact_mechanics_biot_model:||b-Ax|| / ||b|| = 1.6565920986660092e-07\n",
      "INFO:GTS.isc_modelling.contact_mechanics_biot:diff iter u = 6.773471e+06\n",
      "INFO:GTS.isc_modelling.contact_mechanics_biot:diff init u = 6.212822e+06\n",
      "INFO:GTS.isc_modelling.contact_mechanics_biot:diff iter contact = 1.347140e+28\n",
      "INFO:GTS.isc_modelling.contact_mechanics_biot:diff init contact = 1.258686e+28\n",
      "INFO:GTS.isc_modelling.contact_mechanics_biot:diff iter scalar = 3.108405e+26\n",
      "INFO:GTS.isc_modelling.contact_mechanics_biot:diff init scalar = 3.069823e+26\n",
      "INFO:GTS.isc_modelling.contact_mechanics_biot:Error in contact force is 1.070275e+00\n",
      "INFO:GTS.isc_modelling.contact_mechanics_biot:Error in matrix displacement is 1.090241e+00\n",
      "INFO:GTS.isc_modelling.contact_mechanics_biot:Error in pressure is 1.012568e+00.\n",
      "INFO:porepy.numerics.nonlinear.nonlinear_solvers:Newton iteration number 34 of 40\n"
     ]
    },
    {
     "name": "stdout",
     "output_type": "stream",
     "text": [
      "Solved whole system using direct solver in 120.3558669090271 s.\n"
     ]
    },
    {
     "name": "stderr",
     "output_type": "stream",
     "text": [
      "INFO:porepy.models.contact_mechanics_biot_model:||b-Ax|| = 0.06367249260709504\n",
      "INFO:porepy.models.contact_mechanics_biot_model:||b-Ax|| / ||b|| = 1.4782535876472314e-06\n",
      "INFO:GTS.isc_modelling.contact_mechanics_biot:diff iter u = 2.633019e+07\n",
      "INFO:GTS.isc_modelling.contact_mechanics_biot:diff init u = 1.875039e+07\n",
      "INFO:GTS.isc_modelling.contact_mechanics_biot:diff iter contact = 1.398095e+29\n",
      "INFO:GTS.isc_modelling.contact_mechanics_biot:diff init contact = 1.275102e+29\n",
      "INFO:GTS.isc_modelling.contact_mechanics_biot:diff iter scalar = 5.500343e+26\n",
      "INFO:GTS.isc_modelling.contact_mechanics_biot:diff init scalar = 2.451386e+26\n",
      "INFO:GTS.isc_modelling.contact_mechanics_biot:Error in contact force is 1.096457e+00\n",
      "INFO:GTS.isc_modelling.contact_mechanics_biot:Error in matrix displacement is 1.404248e+00\n",
      "INFO:GTS.isc_modelling.contact_mechanics_biot:Error in pressure is 2.243769e+00.\n",
      "INFO:porepy.numerics.nonlinear.nonlinear_solvers:Newton iteration number 35 of 40\n"
     ]
    },
    {
     "name": "stdout",
     "output_type": "stream",
     "text": [
      "Solved whole system using direct solver in 127.50552940368652 s.\n"
     ]
    },
    {
     "name": "stderr",
     "output_type": "stream",
     "text": [
      "INFO:porepy.models.contact_mechanics_biot_model:||b-Ax|| = 0.014001213155377851\n",
      "INFO:porepy.models.contact_mechanics_biot_model:||b-Ax|| / ||b|| = 2.8693189749888254e-07\n",
      "INFO:GTS.isc_modelling.contact_mechanics_biot:diff iter u = 1.700372e+07\n",
      "INFO:GTS.isc_modelling.contact_mechanics_biot:diff init u = 4.074458e+06\n",
      "INFO:GTS.isc_modelling.contact_mechanics_biot:diff iter contact = 1.360096e+29\n",
      "INFO:GTS.isc_modelling.contact_mechanics_biot:diff init contact = 1.240680e+28\n",
      "INFO:GTS.isc_modelling.contact_mechanics_biot:diff iter scalar = 2.976504e+26\n",
      "INFO:GTS.isc_modelling.contact_mechanics_biot:diff init scalar = 6.295867e+25\n",
      "INFO:GTS.isc_modelling.contact_mechanics_biot:Error in contact force is 1.096251e+01\n",
      "INFO:GTS.isc_modelling.contact_mechanics_biot:Error in matrix displacement is 4.173248e+00\n",
      "INFO:GTS.isc_modelling.contact_mechanics_biot:Error in pressure is 4.727710e+00.\n",
      "INFO:porepy.numerics.nonlinear.nonlinear_solvers:Newton iteration number 36 of 40\n"
     ]
    },
    {
     "name": "stdout",
     "output_type": "stream",
     "text": [
      "Solved whole system using direct solver in 130.0638997554779 s.\n"
     ]
    },
    {
     "name": "stderr",
     "output_type": "stream",
     "text": [
      "INFO:porepy.models.contact_mechanics_biot_model:||b-Ax|| = 0.014916325757380845\n",
      "INFO:porepy.models.contact_mechanics_biot_model:||b-Ax|| / ||b|| = 3.6631777291433255e-07\n",
      "INFO:GTS.isc_modelling.contact_mechanics_biot:diff iter u = 3.443742e+06\n",
      "INFO:GTS.isc_modelling.contact_mechanics_biot:diff init u = 1.076523e+06\n",
      "INFO:GTS.isc_modelling.contact_mechanics_biot:diff iter contact = 1.805927e+28\n",
      "INFO:GTS.isc_modelling.contact_mechanics_biot:diff init contact = 5.982976e+27\n",
      "INFO:GTS.isc_modelling.contact_mechanics_biot:diff iter scalar = 7.928718e+25\n",
      "INFO:GTS.isc_modelling.contact_mechanics_biot:diff init scalar = 2.102974e+25\n",
      "INFO:GTS.isc_modelling.contact_mechanics_biot:Error in contact force is 3.018442e+00\n",
      "INFO:GTS.isc_modelling.contact_mechanics_biot:Error in matrix displacement is 3.198950e+00\n",
      "INFO:GTS.isc_modelling.contact_mechanics_biot:Error in pressure is 3.770240e+00.\n",
      "INFO:porepy.numerics.nonlinear.nonlinear_solvers:Newton iteration number 37 of 40\n"
     ]
    },
    {
     "name": "stdout",
     "output_type": "stream",
     "text": [
      "Solved whole system using direct solver in 110.65200662612915 s.\n"
     ]
    },
    {
     "name": "stderr",
     "output_type": "stream",
     "text": [
      "INFO:porepy.models.contact_mechanics_biot_model:||b-Ax|| = 0.06038701791266334\n",
      "INFO:porepy.models.contact_mechanics_biot_model:||b-Ax|| / ||b|| = 1.559777480813152e-06\n",
      "INFO:GTS.isc_modelling.contact_mechanics_biot:diff iter u = 1.322384e+08\n",
      "INFO:GTS.isc_modelling.contact_mechanics_biot:diff init u = 1.304717e+08\n",
      "INFO:GTS.isc_modelling.contact_mechanics_biot:diff iter contact = 5.695253e+29\n",
      "INFO:GTS.isc_modelling.contact_mechanics_biot:diff init contact = 5.637355e+29\n",
      "INFO:GTS.isc_modelling.contact_mechanics_biot:diff iter scalar = 1.762805e+27\n",
      "INFO:GTS.isc_modelling.contact_mechanics_biot:diff init scalar = 1.740171e+27\n",
      "INFO:GTS.isc_modelling.contact_mechanics_biot:Error in contact force is 1.010271e+00\n",
      "INFO:GTS.isc_modelling.contact_mechanics_biot:Error in matrix displacement is 1.013541e+00\n",
      "INFO:GTS.isc_modelling.contact_mechanics_biot:Error in pressure is 1.013007e+00.\n",
      "INFO:porepy.numerics.nonlinear.nonlinear_solvers:Newton iteration number 38 of 40\n"
     ]
    },
    {
     "name": "stdout",
     "output_type": "stream",
     "text": [
      "Solved whole system using direct solver in 136.0805733203888 s.\n"
     ]
    },
    {
     "name": "stderr",
     "output_type": "stream",
     "text": [
      "INFO:porepy.models.contact_mechanics_biot_model:||b-Ax|| = 0.16750253313547636\n",
      "INFO:porepy.models.contact_mechanics_biot_model:||b-Ax|| / ||b|| = 1.955088936277029e-06\n",
      "INFO:GTS.isc_modelling.contact_mechanics_biot:diff iter u = 2.409576e+08\n",
      "INFO:GTS.isc_modelling.contact_mechanics_biot:diff init u = 1.945422e+08\n",
      "INFO:GTS.isc_modelling.contact_mechanics_biot:diff iter contact = 1.514083e+30\n",
      "INFO:GTS.isc_modelling.contact_mechanics_biot:diff init contact = 9.723294e+29\n",
      "INFO:GTS.isc_modelling.contact_mechanics_biot:diff iter scalar = 5.137932e+27\n",
      "INFO:GTS.isc_modelling.contact_mechanics_biot:diff init scalar = 3.713700e+27\n",
      "INFO:GTS.isc_modelling.contact_mechanics_biot:Error in contact force is 1.557171e+00\n",
      "INFO:GTS.isc_modelling.contact_mechanics_biot:Error in matrix displacement is 1.238588e+00\n",
      "INFO:GTS.isc_modelling.contact_mechanics_biot:Error in pressure is 1.383508e+00.\n",
      "INFO:porepy.numerics.nonlinear.nonlinear_solvers:Newton iteration number 39 of 40\n"
     ]
    },
    {
     "name": "stdout",
     "output_type": "stream",
     "text": [
      "Solved whole system using direct solver in 127.44801640510559 s.\n"
     ]
    },
    {
     "name": "stderr",
     "output_type": "stream",
     "text": [
      "INFO:porepy.models.contact_mechanics_biot_model:||b-Ax|| = 1.3916060321367656\n",
      "INFO:porepy.models.contact_mechanics_biot_model:||b-Ax|| / ||b|| = 1.5326965743938546e-05\n",
      "INFO:GTS.isc_modelling.contact_mechanics_biot:diff iter u = 3.405599e+09\n",
      "INFO:GTS.isc_modelling.contact_mechanics_biot:diff init u = 3.457463e+09\n",
      "INFO:GTS.isc_modelling.contact_mechanics_biot:diff iter contact = 3.819291e+31\n",
      "INFO:GTS.isc_modelling.contact_mechanics_biot:diff init contact = 3.723150e+31\n",
      "INFO:GTS.isc_modelling.contact_mechanics_biot:diff iter scalar = 8.382152e+28\n",
      "INFO:GTS.isc_modelling.contact_mechanics_biot:diff init scalar = 7.872035e+28\n",
      "INFO:GTS.isc_modelling.contact_mechanics_biot:Error in contact force is 1.025822e+00\n",
      "INFO:GTS.isc_modelling.contact_mechanics_biot:Error in matrix displacement is 9.849993e-01\n",
      "INFO:GTS.isc_modelling.contact_mechanics_biot:Error in pressure is 1.064801e+00.\n",
      "INFO:porepy.numerics.nonlinear.nonlinear_solvers:Newton iteration number 40 of 40\n"
     ]
    },
    {
     "name": "stdout",
     "output_type": "stream",
     "text": [
      "Solved whole system using direct solver in 124.8710367679596 s.\n"
     ]
    },
    {
     "name": "stderr",
     "output_type": "stream",
     "text": [
      "INFO:porepy.models.contact_mechanics_biot_model:||b-Ax|| = 0.29290956547739266\n",
      "INFO:porepy.models.contact_mechanics_biot_model:||b-Ax|| / ||b|| = 6.11226497402393e-07\n",
      "INFO:GTS.isc_modelling.contact_mechanics_biot:diff iter u = 3.264603e+09\n",
      "INFO:GTS.isc_modelling.contact_mechanics_biot:diff init u = 5.377003e+08\n",
      "INFO:GTS.isc_modelling.contact_mechanics_biot:diff iter contact = 3.920815e+31\n",
      "INFO:GTS.isc_modelling.contact_mechanics_biot:diff init contact = 2.537211e+30\n",
      "INFO:GTS.isc_modelling.contact_mechanics_biot:diff iter scalar = 8.089750e+28\n",
      "INFO:GTS.isc_modelling.contact_mechanics_biot:diff init scalar = 8.495734e+27\n",
      "INFO:GTS.isc_modelling.contact_mechanics_biot:Error in contact force is 1.545325e+01\n",
      "INFO:GTS.isc_modelling.contact_mechanics_biot:Error in matrix displacement is 6.071418e+00\n",
      "INFO:GTS.isc_modelling.contact_mechanics_biot:Error in pressure is 9.522131e+00.\n",
      "ERROR:GTS.isc_modelling.contact_mechanics_biot:Newton iterations did not converge\n",
      "INFO:GTS.isc_modelling.contact_mechanics_biot:Calling after_newton_convergence(<GTS.isc_modelling.contact_mechanics_biot.ContactMechanicsBiotISC object at 0x7f57d13d9160>, array([ 553.92494788,  597.32517178, -525.89203404, ...,   45.7415426 ,\n",
      "         -9.37795526,  -45.7415426 ]), [1.0, 0.12252948949889456, 0.7069276428946704, 0.6732050425855439, 0.6525991344386707, 0.8736559503983297, 2.1823522403476847, 1.044073088068307, 1.3260292533286007, 1.0861567068306313, 0.5370519002710705, 0.9496145543434064, 1.1095726199636398, 1.2383541843364476, 1.7475815004141408, 2.568015200083954, 7.539362256487496, 1.1517929022047533, 1.136860711725328, 1.06598090917076, 5.648664956312356, 1.6338106055220392, 4.234772908750249, 1.3620928949166784, 0.8852673554373561, 0.9651018461465295, 0.6026669355122799, 3.476133804179297, 1.8146351420270501, 1.3355329060411019, 1.321869181606736, 1.0592388862384203, 0.9004148319525125, 1.0902405823440195, 1.4042476874247163, 4.173247941798075, 3.198950002082624, 1.013540800854607, 1.2385878971438427, 0.9849993282376095, 6.071417557485089], 41)\n",
      "INFO:GTS.isc_modelling.contact_mechanics_biot:Calling export_step(<GTS.isc_modelling.contact_mechanics_biot.ContactMechanicsBiotISC object at 0x7f57d13d9160>)\n"
     ]
    },
    {
     "name": "stdout",
     "output_type": "stream",
     "text": [
      "Solved whole system using direct solver in 123.59718465805054 s.\n"
     ]
    },
    {
     "name": "stderr",
     "output_type": "stream",
     "text": [
      "INFO:GTS.isc_modelling.contact_mechanics_biot:'export_step' returned None\n",
      "INFO:GTS.isc_modelling.contact_mechanics_biot:'after_newton_convergence' returned None\n",
      "INFO:GTS.isc_modelling.contact_mechanics_biot:Solution exported to folder \n",
      " /home/haakon/mastersproject/src/mastersproject/GTS/isc_modelling/results/200421/full_model_tests/test_1\n",
      "INFO:porepy.models.run_models:\n",
      "Time step 3 at time 7.2e+03 of 7.2e+03 with time step 2.4e+03\n",
      "INFO:GTS.isc_modelling.contact_mechanics_biot:Calling before_newton_loop(<GTS.isc_modelling.contact_mechanics_biot.ContactMechanicsBiotISC object at 0x7f57d13d9160>)\n",
      "INFO:GTS.isc_modelling.contact_mechanics_biot:Finished 'before_newton_loop' in 0.0303 secs\n",
      "INFO:GTS.isc_modelling.contact_mechanics_biot:'before_newton_loop' returned None\n",
      "INFO:porepy.numerics.nonlinear.nonlinear_solvers:Newton iteration number 0 of 40\n",
      "INFO:porepy.models.contact_mechanics_biot_model:||b-Ax|| = 0.14585513536813724\n",
      "INFO:porepy.models.contact_mechanics_biot_model:||b-Ax|| / ||b|| = 1.2288901114532004e-07\n",
      "INFO:GTS.isc_modelling.contact_mechanics_biot:diff iter u = 2.234689e+08\n",
      "INFO:GTS.isc_modelling.contact_mechanics_biot:diff init u = 2.234689e+08\n",
      "INFO:GTS.isc_modelling.contact_mechanics_biot:diff iter contact = 2.635596e+30\n",
      "INFO:GTS.isc_modelling.contact_mechanics_biot:diff init contact = 2.635596e+30\n",
      "INFO:GTS.isc_modelling.contact_mechanics_biot:diff iter scalar = 7.422826e+27\n",
      "INFO:GTS.isc_modelling.contact_mechanics_biot:diff init scalar = 7.422826e+27\n",
      "INFO:GTS.isc_modelling.contact_mechanics_biot:Error in contact force is 1.000000e+00\n",
      "INFO:GTS.isc_modelling.contact_mechanics_biot:Error in matrix displacement is 1.000000e+00\n",
      "INFO:GTS.isc_modelling.contact_mechanics_biot:Error in pressure is 1.000000e+00.\n",
      "INFO:porepy.numerics.nonlinear.nonlinear_solvers:Newton iteration number 1 of 40\n"
     ]
    },
    {
     "name": "stdout",
     "output_type": "stream",
     "text": [
      "Solved whole system using direct solver in 114.45337009429932 s.\n"
     ]
    },
    {
     "name": "stderr",
     "output_type": "stream",
     "text": [
      "INFO:porepy.models.contact_mechanics_biot_model:||b-Ax|| = 0.09715416730117496\n",
      "INFO:porepy.models.contact_mechanics_biot_model:||b-Ax|| / ||b|| = 9.41930605786441e-08\n",
      "INFO:GTS.isc_modelling.contact_mechanics_biot:diff iter u = 4.177031e+07\n",
      "INFO:GTS.isc_modelling.contact_mechanics_biot:diff init u = 3.513064e+08\n",
      "INFO:GTS.isc_modelling.contact_mechanics_biot:diff iter contact = 1.390998e+29\n",
      "INFO:GTS.isc_modelling.contact_mechanics_biot:diff init contact = 2.499136e+30\n",
      "INFO:GTS.isc_modelling.contact_mechanics_biot:diff iter scalar = 1.031493e+27\n",
      "INFO:GTS.isc_modelling.contact_mechanics_biot:diff init scalar = 7.903046e+27\n",
      "INFO:GTS.isc_modelling.contact_mechanics_biot:Error in contact force is 5.565917e-02\n",
      "INFO:GTS.isc_modelling.contact_mechanics_biot:Error in matrix displacement is 1.189000e-01\n",
      "INFO:GTS.isc_modelling.contact_mechanics_biot:Error in pressure is 1.305184e-01.\n",
      "INFO:porepy.numerics.nonlinear.nonlinear_solvers:Newton iteration number 2 of 40\n"
     ]
    },
    {
     "name": "stdout",
     "output_type": "stream",
     "text": [
      "Solved whole system using direct solver in 125.40931963920593 s.\n"
     ]
    },
    {
     "name": "stderr",
     "output_type": "stream",
     "text": [
      "INFO:porepy.models.contact_mechanics_biot_model:||b-Ax|| = 0.01837776000039818\n",
      "INFO:porepy.models.contact_mechanics_biot_model:||b-Ax|| / ||b|| = 1.8649285048752492e-08\n",
      "INFO:GTS.isc_modelling.contact_mechanics_biot:diff iter u = 2.056636e+07\n",
      "INFO:GTS.isc_modelling.contact_mechanics_biot:diff init u = 4.446368e+08\n",
      "INFO:GTS.isc_modelling.contact_mechanics_biot:diff iter contact = 5.086286e+28\n",
      "INFO:GTS.isc_modelling.contact_mechanics_biot:diff init contact = 2.561027e+30\n",
      "INFO:GTS.isc_modelling.contact_mechanics_biot:diff iter scalar = 6.908017e+26\n",
      "INFO:GTS.isc_modelling.contact_mechanics_biot:diff init scalar = 8.160641e+27\n",
      "INFO:GTS.isc_modelling.contact_mechanics_biot:Error in contact force is 1.986034e-02\n",
      "INFO:GTS.isc_modelling.contact_mechanics_biot:Error in matrix displacement is 4.625430e-02\n",
      "INFO:GTS.isc_modelling.contact_mechanics_biot:Error in pressure is 8.465043e-02.\n",
      "INFO:porepy.numerics.nonlinear.nonlinear_solvers:Newton iteration number 3 of 40\n"
     ]
    },
    {
     "name": "stdout",
     "output_type": "stream",
     "text": [
      "Solved whole system using direct solver in 139.22833037376404 s.\n"
     ]
    },
    {
     "name": "stderr",
     "output_type": "stream",
     "text": [
      "INFO:porepy.models.contact_mechanics_biot_model:||b-Ax|| = 0.9540028903624496\n",
      "INFO:porepy.models.contact_mechanics_biot_model:||b-Ax|| / ||b|| = 9.68710835529357e-07\n",
      "INFO:GTS.isc_modelling.contact_mechanics_biot:diff iter u = 3.901071e+10\n",
      "INFO:GTS.isc_modelling.contact_mechanics_biot:diff init u = 3.871923e+10\n",
      "INFO:GTS.isc_modelling.contact_mechanics_biot:diff iter contact = 3.624473e+31\n",
      "INFO:GTS.isc_modelling.contact_mechanics_biot:diff init contact = 3.983416e+31\n",
      "INFO:GTS.isc_modelling.contact_mechanics_biot:diff iter scalar = 6.018028e+29\n",
      "INFO:GTS.isc_modelling.contact_mechanics_biot:diff init scalar = 6.056376e+29\n",
      "INFO:GTS.isc_modelling.contact_mechanics_biot:Error in contact force is 9.098907e-01\n",
      "INFO:GTS.isc_modelling.contact_mechanics_biot:Error in matrix displacement is 1.007528e+00\n",
      "INFO:GTS.isc_modelling.contact_mechanics_biot:Error in pressure is 9.936682e-01.\n",
      "INFO:porepy.numerics.nonlinear.nonlinear_solvers:Newton iteration number 4 of 40\n"
     ]
    },
    {
     "name": "stdout",
     "output_type": "stream",
     "text": [
      "Solved whole system using direct solver in 135.1644251346588 s.\n"
     ]
    },
    {
     "name": "stderr",
     "output_type": "stream",
     "text": [
      "INFO:porepy.models.contact_mechanics_biot_model:||b-Ax|| = 3.8714001067477364\n",
      "INFO:porepy.models.contact_mechanics_biot_model:||b-Ax|| / ||b|| = 1.918062202043231e-06\n",
      "INFO:GTS.isc_modelling.contact_mechanics_biot:diff iter u = 4.414725e+10\n",
      "INFO:GTS.isc_modelling.contact_mechanics_biot:diff init u = 2.364500e+10\n",
      "INFO:GTS.isc_modelling.contact_mechanics_biot:diff iter contact = 1.115165e+32\n",
      "INFO:GTS.isc_modelling.contact_mechanics_biot:diff init contact = 8.168659e+31\n",
      "INFO:GTS.isc_modelling.contact_mechanics_biot:diff iter scalar = 7.526030e+29\n",
      "INFO:GTS.isc_modelling.contact_mechanics_biot:diff init scalar = 3.821826e+29\n",
      "INFO:GTS.isc_modelling.contact_mechanics_biot:Error in contact force is 1.365176e+00\n",
      "INFO:GTS.isc_modelling.contact_mechanics_biot:Error in matrix displacement is 1.867086e+00\n",
      "INFO:GTS.isc_modelling.contact_mechanics_biot:Error in pressure is 1.969223e+00.\n",
      "INFO:porepy.numerics.nonlinear.nonlinear_solvers:Newton iteration number 5 of 40\n"
     ]
    },
    {
     "name": "stdout",
     "output_type": "stream",
     "text": [
      "Solved whole system using direct solver in 119.88642382621765 s.\n"
     ]
    },
    {
     "name": "stderr",
     "output_type": "stream",
     "text": [
      "INFO:porepy.models.contact_mechanics_biot_model:||b-Ax|| = 2.2494231803609934\n",
      "INFO:porepy.models.contact_mechanics_biot_model:||b-Ax|| / ||b|| = 1.4303507078214575e-06\n",
      "INFO:GTS.isc_modelling.contact_mechanics_biot:diff iter u = 4.996989e+10\n",
      "INFO:GTS.isc_modelling.contact_mechanics_biot:diff init u = 3.831935e+10\n",
      "INFO:GTS.isc_modelling.contact_mechanics_biot:diff iter contact = 1.740462e+32\n",
      "INFO:GTS.isc_modelling.contact_mechanics_biot:diff init contact = 9.853451e+31\n",
      "INFO:GTS.isc_modelling.contact_mechanics_biot:diff iter scalar = 6.547808e+29\n",
      "INFO:GTS.isc_modelling.contact_mechanics_biot:diff init scalar = 3.344948e+29\n",
      "INFO:GTS.isc_modelling.contact_mechanics_biot:Error in contact force is 1.766348e+00\n",
      "INFO:GTS.isc_modelling.contact_mechanics_biot:Error in matrix displacement is 1.304038e+00\n",
      "INFO:GTS.isc_modelling.contact_mechanics_biot:Error in pressure is 1.957521e+00.\n",
      "INFO:porepy.numerics.nonlinear.nonlinear_solvers:Newton iteration number 6 of 40\n"
     ]
    },
    {
     "name": "stdout",
     "output_type": "stream",
     "text": [
      "Solved whole system using direct solver in 126.33319139480591 s.\n"
     ]
    },
    {
     "name": "stderr",
     "output_type": "stream",
     "text": [
      "INFO:porepy.models.contact_mechanics_biot_model:||b-Ax|| = 0.7090170612004918\n",
      "INFO:porepy.models.contact_mechanics_biot_model:||b-Ax|| / ||b|| = 4.878212943453437e-07\n",
      "INFO:GTS.isc_modelling.contact_mechanics_biot:diff iter u = 3.768289e+10\n",
      "INFO:GTS.isc_modelling.contact_mechanics_biot:diff init u = 3.760887e+09\n",
      "INFO:GTS.isc_modelling.contact_mechanics_biot:diff iter contact = 1.094143e+32\n",
      "INFO:GTS.isc_modelling.contact_mechanics_biot:diff init contact = 1.447561e+31\n",
      "INFO:GTS.isc_modelling.contact_mechanics_biot:diff iter scalar = 3.924142e+29\n",
      "INFO:GTS.isc_modelling.contact_mechanics_biot:diff init scalar = 6.158474e+28\n",
      "INFO:GTS.isc_modelling.contact_mechanics_biot:Error in contact force is 7.558529e+00\n",
      "INFO:GTS.isc_modelling.contact_mechanics_biot:Error in matrix displacement is 1.001968e+01\n",
      "INFO:GTS.isc_modelling.contact_mechanics_biot:Error in pressure is 6.371940e+00.\n",
      "INFO:porepy.numerics.nonlinear.nonlinear_solvers:Newton iteration number 7 of 40\n"
     ]
    },
    {
     "name": "stdout",
     "output_type": "stream",
     "text": [
      "Solved whole system using direct solver in 129.09265804290771 s.\n"
     ]
    },
    {
     "name": "stderr",
     "output_type": "stream",
     "text": [
      "INFO:porepy.models.contact_mechanics_biot_model:||b-Ax|| = 0.17535768569834176\n",
      "INFO:porepy.models.contact_mechanics_biot_model:||b-Ax|| / ||b|| = 1.682810151798036e-07\n",
      "INFO:GTS.isc_modelling.contact_mechanics_biot:diff iter u = 3.129761e+09\n",
      "INFO:GTS.isc_modelling.contact_mechanics_biot:diff init u = 6.949633e+08\n",
      "INFO:GTS.isc_modelling.contact_mechanics_biot:diff iter contact = 1.185715e+31\n",
      "INFO:GTS.isc_modelling.contact_mechanics_biot:diff init contact = 3.080882e+30\n",
      "INFO:GTS.isc_modelling.contact_mechanics_biot:diff iter scalar = 5.704749e+28\n",
      "INFO:GTS.isc_modelling.contact_mechanics_biot:diff init scalar = 1.266908e+28\n",
      "INFO:GTS.isc_modelling.contact_mechanics_biot:Error in contact force is 3.848622e+00\n",
      "INFO:GTS.isc_modelling.contact_mechanics_biot:Error in matrix displacement is 4.503492e+00\n",
      "INFO:GTS.isc_modelling.contact_mechanics_biot:Error in pressure is 4.502892e+00.\n",
      "INFO:porepy.numerics.nonlinear.nonlinear_solvers:Newton iteration number 8 of 40\n"
     ]
    },
    {
     "name": "stdout",
     "output_type": "stream",
     "text": [
      "Solved whole system using direct solver in 131.90632319450378 s.\n"
     ]
    },
    {
     "name": "stderr",
     "output_type": "stream",
     "text": [
      "INFO:porepy.models.contact_mechanics_biot_model:||b-Ax|| = 1.447144355396277\n",
      "INFO:porepy.models.contact_mechanics_biot_model:||b-Ax|| / ||b|| = 1.4494683012933563e-06\n",
      "INFO:GTS.isc_modelling.contact_mechanics_biot:diff iter u = 4.081755e+10\n",
      "INFO:GTS.isc_modelling.contact_mechanics_biot:diff init u = 4.093326e+10\n",
      "INFO:GTS.isc_modelling.contact_mechanics_biot:diff iter contact = 1.652213e+32\n",
      "INFO:GTS.isc_modelling.contact_mechanics_biot:diff init contact = 1.592759e+32\n",
      "INFO:GTS.isc_modelling.contact_mechanics_biot:diff iter scalar = 4.658666e+29\n",
      "INFO:GTS.isc_modelling.contact_mechanics_biot:diff init scalar = 4.656729e+29\n",
      "INFO:GTS.isc_modelling.contact_mechanics_biot:Error in contact force is 1.037328e+00\n",
      "INFO:GTS.isc_modelling.contact_mechanics_biot:Error in matrix displacement is 9.971733e-01\n",
      "INFO:GTS.isc_modelling.contact_mechanics_biot:Error in pressure is 1.000416e+00.\n",
      "INFO:porepy.numerics.nonlinear.nonlinear_solvers:Newton iteration number 9 of 40\n"
     ]
    },
    {
     "name": "stdout",
     "output_type": "stream",
     "text": [
      "Solved whole system using direct solver in 113.19456005096436 s.\n"
     ]
    },
    {
     "name": "stderr",
     "output_type": "stream",
     "text": [
      "INFO:porepy.models.contact_mechanics_biot_model:||b-Ax|| = 3.205933020272074\n",
      "INFO:porepy.models.contact_mechanics_biot_model:||b-Ax|| / ||b|| = 1.8158860919343706e-06\n",
      "INFO:GTS.isc_modelling.contact_mechanics_biot:diff iter u = 5.229694e+10\n",
      "INFO:GTS.isc_modelling.contact_mechanics_biot:diff init u = 4.221884e+10\n",
      "INFO:GTS.isc_modelling.contact_mechanics_biot:diff iter contact = 5.449881e+32\n",
      "INFO:GTS.isc_modelling.contact_mechanics_biot:diff init contact = 3.825386e+32\n",
      "INFO:GTS.isc_modelling.contact_mechanics_biot:diff iter scalar = 1.068626e+30\n",
      "INFO:GTS.isc_modelling.contact_mechanics_biot:diff init scalar = 6.418756e+29\n",
      "INFO:GTS.isc_modelling.contact_mechanics_biot:Error in contact force is 1.424662e+00\n",
      "INFO:GTS.isc_modelling.contact_mechanics_biot:Error in matrix displacement is 1.238711e+00\n",
      "INFO:GTS.isc_modelling.contact_mechanics_biot:Error in pressure is 1.664849e+00.\n",
      "INFO:porepy.numerics.nonlinear.nonlinear_solvers:Newton iteration number 10 of 40\n"
     ]
    },
    {
     "name": "stdout",
     "output_type": "stream",
     "text": [
      "Solved whole system using direct solver in 126.3332245349884 s.\n"
     ]
    },
    {
     "name": "stderr",
     "output_type": "stream",
     "text": [
      "INFO:porepy.models.contact_mechanics_biot_model:||b-Ax|| = 2.535707032377952\n",
      "INFO:porepy.models.contact_mechanics_biot_model:||b-Ax|| / ||b|| = 1.6350501267229822e-06\n",
      "INFO:GTS.isc_modelling.contact_mechanics_biot:diff iter u = 4.071866e+10\n",
      "INFO:GTS.isc_modelling.contact_mechanics_biot:diff init u = 1.311287e+10\n",
      "INFO:GTS.isc_modelling.contact_mechanics_biot:diff iter contact = 4.258513e+32\n",
      "INFO:GTS.isc_modelling.contact_mechanics_biot:diff init contact = 5.106290e+31\n",
      "INFO:GTS.isc_modelling.contact_mechanics_biot:diff iter scalar = 6.463948e+29\n",
      "INFO:GTS.isc_modelling.contact_mechanics_biot:diff init scalar = 1.485463e+29\n",
      "INFO:GTS.isc_modelling.contact_mechanics_biot:Error in contact force is 8.339740e+00\n",
      "INFO:GTS.isc_modelling.contact_mechanics_biot:Error in matrix displacement is 3.105243e+00\n",
      "INFO:GTS.isc_modelling.contact_mechanics_biot:Error in pressure is 4.351470e+00.\n",
      "INFO:porepy.numerics.nonlinear.nonlinear_solvers:Newton iteration number 11 of 40\n"
     ]
    },
    {
     "name": "stdout",
     "output_type": "stream",
     "text": [
      "Solved whole system using direct solver in 127.38041496276855 s.\n"
     ]
    },
    {
     "name": "stderr",
     "output_type": "stream",
     "text": [
      "INFO:porepy.models.contact_mechanics_biot_model:||b-Ax|| = 2.50033844399563\n",
      "INFO:porepy.models.contact_mechanics_biot_model:||b-Ax|| / ||b|| = 1.6139422588252092e-06\n",
      "INFO:GTS.isc_modelling.contact_mechanics_biot:diff iter u = 1.222460e+10\n",
      "INFO:GTS.isc_modelling.contact_mechanics_biot:diff init u = 6.454623e+09\n",
      "INFO:GTS.isc_modelling.contact_mechanics_biot:diff iter contact = 8.209366e+31\n",
      "INFO:GTS.isc_modelling.contact_mechanics_biot:diff init contact = 3.593664e+31\n",
      "INFO:GTS.isc_modelling.contact_mechanics_biot:diff iter scalar = 2.397895e+29\n",
      "INFO:GTS.isc_modelling.contact_mechanics_biot:diff init scalar = 1.381073e+29\n",
      "INFO:GTS.isc_modelling.contact_mechanics_biot:Error in contact force is 2.284400e+00\n",
      "INFO:GTS.isc_modelling.contact_mechanics_biot:Error in matrix displacement is 1.893928e+00\n",
      "INFO:GTS.isc_modelling.contact_mechanics_biot:Error in pressure is 1.736255e+00.\n",
      "INFO:porepy.numerics.nonlinear.nonlinear_solvers:Newton iteration number 12 of 40\n"
     ]
    },
    {
     "name": "stdout",
     "output_type": "stream",
     "text": [
      "Solved whole system using direct solver in 120.52619290351868 s.\n"
     ]
    },
    {
     "name": "stderr",
     "output_type": "stream",
     "text": [
      "INFO:porepy.models.contact_mechanics_biot_model:||b-Ax|| = 4.421762058709724\n",
      "INFO:porepy.models.contact_mechanics_biot_model:||b-Ax|| / ||b|| = 3.840831798191849e-06\n",
      "INFO:GTS.isc_modelling.contact_mechanics_biot:diff iter u = 2.849540e+11\n",
      "INFO:GTS.isc_modelling.contact_mechanics_biot:diff init u = 2.827417e+11\n",
      "INFO:GTS.isc_modelling.contact_mechanics_biot:diff iter contact = 6.126583e+32\n",
      "INFO:GTS.isc_modelling.contact_mechanics_biot:diff init contact = 5.817097e+32\n",
      "INFO:GTS.isc_modelling.contact_mechanics_biot:diff iter scalar = 1.415399e+31\n",
      "INFO:GTS.isc_modelling.contact_mechanics_biot:diff init scalar = 1.413864e+31\n",
      "INFO:GTS.isc_modelling.contact_mechanics_biot:Error in contact force is 1.053203e+00\n",
      "INFO:GTS.isc_modelling.contact_mechanics_biot:Error in matrix displacement is 1.007824e+00\n",
      "INFO:GTS.isc_modelling.contact_mechanics_biot:Error in pressure is 1.001086e+00.\n",
      "INFO:porepy.numerics.nonlinear.nonlinear_solvers:Newton iteration number 13 of 40\n"
     ]
    },
    {
     "name": "stdout",
     "output_type": "stream",
     "text": [
      "Solved whole system using direct solver in 124.31411290168762 s.\n"
     ]
    },
    {
     "name": "stderr",
     "output_type": "stream",
     "text": [
      "INFO:porepy.models.contact_mechanics_biot_model:||b-Ax|| = 2.636168622180849\n",
      "INFO:porepy.models.contact_mechanics_biot_model:||b-Ax|| / ||b|| = 6.201864620362571e-07\n",
      "INFO:GTS.isc_modelling.contact_mechanics_biot:diff iter u = 1.991754e+11\n",
      "INFO:GTS.isc_modelling.contact_mechanics_biot:diff init u = 6.468611e+10\n",
      "INFO:GTS.isc_modelling.contact_mechanics_biot:diff iter contact = 8.045809e+32\n",
      "INFO:GTS.isc_modelling.contact_mechanics_biot:diff init contact = 2.490233e+32\n",
      "INFO:GTS.isc_modelling.contact_mechanics_biot:diff iter scalar = 1.363767e+31\n",
      "INFO:GTS.isc_modelling.contact_mechanics_biot:diff init scalar = 4.003563e+30\n",
      "INFO:GTS.isc_modelling.contact_mechanics_biot:Error in contact force is 3.230946e+00\n",
      "INFO:GTS.isc_modelling.contact_mechanics_biot:Error in matrix displacement is 3.079106e+00\n",
      "INFO:GTS.isc_modelling.contact_mechanics_biot:Error in pressure is 3.406382e+00.\n",
      "INFO:porepy.numerics.nonlinear.nonlinear_solvers:Newton iteration number 14 of 40\n"
     ]
    },
    {
     "name": "stdout",
     "output_type": "stream",
     "text": [
      "Solved whole system using direct solver in 133.5945041179657 s.\n"
     ]
    },
    {
     "name": "stderr",
     "output_type": "stream",
     "text": [
      "INFO:porepy.models.contact_mechanics_biot_model:||b-Ax|| = 1.432023989978694\n",
      "INFO:porepy.models.contact_mechanics_biot_model:||b-Ax|| / ||b|| = 6.951307084013403e-07\n",
      "INFO:GTS.isc_modelling.contact_mechanics_biot:diff iter u = 5.750852e+10\n",
      "INFO:GTS.isc_modelling.contact_mechanics_biot:diff init u = 1.277606e+10\n",
      "INFO:GTS.isc_modelling.contact_mechanics_biot:diff iter contact = 2.925593e+32\n",
      "INFO:GTS.isc_modelling.contact_mechanics_biot:diff init contact = 5.416514e+31\n",
      "INFO:GTS.isc_modelling.contact_mechanics_biot:diff iter scalar = 3.411814e+30\n",
      "INFO:GTS.isc_modelling.contact_mechanics_biot:diff init scalar = 3.343774e+29\n",
      "INFO:GTS.isc_modelling.contact_mechanics_biot:Error in contact force is 5.401248e+00\n",
      "INFO:GTS.isc_modelling.contact_mechanics_biot:Error in matrix displacement is 4.501272e+00\n",
      "INFO:GTS.isc_modelling.contact_mechanics_biot:Error in pressure is 1.020349e+01.\n",
      "INFO:porepy.numerics.nonlinear.nonlinear_solvers:Newton iteration number 15 of 40\n"
     ]
    },
    {
     "name": "stdout",
     "output_type": "stream",
     "text": [
      "Solved whole system using direct solver in 118.07032918930054 s.\n"
     ]
    },
    {
     "name": "stderr",
     "output_type": "stream",
     "text": [
      "INFO:porepy.models.contact_mechanics_biot_model:||b-Ax|| = 0.48697926739375136\n",
      "INFO:porepy.models.contact_mechanics_biot_model:||b-Ax|| / ||b|| = 3.714511965426899e-07\n",
      "INFO:GTS.isc_modelling.contact_mechanics_biot:diff iter u = 1.264869e+10\n",
      "INFO:GTS.isc_modelling.contact_mechanics_biot:diff init u = 4.760243e+09\n",
      "INFO:GTS.isc_modelling.contact_mechanics_biot:diff iter contact = 7.611487e+31\n",
      "INFO:GTS.isc_modelling.contact_mechanics_biot:diff init contact = 2.737950e+31\n",
      "INFO:GTS.isc_modelling.contact_mechanics_biot:diff iter scalar = 5.070469e+29\n",
      "INFO:GTS.isc_modelling.contact_mechanics_biot:diff init scalar = 2.598438e+29\n",
      "INFO:GTS.isc_modelling.contact_mechanics_biot:Error in contact force is 2.779995e+00\n",
      "INFO:GTS.isc_modelling.contact_mechanics_biot:Error in matrix displacement is 2.657152e+00\n",
      "INFO:GTS.isc_modelling.contact_mechanics_biot:Error in pressure is 1.951353e+00.\n",
      "INFO:porepy.numerics.nonlinear.nonlinear_solvers:Newton iteration number 16 of 40\n"
     ]
    },
    {
     "name": "stdout",
     "output_type": "stream",
     "text": [
      "Solved whole system using direct solver in 131.57366943359375 s.\n"
     ]
    },
    {
     "name": "stderr",
     "output_type": "stream",
     "text": [
      "INFO:porepy.models.contact_mechanics_biot_model:||b-Ax|| = 0.7181979241552419\n",
      "INFO:porepy.models.contact_mechanics_biot_model:||b-Ax|| / ||b|| = 6.428552974949425e-07\n",
      "INFO:GTS.isc_modelling.contact_mechanics_biot:diff iter u = 5.740640e+09\n",
      "INFO:GTS.isc_modelling.contact_mechanics_biot:diff init u = 3.263518e+09\n",
      "INFO:GTS.isc_modelling.contact_mechanics_biot:diff iter contact = 3.443972e+31\n",
      "INFO:GTS.isc_modelling.contact_mechanics_biot:diff init contact = 1.185824e+31\n",
      "INFO:GTS.isc_modelling.contact_mechanics_biot:diff iter scalar = 2.608917e+29\n",
      "INFO:GTS.isc_modelling.contact_mechanics_biot:diff init scalar = 3.309849e+28\n",
      "INFO:GTS.isc_modelling.contact_mechanics_biot:Error in contact force is 2.904285e+00\n",
      "INFO:GTS.isc_modelling.contact_mechanics_biot:Error in matrix displacement is 1.759034e+00\n",
      "INFO:GTS.isc_modelling.contact_mechanics_biot:Error in pressure is 7.882286e+00.\n",
      "INFO:porepy.numerics.nonlinear.nonlinear_solvers:Newton iteration number 17 of 40\n"
     ]
    },
    {
     "name": "stdout",
     "output_type": "stream",
     "text": [
      "Solved whole system using direct solver in 141.4718680381775 s.\n"
     ]
    },
    {
     "name": "stderr",
     "output_type": "stream",
     "text": [
      "INFO:porepy.models.contact_mechanics_biot_model:||b-Ax|| = 0.7313450010121288\n",
      "INFO:porepy.models.contact_mechanics_biot_model:||b-Ax|| / ||b|| = 6.622080239790154e-07\n",
      "INFO:GTS.isc_modelling.contact_mechanics_biot:diff iter u = 1.877186e+10\n",
      "INFO:GTS.isc_modelling.contact_mechanics_biot:diff init u = 1.414788e+10\n",
      "INFO:GTS.isc_modelling.contact_mechanics_biot:diff iter contact = 8.005446e+31\n",
      "INFO:GTS.isc_modelling.contact_mechanics_biot:diff init contact = 7.275721e+31\n",
      "INFO:GTS.isc_modelling.contact_mechanics_biot:diff iter scalar = 2.134689e+29\n",
      "INFO:GTS.isc_modelling.contact_mechanics_biot:diff init scalar = 1.980200e+29\n",
      "INFO:GTS.isc_modelling.contact_mechanics_biot:Error in contact force is 1.100296e+00\n",
      "INFO:GTS.isc_modelling.contact_mechanics_biot:Error in matrix displacement is 1.326832e+00\n",
      "INFO:GTS.isc_modelling.contact_mechanics_biot:Error in pressure is 1.078017e+00.\n",
      "INFO:porepy.numerics.nonlinear.nonlinear_solvers:Newton iteration number 18 of 40\n"
     ]
    },
    {
     "name": "stdout",
     "output_type": "stream",
     "text": [
      "Solved whole system using direct solver in 127.50963568687439 s.\n"
     ]
    },
    {
     "name": "stderr",
     "output_type": "stream",
     "text": [
      "INFO:porepy.models.contact_mechanics_biot_model:||b-Ax|| = 2.56542571988339\n",
      "INFO:porepy.models.contact_mechanics_biot_model:||b-Ax|| / ||b|| = 2.0368156488865806e-06\n",
      "INFO:GTS.isc_modelling.contact_mechanics_biot:diff iter u = 2.554550e+10\n",
      "INFO:GTS.isc_modelling.contact_mechanics_biot:diff init u = 7.792711e+09\n",
      "INFO:GTS.isc_modelling.contact_mechanics_biot:diff iter contact = 1.444910e+32\n",
      "INFO:GTS.isc_modelling.contact_mechanics_biot:diff init contact = 7.578973e+31\n",
      "INFO:GTS.isc_modelling.contact_mechanics_biot:diff iter scalar = 3.158170e+29\n",
      "INFO:GTS.isc_modelling.contact_mechanics_biot:diff init scalar = 1.293175e+29\n",
      "INFO:GTS.isc_modelling.contact_mechanics_biot:Error in contact force is 1.906472e+00\n",
      "INFO:GTS.isc_modelling.contact_mechanics_biot:Error in matrix displacement is 3.278127e+00\n",
      "INFO:GTS.isc_modelling.contact_mechanics_biot:Error in pressure is 2.442182e+00.\n",
      "INFO:porepy.numerics.nonlinear.nonlinear_solvers:Newton iteration number 19 of 40\n"
     ]
    },
    {
     "name": "stdout",
     "output_type": "stream",
     "text": [
      "Solved whole system using direct solver in 145.2901096343994 s.\n"
     ]
    },
    {
     "name": "stderr",
     "output_type": "stream",
     "text": [
      "INFO:porepy.models.contact_mechanics_biot_model:||b-Ax|| = 0.5808054382521746\n",
      "INFO:porepy.models.contact_mechanics_biot_model:||b-Ax|| / ||b|| = 5.237856997786173e-07\n",
      "INFO:GTS.isc_modelling.contact_mechanics_biot:diff iter u = 7.777653e+09\n",
      "INFO:GTS.isc_modelling.contact_mechanics_biot:diff init u = 2.387073e+09\n",
      "INFO:GTS.isc_modelling.contact_mechanics_biot:diff iter contact = 8.655474e+31\n",
      "INFO:GTS.isc_modelling.contact_mechanics_biot:diff init contact = 1.575444e+31\n",
      "INFO:GTS.isc_modelling.contact_mechanics_biot:diff iter scalar = 1.417730e+29\n",
      "INFO:GTS.isc_modelling.contact_mechanics_biot:diff init scalar = 3.788022e+28\n",
      "INFO:GTS.isc_modelling.contact_mechanics_biot:Error in contact force is 5.493989e+00\n",
      "INFO:GTS.isc_modelling.contact_mechanics_biot:Error in matrix displacement is 3.258238e+00\n",
      "INFO:GTS.isc_modelling.contact_mechanics_biot:Error in pressure is 3.742667e+00.\n",
      "INFO:porepy.numerics.nonlinear.nonlinear_solvers:Newton iteration number 20 of 40\n"
     ]
    },
    {
     "name": "stdout",
     "output_type": "stream",
     "text": [
      "Solved whole system using direct solver in 132.3837320804596 s.\n"
     ]
    },
    {
     "name": "stderr",
     "output_type": "stream",
     "text": [
      "INFO:porepy.models.contact_mechanics_biot_model:||b-Ax|| = 36.462893362789536\n",
      "INFO:porepy.models.contact_mechanics_biot_model:||b-Ax|| / ||b|| = 3.425390209970166e-05\n",
      "INFO:GTS.isc_modelling.contact_mechanics_biot:diff iter u = 8.690789e+12\n",
      "INFO:GTS.isc_modelling.contact_mechanics_biot:diff init u = 8.525880e+12\n",
      "INFO:GTS.isc_modelling.contact_mechanics_biot:diff iter contact = 1.442173e+34\n",
      "INFO:GTS.isc_modelling.contact_mechanics_biot:diff init contact = 1.440981e+34\n",
      "INFO:GTS.isc_modelling.contact_mechanics_biot:diff iter scalar = 5.359956e+31\n",
      "INFO:GTS.isc_modelling.contact_mechanics_biot:diff init scalar = 5.328391e+31\n",
      "INFO:GTS.isc_modelling.contact_mechanics_biot:Error in contact force is 1.000827e+00\n",
      "INFO:GTS.isc_modelling.contact_mechanics_biot:Error in matrix displacement is 1.019342e+00\n",
      "INFO:GTS.isc_modelling.contact_mechanics_biot:Error in pressure is 1.005924e+00.\n",
      "INFO:porepy.numerics.nonlinear.nonlinear_solvers:Newton iteration number 21 of 40\n"
     ]
    },
    {
     "name": "stdout",
     "output_type": "stream",
     "text": [
      "Solved whole system using direct solver in 159.97168850898743 s.\n"
     ]
    },
    {
     "name": "stderr",
     "output_type": "stream",
     "text": [
      "INFO:porepy.models.contact_mechanics_biot_model:||b-Ax|| = 9.578841177269936\n",
      "INFO:porepy.models.contact_mechanics_biot_model:||b-Ax|| / ||b|| = 3.457345353187546e-07\n",
      "INFO:GTS.isc_modelling.contact_mechanics_biot:diff iter u = 6.435857e+12\n",
      "INFO:GTS.isc_modelling.contact_mechanics_biot:diff init u = 8.946638e+11\n",
      "INFO:GTS.isc_modelling.contact_mechanics_biot:diff iter contact = 1.742984e+34\n",
      "INFO:GTS.isc_modelling.contact_mechanics_biot:diff init contact = 3.224685e+33\n",
      "INFO:GTS.isc_modelling.contact_mechanics_biot:diff iter scalar = 8.168724e+31\n",
      "INFO:GTS.isc_modelling.contact_mechanics_biot:diff init scalar = 2.548071e+31\n",
      "INFO:GTS.isc_modelling.contact_mechanics_biot:Error in contact force is 5.405129e+00\n",
      "INFO:GTS.isc_modelling.contact_mechanics_biot:Error in matrix displacement is 7.193604e+00\n",
      "INFO:GTS.isc_modelling.contact_mechanics_biot:Error in pressure is 3.205846e+00.\n",
      "INFO:porepy.numerics.nonlinear.nonlinear_solvers:Newton iteration number 22 of 40\n"
     ]
    },
    {
     "name": "stdout",
     "output_type": "stream",
     "text": [
      "Solved whole system using direct solver in 118.95146560668945 s.\n"
     ]
    },
    {
     "name": "stderr",
     "output_type": "stream",
     "text": [
      "INFO:porepy.models.contact_mechanics_biot_model:||b-Ax|| = 13.741541108455502\n",
      "INFO:porepy.models.contact_mechanics_biot_model:||b-Ax|| / ||b|| = 2.040675975944193e-06\n",
      "INFO:GTS.isc_modelling.contact_mechanics_biot:diff iter u = 3.838658e+12\n",
      "INFO:GTS.isc_modelling.contact_mechanics_biot:diff init u = 2.797459e+12\n",
      "INFO:GTS.isc_modelling.contact_mechanics_biot:diff iter contact = 1.756009e+34\n",
      "INFO:GTS.isc_modelling.contact_mechanics_biot:diff init contact = 1.441131e+34\n",
      "INFO:GTS.isc_modelling.contact_mechanics_biot:diff iter scalar = 8.487844e+31\n",
      "INFO:GTS.isc_modelling.contact_mechanics_biot:diff init scalar = 6.003852e+31\n",
      "INFO:GTS.isc_modelling.contact_mechanics_biot:Error in contact force is 1.218494e+00\n",
      "INFO:GTS.isc_modelling.contact_mechanics_biot:Error in matrix displacement is 1.372194e+00\n",
      "INFO:GTS.isc_modelling.contact_mechanics_biot:Error in pressure is 1.413733e+00.\n",
      "INFO:porepy.numerics.nonlinear.nonlinear_solvers:Newton iteration number 23 of 40\n"
     ]
    },
    {
     "name": "stdout",
     "output_type": "stream",
     "text": [
      "Solved whole system using direct solver in 124.11347198486328 s.\n"
     ]
    },
    {
     "name": "stderr",
     "output_type": "stream",
     "text": [
      "INFO:porepy.models.contact_mechanics_biot_model:||b-Ax|| = 11524.525521969337\n",
      "INFO:porepy.models.contact_mechanics_biot_model:||b-Ax|| / ||b|| = 0.0013349600441118171\n",
      "INFO:GTS.isc_modelling.contact_mechanics_biot:diff iter u = 4.662320e+16\n",
      "INFO:GTS.isc_modelling.contact_mechanics_biot:diff init u = 4.661040e+16\n",
      "INFO:GTS.isc_modelling.contact_mechanics_biot:diff iter contact = 7.410088e+38\n",
      "INFO:GTS.isc_modelling.contact_mechanics_biot:diff init contact = 7.409966e+38\n",
      "INFO:GTS.isc_modelling.contact_mechanics_biot:diff iter scalar = 4.949835e+35\n",
      "INFO:GTS.isc_modelling.contact_mechanics_biot:diff init scalar = 4.951332e+35\n",
      "INFO:GTS.isc_modelling.contact_mechanics_biot:Error in contact force is 1.000017e+00\n",
      "INFO:GTS.isc_modelling.contact_mechanics_biot:Error in matrix displacement is 1.000275e+00\n",
      "INFO:GTS.isc_modelling.contact_mechanics_biot:Error in pressure is 9.996976e-01.\n",
      "INFO:porepy.numerics.nonlinear.nonlinear_solvers:Newton iteration number 24 of 40\n"
     ]
    },
    {
     "name": "stdout",
     "output_type": "stream",
     "text": [
      "Solved whole system using direct solver in 143.43171620368958 s.\n"
     ]
    },
    {
     "name": "stderr",
     "output_type": "stream",
     "text": [
      "INFO:porepy.models.contact_mechanics_biot_model:||b-Ax|| = 5512.069593425402\n",
      "INFO:porepy.models.contact_mechanics_biot_model:||b-Ax|| / ||b|| = 3.2534027690251982e-06\n",
      "INFO:GTS.isc_modelling.contact_mechanics_biot:diff iter u = 2.829526e+16\n",
      "INFO:GTS.isc_modelling.contact_mechanics_biot:diff init u = 3.129052e+16\n",
      "INFO:GTS.isc_modelling.contact_mechanics_biot:diff iter contact = 9.072347e+38\n",
      "INFO:GTS.isc_modelling.contact_mechanics_biot:diff init contact = 1.741276e+38\n",
      "INFO:GTS.isc_modelling.contact_mechanics_biot:diff iter scalar = 6.038637e+35\n",
      "INFO:GTS.isc_modelling.contact_mechanics_biot:diff init scalar = 1.534784e+35\n",
      "INFO:GTS.isc_modelling.contact_mechanics_biot:Error in contact force is 5.210172e+00\n",
      "INFO:GTS.isc_modelling.contact_mechanics_biot:Error in matrix displacement is 9.042757e-01\n",
      "INFO:GTS.isc_modelling.contact_mechanics_biot:Error in pressure is 3.934521e+00.\n",
      "INFO:porepy.numerics.nonlinear.nonlinear_solvers:Newton iteration number 25 of 40\n"
     ]
    },
    {
     "name": "stdout",
     "output_type": "stream",
     "text": [
      "Solved whole system using direct solver in 134.1309380531311 s.\n"
     ]
    },
    {
     "name": "stderr",
     "output_type": "stream",
     "text": [
      "INFO:porepy.models.contact_mechanics_biot_model:||b-Ax|| = 990.988878969163\n",
      "INFO:porepy.models.contact_mechanics_biot_model:||b-Ax|| / ||b|| = 8.672366838894134e-07\n",
      "INFO:GTS.isc_modelling.contact_mechanics_biot:diff iter u = 4.318751e+16\n",
      "INFO:GTS.isc_modelling.contact_mechanics_biot:diff init u = 4.802543e+15\n",
      "INFO:GTS.isc_modelling.contact_mechanics_biot:diff iter contact = 1.992533e+38\n",
      "INFO:GTS.isc_modelling.contact_mechanics_biot:diff init contact = 2.635998e+37\n",
      "INFO:GTS.isc_modelling.contact_mechanics_biot:diff iter scalar = 3.457261e+35\n",
      "INFO:GTS.isc_modelling.contact_mechanics_biot:diff init scalar = 2.171874e+35\n",
      "INFO:GTS.isc_modelling.contact_mechanics_biot:Error in contact force is 7.558929e+00\n",
      "INFO:GTS.isc_modelling.contact_mechanics_biot:Error in matrix displacement is 8.992634e+00\n",
      "INFO:GTS.isc_modelling.contact_mechanics_biot:Error in pressure is 1.591834e+00.\n",
      "INFO:porepy.numerics.nonlinear.nonlinear_solvers:Newton iteration number 26 of 40\n"
     ]
    },
    {
     "name": "stdout",
     "output_type": "stream",
     "text": [
      "Solved whole system using direct solver in 154.93800115585327 s.\n"
     ]
    },
    {
     "name": "stderr",
     "output_type": "stream",
     "text": [
      "INFO:porepy.models.contact_mechanics_biot_model:||b-Ax|| = 672.3065210259696\n",
      "INFO:porepy.models.contact_mechanics_biot_model:||b-Ax|| / ||b|| = 1.0271720562221098e-06\n",
      "INFO:GTS.isc_modelling.contact_mechanics_biot:diff iter u = 7.101249e+15\n",
      "INFO:GTS.isc_modelling.contact_mechanics_biot:diff init u = 4.862100e+15\n",
      "INFO:GTS.isc_modelling.contact_mechanics_biot:diff iter contact = 4.374645e+37\n",
      "INFO:GTS.isc_modelling.contact_mechanics_biot:diff init contact = 1.831027e+37\n",
      "INFO:GTS.isc_modelling.contact_mechanics_biot:diff iter scalar = 2.419595e+35\n",
      "INFO:GTS.isc_modelling.contact_mechanics_biot:diff init scalar = 1.109147e+35\n",
      "INFO:GTS.isc_modelling.contact_mechanics_biot:Error in contact force is 2.389175e+00\n",
      "INFO:GTS.isc_modelling.contact_mechanics_biot:Error in matrix displacement is 1.460531e+00\n",
      "INFO:GTS.isc_modelling.contact_mechanics_biot:Error in pressure is 2.181493e+00.\n",
      "INFO:porepy.numerics.nonlinear.nonlinear_solvers:Newton iteration number 27 of 40\n"
     ]
    },
    {
     "name": "stdout",
     "output_type": "stream",
     "text": [
      "Solved whole system using direct solver in 129.09102725982666 s.\n"
     ]
    },
    {
     "name": "stderr",
     "output_type": "stream",
     "text": [
      "INFO:porepy.models.contact_mechanics_biot_model:||b-Ax|| = 342.54235649042215\n",
      "INFO:porepy.models.contact_mechanics_biot_model:||b-Ax|| / ||b|| = 6.708278772965917e-07\n",
      "INFO:GTS.isc_modelling.contact_mechanics_biot:diff iter u = 4.427463e+15\n",
      "INFO:GTS.isc_modelling.contact_mechanics_biot:diff init u = 2.522117e+14\n",
      "INFO:GTS.isc_modelling.contact_mechanics_biot:diff iter contact = 2.192715e+37\n",
      "INFO:GTS.isc_modelling.contact_mechanics_biot:diff init contact = 4.156180e+36\n",
      "INFO:GTS.isc_modelling.contact_mechanics_biot:diff iter scalar = 1.105582e+35\n",
      "INFO:GTS.isc_modelling.contact_mechanics_biot:diff init scalar = 4.320873e+33\n",
      "INFO:GTS.isc_modelling.contact_mechanics_biot:Error in contact force is 5.275794e+00\n",
      "INFO:GTS.isc_modelling.contact_mechanics_biot:Error in matrix displacement is 1.755455e+01\n",
      "INFO:GTS.isc_modelling.contact_mechanics_biot:Error in pressure is 2.558701e+01.\n",
      "INFO:porepy.numerics.nonlinear.nonlinear_solvers:Newton iteration number 28 of 40\n"
     ]
    },
    {
     "name": "stdout",
     "output_type": "stream",
     "text": [
      "Solved whole system using direct solver in 122.39083099365234 s.\n"
     ]
    },
    {
     "name": "stderr",
     "output_type": "stream",
     "text": [
      "INFO:porepy.models.contact_mechanics_biot_model:||b-Ax|| = 40.91065258324493\n",
      "INFO:porepy.models.contact_mechanics_biot_model:||b-Ax|| / ||b|| = 3.6868748205258695e-07\n",
      "INFO:GTS.isc_modelling.contact_mechanics_biot:diff iter u = 1.804213e+14\n",
      "INFO:GTS.isc_modelling.contact_mechanics_biot:diff init u = 3.519970e+13\n",
      "INFO:GTS.isc_modelling.contact_mechanics_biot:diff iter contact = 4.138333e+36\n",
      "INFO:GTS.isc_modelling.contact_mechanics_biot:diff init contact = 6.738565e+34\n",
      "INFO:GTS.isc_modelling.contact_mechanics_biot:diff iter scalar = 3.965430e+33\n",
      "INFO:GTS.isc_modelling.contact_mechanics_biot:diff init scalar = 5.748431e+32\n",
      "INFO:GTS.isc_modelling.contact_mechanics_biot:Error in contact force is 6.141267e+01\n",
      "INFO:GTS.isc_modelling.contact_mechanics_biot:Error in matrix displacement is 5.125648e+00\n",
      "INFO:GTS.isc_modelling.contact_mechanics_biot:Error in pressure is 6.898282e+00.\n",
      "INFO:porepy.numerics.nonlinear.nonlinear_solvers:Newton iteration number 29 of 40\n"
     ]
    },
    {
     "name": "stdout",
     "output_type": "stream",
     "text": [
      "Solved whole system using direct solver in 131.27071976661682 s.\n"
     ]
    },
    {
     "name": "stderr",
     "output_type": "stream",
     "text": [
      "INFO:porepy.models.contact_mechanics_biot_model:||b-Ax|| = 40.6877415357806\n",
      "INFO:porepy.models.contact_mechanics_biot_model:||b-Ax|| / ||b|| = 1.0653360625405895e-06\n",
      "INFO:GTS.isc_modelling.contact_mechanics_biot:diff iter u = 1.544215e+14\n",
      "INFO:GTS.isc_modelling.contact_mechanics_biot:diff init u = 1.230229e+14\n",
      "INFO:GTS.isc_modelling.contact_mechanics_biot:diff iter contact = 3.602408e+35\n",
      "INFO:GTS.isc_modelling.contact_mechanics_biot:diff init contact = 3.018396e+35\n",
      "INFO:GTS.isc_modelling.contact_mechanics_biot:diff iter scalar = 2.482270e+33\n",
      "INFO:GTS.isc_modelling.contact_mechanics_biot:diff init scalar = 1.863613e+33\n",
      "INFO:GTS.isc_modelling.contact_mechanics_biot:Error in contact force is 1.193484e+00\n",
      "INFO:GTS.isc_modelling.contact_mechanics_biot:Error in matrix displacement is 1.255226e+00\n",
      "INFO:GTS.isc_modelling.contact_mechanics_biot:Error in pressure is 1.331966e+00.\n",
      "INFO:porepy.numerics.nonlinear.nonlinear_solvers:Newton iteration number 30 of 40\n"
     ]
    },
    {
     "name": "stdout",
     "output_type": "stream",
     "text": [
      "Solved whole system using direct solver in 136.72070455551147 s.\n"
     ]
    },
    {
     "name": "stderr",
     "output_type": "stream",
     "text": [
      "INFO:porepy.models.contact_mechanics_biot_model:||b-Ax|| = 61.81177191528934\n",
      "INFO:porepy.models.contact_mechanics_biot_model:||b-Ax|| / ||b|| = 8.813260420983542e-07\n",
      "INFO:GTS.isc_modelling.contact_mechanics_biot:diff iter u = 1.313557e+14\n",
      "INFO:GTS.isc_modelling.contact_mechanics_biot:diff init u = 4.537041e+13\n",
      "INFO:GTS.isc_modelling.contact_mechanics_biot:diff iter contact = 3.405915e+35\n",
      "INFO:GTS.isc_modelling.contact_mechanics_biot:diff init contact = 6.202585e+34\n",
      "INFO:GTS.isc_modelling.contact_mechanics_biot:diff iter scalar = 2.283536e+33\n",
      "INFO:GTS.isc_modelling.contact_mechanics_biot:diff init scalar = 5.121281e+32\n",
      "INFO:GTS.isc_modelling.contact_mechanics_biot:Error in contact force is 5.491122e+00\n",
      "INFO:GTS.isc_modelling.contact_mechanics_biot:Error in matrix displacement is 2.895184e+00\n",
      "INFO:GTS.isc_modelling.contact_mechanics_biot:Error in pressure is 4.458916e+00.\n",
      "INFO:porepy.numerics.nonlinear.nonlinear_solvers:Newton iteration number 31 of 40\n"
     ]
    },
    {
     "name": "stdout",
     "output_type": "stream",
     "text": [
      "Solved whole system using direct solver in 125.72398972511292 s.\n"
     ]
    },
    {
     "name": "stderr",
     "output_type": "stream",
     "text": [
      "INFO:porepy.models.contact_mechanics_biot_model:||b-Ax|| = 47.95910999092447\n",
      "INFO:porepy.models.contact_mechanics_biot_model:||b-Ax|| / ||b|| = 8.641455426898246e-07\n",
      "INFO:GTS.isc_modelling.contact_mechanics_biot:diff iter u = 8.986585e+13\n",
      "INFO:GTS.isc_modelling.contact_mechanics_biot:diff init u = 3.950205e+13\n",
      "INFO:GTS.isc_modelling.contact_mechanics_biot:diff iter contact = 1.632249e+35\n",
      "INFO:GTS.isc_modelling.contact_mechanics_biot:diff init contact = 1.012253e+35\n",
      "INFO:GTS.isc_modelling.contact_mechanics_biot:diff iter scalar = 1.322146e+33\n",
      "INFO:GTS.isc_modelling.contact_mechanics_biot:diff init scalar = 6.388332e+32\n",
      "INFO:GTS.isc_modelling.contact_mechanics_biot:Error in contact force is 1.612491e+00\n",
      "INFO:GTS.isc_modelling.contact_mechanics_biot:Error in matrix displacement is 2.274967e+00\n",
      "INFO:GTS.isc_modelling.contact_mechanics_biot:Error in pressure is 2.069626e+00.\n",
      "INFO:porepy.numerics.nonlinear.nonlinear_solvers:Newton iteration number 32 of 40\n"
     ]
    },
    {
     "name": "stdout",
     "output_type": "stream",
     "text": [
      "Solved whole system using direct solver in 140.26809740066528 s.\n"
     ]
    },
    {
     "name": "stderr",
     "output_type": "stream",
     "text": [
      "INFO:porepy.models.contact_mechanics_biot_model:||b-Ax|| = 37.28866986231967\n",
      "INFO:porepy.models.contact_mechanics_biot_model:||b-Ax|| / ||b|| = 7.650859622644432e-07\n",
      "INFO:GTS.isc_modelling.contact_mechanics_biot:diff iter u = 4.656727e+13\n",
      "INFO:GTS.isc_modelling.contact_mechanics_biot:diff init u = 1.475438e+13\n",
      "INFO:GTS.isc_modelling.contact_mechanics_biot:diff iter contact = 1.549071e+35\n",
      "INFO:GTS.isc_modelling.contact_mechanics_biot:diff init contact = 5.707148e+34\n",
      "INFO:GTS.isc_modelling.contact_mechanics_biot:diff iter scalar = 7.805947e+32\n",
      "INFO:GTS.isc_modelling.contact_mechanics_biot:diff init scalar = 3.261750e+32\n",
      "INFO:GTS.isc_modelling.contact_mechanics_biot:Error in contact force is 2.714265e+00\n",
      "INFO:GTS.isc_modelling.contact_mechanics_biot:Error in matrix displacement is 3.156166e+00\n",
      "INFO:GTS.isc_modelling.contact_mechanics_biot:Error in pressure is 2.393178e+00.\n",
      "INFO:porepy.numerics.nonlinear.nonlinear_solvers:Newton iteration number 33 of 40\n"
     ]
    },
    {
     "name": "stdout",
     "output_type": "stream",
     "text": [
      "Solved whole system using direct solver in 120.66091728210449 s.\n"
     ]
    },
    {
     "name": "stderr",
     "output_type": "stream",
     "text": [
      "INFO:porepy.models.contact_mechanics_biot_model:||b-Ax|| = 260.3222272218671\n",
      "INFO:porepy.models.contact_mechanics_biot_model:||b-Ax|| / ||b|| = 7.63828978933528e-06\n",
      "INFO:GTS.isc_modelling.contact_mechanics_biot:diff iter u = 3.329504e+13\n",
      "INFO:GTS.isc_modelling.contact_mechanics_biot:diff init u = 2.476532e+13\n",
      "INFO:GTS.isc_modelling.contact_mechanics_biot:diff iter contact = 1.186337e+35\n",
      "INFO:GTS.isc_modelling.contact_mechanics_biot:diff init contact = 6.234836e+34\n",
      "INFO:GTS.isc_modelling.contact_mechanics_biot:diff iter scalar = 4.827357e+32\n",
      "INFO:GTS.isc_modelling.contact_mechanics_biot:diff init scalar = 2.346891e+32\n",
      "INFO:GTS.isc_modelling.contact_mechanics_biot:Error in contact force is 1.902756e+00\n",
      "INFO:GTS.isc_modelling.contact_mechanics_biot:Error in matrix displacement is 1.344422e+00\n",
      "INFO:GTS.isc_modelling.contact_mechanics_biot:Error in pressure is 2.056916e+00.\n",
      "INFO:porepy.numerics.nonlinear.nonlinear_solvers:Newton iteration number 34 of 40\n"
     ]
    },
    {
     "name": "stdout",
     "output_type": "stream",
     "text": [
      "Solved whole system using direct solver in 155.92102885246277 s.\n"
     ]
    },
    {
     "name": "stderr",
     "output_type": "stream",
     "text": [
      "INFO:porepy.models.contact_mechanics_biot_model:||b-Ax|| = 32.99601503158362\n",
      "INFO:porepy.models.contact_mechanics_biot_model:||b-Ax|| / ||b|| = 1.0409911036450788e-06\n",
      "INFO:GTS.isc_modelling.contact_mechanics_biot:diff iter u = 3.407053e+13\n",
      "INFO:GTS.isc_modelling.contact_mechanics_biot:diff init u = 1.281489e+13\n",
      "INFO:GTS.isc_modelling.contact_mechanics_biot:diff iter contact = 1.375104e+35\n",
      "INFO:GTS.isc_modelling.contact_mechanics_biot:diff init contact = 7.603127e+34\n",
      "INFO:GTS.isc_modelling.contact_mechanics_biot:diff iter scalar = 3.582494e+32\n",
      "INFO:GTS.isc_modelling.contact_mechanics_biot:diff init scalar = 1.673899e+32\n",
      "INFO:GTS.isc_modelling.contact_mechanics_biot:Error in contact force is 1.808604e+00\n",
      "INFO:GTS.isc_modelling.contact_mechanics_biot:Error in matrix displacement is 2.658667e+00\n",
      "INFO:GTS.isc_modelling.contact_mechanics_biot:Error in pressure is 2.140209e+00.\n",
      "INFO:porepy.numerics.nonlinear.nonlinear_solvers:Newton iteration number 35 of 40\n"
     ]
    },
    {
     "name": "stdout",
     "output_type": "stream",
     "text": [
      "Solved whole system using direct solver in 56.89121603965759 s.\n"
     ]
    },
    {
     "name": "stderr",
     "output_type": "stream",
     "text": [
      "INFO:porepy.models.contact_mechanics_biot_model:||b-Ax|| = 558.6126761709555\n",
      "INFO:porepy.models.contact_mechanics_biot_model:||b-Ax|| / ||b|| = 1.7048928943476236e-05\n",
      "INFO:GTS.isc_modelling.contact_mechanics_biot:diff iter u = 7.661837e+14\n",
      "INFO:GTS.isc_modelling.contact_mechanics_biot:diff init u = 7.777126e+14\n",
      "INFO:GTS.isc_modelling.contact_mechanics_biot:diff iter contact = 7.434087e+36\n",
      "INFO:GTS.isc_modelling.contact_mechanics_biot:diff init contact = 7.359334e+36\n",
      "INFO:GTS.isc_modelling.contact_mechanics_biot:diff iter scalar = 2.639024e+34\n",
      "INFO:GTS.isc_modelling.contact_mechanics_biot:diff init scalar = 2.660170e+34\n",
      "INFO:GTS.isc_modelling.contact_mechanics_biot:Error in contact force is 1.010158e+00\n",
      "INFO:GTS.isc_modelling.contact_mechanics_biot:Error in matrix displacement is 9.851759e-01\n",
      "INFO:GTS.isc_modelling.contact_mechanics_biot:Error in pressure is 9.920510e-01.\n",
      "INFO:porepy.numerics.nonlinear.nonlinear_solvers:Newton iteration number 36 of 40\n"
     ]
    },
    {
     "name": "stdout",
     "output_type": "stream",
     "text": [
      "Solved whole system using direct solver in 58.74192762374878 s.\n"
     ]
    },
    {
     "name": "stderr",
     "output_type": "stream",
     "text": [
      "INFO:porepy.models.contact_mechanics_biot_model:||b-Ax|| = 67.31465990549437\n",
      "INFO:porepy.models.contact_mechanics_biot_model:||b-Ax|| / ||b|| = 8.052280852758429e-07\n",
      "INFO:GTS.isc_modelling.contact_mechanics_biot:diff iter u = 6.912189e+14\n",
      "INFO:GTS.isc_modelling.contact_mechanics_biot:diff init u = 1.228093e+13\n",
      "INFO:GTS.isc_modelling.contact_mechanics_biot:diff iter contact = 7.087838e+36\n",
      "INFO:GTS.isc_modelling.contact_mechanics_biot:diff init contact = 1.873086e+34\n",
      "INFO:GTS.isc_modelling.contact_mechanics_biot:diff iter scalar = 2.520821e+34\n",
      "INFO:GTS.isc_modelling.contact_mechanics_biot:diff init scalar = 1.226145e+32\n",
      "INFO:GTS.isc_modelling.contact_mechanics_biot:Error in contact force is 3.784044e+02\n",
      "INFO:GTS.isc_modelling.contact_mechanics_biot:Error in matrix displacement is 5.628391e+01\n",
      "INFO:GTS.isc_modelling.contact_mechanics_biot:Error in pressure is 2.055892e+02.\n",
      "INFO:porepy.numerics.nonlinear.nonlinear_solvers:Newton iteration number 37 of 40\n"
     ]
    },
    {
     "name": "stdout",
     "output_type": "stream",
     "text": [
      "Solved whole system using direct solver in 53.10577464103699 s.\n"
     ]
    },
    {
     "name": "stderr",
     "output_type": "stream",
     "text": [
      "INFO:porepy.models.contact_mechanics_biot_model:||b-Ax|| = 13.333166648040358\n",
      "INFO:porepy.models.contact_mechanics_biot_model:||b-Ax|| / ||b|| = 5.054053183633936e-07\n",
      "INFO:GTS.isc_modelling.contact_mechanics_biot:diff iter u = 9.988937e+12\n",
      "INFO:GTS.isc_modelling.contact_mechanics_biot:diff init u = 1.679431e+12\n",
      "INFO:GTS.isc_modelling.contact_mechanics_biot:diff iter contact = 2.138445e+34\n",
      "INFO:GTS.isc_modelling.contact_mechanics_biot:diff init contact = 4.384833e+33\n",
      "INFO:GTS.isc_modelling.contact_mechanics_biot:diff iter scalar = 1.165696e+32\n",
      "INFO:GTS.isc_modelling.contact_mechanics_biot:diff init scalar = 3.349332e+31\n",
      "INFO:GTS.isc_modelling.contact_mechanics_biot:Error in contact force is 4.876914e+00\n",
      "INFO:GTS.isc_modelling.contact_mechanics_biot:Error in matrix displacement is 5.947810e+00\n",
      "INFO:GTS.isc_modelling.contact_mechanics_biot:Error in pressure is 3.480383e+00.\n",
      "INFO:porepy.numerics.nonlinear.nonlinear_solvers:Newton iteration number 38 of 40\n"
     ]
    },
    {
     "name": "stdout",
     "output_type": "stream",
     "text": [
      "Solved whole system using direct solver in 53.27919626235962 s.\n"
     ]
    },
    {
     "name": "stderr",
     "output_type": "stream",
     "text": [
      "INFO:porepy.models.contact_mechanics_biot_model:||b-Ax|| = 30.328159220637378\n",
      "INFO:porepy.models.contact_mechanics_biot_model:||b-Ax|| / ||b|| = 3.1457427930771273e-06\n",
      "INFO:GTS.isc_modelling.contact_mechanics_biot:diff iter u = 1.376399e+13\n",
      "INFO:GTS.isc_modelling.contact_mechanics_biot:diff init u = 1.376434e+13\n",
      "INFO:GTS.isc_modelling.contact_mechanics_biot:diff iter contact = 2.784006e+34\n",
      "INFO:GTS.isc_modelling.contact_mechanics_biot:diff init contact = 2.385528e+34\n",
      "INFO:GTS.isc_modelling.contact_mechanics_biot:diff iter scalar = 4.469747e+32\n",
      "INFO:GTS.isc_modelling.contact_mechanics_biot:diff init scalar = 4.097995e+32\n",
      "INFO:GTS.isc_modelling.contact_mechanics_biot:Error in contact force is 1.167039e+00\n",
      "INFO:GTS.isc_modelling.contact_mechanics_biot:Error in matrix displacement is 9.999742e-01\n",
      "INFO:GTS.isc_modelling.contact_mechanics_biot:Error in pressure is 1.090716e+00.\n",
      "INFO:porepy.numerics.nonlinear.nonlinear_solvers:Newton iteration number 39 of 40\n"
     ]
    },
    {
     "name": "stdout",
     "output_type": "stream",
     "text": [
      "Solved whole system using direct solver in 54.22248983383179 s.\n"
     ]
    },
    {
     "name": "stderr",
     "output_type": "stream",
     "text": [
      "INFO:porepy.models.contact_mechanics_biot_model:||b-Ax|| = 23.051816546296276\n",
      "INFO:porepy.models.contact_mechanics_biot_model:||b-Ax|| / ||b|| = 8.620475273327675e-07\n",
      "INFO:GTS.isc_modelling.contact_mechanics_biot:diff iter u = 1.300126e+13\n",
      "INFO:GTS.isc_modelling.contact_mechanics_biot:diff init u = 4.996926e+12\n",
      "INFO:GTS.isc_modelling.contact_mechanics_biot:diff iter contact = 3.117714e+34\n",
      "INFO:GTS.isc_modelling.contact_mechanics_biot:diff init contact = 7.675402e+33\n",
      "INFO:GTS.isc_modelling.contact_mechanics_biot:diff iter scalar = 3.921117e+32\n",
      "INFO:GTS.isc_modelling.contact_mechanics_biot:diff init scalar = 7.382501e+31\n",
      "INFO:GTS.isc_modelling.contact_mechanics_biot:Error in contact force is 4.061955e+00\n",
      "INFO:GTS.isc_modelling.contact_mechanics_biot:Error in matrix displacement is 2.601851e+00\n",
      "INFO:GTS.isc_modelling.contact_mechanics_biot:Error in pressure is 5.311367e+00.\n",
      "INFO:porepy.numerics.nonlinear.nonlinear_solvers:Newton iteration number 40 of 40\n"
     ]
    },
    {
     "name": "stdout",
     "output_type": "stream",
     "text": [
      "Solved whole system using direct solver in 51.40794539451599 s.\n"
     ]
    },
    {
     "name": "stderr",
     "output_type": "stream",
     "text": [
      "INFO:porepy.models.contact_mechanics_biot_model:||b-Ax|| = 8.796291955272112\n",
      "INFO:porepy.models.contact_mechanics_biot_model:||b-Ax|| / ||b|| = 6.280242889841186e-07\n",
      "INFO:GTS.isc_modelling.contact_mechanics_biot:diff iter u = 3.323971e+12\n",
      "INFO:GTS.isc_modelling.contact_mechanics_biot:diff init u = 8.750133e+11\n",
      "INFO:GTS.isc_modelling.contact_mechanics_biot:diff iter contact = 7.915185e+33\n",
      "INFO:GTS.isc_modelling.contact_mechanics_biot:diff init contact = 4.988245e+32\n",
      "INFO:GTS.isc_modelling.contact_mechanics_biot:diff iter scalar = 5.966500e+31\n",
      "INFO:GTS.isc_modelling.contact_mechanics_biot:diff init scalar = 1.043031e+31\n",
      "INFO:GTS.isc_modelling.contact_mechanics_biot:Error in contact force is 1.586767e+01\n",
      "INFO:GTS.isc_modelling.contact_mechanics_biot:Error in matrix displacement is 3.798766e+00\n",
      "INFO:GTS.isc_modelling.contact_mechanics_biot:Error in pressure is 5.720347e+00.\n",
      "ERROR:GTS.isc_modelling.contact_mechanics_biot:Newton iterations did not converge\n",
      "INFO:GTS.isc_modelling.contact_mechanics_biot:Calling after_newton_convergence(<GTS.isc_modelling.contact_mechanics_biot.ContactMechanicsBiotISC object at 0x7f57d13d9160>, array([ 17009.27851207, -24586.76501097,   3511.09797894, ...,\n",
      "           35.69698161,    344.42686949,    -35.69698162]), [1.0, 0.11889996168371536, 0.04625429726471894, 1.0075279037120524, 1.8670862355730213, 1.3040380438540902, 10.019681456919825, 4.503491540221241, 0.9971733375038603, 1.23871114571185, 3.105243485152644, 1.8939284588453187, 1.0078244623644115, 3.079106442780675, 4.501272239029423, 2.6571522290596965, 1.759034305088704, 1.326831850496581, 3.278127013336163, 3.258238288074308, 1.0193421083571923, 7.19360432696132, 1.3721943427767003, 1.0002745438037808, 0.9042757368398865, 8.992634477176425, 1.4605312760728346, 17.55454678128252, 5.125648442611635, 1.255225750109013, 2.8951838855232332, 2.2749667862423015, 3.15616554458096, 1.3444217566740633, 2.6586669057633414, 0.9851758807745944, 56.28390590796822, 5.94780968009643, 0.9999742140579975, 2.601851113812559, 3.7987658413838417], 41)\n",
      "INFO:GTS.isc_modelling.contact_mechanics_biot:Calling export_step(<GTS.isc_modelling.contact_mechanics_biot.ContactMechanicsBiotISC object at 0x7f57d13d9160>)\n",
      "INFO:GTS.isc_modelling.contact_mechanics_biot:'export_step' returned None\n",
      "INFO:GTS.isc_modelling.contact_mechanics_biot:'after_newton_convergence' returned None\n",
      "INFO:GTS.isc_modelling.contact_mechanics_biot:Solution exported to folder \n",
      " /home/haakon/mastersproject/src/mastersproject/GTS/isc_modelling/results/200421/full_model_tests/test_1\n",
      "INFO:GTS.isc_modelling.contact_mechanics_biot:Solution exported to folder \n",
      " /home/haakon/mastersproject/src/mastersproject/GTS/isc_modelling/results/200421/full_model_tests/test_1\n"
     ]
    },
    {
     "name": "stdout",
     "output_type": "stream",
     "text": [
      "Solved whole system using direct solver in 57.139036655426025 s.\n"
     ]
    }
   ],
   "source": [
    "pp.run_time_dependent_model(setup=setup, params=newton_params)"
   ]
  },
  {
   "cell_type": "code",
   "execution_count": null,
   "metadata": {},
   "outputs": [],
   "source": []
  }
 ],
 "metadata": {
  "kernelspec": {
   "display_name": "Python 3",
   "language": "python",
   "name": "python3"
  },
  "language_info": {
   "codemirror_mode": {
    "name": "ipython",
    "version": 3
   },
   "file_extension": ".py",
   "mimetype": "text/x-python",
   "name": "python",
   "nbconvert_exporter": "python",
   "pygments_lexer": "ipython3",
   "version": "3.7.0"
  }
 },
 "nbformat": 4,
 "nbformat_minor": 4
}
