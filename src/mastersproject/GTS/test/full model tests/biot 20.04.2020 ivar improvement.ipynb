{
 "cells": [
  {
   "cell_type": "markdown",
   "metadata": {},
   "source": [
    "# Test on 20.04.2020\n",
    "Test run on full Biot GTS model"
   ]
  },
  {
   "cell_type": "code",
   "execution_count": 1,
   "metadata": {},
   "outputs": [],
   "source": [
    "%load_ext autoreload\n",
    "%autoreload 2\n",
    "\n",
    "import sys\n",
    "sys.path.extend([\n",
    "    '/home/haakon/mastersproject', \n",
    "    '/home/haakon/mastersproject/src/mastersproject'\n",
    "])\n",
    "\n",
    "import GTS as gts\n",
    "from GTS.isc_modelling.setup import run_abstract_model\n",
    "import porepy as pp\n",
    "import numpy as np\n",
    "import pendulum\n",
    "\n",
    "import logging\n",
    "logging.basicConfig(level=\"INFO\")"
   ]
  },
  {
   "cell_type": "markdown",
   "metadata": {},
   "source": [
    "## Setup 1:\n",
    "scaling coefficients from optimal overview:\n",
    "* `ls = 0.05`, `ss = 1e12`\n",
    "\n",
    "Setup:\n",
    "* no gravity\n",
    "* 5 shear zones\n",
    "* old permeability parameters"
   ]
  },
  {
   "cell_type": "code",
   "execution_count": 2,
   "metadata": {
    "scrolled": true
   },
   "outputs": [
    {
     "name": "stderr",
     "output_type": "stream",
     "text": [
      "INFO:GTS.isc_modelling.setup:Preparing setup for simulation on 2020-04-21T09:56:41+02:00\n",
      "INFO:GTS.isc_modelling.setup:Simulation parameters:\n",
      " {'_gravity_bc': False,\n",
      " '_gravity_bc_p': False,\n",
      " '_gravity_src': False,\n",
      " 'bounding_box': {'xmax': 80,\n",
      "                  'xmin': -20,\n",
      "                  'ymax': 150,\n",
      "                  'ymin': 50,\n",
      "                  'zmax': 75,\n",
      "                  'zmin': -25},\n",
      " 'folder_name': PosixPath('/home/haakon/mastersproject/src/mastersproject/GTS/isc_modelling/results/200421/full_model_tests/ivar_1'),\n",
      " 'length_scale': 0.05,\n",
      " 'mesh_args': {'mesh_size_bound': 180,\n",
      "               'mesh_size_frac': 30,\n",
      "               'mesh_size_min': 3.0},\n",
      " 'path_head': '200421/full_model_tests/ivar_1',\n",
      " 'scalar_scale': 1000000000000.0,\n",
      " 'shearzone_names': ['S1_1', 'S1_2', 'S1_3', 'S3_1', 'S3_2'],\n",
      " 'solution_strategy': 'schur_complement',\n",
      " 'solver': 'direct',\n",
      " 'source_scalar_borehole_shearzone': {'borehole': 'INJ1', 'shearzone': 'S1_2'},\n",
      " 'stress': array([[-11393046.22034133,    597621.26708787,   1842573.57669909],\n",
      "       [   597621.26708787,  -8873267.78285116,   -586150.35104884],\n",
      "       [  1842573.57669909,   -586150.35104884, -10733685.99680752]])}\n"
     ]
    }
   ],
   "source": [
    "# Prepare parameters\n",
    "model = gts.ContactMechanicsBiotISC\n",
    "run_model_method = pp.run_time_dependent_model\n",
    "\n",
    "now_as_YYMMDD = pendulum.now().format(\"YYMMDD\")\n",
    "head = f\"{now_as_YYMMDD}/full_model_tests/ivar_1\"\n",
    "\n",
    "sz = 30  # mesh size\n",
    "\n",
    "params = {\n",
    "    \"length_scale\": .05,\n",
    "    \"scalar_scale\": 1e12,\n",
    "    \"shearzone_names\": [\"S1_1\",\"S1_2\", \"S1_3\", \"S3_1\", \"S3_2\"],\n",
    "    \n",
    "    # turn off gravity\n",
    "    \"_gravity_bc_p\": False,\n",
    "    \"_gravity_src\": False,\n",
    "    \"_gravity_bc\": False,\n",
    "    \"path_head\": head,\n",
    "    \n",
    "    # Try out Ivar's code\n",
    "    \"solution_strategy\": \"schur_complement\",\n",
    "    \n",
    "    'mesh_args': {\n",
    "        'mesh_size_frac': sz,\n",
    "        'mesh_size_min': 0.1 * sz,\n",
    "        'mesh_size_bound': 6 * sz,\n",
    "    },\n",
    "    \n",
    "}\n",
    "from GTS.isc_modelling.setup import _prepare_params\n",
    "params = _prepare_params(params, False)"
   ]
  },
  {
   "cell_type": "code",
   "execution_count": 3,
   "metadata": {},
   "outputs": [
    {
     "name": "stderr",
     "output_type": "stream",
     "text": [
      "INFO:GTS.isc_modelling.contact_mechanics_biot:Initializing contact mechanics biot on ISC dataset\n",
      "INFO:GTS.isc_modelling.mechanics:Initializing contact mechanics on ISC dataset at 2020-04-21T09:56:41+02:00\n",
      "INFO:GTS.ISC_data.isc:GTS-ISC data located at: /home/haakon/mastersproject/src/mastersproject/GTS/01BasicInputData.\n"
     ]
    }
   ],
   "source": [
    "setup = gts.ContactMechanicsBiotISC(params=params)\n",
    "\n",
    "newton_params = {\n",
    "    \"max_iterations\": 40,\n",
    "    \"nl_convergence_tol\": 1e-10,\n",
    "    \"nl_divergence_tol\": 1e5,\n",
    "}"
   ]
  },
  {
   "cell_type": "code",
   "execution_count": 4,
   "metadata": {
    "scrolled": false
   },
   "outputs": [
    {
     "name": "stderr",
     "output_type": "stream",
     "text": [
      "INFO:GTS.isc_modelling.contact_mechanics_biot:Calling prepare_simulation\n",
      "INFO:GTS.isc_modelling.mechanics:Calling create_grid(<GTS.isc_modelling.contact_mechanics_biot.ContactMechanicsBiotISC object at 0x7f2f2466a1d0>)\n",
      "INFO:GTS.ISC_data.isc:GTS-ISC data located at: /home/haakon/mastersproject/src/mastersproject/GTS/01BasicInputData.\n",
      "INFO:GTS.ISC_data.fracture:Interpolating shearzone S1_1 ...\n",
      "INFO:root:Sum of pointwise relative errors: 0.0724\n",
      "INFO:GTS.ISC_data.fracture:Interpolating shearzone S1_2 ...\n",
      "INFO:root:Sum of pointwise relative errors: 0.1129\n",
      "INFO:GTS.ISC_data.fracture:Interpolating shearzone S1_3 ...\n",
      "INFO:root:Sum of pointwise relative errors: 0.0917\n",
      "INFO:GTS.ISC_data.fracture:Interpolating shearzone S3_1 ...\n",
      "INFO:root:Sum of pointwise relative errors: 0.0375\n",
      "INFO:GTS.ISC_data.fracture:Interpolating shearzone S3_2 ...\n",
      "INFO:root:Sum of pointwise relative errors: 0.0840\n",
      "/home/haakon/.local/lib/python3.7/site-packages/vtk/util/numpy_support.py:137: FutureWarning: Conversion of the second argument of issubdtype from `complex` to `np.complexfloating` is deprecated. In future, it will be treated as `np.complex128 == np.dtype(complex).type`.\n",
      "  assert not numpy.issubdtype(z.dtype, complex), \\\n",
      "INFO:GTS.ISC_data.fracture:Saving vtk file of fracture network in 3D.\n",
      "INFO:porepy.fracs.fractures_3d:Find intersection between fratures\n",
      "INFO:porepy.fracs.fractures_3d:Found 18 intersections. Ellapsed time: 0.02590\n",
      "INFO:porepy.fracs.fractures_3d:Split intersections\n",
      "INFO:porepy.fracs.fractures_3d:Compile list of points and edges\n",
      "INFO:porepy.fracs.fractures_3d:Points and edges done. Elapsed time 0.00193\n",
      "INFO:porepy.fracs.fractures_3d:Uniquify points and edges, starting with 97 points, 79\n",
      "                    edges\n",
      "INFO:porepy.fracs.fractures_3d:Uniquify complete. 57 points, 55 edges. Ellapsed time\n",
      "                    0.01395\n",
      "INFO:porepy.fracs.fractures_3d:Remove edge intersections\n",
      "INFO:porepy.fracs.fractures_3d:Done with intersection removal. Elapsed time 0.11716\n",
      "INFO:porepy.fracs.fractures_3d:Uniquify points and edges, starting with 57 points, 67\n",
      "                    edges\n",
      "INFO:porepy.fracs.fractures_3d:Uniquify complete. 57 points, 67 edges. Ellapsed time\n",
      "                    0.01804\n",
      "INFO:porepy.fracs.fractures_3d:Finished fracture splitting after 0.16689 seconds\n",
      "INFO:porepy.fracs.fractures_3d:Minimal distance between points encountered is 15.051993782552357\n",
      "INFO:porepy.fracs.simplex:Grid creation completed. Elapsed time 0.12119650840759277\n",
      "INFO:porepy.fracs.simplex:Created 1 3-d grids with 3520 cells\n",
      "INFO:porepy.fracs.simplex:Created 5 2-d grids with 758 cells\n",
      "INFO:porepy.fracs.simplex:Created 6 1-d grids with 23 cells\n",
      "INFO:porepy.fracs.meshing:Assemble in bucket\n",
      "INFO:porepy.fracs.meshing:Done. Elapsed time 0.11864829063415527\n",
      "INFO:porepy.fracs.meshing:Compute geometry\n",
      "INFO:porepy.fracs.meshing:Done. Elapsed time 0.05587887763977051\n",
      "INFO:porepy.fracs.meshing:Split fractures\n",
      "INFO:porepy.fracs.meshing:Done. Elapsed time 1.401529312133789\n",
      "INFO:GTS.isc_modelling.mechanics:Finished 'create_grid' in 3.4132 secs\n",
      "INFO:GTS.isc_modelling.mechanics:'create_grid' returned None\n",
      "INFO:GTS.isc_modelling.contact_mechanics_biot:Tagging grid of name: S1_2, and dimension 2\n",
      "INFO:GTS.isc_modelling.contact_mechanics_biot:Setting non-zero source value for pressure\n",
      "INFO:GTS.isc_modelling.contact_mechanics_biot:Closest cell found has distance: 21.650650\n",
      "INFO:porepy.models.contact_mechanics_biot_model:Discretize\n",
      "INFO:porepy.numerics.fv.mpsa:Split MPSA discretization into 1 parts\n",
      "INFO:porepy.numerics.fv.biot:Done with subproblem 0. Elapsed time 31.937000036239624\n",
      "INFO:porepy.models.contact_mechanics_biot_model:Done. Elapsed time 51.31492066383362\n",
      "INFO:porepy.viz.exporter:Construct 3d grid information using numba\n",
      "/home/haakon/porepy/src/porepy/viz/exporter.py:932: NumbaPerformanceWarning: np.dot() is faster on contiguous arrays, called on (array(float64, 1d, A), array(float64, 1d, C))\n",
      "  angle = np.arccos(np.dot(normals[:, fi], reference))\n",
      "INFO:GTS.isc_modelling.contact_mechanics_biot:Finished 'prepare_simulation' in 60.7193 secs\n",
      "INFO:porepy.models.run_models:\n",
      "Time step 1 at time 2.4e+03 of 7.2e+03 with time step 2.4e+03\n",
      "INFO:GTS.isc_modelling.contact_mechanics_biot:Calling before_newton_loop(<GTS.isc_modelling.contact_mechanics_biot.ContactMechanicsBiotISC object at 0x7f2f2466a1d0>)\n",
      "INFO:GTS.isc_modelling.contact_mechanics_biot:A new phase has started: Phase 5. Injection set to 20 l/min\n",
      "INFO:GTS.isc_modelling.contact_mechanics_biot:Finished 'before_newton_loop' in 0.0436 secs\n",
      "INFO:GTS.isc_modelling.contact_mechanics_biot:'before_newton_loop' returned None\n",
      "INFO:porepy.numerics.nonlinear.nonlinear_solvers:Newton iteration number 0 of 40\n",
      "INFO:porepy.models.contact_mechanics_biot_model:Max element in A 2.26e+09\n",
      "INFO:porepy.models.contact_mechanics_biot_model:Max 2.83e+09 and min 2.01e+00 A sum.\n",
      "INFO:porepy.models.contact_mechanics_biot_model:Solve Ax=b using schur_complement\n"
     ]
    },
    {
     "name": "stdout",
     "output_type": "stream",
     "text": [
      "Computing SC of D:\n",
      "Inverting D as a dense matrix took 48.58555603027344 s\n",
      "Converting to csr took 14.416064023971558 s.\n",
      "Left-multiplying by B took 24.919721603393555\n",
      "Right-multiplying by C took 31.28440284729004 s. Finished computing SC.\n",
      "Attempting to compute inverse: M\n",
      "inverse computed\n",
      "Solved in 221.0125834941864 s, with 101.69648504257202 for constant part, whereof 100.81521105766296 s were the inversion of the SC.\n"
     ]
    },
    {
     "name": "stderr",
     "output_type": "stream",
     "text": [
      "INFO:porepy.models.contact_mechanics_biot_model:Done. Elapsed time 221.07367086410522\n",
      "INFO:porepy.models.contact_mechanics_biot_model:||b-Ax|| = 8.620167388015294e-10\n",
      "INFO:porepy.models.contact_mechanics_biot_model:||b-Ax|| / ||b|| = 2.413031218612344e-14\n",
      "INFO:GTS.isc_modelling.contact_mechanics_biot:diff iter u = 5.335950e-02\n",
      "INFO:GTS.isc_modelling.contact_mechanics_biot:diff init u = 5.335950e-02\n",
      "INFO:GTS.isc_modelling.contact_mechanics_biot:diff iter contact = 3.083527e+28\n",
      "INFO:GTS.isc_modelling.contact_mechanics_biot:diff init contact = 3.083527e+28\n",
      "INFO:GTS.isc_modelling.contact_mechanics_biot:diff iter scalar = 4.985700e+18\n",
      "INFO:GTS.isc_modelling.contact_mechanics_biot:diff init scalar = 4.985700e+18\n",
      "INFO:GTS.isc_modelling.contact_mechanics_biot:Error in contact force is 1.000000e+00\n",
      "INFO:GTS.isc_modelling.contact_mechanics_biot:Error in matrix displacement is 1.000000e+00\n",
      "INFO:GTS.isc_modelling.contact_mechanics_biot:Error in pressure is 1.000000e+00.\n",
      "INFO:porepy.numerics.nonlinear.nonlinear_solvers:Newton iteration number 1 of 40\n",
      "INFO:porepy.models.contact_mechanics_biot_model:Max element in A 2.26e+09\n",
      "INFO:porepy.models.contact_mechanics_biot_model:Max 2.83e+09 and min 1.00e+00 A sum.\n",
      "INFO:porepy.models.contact_mechanics_biot_model:Solve Ax=b using schur_complement\n"
     ]
    },
    {
     "name": "stdout",
     "output_type": "stream",
     "text": [
      "Attempting to compute inverse: M\n"
     ]
    },
    {
     "name": "stderr",
     "output_type": "stream",
     "text": [
      "INFO:porepy.models.contact_mechanics_biot_model:Done. Elapsed time 118.9385781288147\n",
      "INFO:porepy.models.contact_mechanics_biot_model:||b-Ax|| = 1.0307159400009606e-08\n",
      "INFO:porepy.models.contact_mechanics_biot_model:||b-Ax|| / ||b|| = 2.88526849745585e-13\n",
      "INFO:GTS.isc_modelling.contact_mechanics_biot:diff iter u = 4.826775e-03\n",
      "INFO:GTS.isc_modelling.contact_mechanics_biot:diff init u = 6.296528e-02\n"
     ]
    },
    {
     "name": "stdout",
     "output_type": "stream",
     "text": [
      "inverse computed\n",
      "Solved in 118.90042877197266 s, with 118.72942566871643 for constant part, whereof 117.85505700111389 s were the inversion of the SC.\n"
     ]
    },
    {
     "name": "stderr",
     "output_type": "stream",
     "text": [
      "INFO:GTS.isc_modelling.contact_mechanics_biot:diff iter contact = 3.083437e+28\n",
      "INFO:GTS.isc_modelling.contact_mechanics_biot:diff init contact = 4.744547e+21\n",
      "INFO:GTS.isc_modelling.contact_mechanics_biot:diff iter scalar = 2.574662e+18\n",
      "INFO:GTS.isc_modelling.contact_mechanics_biot:diff init scalar = 6.622609e+17\n",
      "INFO:GTS.isc_modelling.contact_mechanics_biot:Error in contact force is 6.498908e+06\n",
      "INFO:GTS.isc_modelling.contact_mechanics_biot:Error in matrix displacement is 7.665773e-02\n",
      "INFO:GTS.isc_modelling.contact_mechanics_biot:Error in pressure is 3.887685e+00.\n",
      "INFO:porepy.numerics.nonlinear.nonlinear_solvers:Newton iteration number 2 of 40\n",
      "INFO:porepy.models.contact_mechanics_biot_model:Max element in A 2.26e+09\n",
      "INFO:porepy.models.contact_mechanics_biot_model:Max 2.83e+09 and min 1.00e+00 A sum.\n",
      "INFO:porepy.models.contact_mechanics_biot_model:Solve Ax=b using schur_complement\n"
     ]
    },
    {
     "name": "stdout",
     "output_type": "stream",
     "text": [
      "Attempting to compute inverse: M\n"
     ]
    },
    {
     "name": "stderr",
     "output_type": "stream",
     "text": [
      "INFO:porepy.models.contact_mechanics_biot_model:Done. Elapsed time 124.66518759727478\n"
     ]
    },
    {
     "name": "stdout",
     "output_type": "stream",
     "text": [
      "inverse computed\n",
      "Solved in 124.6290876865387 s, with 124.52037715911865 for constant part, whereof 123.5815498828888 s were the inversion of the SC.\n"
     ]
    },
    {
     "name": "stderr",
     "output_type": "stream",
     "text": [
      "INFO:porepy.models.contact_mechanics_biot_model:||b-Ax|| = 7.053508834937224e-09\n",
      "INFO:porepy.models.contact_mechanics_biot_model:||b-Ax|| / ||b|| = 1.9744787139931474e-13\n",
      "INFO:GTS.isc_modelling.contact_mechanics_biot:diff iter u = 2.871360e-03\n",
      "INFO:GTS.isc_modelling.contact_mechanics_biot:diff init u = 5.751934e-02\n",
      "INFO:GTS.isc_modelling.contact_mechanics_biot:diff iter contact = 1.000429e+19\n",
      "INFO:GTS.isc_modelling.contact_mechanics_biot:diff init contact = 4.733446e+21\n",
      "INFO:GTS.isc_modelling.contact_mechanics_biot:diff iter scalar = 4.712537e+16\n",
      "INFO:GTS.isc_modelling.contact_mechanics_biot:diff init scalar = 7.481689e+17\n",
      "INFO:GTS.isc_modelling.contact_mechanics_biot:Error in contact force is 2.113531e-03\n",
      "INFO:GTS.isc_modelling.contact_mechanics_biot:Error in matrix displacement is 4.991991e-02\n",
      "INFO:GTS.isc_modelling.contact_mechanics_biot:Error in pressure is 6.298761e-02.\n",
      "INFO:porepy.numerics.nonlinear.nonlinear_solvers:Newton iteration number 3 of 40\n",
      "INFO:porepy.models.contact_mechanics_biot_model:Max element in A 2.26e+09\n",
      "INFO:porepy.models.contact_mechanics_biot_model:Max 2.83e+09 and min 1.00e+00 A sum.\n",
      "INFO:porepy.models.contact_mechanics_biot_model:Solve Ax=b using schur_complement\n"
     ]
    },
    {
     "name": "stdout",
     "output_type": "stream",
     "text": [
      "Attempting to compute inverse: M\n"
     ]
    },
    {
     "name": "stderr",
     "output_type": "stream",
     "text": [
      "INFO:porepy.models.contact_mechanics_biot_model:Done. Elapsed time 111.63454675674438\n",
      "INFO:porepy.models.contact_mechanics_biot_model:||b-Ax|| = 1.1110626628030707e-08\n"
     ]
    },
    {
     "name": "stdout",
     "output_type": "stream",
     "text": [
      "inverse computed\n",
      "Solved in 111.60167741775513 s, with 111.49279713630676 for constant part, whereof 110.64298224449158 s were the inversion of the SC.\n"
     ]
    },
    {
     "name": "stderr",
     "output_type": "stream",
     "text": [
      "INFO:porepy.models.contact_mechanics_biot_model:||b-Ax|| / ||b|| = 3.110181937772565e-13\n",
      "INFO:GTS.isc_modelling.contact_mechanics_biot:diff iter u = 5.037412e-02\n",
      "INFO:GTS.isc_modelling.contact_mechanics_biot:diff init u = 1.159675e-01\n",
      "INFO:GTS.isc_modelling.contact_mechanics_biot:diff iter contact = 2.751231e+20\n",
      "INFO:GTS.isc_modelling.contact_mechanics_biot:diff init contact = 4.991091e+21\n",
      "INFO:GTS.isc_modelling.contact_mechanics_biot:diff iter scalar = 7.802867e+17\n",
      "INFO:GTS.isc_modelling.contact_mechanics_biot:diff init scalar = 1.420375e+18\n",
      "INFO:GTS.isc_modelling.contact_mechanics_biot:Error in contact force is 5.512283e-02\n",
      "INFO:GTS.isc_modelling.contact_mechanics_biot:Error in matrix displacement is 4.343812e-01\n",
      "INFO:GTS.isc_modelling.contact_mechanics_biot:Error in pressure is 5.493525e-01.\n",
      "INFO:porepy.numerics.nonlinear.nonlinear_solvers:Newton iteration number 4 of 40\n",
      "INFO:porepy.models.contact_mechanics_biot_model:Max element in A 2.26e+09\n",
      "INFO:porepy.models.contact_mechanics_biot_model:Max 2.83e+09 and min 1.00e+00 A sum.\n",
      "INFO:porepy.models.contact_mechanics_biot_model:Solve Ax=b using schur_complement\n"
     ]
    },
    {
     "name": "stdout",
     "output_type": "stream",
     "text": [
      "Attempting to compute inverse: M\n"
     ]
    },
    {
     "name": "stderr",
     "output_type": "stream",
     "text": [
      "INFO:porepy.models.contact_mechanics_biot_model:Done. Elapsed time 126.41777229309082\n"
     ]
    },
    {
     "name": "stdout",
     "output_type": "stream",
     "text": [
      "inverse computed\n",
      "Solved in 126.38052821159363 s, with 126.26251459121704 for constant part, whereof 125.37104201316833 s were the inversion of the SC.\n"
     ]
    },
    {
     "name": "stderr",
     "output_type": "stream",
     "text": [
      "INFO:porepy.models.contact_mechanics_biot_model:||b-Ax|| = 1.0527518266180575e-07\n",
      "INFO:porepy.models.contact_mechanics_biot_model:||b-Ax|| / ||b|| = 2.9469532385137106e-12\n",
      "INFO:GTS.isc_modelling.contact_mechanics_biot:diff iter u = 2.858046e-01\n",
      "INFO:GTS.isc_modelling.contact_mechanics_biot:diff init u = 2.783308e-01\n",
      "INFO:GTS.isc_modelling.contact_mechanics_biot:diff iter contact = 1.789646e+21\n",
      "INFO:GTS.isc_modelling.contact_mechanics_biot:diff init contact = 6.220571e+21\n",
      "INFO:GTS.isc_modelling.contact_mechanics_biot:diff iter scalar = 2.365436e+18\n",
      "INFO:GTS.isc_modelling.contact_mechanics_biot:diff init scalar = 2.953501e+18\n",
      "INFO:GTS.isc_modelling.contact_mechanics_biot:Error in contact force is 2.876979e-01\n",
      "INFO:GTS.isc_modelling.contact_mechanics_biot:Error in matrix displacement is 1.026852e+00\n",
      "INFO:GTS.isc_modelling.contact_mechanics_biot:Error in pressure is 8.008923e-01.\n",
      "INFO:porepy.numerics.nonlinear.nonlinear_solvers:Newton iteration number 5 of 40\n",
      "INFO:porepy.models.contact_mechanics_biot_model:Max element in A 2.26e+09\n",
      "INFO:porepy.models.contact_mechanics_biot_model:Max 2.83e+09 and min 1.00e+00 A sum.\n",
      "INFO:porepy.models.contact_mechanics_biot_model:Solve Ax=b using schur_complement\n"
     ]
    },
    {
     "name": "stdout",
     "output_type": "stream",
     "text": [
      "Attempting to compute inverse: M\n"
     ]
    },
    {
     "name": "stderr",
     "output_type": "stream",
     "text": [
      "INFO:porepy.models.contact_mechanics_biot_model:Done. Elapsed time 131.10745000839233\n",
      "INFO:porepy.models.contact_mechanics_biot_model:||b-Ax|| = 3.198843333074535e-08\n"
     ]
    },
    {
     "name": "stdout",
     "output_type": "stream",
     "text": [
      "inverse computed\n",
      "Solved in 131.0707404613495 s, with 130.96668028831482 for constant part, whereof 130.11384201049805 s were the inversion of the SC.\n"
     ]
    },
    {
     "name": "stderr",
     "output_type": "stream",
     "text": [
      "INFO:porepy.models.contact_mechanics_biot_model:||b-Ax|| / ||b|| = 8.954476690008415e-13\n",
      "INFO:GTS.isc_modelling.contact_mechanics_biot:diff iter u = 1.083592e+00\n",
      "INFO:GTS.isc_modelling.contact_mechanics_biot:diff init u = 7.648253e-01\n",
      "INFO:GTS.isc_modelling.contact_mechanics_biot:diff iter contact = 6.532816e+21\n",
      "INFO:GTS.isc_modelling.contact_mechanics_biot:diff init contact = 9.738592e+21\n",
      "INFO:GTS.isc_modelling.contact_mechanics_biot:diff iter scalar = 1.313607e+19\n",
      "INFO:GTS.isc_modelling.contact_mechanics_biot:diff init scalar = 1.119860e+19\n",
      "INFO:GTS.isc_modelling.contact_mechanics_biot:Error in contact force is 6.708173e-01\n",
      "INFO:GTS.isc_modelling.contact_mechanics_biot:Error in matrix displacement is 1.416784e+00\n",
      "INFO:GTS.isc_modelling.contact_mechanics_biot:Error in pressure is 1.173010e+00.\n",
      "INFO:porepy.numerics.nonlinear.nonlinear_solvers:Newton iteration number 6 of 40\n",
      "INFO:porepy.models.contact_mechanics_biot_model:Max element in A 2.26e+09\n",
      "INFO:porepy.models.contact_mechanics_biot_model:Max 2.83e+09 and min 1.00e+00 A sum.\n",
      "INFO:porepy.models.contact_mechanics_biot_model:Solve Ax=b using schur_complement\n"
     ]
    },
    {
     "name": "stdout",
     "output_type": "stream",
     "text": [
      "Attempting to compute inverse: M\n"
     ]
    },
    {
     "name": "stderr",
     "output_type": "stream",
     "text": [
      "INFO:porepy.models.contact_mechanics_biot_model:Done. Elapsed time 135.65707564353943\n",
      "INFO:porepy.models.contact_mechanics_biot_model:||b-Ax|| = 3.104912707961943e-07\n",
      "INFO:porepy.models.contact_mechanics_biot_model:||b-Ax|| / ||b|| = 8.691537886675819e-12\n",
      "INFO:GTS.isc_modelling.contact_mechanics_biot:diff iter u = 9.743898e+01\n",
      "INFO:GTS.isc_modelling.contact_mechanics_biot:diff init u = 1.055569e+02\n"
     ]
    },
    {
     "name": "stdout",
     "output_type": "stream",
     "text": [
      "inverse computed\n",
      "Solved in 135.62264013290405 s, with 135.50729179382324 for constant part, whereof 134.5664472579956 s were the inversion of the SC.\n"
     ]
    },
    {
     "name": "stderr",
     "output_type": "stream",
     "text": [
      "INFO:GTS.isc_modelling.contact_mechanics_biot:diff iter contact = 4.964839e+23\n",
      "INFO:GTS.isc_modelling.contact_mechanics_biot:diff init contact = 4.965486e+23\n",
      "INFO:GTS.isc_modelling.contact_mechanics_biot:diff iter scalar = 5.819843e+20\n",
      "INFO:GTS.isc_modelling.contact_mechanics_biot:diff init scalar = 5.743749e+20\n",
      "INFO:GTS.isc_modelling.contact_mechanics_biot:Error in contact force is 9.998697e-01\n",
      "INFO:GTS.isc_modelling.contact_mechanics_biot:Error in matrix displacement is 9.230941e-01\n",
      "INFO:GTS.isc_modelling.contact_mechanics_biot:Error in pressure is 1.013248e+00.\n",
      "INFO:porepy.numerics.nonlinear.nonlinear_solvers:Newton iteration number 7 of 40\n",
      "INFO:porepy.models.contact_mechanics_biot_model:Max element in A 2.26e+09\n",
      "INFO:porepy.models.contact_mechanics_biot_model:Max 2.83e+09 and min 1.00e+00 A sum.\n",
      "INFO:porepy.models.contact_mechanics_biot_model:Solve Ax=b using schur_complement\n"
     ]
    },
    {
     "name": "stdout",
     "output_type": "stream",
     "text": [
      "Attempting to compute inverse: M\n"
     ]
    },
    {
     "name": "stderr",
     "output_type": "stream",
     "text": [
      "INFO:porepy.models.contact_mechanics_biot_model:Done. Elapsed time 118.48405814170837\n",
      "INFO:porepy.models.contact_mechanics_biot_model:||b-Ax|| = 7.595384471541829e-08\n",
      "INFO:porepy.models.contact_mechanics_biot_model:||b-Ax|| / ||b|| = 2.1261620007465833e-12\n",
      "INFO:GTS.isc_modelling.contact_mechanics_biot:diff iter u = 1.333042e+02\n",
      "INFO:GTS.isc_modelling.contact_mechanics_biot:diff init u = 3.441219e+01\n",
      "INFO:GTS.isc_modelling.contact_mechanics_biot:diff iter contact = 6.572845e+23\n",
      "INFO:GTS.isc_modelling.contact_mechanics_biot:diff init contact = 1.770005e+23\n",
      "INFO:GTS.isc_modelling.contact_mechanics_biot:diff iter scalar = 9.610096e+20\n",
      "INFO:GTS.isc_modelling.contact_mechanics_biot:diff init scalar = 3.368549e+20\n"
     ]
    },
    {
     "name": "stdout",
     "output_type": "stream",
     "text": [
      "inverse computed\n",
      "Solved in 118.44862985610962 s, with 118.30996584892273 for constant part, whereof 117.44495368003845 s were the inversion of the SC.\n"
     ]
    },
    {
     "name": "stderr",
     "output_type": "stream",
     "text": [
      "INFO:GTS.isc_modelling.contact_mechanics_biot:Error in contact force is 3.713462e+00\n",
      "INFO:GTS.isc_modelling.contact_mechanics_biot:Error in matrix displacement is 3.873749e+00\n",
      "INFO:GTS.isc_modelling.contact_mechanics_biot:Error in pressure is 2.852889e+00.\n",
      "INFO:porepy.numerics.nonlinear.nonlinear_solvers:Newton iteration number 8 of 40\n",
      "INFO:porepy.models.contact_mechanics_biot_model:Max element in A 2.26e+09\n",
      "INFO:porepy.models.contact_mechanics_biot_model:Max 2.83e+09 and min 1.00e+00 A sum.\n",
      "INFO:porepy.models.contact_mechanics_biot_model:Solve Ax=b using schur_complement\n"
     ]
    },
    {
     "name": "stdout",
     "output_type": "stream",
     "text": [
      "Attempting to compute inverse: M\n"
     ]
    },
    {
     "name": "stderr",
     "output_type": "stream",
     "text": [
      "INFO:porepy.models.contact_mechanics_biot_model:Done. Elapsed time 119.81134486198425\n",
      "INFO:porepy.models.contact_mechanics_biot_model:||b-Ax|| = 2.2819494415489432e-07\n"
     ]
    },
    {
     "name": "stdout",
     "output_type": "stream",
     "text": [
      "inverse computed\n",
      "Solved in 119.77615070343018 s, with 119.65378999710083 for constant part, whereof 118.80277824401855 s were the inversion of the SC.\n"
     ]
    },
    {
     "name": "stderr",
     "output_type": "stream",
     "text": [
      "INFO:porepy.models.contact_mechanics_biot_model:||b-Ax|| / ||b|| = 6.3878260988556364e-12\n",
      "INFO:GTS.isc_modelling.contact_mechanics_biot:diff iter u = 1.516756e+02\n",
      "INFO:GTS.isc_modelling.contact_mechanics_biot:diff init u = 9.659305e+01\n",
      "INFO:GTS.isc_modelling.contact_mechanics_biot:diff iter contact = 6.953546e+23\n",
      "INFO:GTS.isc_modelling.contact_mechanics_biot:diff init contact = 5.310935e+23\n",
      "INFO:GTS.isc_modelling.contact_mechanics_biot:diff iter scalar = 3.600533e+21\n",
      "INFO:GTS.isc_modelling.contact_mechanics_biot:diff init scalar = 3.250973e+21\n",
      "INFO:GTS.isc_modelling.contact_mechanics_biot:Error in contact force is 1.309288e+00\n",
      "INFO:GTS.isc_modelling.contact_mechanics_biot:Error in matrix displacement is 1.570253e+00\n",
      "INFO:GTS.isc_modelling.contact_mechanics_biot:Error in pressure is 1.107525e+00.\n",
      "INFO:porepy.numerics.nonlinear.nonlinear_solvers:Newton iteration number 9 of 40\n",
      "INFO:porepy.models.contact_mechanics_biot_model:Max element in A 2.26e+09\n",
      "INFO:porepy.models.contact_mechanics_biot_model:Max 2.83e+09 and min 1.00e+00 A sum.\n",
      "INFO:porepy.models.contact_mechanics_biot_model:Solve Ax=b using schur_complement\n"
     ]
    },
    {
     "name": "stdout",
     "output_type": "stream",
     "text": [
      "Attempting to compute inverse: M\n"
     ]
    },
    {
     "name": "stderr",
     "output_type": "stream",
     "text": [
      "INFO:porepy.models.contact_mechanics_biot_model:Done. Elapsed time 113.64833736419678\n"
     ]
    },
    {
     "name": "stdout",
     "output_type": "stream",
     "text": [
      "inverse computed\n",
      "Solved in 113.61115074157715 s, with 113.49174451828003 for constant part, whereof 112.62787103652954 s were the inversion of the SC.\n"
     ]
    },
    {
     "name": "stderr",
     "output_type": "stream",
     "text": [
      "INFO:porepy.models.contact_mechanics_biot_model:||b-Ax|| = 8.906608835959311e-08\n",
      "INFO:porepy.models.contact_mechanics_biot_model:||b-Ax|| / ||b|| = 2.493210754817691e-12\n",
      "INFO:GTS.isc_modelling.contact_mechanics_biot:diff iter u = 1.087355e+02\n",
      "INFO:GTS.isc_modelling.contact_mechanics_biot:diff init u = 3.519932e+01\n",
      "INFO:GTS.isc_modelling.contact_mechanics_biot:diff iter contact = 7.290345e+23\n",
      "INFO:GTS.isc_modelling.contact_mechanics_biot:diff init contact = 2.238117e+23\n",
      "INFO:GTS.isc_modelling.contact_mechanics_biot:diff iter scalar = 5.356061e+21\n",
      "INFO:GTS.isc_modelling.contact_mechanics_biot:diff init scalar = 2.423626e+21\n",
      "INFO:GTS.isc_modelling.contact_mechanics_biot:Error in contact force is 3.257357e+00\n",
      "INFO:GTS.isc_modelling.contact_mechanics_biot:Error in matrix displacement is 3.089135e+00\n",
      "INFO:GTS.isc_modelling.contact_mechanics_biot:Error in pressure is 2.209937e+00.\n",
      "INFO:porepy.numerics.nonlinear.nonlinear_solvers:Newton iteration number 10 of 40\n",
      "INFO:porepy.models.contact_mechanics_biot_model:Max element in A 2.26e+09\n",
      "INFO:porepy.models.contact_mechanics_biot_model:Max 2.83e+09 and min 1.00e+00 A sum.\n",
      "INFO:porepy.models.contact_mechanics_biot_model:Solve Ax=b using schur_complement\n"
     ]
    },
    {
     "name": "stdout",
     "output_type": "stream",
     "text": [
      "Attempting to compute inverse: M\n"
     ]
    },
    {
     "name": "stderr",
     "output_type": "stream",
     "text": [
      "INFO:porepy.models.contact_mechanics_biot_model:Done. Elapsed time 114.52531957626343\n",
      "INFO:porepy.models.contact_mechanics_biot_model:||b-Ax|| = 2.7614510707697775e-06\n",
      "INFO:porepy.models.contact_mechanics_biot_model:||b-Ax|| / ||b|| = 7.730084623724961e-11\n"
     ]
    },
    {
     "name": "stdout",
     "output_type": "stream",
     "text": [
      "inverse computed\n",
      "Solved in 114.49115777015686 s, with 114.35500359535217 for constant part, whereof 113.4949221611023 s were the inversion of the SC.\n"
     ]
    },
    {
     "name": "stderr",
     "output_type": "stream",
     "text": [
      "INFO:GTS.isc_modelling.contact_mechanics_biot:diff iter u = 8.833616e+01\n",
      "INFO:GTS.isc_modelling.contact_mechanics_biot:diff init u = 8.624541e+01\n",
      "INFO:GTS.isc_modelling.contact_mechanics_biot:diff iter contact = 4.023132e+23\n",
      "INFO:GTS.isc_modelling.contact_mechanics_biot:diff init contact = 1.917626e+23\n",
      "INFO:GTS.isc_modelling.contact_mechanics_biot:diff iter scalar = 3.269527e+21\n",
      "INFO:GTS.isc_modelling.contact_mechanics_biot:diff init scalar = 9.481623e+20\n",
      "INFO:GTS.isc_modelling.contact_mechanics_biot:Error in contact force is 2.097976e+00\n",
      "INFO:GTS.isc_modelling.contact_mechanics_biot:Error in matrix displacement is 1.024242e+00\n",
      "INFO:GTS.isc_modelling.contact_mechanics_biot:Error in pressure is 3.448278e+00.\n",
      "INFO:porepy.numerics.nonlinear.nonlinear_solvers:Newton iteration number 11 of 40\n",
      "INFO:porepy.models.contact_mechanics_biot_model:Max element in A 2.26e+09\n",
      "INFO:porepy.models.contact_mechanics_biot_model:Max 2.83e+09 and min 1.00e+00 A sum.\n",
      "INFO:porepy.models.contact_mechanics_biot_model:Solve Ax=b using schur_complement\n"
     ]
    },
    {
     "name": "stdout",
     "output_type": "stream",
     "text": [
      "Attempting to compute inverse: M\n"
     ]
    },
    {
     "name": "stderr",
     "output_type": "stream",
     "text": [
      "INFO:porepy.models.contact_mechanics_biot_model:Done. Elapsed time 117.62290024757385\n",
      "INFO:porepy.models.contact_mechanics_biot_model:||b-Ax|| = 3.3875769899447545e-07\n",
      "INFO:porepy.models.contact_mechanics_biot_model:||b-Ax|| / ||b|| = 9.482781183243875e-12\n",
      "INFO:GTS.isc_modelling.contact_mechanics_biot:diff iter u = 1.598453e+02\n",
      "INFO:GTS.isc_modelling.contact_mechanics_biot:diff init u = 1.372734e+02\n",
      "INFO:GTS.isc_modelling.contact_mechanics_biot:diff iter contact = 7.938490e+23\n",
      "INFO:GTS.isc_modelling.contact_mechanics_biot:diff init contact = 6.270478e+23\n",
      "INFO:GTS.isc_modelling.contact_mechanics_biot:diff iter scalar = 3.572120e+21\n",
      "INFO:GTS.isc_modelling.contact_mechanics_biot:diff init scalar = 2.954538e+21\n",
      "INFO:GTS.isc_modelling.contact_mechanics_biot:Error in contact force is 1.266010e+00\n",
      "INFO:GTS.isc_modelling.contact_mechanics_biot:Error in matrix displacement is 1.164430e+00\n"
     ]
    },
    {
     "name": "stdout",
     "output_type": "stream",
     "text": [
      "inverse computed\n",
      "Solved in 117.5895562171936 s, with 117.47923564910889 for constant part, whereof 116.60732293128967 s were the inversion of the SC.\n"
     ]
    },
    {
     "name": "stderr",
     "output_type": "stream",
     "text": [
      "INFO:GTS.isc_modelling.contact_mechanics_biot:Error in pressure is 1.209029e+00.\n",
      "INFO:porepy.numerics.nonlinear.nonlinear_solvers:Newton iteration number 12 of 40\n",
      "INFO:porepy.models.contact_mechanics_biot_model:Max element in A 2.26e+09\n",
      "INFO:porepy.models.contact_mechanics_biot_model:Max 2.83e+09 and min 1.00e+00 A sum.\n",
      "INFO:porepy.models.contact_mechanics_biot_model:Solve Ax=b using schur_complement\n"
     ]
    },
    {
     "name": "stdout",
     "output_type": "stream",
     "text": [
      "Attempting to compute inverse: M\n"
     ]
    },
    {
     "name": "stderr",
     "output_type": "stream",
     "text": [
      "INFO:porepy.models.contact_mechanics_biot_model:Done. Elapsed time 112.83881783485413\n",
      "INFO:porepy.models.contact_mechanics_biot_model:||b-Ax|| = 1.2970760715155106e-06\n",
      "INFO:porepy.models.contact_mechanics_biot_model:||b-Ax|| / ||b|| = 3.630879331297963e-11\n"
     ]
    },
    {
     "name": "stdout",
     "output_type": "stream",
     "text": [
      "inverse computed\n",
      "Solved in 112.79489421844482 s, with 112.68455243110657 for constant part, whereof 111.82986354827881 s were the inversion of the SC.\n"
     ]
    },
    {
     "name": "stderr",
     "output_type": "stream",
     "text": [
      "INFO:GTS.isc_modelling.contact_mechanics_biot:diff iter u = 1.398822e+03\n",
      "INFO:GTS.isc_modelling.contact_mechanics_biot:diff init u = 1.257945e+03\n",
      "INFO:GTS.isc_modelling.contact_mechanics_biot:diff iter contact = 1.354842e+25\n",
      "INFO:GTS.isc_modelling.contact_mechanics_biot:diff init contact = 1.294449e+25\n",
      "INFO:GTS.isc_modelling.contact_mechanics_biot:diff iter scalar = 2.494533e+22\n",
      "INFO:GTS.isc_modelling.contact_mechanics_biot:diff init scalar = 2.220332e+22\n",
      "INFO:GTS.isc_modelling.contact_mechanics_biot:Error in contact force is 1.046656e+00\n",
      "INFO:GTS.isc_modelling.contact_mechanics_biot:Error in matrix displacement is 1.111990e+00\n",
      "INFO:GTS.isc_modelling.contact_mechanics_biot:Error in pressure is 1.123495e+00.\n",
      "INFO:porepy.numerics.nonlinear.nonlinear_solvers:Newton iteration number 13 of 40\n",
      "INFO:porepy.models.contact_mechanics_biot_model:Max element in A 2.26e+09\n",
      "INFO:porepy.models.contact_mechanics_biot_model:Max 2.83e+09 and min 1.00e+00 A sum.\n",
      "INFO:porepy.models.contact_mechanics_biot_model:Solve Ax=b using schur_complement\n"
     ]
    },
    {
     "name": "stdout",
     "output_type": "stream",
     "text": [
      "Attempting to compute inverse: M\n"
     ]
    },
    {
     "name": "stderr",
     "output_type": "stream",
     "text": [
      "INFO:porepy.models.contact_mechanics_biot_model:Done. Elapsed time 113.65177035331726\n",
      "INFO:porepy.models.contact_mechanics_biot_model:||b-Ax|| = 3.43740718990827e-07\n"
     ]
    },
    {
     "name": "stdout",
     "output_type": "stream",
     "text": [
      "inverse computed\n",
      "Solved in 113.6150074005127 s, with 113.46615982055664 for constant part, whereof 112.60652947425842 s were the inversion of the SC.\n"
     ]
    },
    {
     "name": "stderr",
     "output_type": "stream",
     "text": [
      "INFO:porepy.models.contact_mechanics_biot_model:||b-Ax|| / ||b|| = 9.622125455751715e-12\n",
      "INFO:GTS.isc_modelling.contact_mechanics_biot:diff iter u = 1.004580e+03\n",
      "INFO:GTS.isc_modelling.contact_mechanics_biot:diff init u = 1.692821e+02\n",
      "INFO:GTS.isc_modelling.contact_mechanics_biot:diff iter contact = 1.300757e+25\n",
      "INFO:GTS.isc_modelling.contact_mechanics_biot:diff init contact = 2.412488e+23\n",
      "INFO:GTS.isc_modelling.contact_mechanics_biot:diff iter scalar = 2.221183e+22\n",
      "INFO:GTS.isc_modelling.contact_mechanics_biot:diff init scalar = 1.133130e+21\n",
      "INFO:GTS.isc_modelling.contact_mechanics_biot:Error in contact force is 5.391767e+01\n",
      "INFO:GTS.isc_modelling.contact_mechanics_biot:Error in matrix displacement is 5.934355e+00\n",
      "INFO:GTS.isc_modelling.contact_mechanics_biot:Error in pressure is 1.960219e+01.\n",
      "INFO:porepy.numerics.nonlinear.nonlinear_solvers:Newton iteration number 14 of 40\n",
      "INFO:porepy.models.contact_mechanics_biot_model:Max element in A 2.26e+09\n",
      "INFO:porepy.models.contact_mechanics_biot_model:Max 2.83e+09 and min 1.00e+00 A sum.\n",
      "INFO:porepy.models.contact_mechanics_biot_model:Solve Ax=b using schur_complement\n"
     ]
    },
    {
     "name": "stdout",
     "output_type": "stream",
     "text": [
      "Attempting to compute inverse: M\n"
     ]
    },
    {
     "name": "stderr",
     "output_type": "stream",
     "text": [
      "INFO:porepy.models.contact_mechanics_biot_model:Done. Elapsed time 119.58116269111633\n",
      "INFO:porepy.models.contact_mechanics_biot_model:||b-Ax|| = 1.6794288911921865e-07\n",
      "INFO:porepy.models.contact_mechanics_biot_model:||b-Ax|| / ||b|| = 4.701194162357511e-12\n",
      "INFO:GTS.isc_modelling.contact_mechanics_biot:diff iter u = 1.906085e+02\n",
      "INFO:GTS.isc_modelling.contact_mechanics_biot:diff init u = 3.109619e+01\n",
      "INFO:GTS.isc_modelling.contact_mechanics_biot:diff iter contact = 3.377909e+23\n"
     ]
    },
    {
     "name": "stdout",
     "output_type": "stream",
     "text": [
      "inverse computed\n",
      "Solved in 119.54453015327454 s, with 119.44024085998535 for constant part, whereof 118.57829093933105 s were the inversion of the SC.\n"
     ]
    },
    {
     "name": "stderr",
     "output_type": "stream",
     "text": [
      "INFO:GTS.isc_modelling.contact_mechanics_biot:diff init contact = 1.079580e+23\n",
      "INFO:GTS.isc_modelling.contact_mechanics_biot:diff iter scalar = 1.620782e+21\n",
      "INFO:GTS.isc_modelling.contact_mechanics_biot:diff init scalar = 7.300994e+20\n",
      "INFO:GTS.isc_modelling.contact_mechanics_biot:Error in contact force is 3.128909e+00\n",
      "INFO:GTS.isc_modelling.contact_mechanics_biot:Error in matrix displacement is 6.129643e+00\n",
      "INFO:GTS.isc_modelling.contact_mechanics_biot:Error in pressure is 2.219947e+00.\n",
      "INFO:porepy.numerics.nonlinear.nonlinear_solvers:Newton iteration number 15 of 40\n",
      "INFO:porepy.models.contact_mechanics_biot_model:Max element in A 2.26e+09\n",
      "INFO:porepy.models.contact_mechanics_biot_model:Max 2.83e+09 and min 1.00e+00 A sum.\n",
      "INFO:porepy.models.contact_mechanics_biot_model:Solve Ax=b using schur_complement\n"
     ]
    },
    {
     "name": "stdout",
     "output_type": "stream",
     "text": [
      "Attempting to compute inverse: M\n"
     ]
    },
    {
     "name": "stderr",
     "output_type": "stream",
     "text": [
      "INFO:porepy.models.contact_mechanics_biot_model:Done. Elapsed time 121.77529263496399\n",
      "INFO:porepy.models.contact_mechanics_biot_model:||b-Ax|| = 1.3865354225375945e-07\n",
      "INFO:porepy.models.contact_mechanics_biot_model:||b-Ax|| / ||b|| = 3.881307157605567e-12\n",
      "INFO:GTS.isc_modelling.contact_mechanics_biot:diff iter u = 3.283436e+01\n",
      "INFO:GTS.isc_modelling.contact_mechanics_biot:diff init u = 1.144431e+01\n",
      "INFO:GTS.isc_modelling.contact_mechanics_biot:diff iter contact = 1.272485e+23\n",
      "INFO:GTS.isc_modelling.contact_mechanics_biot:diff init contact = 2.937043e+22\n",
      "INFO:GTS.isc_modelling.contact_mechanics_biot:diff iter scalar = 1.205964e+21\n",
      "INFO:GTS.isc_modelling.contact_mechanics_biot:diff init scalar = 5.703718e+20\n"
     ]
    },
    {
     "name": "stdout",
     "output_type": "stream",
     "text": [
      "inverse computed\n",
      "Solved in 121.73959469795227 s, with 121.62774229049683 for constant part, whereof 120.78185200691223 s were the inversion of the SC.\n"
     ]
    },
    {
     "name": "stderr",
     "output_type": "stream",
     "text": [
      "INFO:GTS.isc_modelling.contact_mechanics_biot:Error in contact force is 4.332536e+00\n",
      "INFO:GTS.isc_modelling.contact_mechanics_biot:Error in matrix displacement is 2.869055e+00\n",
      "INFO:GTS.isc_modelling.contact_mechanics_biot:Error in pressure is 2.114347e+00.\n",
      "INFO:porepy.numerics.nonlinear.nonlinear_solvers:Newton iteration number 16 of 40\n",
      "INFO:porepy.models.contact_mechanics_biot_model:Max element in A 2.26e+09\n",
      "INFO:porepy.models.contact_mechanics_biot_model:Max 2.83e+09 and min 1.00e+00 A sum.\n",
      "INFO:porepy.models.contact_mechanics_biot_model:Solve Ax=b using schur_complement\n"
     ]
    },
    {
     "name": "stdout",
     "output_type": "stream",
     "text": [
      "Attempting to compute inverse: M\n"
     ]
    },
    {
     "name": "stderr",
     "output_type": "stream",
     "text": [
      "INFO:porepy.models.contact_mechanics_biot_model:Done. Elapsed time 110.29569721221924\n"
     ]
    },
    {
     "name": "stdout",
     "output_type": "stream",
     "text": [
      "inverse computed\n",
      "Solved in 110.25985169410706 s, with 110.13108801841736 for constant part, whereof 109.28341794013977 s were the inversion of the SC.\n"
     ]
    },
    {
     "name": "stderr",
     "output_type": "stream",
     "text": [
      "INFO:porepy.models.contact_mechanics_biot_model:||b-Ax|| = 9.068232390988545e-08\n",
      "INFO:porepy.models.contact_mechanics_biot_model:||b-Ax|| / ||b|| = 2.5384569969759436e-12\n",
      "INFO:GTS.isc_modelling.contact_mechanics_biot:diff iter u = 1.547076e+01\n",
      "INFO:GTS.isc_modelling.contact_mechanics_biot:diff init u = 7.221844e+00\n",
      "INFO:GTS.isc_modelling.contact_mechanics_biot:diff iter contact = 4.993010e+22\n",
      "INFO:GTS.isc_modelling.contact_mechanics_biot:diff init contact = 3.029241e+22\n",
      "INFO:GTS.isc_modelling.contact_mechanics_biot:diff iter scalar = 6.425820e+20\n",
      "INFO:GTS.isc_modelling.contact_mechanics_biot:diff init scalar = 1.133840e+20\n",
      "INFO:GTS.isc_modelling.contact_mechanics_biot:Error in contact force is 1.648271e+00\n",
      "INFO:GTS.isc_modelling.contact_mechanics_biot:Error in matrix displacement is 2.142217e+00\n",
      "INFO:GTS.isc_modelling.contact_mechanics_biot:Error in pressure is 5.667308e+00.\n",
      "INFO:porepy.numerics.nonlinear.nonlinear_solvers:Newton iteration number 17 of 40\n",
      "INFO:porepy.models.contact_mechanics_biot_model:Max element in A 2.26e+09\n",
      "INFO:porepy.models.contact_mechanics_biot_model:Max 2.83e+09 and min 1.00e+00 A sum.\n",
      "INFO:porepy.models.contact_mechanics_biot_model:Solve Ax=b using schur_complement\n"
     ]
    },
    {
     "name": "stdout",
     "output_type": "stream",
     "text": [
      "Attempting to compute inverse: M\n"
     ]
    },
    {
     "name": "stderr",
     "output_type": "stream",
     "text": [
      "INFO:porepy.models.contact_mechanics_biot_model:Done. Elapsed time 121.1488733291626\n",
      "INFO:porepy.models.contact_mechanics_biot_model:||b-Ax|| = 9.887619756992236e-08\n",
      "INFO:porepy.models.contact_mechanics_biot_model:||b-Ax|| / ||b|| = 2.7678260982710404e-12\n",
      "INFO:GTS.isc_modelling.contact_mechanics_biot:diff iter u = 7.682092e+00\n",
      "INFO:GTS.isc_modelling.contact_mechanics_biot:diff init u = 2.789385e+00\n",
      "INFO:GTS.isc_modelling.contact_mechanics_biot:diff iter contact = 5.358825e+22\n"
     ]
    },
    {
     "name": "stdout",
     "output_type": "stream",
     "text": [
      "inverse computed\n",
      "Solved in 121.11529922485352 s, with 120.99370741844177 for constant part, whereof 120.0983567237854 s were the inversion of the SC.\n"
     ]
    },
    {
     "name": "stderr",
     "output_type": "stream",
     "text": [
      "INFO:GTS.isc_modelling.contact_mechanics_biot:diff init contact = 3.369049e+22\n",
      "INFO:GTS.isc_modelling.contact_mechanics_biot:diff iter scalar = 1.133794e+20\n",
      "INFO:GTS.isc_modelling.contact_mechanics_biot:diff init scalar = 4.833579e+19\n",
      "INFO:GTS.isc_modelling.contact_mechanics_biot:Error in contact force is 1.590604e+00\n",
      "INFO:GTS.isc_modelling.contact_mechanics_biot:Error in matrix displacement is 2.754045e+00\n",
      "INFO:GTS.isc_modelling.contact_mechanics_biot:Error in pressure is 2.345662e+00.\n",
      "INFO:porepy.numerics.nonlinear.nonlinear_solvers:Newton iteration number 18 of 40\n",
      "INFO:porepy.models.contact_mechanics_biot_model:Max element in A 2.26e+09\n",
      "INFO:porepy.models.contact_mechanics_biot_model:Max 2.83e+09 and min 1.00e+00 A sum.\n",
      "INFO:porepy.models.contact_mechanics_biot_model:Solve Ax=b using schur_complement\n"
     ]
    },
    {
     "name": "stdout",
     "output_type": "stream",
     "text": [
      "Attempting to compute inverse: M\n"
     ]
    },
    {
     "name": "stderr",
     "output_type": "stream",
     "text": [
      "INFO:porepy.models.contact_mechanics_biot_model:Done. Elapsed time 117.4810802936554\n",
      "INFO:porepy.models.contact_mechanics_biot_model:||b-Ax|| = 1.7135684836270482e-07\n"
     ]
    },
    {
     "name": "stdout",
     "output_type": "stream",
     "text": [
      "inverse computed\n",
      "Solved in 117.43781113624573 s, with 117.32332706451416 for constant part, whereof 116.40868735313416 s were the inversion of the SC.\n"
     ]
    },
    {
     "name": "stderr",
     "output_type": "stream",
     "text": [
      "INFO:porepy.models.contact_mechanics_biot_model:||b-Ax|| / ||b|| = 4.796767641722477e-12\n",
      "INFO:GTS.isc_modelling.contact_mechanics_biot:diff iter u = 2.161870e+00\n",
      "INFO:GTS.isc_modelling.contact_mechanics_biot:diff init u = 1.088692e+00\n",
      "INFO:GTS.isc_modelling.contact_mechanics_biot:diff iter contact = 3.070003e+22\n",
      "INFO:GTS.isc_modelling.contact_mechanics_biot:diff init contact = 6.476681e+21\n",
      "INFO:GTS.isc_modelling.contact_mechanics_biot:diff iter scalar = 6.268172e+19\n",
      "INFO:GTS.isc_modelling.contact_mechanics_biot:diff init scalar = 2.160278e+19\n",
      "INFO:GTS.isc_modelling.contact_mechanics_biot:Error in contact force is 4.740088e+00\n",
      "INFO:GTS.isc_modelling.contact_mechanics_biot:Error in matrix displacement is 1.985749e+00\n",
      "INFO:GTS.isc_modelling.contact_mechanics_biot:Error in pressure is 2.901558e+00.\n",
      "INFO:porepy.numerics.nonlinear.nonlinear_solvers:Newton iteration number 19 of 40\n",
      "INFO:porepy.models.contact_mechanics_biot_model:Max element in A 2.26e+09\n",
      "INFO:porepy.models.contact_mechanics_biot_model:Max 2.83e+09 and min 1.00e+00 A sum.\n",
      "INFO:porepy.models.contact_mechanics_biot_model:Solve Ax=b using schur_complement\n"
     ]
    },
    {
     "name": "stdout",
     "output_type": "stream",
     "text": [
      "Attempting to compute inverse: M\n"
     ]
    },
    {
     "name": "stderr",
     "output_type": "stream",
     "text": [
      "INFO:porepy.models.contact_mechanics_biot_model:Done. Elapsed time 127.21170902252197\n"
     ]
    },
    {
     "name": "stdout",
     "output_type": "stream",
     "text": [
      "inverse computed\n",
      "Solved in 127.17216730117798 s, with 127.04537916183472 for constant part, whereof 126.18821358680725 s were the inversion of the SC.\n"
     ]
    },
    {
     "name": "stderr",
     "output_type": "stream",
     "text": [
      "INFO:porepy.models.contact_mechanics_biot_model:||b-Ax|| = 3.233751595904116e-07\n",
      "INFO:porepy.models.contact_mechanics_biot_model:||b-Ax|| / ||b|| = 9.052194753861063e-12\n",
      "INFO:GTS.isc_modelling.contact_mechanics_biot:diff iter u = 8.663799e+00\n",
      "INFO:GTS.isc_modelling.contact_mechanics_biot:diff init u = 6.635662e+00\n",
      "INFO:GTS.isc_modelling.contact_mechanics_biot:diff iter contact = 1.282777e+22\n",
      "INFO:GTS.isc_modelling.contact_mechanics_biot:diff init contact = 1.565499e+22\n",
      "INFO:GTS.isc_modelling.contact_mechanics_biot:diff iter scalar = 9.404283e+19\n",
      "INFO:GTS.isc_modelling.contact_mechanics_biot:diff init scalar = 7.631533e+19\n",
      "INFO:GTS.isc_modelling.contact_mechanics_biot:Error in contact force is 8.194047e-01\n",
      "INFO:GTS.isc_modelling.contact_mechanics_biot:Error in matrix displacement is 1.305642e+00\n",
      "INFO:GTS.isc_modelling.contact_mechanics_biot:Error in pressure is 1.232293e+00.\n",
      "INFO:porepy.numerics.nonlinear.nonlinear_solvers:Newton iteration number 20 of 40\n",
      "INFO:porepy.models.contact_mechanics_biot_model:Max element in A 2.26e+09\n",
      "INFO:porepy.models.contact_mechanics_biot_model:Max 2.83e+09 and min 1.00e+00 A sum.\n",
      "INFO:porepy.models.contact_mechanics_biot_model:Solve Ax=b using schur_complement\n"
     ]
    },
    {
     "name": "stdout",
     "output_type": "stream",
     "text": [
      "Attempting to compute inverse: M\n"
     ]
    },
    {
     "name": "stderr",
     "output_type": "stream",
     "text": [
      "INFO:porepy.models.contact_mechanics_biot_model:Done. Elapsed time 119.51496410369873\n"
     ]
    },
    {
     "name": "stdout",
     "output_type": "stream",
     "text": [
      "inverse computed\n",
      "Solved in 119.4759635925293 s, with 119.34531331062317 for constant part, whereof 118.48875212669373 s were the inversion of the SC.\n"
     ]
    },
    {
     "name": "stderr",
     "output_type": "stream",
     "text": [
      "INFO:porepy.models.contact_mechanics_biot_model:||b-Ax|| = 4.841747834692207e-07\n",
      "INFO:porepy.models.contact_mechanics_biot_model:||b-Ax|| / ||b|| = 1.3553433779088251e-11\n",
      "INFO:GTS.isc_modelling.contact_mechanics_biot:diff iter u = 4.673443e+00\n",
      "INFO:GTS.isc_modelling.contact_mechanics_biot:diff init u = 1.252550e+00\n",
      "INFO:GTS.isc_modelling.contact_mechanics_biot:diff iter contact = 1.138179e+22\n",
      "INFO:GTS.isc_modelling.contact_mechanics_biot:diff init contact = 5.763855e+21\n",
      "INFO:GTS.isc_modelling.contact_mechanics_biot:diff iter scalar = 9.204539e+19\n",
      "INFO:GTS.isc_modelling.contact_mechanics_biot:diff init scalar = 3.371029e+19\n",
      "INFO:GTS.isc_modelling.contact_mechanics_biot:Error in contact force is 1.974684e+00\n",
      "INFO:GTS.isc_modelling.contact_mechanics_biot:Error in matrix displacement is 3.731144e+00\n",
      "INFO:GTS.isc_modelling.contact_mechanics_biot:Error in pressure is 2.730483e+00.\n",
      "INFO:porepy.numerics.nonlinear.nonlinear_solvers:Newton iteration number 21 of 40\n",
      "INFO:porepy.models.contact_mechanics_biot_model:Max element in A 2.26e+09\n",
      "INFO:porepy.models.contact_mechanics_biot_model:Max 2.83e+09 and min 1.00e+00 A sum.\n",
      "INFO:porepy.models.contact_mechanics_biot_model:Solve Ax=b using schur_complement\n"
     ]
    },
    {
     "name": "stdout",
     "output_type": "stream",
     "text": [
      "Attempting to compute inverse: M\n"
     ]
    },
    {
     "name": "stderr",
     "output_type": "stream",
     "text": [
      "INFO:porepy.models.contact_mechanics_biot_model:Done. Elapsed time 108.11658334732056\n",
      "INFO:porepy.models.contact_mechanics_biot_model:||b-Ax|| = 9.560142754181614e-08\n"
     ]
    },
    {
     "name": "stdout",
     "output_type": "stream",
     "text": [
      "inverse computed\n",
      "Solved in 108.08002853393555 s, with 107.96634459495544 for constant part, whereof 107.09307169914246 s were the inversion of the SC.\n"
     ]
    },
    {
     "name": "stderr",
     "output_type": "stream",
     "text": [
      "INFO:porepy.models.contact_mechanics_biot_model:||b-Ax|| / ||b|| = 2.6761570764732395e-12\n",
      "INFO:GTS.isc_modelling.contact_mechanics_biot:diff iter u = 1.664500e+01\n",
      "INFO:GTS.isc_modelling.contact_mechanics_biot:diff init u = 1.371273e+01\n",
      "INFO:GTS.isc_modelling.contact_mechanics_biot:diff iter contact = 1.157065e+22\n",
      "INFO:GTS.isc_modelling.contact_mechanics_biot:diff init contact = 1.503987e+22\n",
      "INFO:GTS.isc_modelling.contact_mechanics_biot:diff iter scalar = 1.626632e+20\n",
      "INFO:GTS.isc_modelling.contact_mechanics_biot:diff init scalar = 1.354184e+20\n",
      "INFO:GTS.isc_modelling.contact_mechanics_biot:Error in contact force is 7.693316e-01\n",
      "INFO:GTS.isc_modelling.contact_mechanics_biot:Error in matrix displacement is 1.213836e+00\n",
      "INFO:GTS.isc_modelling.contact_mechanics_biot:Error in pressure is 1.201190e+00.\n",
      "INFO:porepy.numerics.nonlinear.nonlinear_solvers:Newton iteration number 22 of 40\n",
      "INFO:porepy.models.contact_mechanics_biot_model:Max element in A 2.26e+09\n",
      "INFO:porepy.models.contact_mechanics_biot_model:Max 2.83e+09 and min 1.00e+00 A sum.\n",
      "INFO:porepy.models.contact_mechanics_biot_model:Solve Ax=b using schur_complement\n"
     ]
    },
    {
     "name": "stdout",
     "output_type": "stream",
     "text": [
      "Attempting to compute inverse: M\n"
     ]
    },
    {
     "name": "stderr",
     "output_type": "stream",
     "text": [
      "INFO:porepy.models.contact_mechanics_biot_model:Done. Elapsed time 123.92384505271912\n",
      "INFO:porepy.models.contact_mechanics_biot_model:||b-Ax|| = 2.093919428452393e-07\n"
     ]
    },
    {
     "name": "stdout",
     "output_type": "stream",
     "text": [
      "inverse computed\n",
      "Solved in 123.88844394683838 s, with 123.76482272148132 for constant part, whereof 122.90038323402405 s were the inversion of the SC.\n"
     ]
    },
    {
     "name": "stderr",
     "output_type": "stream",
     "text": [
      "INFO:porepy.models.contact_mechanics_biot_model:||b-Ax|| / ||b|| = 5.861477932122685e-12\n",
      "INFO:GTS.isc_modelling.contact_mechanics_biot:diff iter u = 1.919052e+01\n",
      "INFO:GTS.isc_modelling.contact_mechanics_biot:diff init u = 9.210314e+00\n",
      "INFO:GTS.isc_modelling.contact_mechanics_biot:diff iter contact = 4.587026e+22\n",
      "INFO:GTS.isc_modelling.contact_mechanics_biot:diff init contact = 4.048139e+22\n",
      "INFO:GTS.isc_modelling.contact_mechanics_biot:diff iter scalar = 3.032247e+20\n",
      "INFO:GTS.isc_modelling.contact_mechanics_biot:diff init scalar = 2.263657e+20\n",
      "INFO:GTS.isc_modelling.contact_mechanics_biot:Error in contact force is 1.133120e+00\n",
      "INFO:GTS.isc_modelling.contact_mechanics_biot:Error in matrix displacement is 2.083591e+00\n",
      "INFO:GTS.isc_modelling.contact_mechanics_biot:Error in pressure is 1.339535e+00.\n",
      "INFO:porepy.numerics.nonlinear.nonlinear_solvers:Newton iteration number 23 of 40\n",
      "INFO:porepy.models.contact_mechanics_biot_model:Max element in A 2.26e+09\n",
      "INFO:porepy.models.contact_mechanics_biot_model:Max 2.83e+09 and min 1.00e+00 A sum.\n",
      "INFO:porepy.models.contact_mechanics_biot_model:Solve Ax=b using schur_complement\n"
     ]
    },
    {
     "name": "stdout",
     "output_type": "stream",
     "text": [
      "Attempting to compute inverse: M\n"
     ]
    },
    {
     "name": "stderr",
     "output_type": "stream",
     "text": [
      "INFO:porepy.models.contact_mechanics_biot_model:Done. Elapsed time 120.97287392616272\n",
      "INFO:porepy.models.contact_mechanics_biot_model:||b-Ax|| = 9.386256854964776e-08\n"
     ]
    },
    {
     "name": "stdout",
     "output_type": "stream",
     "text": [
      "inverse computed\n",
      "Solved in 120.92242574691772 s, with 120.78996396064758 for constant part, whereof 119.90688228607178 s were the inversion of the SC.\n"
     ]
    },
    {
     "name": "stderr",
     "output_type": "stream",
     "text": [
      "INFO:porepy.models.contact_mechanics_biot_model:||b-Ax|| / ||b|| = 2.627480969763307e-12\n",
      "INFO:GTS.isc_modelling.contact_mechanics_biot:diff iter u = 6.212832e+00\n",
      "INFO:GTS.isc_modelling.contact_mechanics_biot:diff init u = 9.410428e-01\n",
      "INFO:GTS.isc_modelling.contact_mechanics_biot:diff iter contact = 3.722921e+22\n",
      "INFO:GTS.isc_modelling.contact_mechanics_biot:diff init contact = 6.571787e+21\n",
      "INFO:GTS.isc_modelling.contact_mechanics_biot:diff iter scalar = 2.020690e+20\n",
      "INFO:GTS.isc_modelling.contact_mechanics_biot:diff init scalar = 1.168655e+19\n",
      "INFO:GTS.isc_modelling.contact_mechanics_biot:Error in contact force is 5.665006e+00\n",
      "INFO:GTS.isc_modelling.contact_mechanics_biot:Error in matrix displacement is 6.602071e+00\n",
      "INFO:GTS.isc_modelling.contact_mechanics_biot:Error in pressure is 1.729073e+01.\n",
      "INFO:porepy.numerics.nonlinear.nonlinear_solvers:Newton iteration number 24 of 40\n",
      "INFO:porepy.models.contact_mechanics_biot_model:Max element in A 2.26e+09\n",
      "INFO:porepy.models.contact_mechanics_biot_model:Max 2.83e+09 and min 1.00e+00 A sum.\n",
      "INFO:porepy.models.contact_mechanics_biot_model:Solve Ax=b using schur_complement\n"
     ]
    },
    {
     "name": "stdout",
     "output_type": "stream",
     "text": [
      "Attempting to compute inverse: M\n"
     ]
    },
    {
     "name": "stderr",
     "output_type": "stream",
     "text": [
      "INFO:porepy.models.contact_mechanics_biot_model:Done. Elapsed time 123.24183440208435\n",
      "INFO:porepy.models.contact_mechanics_biot_model:||b-Ax|| = 5.612551221358054e-08\n",
      "INFO:porepy.models.contact_mechanics_biot_model:||b-Ax|| / ||b|| = 1.571113474426289e-12\n"
     ]
    },
    {
     "name": "stdout",
     "output_type": "stream",
     "text": [
      "inverse computed\n",
      "Solved in 123.20235681533813 s, with 123.07002067565918 for constant part, whereof 122.21462774276733 s were the inversion of the SC.\n"
     ]
    },
    {
     "name": "stderr",
     "output_type": "stream",
     "text": [
      "INFO:GTS.isc_modelling.contact_mechanics_biot:diff iter u = 1.672975e+00\n",
      "INFO:GTS.isc_modelling.contact_mechanics_biot:diff init u = 5.049377e-01\n",
      "INFO:GTS.isc_modelling.contact_mechanics_biot:diff iter contact = 4.310482e+21\n",
      "INFO:GTS.isc_modelling.contact_mechanics_biot:diff init contact = 7.059371e+21\n",
      "INFO:GTS.isc_modelling.contact_mechanics_biot:diff iter scalar = 2.537751e+19\n",
      "INFO:GTS.isc_modelling.contact_mechanics_biot:diff init scalar = 1.527199e+19\n",
      "INFO:GTS.isc_modelling.contact_mechanics_biot:Error in contact force is 6.106042e-01\n",
      "INFO:GTS.isc_modelling.contact_mechanics_biot:Error in matrix displacement is 3.313231e+00\n",
      "INFO:GTS.isc_modelling.contact_mechanics_biot:Error in pressure is 1.661703e+00.\n",
      "INFO:porepy.numerics.nonlinear.nonlinear_solvers:Newton iteration number 25 of 40\n",
      "INFO:porepy.models.contact_mechanics_biot_model:Max element in A 2.26e+09\n",
      "INFO:porepy.models.contact_mechanics_biot_model:Max 2.83e+09 and min 1.00e+00 A sum.\n",
      "INFO:porepy.models.contact_mechanics_biot_model:Solve Ax=b using schur_complement\n"
     ]
    },
    {
     "name": "stdout",
     "output_type": "stream",
     "text": [
      "Attempting to compute inverse: M\n"
     ]
    },
    {
     "name": "stderr",
     "output_type": "stream",
     "text": [
      "INFO:porepy.models.contact_mechanics_biot_model:Done. Elapsed time 117.07797169685364\n",
      "INFO:porepy.models.contact_mechanics_biot_model:||b-Ax|| = 1.4651600460471178e-07\n"
     ]
    },
    {
     "name": "stdout",
     "output_type": "stream",
     "text": [
      "inverse computed\n",
      "Solved in 117.04021787643433 s, with 116.92428469657898 for constant part, whereof 116.04194259643555 s were the inversion of the SC.\n"
     ]
    },
    {
     "name": "stderr",
     "output_type": "stream",
     "text": [
      "INFO:porepy.models.contact_mechanics_biot_model:||b-Ax|| / ||b|| = 4.101401677992079e-12\n",
      "INFO:GTS.isc_modelling.contact_mechanics_biot:diff iter u = 8.370207e+00\n",
      "INFO:GTS.isc_modelling.contact_mechanics_biot:diff init u = 8.982744e+00\n",
      "INFO:GTS.isc_modelling.contact_mechanics_biot:diff iter contact = 1.101621e+23\n",
      "INFO:GTS.isc_modelling.contact_mechanics_biot:diff init contact = 1.125908e+23\n",
      "INFO:GTS.isc_modelling.contact_mechanics_biot:diff iter scalar = 1.296438e+20\n",
      "INFO:GTS.isc_modelling.contact_mechanics_biot:diff init scalar = 1.103348e+20\n",
      "INFO:GTS.isc_modelling.contact_mechanics_biot:Error in contact force is 9.784290e-01\n",
      "INFO:GTS.isc_modelling.contact_mechanics_biot:Error in matrix displacement is 9.318097e-01\n",
      "INFO:GTS.isc_modelling.contact_mechanics_biot:Error in pressure is 1.175004e+00.\n",
      "INFO:porepy.numerics.nonlinear.nonlinear_solvers:Newton iteration number 26 of 40\n",
      "INFO:porepy.models.contact_mechanics_biot_model:Max element in A 2.26e+09\n",
      "INFO:porepy.models.contact_mechanics_biot_model:Max 2.83e+09 and min 1.00e+00 A sum.\n",
      "INFO:porepy.models.contact_mechanics_biot_model:Solve Ax=b using schur_complement\n"
     ]
    },
    {
     "name": "stdout",
     "output_type": "stream",
     "text": [
      "Attempting to compute inverse: M\n"
     ]
    },
    {
     "name": "stderr",
     "output_type": "stream",
     "text": [
      "INFO:porepy.models.contact_mechanics_biot_model:Done. Elapsed time 116.53559422492981\n",
      "INFO:porepy.models.contact_mechanics_biot_model:||b-Ax|| = 5.590270719565724e-07\n"
     ]
    },
    {
     "name": "stdout",
     "output_type": "stream",
     "text": [
      "inverse computed\n",
      "Solved in 116.49982714653015 s, with 116.37461161613464 for constant part, whereof 115.48418593406677 s were the inversion of the SC.\n"
     ]
    },
    {
     "name": "stderr",
     "output_type": "stream",
     "text": [
      "INFO:porepy.models.contact_mechanics_biot_model:||b-Ax|| / ||b|| = 1.564876339771397e-11\n",
      "INFO:GTS.isc_modelling.contact_mechanics_biot:diff iter u = 1.268372e+01\n",
      "INFO:GTS.isc_modelling.contact_mechanics_biot:diff init u = 2.578920e+00\n",
      "INFO:GTS.isc_modelling.contact_mechanics_biot:diff iter contact = 1.194946e+23\n",
      "INFO:GTS.isc_modelling.contact_mechanics_biot:diff init contact = 1.836766e+22\n",
      "INFO:GTS.isc_modelling.contact_mechanics_biot:diff iter scalar = 1.564671e+20\n",
      "INFO:GTS.isc_modelling.contact_mechanics_biot:diff init scalar = 5.307437e+19\n",
      "INFO:GTS.isc_modelling.contact_mechanics_biot:Error in contact force is 6.505702e+00\n",
      "INFO:GTS.isc_modelling.contact_mechanics_biot:Error in matrix displacement is 4.918227e+00\n",
      "INFO:GTS.isc_modelling.contact_mechanics_biot:Error in pressure is 2.948073e+00.\n",
      "INFO:porepy.numerics.nonlinear.nonlinear_solvers:Newton iteration number 27 of 40\n",
      "INFO:porepy.models.contact_mechanics_biot_model:Max element in A 2.26e+09\n",
      "INFO:porepy.models.contact_mechanics_biot_model:Max 2.83e+09 and min 1.00e+00 A sum.\n",
      "INFO:porepy.models.contact_mechanics_biot_model:Solve Ax=b using schur_complement\n"
     ]
    },
    {
     "name": "stdout",
     "output_type": "stream",
     "text": [
      "Attempting to compute inverse: M\n"
     ]
    },
    {
     "name": "stderr",
     "output_type": "stream",
     "text": [
      "INFO:porepy.models.contact_mechanics_biot_model:Done. Elapsed time 110.10565638542175\n",
      "INFO:porepy.models.contact_mechanics_biot_model:||b-Ax|| = 1.4375167701521342e-07\n",
      "INFO:porepy.models.contact_mechanics_biot_model:||b-Ax|| / ||b|| = 4.0240200824226e-12\n"
     ]
    },
    {
     "name": "stdout",
     "output_type": "stream",
     "text": [
      "inverse computed\n",
      "Solved in 110.06626868247986 s, with 109.93989706039429 for constant part, whereof 108.98397755622864 s were the inversion of the SC.\n"
     ]
    },
    {
     "name": "stderr",
     "output_type": "stream",
     "text": [
      "INFO:GTS.isc_modelling.contact_mechanics_biot:diff iter u = 3.018896e+00\n",
      "INFO:GTS.isc_modelling.contact_mechanics_biot:diff init u = 3.973695e+00\n",
      "INFO:GTS.isc_modelling.contact_mechanics_biot:diff iter contact = 3.107883e+22\n",
      "INFO:GTS.isc_modelling.contact_mechanics_biot:diff init contact = 2.241918e+22\n",
      "INFO:GTS.isc_modelling.contact_mechanics_biot:diff iter scalar = 9.817135e+19\n",
      "INFO:GTS.isc_modelling.contact_mechanics_biot:diff init scalar = 5.366598e+19\n",
      "INFO:GTS.isc_modelling.contact_mechanics_biot:Error in contact force is 1.386261e+00\n",
      "INFO:GTS.isc_modelling.contact_mechanics_biot:Error in matrix displacement is 7.597203e-01\n",
      "INFO:GTS.isc_modelling.contact_mechanics_biot:Error in pressure is 1.829303e+00.\n",
      "INFO:porepy.numerics.nonlinear.nonlinear_solvers:Newton iteration number 28 of 40\n",
      "INFO:porepy.models.contact_mechanics_biot_model:Max element in A 2.26e+09\n",
      "INFO:porepy.models.contact_mechanics_biot_model:Max 2.83e+09 and min 1.00e+00 A sum.\n",
      "INFO:porepy.models.contact_mechanics_biot_model:Solve Ax=b using schur_complement\n"
     ]
    },
    {
     "name": "stdout",
     "output_type": "stream",
     "text": [
      "Attempting to compute inverse: M\n"
     ]
    },
    {
     "name": "stderr",
     "output_type": "stream",
     "text": [
      "INFO:porepy.models.contact_mechanics_biot_model:Done. Elapsed time 121.49839687347412\n",
      "INFO:porepy.models.contact_mechanics_biot_model:||b-Ax|| = 5.252075370737986e-07\n"
     ]
    },
    {
     "name": "stdout",
     "output_type": "stream",
     "text": [
      "inverse computed\n",
      "Solved in 121.46120762825012 s, with 121.34953236579895 for constant part, whereof 120.46336197853088 s were the inversion of the SC.\n"
     ]
    },
    {
     "name": "stderr",
     "output_type": "stream",
     "text": [
      "INFO:porepy.models.contact_mechanics_biot_model:||b-Ax|| / ||b|| = 1.4702058871585908e-11\n",
      "INFO:GTS.isc_modelling.contact_mechanics_biot:diff iter u = 1.229877e+01\n",
      "INFO:GTS.isc_modelling.contact_mechanics_biot:diff init u = 1.383321e+01\n",
      "INFO:GTS.isc_modelling.contact_mechanics_biot:diff iter contact = 8.114369e+22\n",
      "INFO:GTS.isc_modelling.contact_mechanics_biot:diff init contact = 6.829897e+22\n",
      "INFO:GTS.isc_modelling.contact_mechanics_biot:diff iter scalar = 1.583735e+20\n",
      "INFO:GTS.isc_modelling.contact_mechanics_biot:diff init scalar = 1.263468e+20\n",
      "INFO:GTS.isc_modelling.contact_mechanics_biot:Error in contact force is 1.188066e+00\n",
      "INFO:GTS.isc_modelling.contact_mechanics_biot:Error in matrix displacement is 8.890760e-01\n",
      "INFO:GTS.isc_modelling.contact_mechanics_biot:Error in pressure is 1.253482e+00.\n",
      "INFO:porepy.numerics.nonlinear.nonlinear_solvers:Newton iteration number 29 of 40\n",
      "INFO:porepy.models.contact_mechanics_biot_model:Max element in A 2.26e+09\n",
      "INFO:porepy.models.contact_mechanics_biot_model:Max 2.83e+09 and min 1.00e+00 A sum.\n",
      "INFO:porepy.models.contact_mechanics_biot_model:Solve Ax=b using schur_complement\n"
     ]
    },
    {
     "name": "stdout",
     "output_type": "stream",
     "text": [
      "Attempting to compute inverse: M\n"
     ]
    },
    {
     "name": "stderr",
     "output_type": "stream",
     "text": [
      "INFO:porepy.models.contact_mechanics_biot_model:Done. Elapsed time 110.08414316177368\n"
     ]
    },
    {
     "name": "stdout",
     "output_type": "stream",
     "text": [
      "inverse computed\n",
      "Solved in 110.04533076286316 s, with 109.91816592216492 for constant part, whereof 109.05240249633789 s were the inversion of the SC.\n"
     ]
    },
    {
     "name": "stderr",
     "output_type": "stream",
     "text": [
      "INFO:porepy.models.contact_mechanics_biot_model:||b-Ax|| = 1.4197029524790095e-06\n",
      "INFO:porepy.models.contact_mechanics_biot_model:||b-Ax|| / ||b|| = 3.9741536974666856e-11\n",
      "INFO:GTS.isc_modelling.contact_mechanics_biot:diff iter u = 1.905963e+02\n",
      "INFO:GTS.isc_modelling.contact_mechanics_biot:diff init u = 1.520328e+02\n",
      "INFO:GTS.isc_modelling.contact_mechanics_biot:diff iter contact = 6.269358e+23\n",
      "INFO:GTS.isc_modelling.contact_mechanics_biot:diff init contact = 5.689675e+23\n",
      "INFO:GTS.isc_modelling.contact_mechanics_biot:diff iter scalar = 2.645785e+21\n",
      "INFO:GTS.isc_modelling.contact_mechanics_biot:diff init scalar = 2.654296e+21\n",
      "INFO:GTS.isc_modelling.contact_mechanics_biot:Error in contact force is 1.101883e+00\n",
      "INFO:GTS.isc_modelling.contact_mechanics_biot:Error in matrix displacement is 1.253653e+00\n",
      "INFO:GTS.isc_modelling.contact_mechanics_biot:Error in pressure is 9.967935e-01.\n",
      "INFO:porepy.numerics.nonlinear.nonlinear_solvers:Newton iteration number 30 of 40\n",
      "INFO:porepy.models.contact_mechanics_biot_model:Max element in A 2.26e+09\n",
      "INFO:porepy.models.contact_mechanics_biot_model:Max 2.83e+09 and min 1.00e+00 A sum.\n",
      "INFO:porepy.models.contact_mechanics_biot_model:Solve Ax=b using schur_complement\n"
     ]
    },
    {
     "name": "stdout",
     "output_type": "stream",
     "text": [
      "Attempting to compute inverse: M\n"
     ]
    },
    {
     "name": "stderr",
     "output_type": "stream",
     "text": [
      "INFO:porepy.models.contact_mechanics_biot_model:Done. Elapsed time 118.4026927947998\n",
      "INFO:porepy.models.contact_mechanics_biot_model:||b-Ax|| = 7.700723826028426e-08\n",
      "INFO:porepy.models.contact_mechanics_biot_model:||b-Ax|| / ||b|| = 2.155642692960426e-12\n",
      "INFO:GTS.isc_modelling.contact_mechanics_biot:diff iter u = 1.304795e+02\n",
      "INFO:GTS.isc_modelling.contact_mechanics_biot:diff init u = 3.045402e+01\n",
      "INFO:GTS.isc_modelling.contact_mechanics_biot:diff iter contact = 8.527502e+23\n"
     ]
    },
    {
     "name": "stdout",
     "output_type": "stream",
     "text": [
      "inverse computed\n",
      "Solved in 118.36230492591858 s, with 118.25028944015503 for constant part, whereof 117.40113663673401 s were the inversion of the SC.\n"
     ]
    },
    {
     "name": "stderr",
     "output_type": "stream",
     "text": [
      "INFO:GTS.isc_modelling.contact_mechanics_biot:diff init contact = 3.033772e+23\n",
      "INFO:GTS.isc_modelling.contact_mechanics_biot:diff iter scalar = 3.261989e+21\n",
      "INFO:GTS.isc_modelling.contact_mechanics_biot:diff init scalar = 7.896600e+20\n",
      "INFO:GTS.isc_modelling.contact_mechanics_biot:Error in contact force is 2.810858e+00\n",
      "INFO:GTS.isc_modelling.contact_mechanics_biot:Error in matrix displacement is 4.284475e+00\n",
      "INFO:GTS.isc_modelling.contact_mechanics_biot:Error in pressure is 4.130878e+00.\n",
      "INFO:porepy.numerics.nonlinear.nonlinear_solvers:Newton iteration number 31 of 40\n",
      "INFO:porepy.models.contact_mechanics_biot_model:Max element in A 2.26e+09\n",
      "INFO:porepy.models.contact_mechanics_biot_model:Max 2.83e+09 and min 1.00e+00 A sum.\n",
      "INFO:porepy.models.contact_mechanics_biot_model:Solve Ax=b using schur_complement\n"
     ]
    },
    {
     "name": "stdout",
     "output_type": "stream",
     "text": [
      "Attempting to compute inverse: M\n"
     ]
    },
    {
     "name": "stderr",
     "output_type": "stream",
     "text": [
      "INFO:porepy.models.contact_mechanics_biot_model:Done. Elapsed time 117.77640509605408\n",
      "INFO:porepy.models.contact_mechanics_biot_model:||b-Ax|| = 1.2491107857355707e-08\n",
      "INFO:porepy.models.contact_mechanics_biot_model:||b-Ax|| / ||b|| = 3.496616264971608e-13\n",
      "INFO:GTS.isc_modelling.contact_mechanics_biot:diff iter u = 3.036804e+01\n",
      "INFO:GTS.isc_modelling.contact_mechanics_biot:diff init u = 4.803746e+00\n"
     ]
    },
    {
     "name": "stdout",
     "output_type": "stream",
     "text": [
      "inverse computed\n",
      "Solved in 117.7389087677002 s, with 117.61426830291748 for constant part, whereof 116.776296377182 s were the inversion of the SC.\n"
     ]
    },
    {
     "name": "stderr",
     "output_type": "stream",
     "text": [
      "INFO:GTS.isc_modelling.contact_mechanics_biot:diff iter contact = 3.081666e+23\n",
      "INFO:GTS.isc_modelling.contact_mechanics_biot:diff init contact = 1.992151e+22\n",
      "INFO:GTS.isc_modelling.contact_mechanics_biot:diff iter scalar = 8.011369e+20\n",
      "INFO:GTS.isc_modelling.contact_mechanics_biot:diff init scalar = 8.463429e+19\n",
      "INFO:GTS.isc_modelling.contact_mechanics_biot:Error in contact force is 1.546904e+01\n",
      "INFO:GTS.isc_modelling.contact_mechanics_biot:Error in matrix displacement is 6.321741e+00\n",
      "INFO:GTS.isc_modelling.contact_mechanics_biot:Error in pressure is 9.465866e+00.\n",
      "INFO:porepy.numerics.nonlinear.nonlinear_solvers:Newton iteration number 32 of 40\n",
      "INFO:porepy.models.contact_mechanics_biot_model:Max element in A 2.26e+09\n",
      "INFO:porepy.models.contact_mechanics_biot_model:Max 2.83e+09 and min 1.00e+00 A sum.\n",
      "INFO:porepy.models.contact_mechanics_biot_model:Solve Ax=b using schur_complement\n"
     ]
    },
    {
     "name": "stdout",
     "output_type": "stream",
     "text": [
      "Attempting to compute inverse: M\n",
      "inverse computed\n",
      "Solved in 122.13931703567505 s, with 122.01121854782104 for constant part, whereof 121.06542372703552 s were the inversion of the SC.\n"
     ]
    },
    {
     "name": "stderr",
     "output_type": "stream",
     "text": [
      "INFO:porepy.models.contact_mechanics_biot_model:Done. Elapsed time 122.1851441860199\n",
      "INFO:porepy.models.contact_mechanics_biot_model:||b-Ax|| = 6.552724140942565e-07\n",
      "INFO:porepy.models.contact_mechanics_biot_model:||b-Ax|| / ||b|| = 1.83429460833741e-11\n",
      "INFO:GTS.isc_modelling.contact_mechanics_biot:diff iter u = 4.255273e+01\n",
      "INFO:GTS.isc_modelling.contact_mechanics_biot:diff init u = 4.446417e+01\n",
      "INFO:GTS.isc_modelling.contact_mechanics_biot:diff iter contact = 6.224170e+23\n",
      "INFO:GTS.isc_modelling.contact_mechanics_biot:diff init contact = 6.131599e+23\n",
      "INFO:GTS.isc_modelling.contact_mechanics_biot:diff iter scalar = 4.852606e+21\n",
      "INFO:GTS.isc_modelling.contact_mechanics_biot:diff init scalar = 4.750431e+21\n",
      "INFO:GTS.isc_modelling.contact_mechanics_biot:Error in contact force is 1.015097e+00\n",
      "INFO:GTS.isc_modelling.contact_mechanics_biot:Error in matrix displacement is 9.570117e-01\n",
      "INFO:GTS.isc_modelling.contact_mechanics_biot:Error in pressure is 1.021509e+00.\n",
      "INFO:porepy.numerics.nonlinear.nonlinear_solvers:Newton iteration number 33 of 40\n",
      "INFO:porepy.models.contact_mechanics_biot_model:Max element in A 2.26e+09\n",
      "INFO:porepy.models.contact_mechanics_biot_model:Max 2.83e+09 and min 1.00e+00 A sum.\n",
      "INFO:porepy.models.contact_mechanics_biot_model:Solve Ax=b using schur_complement\n"
     ]
    },
    {
     "name": "stdout",
     "output_type": "stream",
     "text": [
      "Attempting to compute inverse: M\n"
     ]
    },
    {
     "name": "stderr",
     "output_type": "stream",
     "text": [
      "INFO:porepy.models.contact_mechanics_biot_model:Done. Elapsed time 114.92517256736755\n",
      "INFO:porepy.models.contact_mechanics_biot_model:||b-Ax|| = 3.6593824384797716e-07\n"
     ]
    },
    {
     "name": "stdout",
     "output_type": "stream",
     "text": [
      "inverse computed\n",
      "Solved in 114.88969111442566 s, with 114.77951669692993 for constant part, whereof 113.9112138748169 s were the inversion of the SC.\n"
     ]
    },
    {
     "name": "stderr",
     "output_type": "stream",
     "text": [
      "INFO:porepy.models.contact_mechanics_biot_model:||b-Ax|| / ||b|| = 1.0243648309494894e-11\n",
      "INFO:GTS.isc_modelling.contact_mechanics_biot:diff iter u = 2.424337e+02\n",
      "INFO:GTS.isc_modelling.contact_mechanics_biot:diff init u = 1.929314e+02\n",
      "INFO:GTS.isc_modelling.contact_mechanics_biot:diff iter contact = 1.091907e+24\n",
      "INFO:GTS.isc_modelling.contact_mechanics_biot:diff init contact = 4.691826e+23\n",
      "INFO:GTS.isc_modelling.contact_mechanics_biot:diff iter scalar = 9.306581e+21\n",
      "INFO:GTS.isc_modelling.contact_mechanics_biot:diff init scalar = 5.682081e+21\n",
      "INFO:GTS.isc_modelling.contact_mechanics_biot:Error in contact force is 2.327254e+00\n",
      "INFO:GTS.isc_modelling.contact_mechanics_biot:Error in matrix displacement is 1.256580e+00\n",
      "INFO:GTS.isc_modelling.contact_mechanics_biot:Error in pressure is 1.637882e+00.\n",
      "INFO:porepy.numerics.nonlinear.nonlinear_solvers:Newton iteration number 34 of 40\n",
      "INFO:porepy.models.contact_mechanics_biot_model:Max element in A 2.26e+09\n",
      "INFO:porepy.models.contact_mechanics_biot_model:Max 2.83e+09 and min 1.00e+00 A sum.\n",
      "INFO:porepy.models.contact_mechanics_biot_model:Solve Ax=b using schur_complement\n"
     ]
    },
    {
     "name": "stdout",
     "output_type": "stream",
     "text": [
      "Attempting to compute inverse: M\n"
     ]
    },
    {
     "name": "stderr",
     "output_type": "stream",
     "text": [
      "INFO:porepy.models.contact_mechanics_biot_model:Done. Elapsed time 119.22523903846741\n",
      "INFO:porepy.models.contact_mechanics_biot_model:||b-Ax|| = 5.43261842454046e-07\n"
     ]
    },
    {
     "name": "stdout",
     "output_type": "stream",
     "text": [
      "inverse computed\n",
      "Solved in 119.17838788032532 s, with 119.06971001625061 for constant part, whereof 118.19488668441772 s were the inversion of the SC.\n"
     ]
    },
    {
     "name": "stderr",
     "output_type": "stream",
     "text": [
      "INFO:porepy.models.contact_mechanics_biot_model:||b-Ax|| / ||b|| = 1.5207279807411718e-11\n",
      "INFO:GTS.isc_modelling.contact_mechanics_biot:diff iter u = 3.194732e+02\n",
      "INFO:GTS.isc_modelling.contact_mechanics_biot:diff init u = 2.305698e+02\n",
      "INFO:GTS.isc_modelling.contact_mechanics_biot:diff iter contact = 1.458954e+24\n",
      "INFO:GTS.isc_modelling.contact_mechanics_biot:diff init contact = 1.001732e+24\n",
      "INFO:GTS.isc_modelling.contact_mechanics_biot:diff iter scalar = 7.193060e+21\n",
      "INFO:GTS.isc_modelling.contact_mechanics_biot:diff init scalar = 3.193132e+21\n",
      "INFO:GTS.isc_modelling.contact_mechanics_biot:Error in contact force is 1.456431e+00\n",
      "INFO:GTS.isc_modelling.contact_mechanics_biot:Error in matrix displacement is 1.385581e+00\n",
      "INFO:GTS.isc_modelling.contact_mechanics_biot:Error in pressure is 2.252666e+00.\n",
      "INFO:porepy.numerics.nonlinear.nonlinear_solvers:Newton iteration number 35 of 40\n",
      "INFO:porepy.models.contact_mechanics_biot_model:Max element in A 2.26e+09\n",
      "INFO:porepy.models.contact_mechanics_biot_model:Max 2.83e+09 and min 1.00e+00 A sum.\n",
      "INFO:porepy.models.contact_mechanics_biot_model:Solve Ax=b using schur_complement\n"
     ]
    },
    {
     "name": "stdout",
     "output_type": "stream",
     "text": [
      "Attempting to compute inverse: M\n"
     ]
    },
    {
     "name": "stderr",
     "output_type": "stream",
     "text": [
      "INFO:porepy.models.contact_mechanics_biot_model:Done. Elapsed time 117.60922265052795\n",
      "INFO:porepy.models.contact_mechanics_biot_model:||b-Ax|| = 5.375640231854932e-06\n",
      "INFO:porepy.models.contact_mechanics_biot_model:||b-Ax|| / ||b|| = 1.5047881927370494e-10\n",
      "INFO:GTS.isc_modelling.contact_mechanics_biot:diff iter u = 1.679397e+04\n"
     ]
    },
    {
     "name": "stdout",
     "output_type": "stream",
     "text": [
      "inverse computed\n",
      "Solved in 117.56810021400452 s, with 117.44644689559937 for constant part, whereof 116.61305522918701 s were the inversion of the SC.\n"
     ]
    },
    {
     "name": "stderr",
     "output_type": "stream",
     "text": [
      "INFO:GTS.isc_modelling.contact_mechanics_biot:diff init u = 1.704226e+04\n",
      "INFO:GTS.isc_modelling.contact_mechanics_biot:diff iter contact = 2.068021e+26\n",
      "INFO:GTS.isc_modelling.contact_mechanics_biot:diff init contact = 2.058152e+26\n",
      "INFO:GTS.isc_modelling.contact_mechanics_biot:diff iter scalar = 2.443698e+23\n",
      "INFO:GTS.isc_modelling.contact_mechanics_biot:diff init scalar = 2.432227e+23\n",
      "INFO:GTS.isc_modelling.contact_mechanics_biot:Error in contact force is 1.004795e+00\n",
      "INFO:GTS.isc_modelling.contact_mechanics_biot:Error in matrix displacement is 9.854312e-01\n",
      "INFO:GTS.isc_modelling.contact_mechanics_biot:Error in pressure is 1.004716e+00.\n",
      "INFO:porepy.numerics.nonlinear.nonlinear_solvers:Newton iteration number 36 of 40\n",
      "INFO:porepy.models.contact_mechanics_biot_model:Max element in A 2.26e+09\n",
      "INFO:porepy.models.contact_mechanics_biot_model:Max 2.83e+09 and min 1.00e+00 A sum.\n",
      "INFO:porepy.models.contact_mechanics_biot_model:Solve Ax=b using schur_complement\n"
     ]
    },
    {
     "name": "stdout",
     "output_type": "stream",
     "text": [
      "Attempting to compute inverse: M\n"
     ]
    },
    {
     "name": "stderr",
     "output_type": "stream",
     "text": [
      "INFO:porepy.models.contact_mechanics_biot_model:Done. Elapsed time 113.84958291053772\n"
     ]
    },
    {
     "name": "stdout",
     "output_type": "stream",
     "text": [
      "inverse computed\n",
      "Solved in 113.81170105934143 s, with 113.70636248588562 for constant part, whereof 112.84090065956116 s were the inversion of the SC.\n"
     ]
    },
    {
     "name": "stderr",
     "output_type": "stream",
     "text": [
      "INFO:porepy.models.contact_mechanics_biot_model:||b-Ax|| = 3.958130238915502e-05\n",
      "INFO:porepy.models.contact_mechanics_biot_model:||b-Ax|| / ||b|| = 1.1075599762388136e-09\n",
      "INFO:GTS.isc_modelling.contact_mechanics_biot:diff iter u = 3.935031e+05\n",
      "INFO:GTS.isc_modelling.contact_mechanics_biot:diff init u = 3.692354e+05\n",
      "INFO:GTS.isc_modelling.contact_mechanics_biot:diff iter contact = 2.847877e+27\n",
      "INFO:GTS.isc_modelling.contact_mechanics_biot:diff init contact = 2.644934e+27\n",
      "INFO:GTS.isc_modelling.contact_mechanics_biot:diff iter scalar = 6.473754e+24\n",
      "INFO:GTS.isc_modelling.contact_mechanics_biot:diff init scalar = 6.393576e+24\n",
      "INFO:GTS.isc_modelling.contact_mechanics_biot:Error in contact force is 1.076729e+00\n",
      "INFO:GTS.isc_modelling.contact_mechanics_biot:Error in matrix displacement is 1.065724e+00\n",
      "INFO:GTS.isc_modelling.contact_mechanics_biot:Error in pressure is 1.012540e+00.\n",
      "INFO:porepy.numerics.nonlinear.nonlinear_solvers:Newton iteration number 37 of 40\n",
      "INFO:porepy.models.contact_mechanics_biot_model:Max element in A 2.26e+09\n",
      "INFO:porepy.models.contact_mechanics_biot_model:Max 2.83e+09 and min 1.00e+00 A sum.\n",
      "INFO:porepy.models.contact_mechanics_biot_model:Solve Ax=b using schur_complement\n"
     ]
    },
    {
     "name": "stdout",
     "output_type": "stream",
     "text": [
      "Attempting to compute inverse: M\n"
     ]
    },
    {
     "name": "stderr",
     "output_type": "stream",
     "text": [
      "INFO:porepy.models.contact_mechanics_biot_model:Done. Elapsed time 117.01643419265747\n",
      "INFO:porepy.models.contact_mechanics_biot_model:||b-Ax|| = 5.5976542536154586e-05\n"
     ]
    },
    {
     "name": "stdout",
     "output_type": "stream",
     "text": [
      "inverse computed\n",
      "Solved in 116.97506213188171 s, with 116.85866212844849 for constant part, whereof 116.00051355361938 s were the inversion of the SC.\n"
     ]
    },
    {
     "name": "stderr",
     "output_type": "stream",
     "text": [
      "INFO:porepy.models.contact_mechanics_biot_model:||b-Ax|| / ||b|| = 1.559134805061355e-09\n",
      "INFO:GTS.isc_modelling.contact_mechanics_biot:diff iter u = 1.810110e+06\n",
      "INFO:GTS.isc_modelling.contact_mechanics_biot:diff init u = 1.632764e+06\n",
      "INFO:GTS.isc_modelling.contact_mechanics_biot:diff iter contact = 6.656190e+27\n",
      "INFO:GTS.isc_modelling.contact_mechanics_biot:diff init contact = 4.118562e+27\n",
      "INFO:GTS.isc_modelling.contact_mechanics_biot:diff iter scalar = 2.747747e+25\n",
      "INFO:GTS.isc_modelling.contact_mechanics_biot:diff init scalar = 2.095363e+25\n",
      "INFO:GTS.isc_modelling.contact_mechanics_biot:Error in contact force is 1.616144e+00\n",
      "INFO:GTS.isc_modelling.contact_mechanics_biot:Error in matrix displacement is 1.108617e+00\n",
      "INFO:GTS.isc_modelling.contact_mechanics_biot:Error in pressure is 1.311347e+00.\n",
      "INFO:porepy.numerics.nonlinear.nonlinear_solvers:Newton iteration number 38 of 40\n",
      "INFO:porepy.models.contact_mechanics_biot_model:Max element in A 2.26e+09\n",
      "INFO:porepy.models.contact_mechanics_biot_model:Max 2.83e+09 and min 1.00e+00 A sum.\n",
      "INFO:porepy.models.contact_mechanics_biot_model:Solve Ax=b using schur_complement\n"
     ]
    },
    {
     "name": "stdout",
     "output_type": "stream",
     "text": [
      "Attempting to compute inverse: M\n"
     ]
    },
    {
     "name": "stderr",
     "output_type": "stream",
     "text": [
      "INFO:porepy.models.contact_mechanics_biot_model:Done. Elapsed time 109.1332573890686\n",
      "INFO:porepy.models.contact_mechanics_biot_model:||b-Ax|| = 0.0009158481515447858\n"
     ]
    },
    {
     "name": "stdout",
     "output_type": "stream",
     "text": [
      "inverse computed\n",
      "Solved in 109.09287309646606 s, with 108.97398328781128 for constant part, whereof 108.10682678222656 s were the inversion of the SC.\n"
     ]
    },
    {
     "name": "stderr",
     "output_type": "stream",
     "text": [
      "INFO:porepy.models.contact_mechanics_biot_model:||b-Ax|| / ||b|| = 2.4770375170514442e-08\n",
      "INFO:GTS.isc_modelling.contact_mechanics_biot:diff iter u = 9.098465e+07\n",
      "INFO:GTS.isc_modelling.contact_mechanics_biot:diff init u = 8.492536e+07\n",
      "INFO:GTS.isc_modelling.contact_mechanics_biot:diff iter contact = 5.172824e+29\n",
      "INFO:GTS.isc_modelling.contact_mechanics_biot:diff init contact = 5.133554e+29\n",
      "INFO:GTS.isc_modelling.contact_mechanics_biot:diff iter scalar = 1.203151e+27\n",
      "INFO:GTS.isc_modelling.contact_mechanics_biot:diff init scalar = 1.240386e+27\n",
      "INFO:GTS.isc_modelling.contact_mechanics_biot:Error in contact force is 1.007650e+00\n",
      "INFO:GTS.isc_modelling.contact_mechanics_biot:Error in matrix displacement is 1.071348e+00\n",
      "INFO:GTS.isc_modelling.contact_mechanics_biot:Error in pressure is 9.699807e-01.\n",
      "INFO:porepy.numerics.nonlinear.nonlinear_solvers:Newton iteration number 39 of 40\n",
      "INFO:porepy.models.contact_mechanics_biot_model:Max element in A 2.26e+09\n",
      "INFO:porepy.models.contact_mechanics_biot_model:Max 2.83e+09 and min 1.00e+00 A sum.\n",
      "INFO:porepy.models.contact_mechanics_biot_model:Solve Ax=b using schur_complement\n"
     ]
    },
    {
     "name": "stdout",
     "output_type": "stream",
     "text": [
      "Attempting to compute inverse: M\n"
     ]
    },
    {
     "name": "stderr",
     "output_type": "stream",
     "text": [
      "INFO:porepy.models.contact_mechanics_biot_model:Done. Elapsed time 121.40016484260559\n"
     ]
    },
    {
     "name": "stdout",
     "output_type": "stream",
     "text": [
      "inverse computed\n",
      "Solved in 121.3631067276001 s, with 121.25679540634155 for constant part, whereof 120.42093133926392 s were the inversion of the SC.\n"
     ]
    },
    {
     "name": "stderr",
     "output_type": "stream",
     "text": [
      "INFO:porepy.models.contact_mechanics_biot_model:||b-Ax|| = 0.0008156122273865134\n",
      "INFO:porepy.models.contact_mechanics_biot_model:||b-Ax|| / ||b|| = 1.0690718181133953e-08\n",
      "INFO:GTS.isc_modelling.contact_mechanics_biot:diff iter u = 5.806861e+09\n",
      "INFO:GTS.isc_modelling.contact_mechanics_biot:diff init u = 5.629262e+09\n",
      "INFO:GTS.isc_modelling.contact_mechanics_biot:diff iter contact = 6.650182e+31\n",
      "INFO:GTS.isc_modelling.contact_mechanics_biot:diff init contact = 6.600028e+31\n",
      "INFO:GTS.isc_modelling.contact_mechanics_biot:diff iter scalar = 4.238601e+29\n",
      "INFO:GTS.isc_modelling.contact_mechanics_biot:diff init scalar = 4.232285e+29\n",
      "INFO:GTS.isc_modelling.contact_mechanics_biot:Error in contact force is 1.007599e+00\n",
      "INFO:GTS.isc_modelling.contact_mechanics_biot:Error in matrix displacement is 1.031549e+00\n",
      "INFO:GTS.isc_modelling.contact_mechanics_biot:Error in pressure is 1.001492e+00.\n",
      "INFO:porepy.numerics.nonlinear.nonlinear_solvers:Newton iteration number 40 of 40\n",
      "INFO:porepy.models.contact_mechanics_biot_model:Max element in A 2.26e+09\n",
      "INFO:porepy.models.contact_mechanics_biot_model:Max 2.83e+09 and min 1.00e+00 A sum.\n",
      "INFO:porepy.models.contact_mechanics_biot_model:Solve Ax=b using schur_complement\n"
     ]
    },
    {
     "name": "stdout",
     "output_type": "stream",
     "text": [
      "Attempting to compute inverse: M\n"
     ]
    },
    {
     "name": "stderr",
     "output_type": "stream",
     "text": [
      "INFO:porepy.models.contact_mechanics_biot_model:Done. Elapsed time 140.88052940368652\n",
      "INFO:porepy.models.contact_mechanics_biot_model:||b-Ax|| = 0.0038095810132982967\n",
      "INFO:porepy.models.contact_mechanics_biot_model:||b-Ax|| / ||b|| = 9.816610710532925e-09\n"
     ]
    },
    {
     "name": "stdout",
     "output_type": "stream",
     "text": [
      "inverse computed\n",
      "Solved in 140.84237122535706 s, with 140.71661972999573 for constant part, whereof 139.78142786026 s were the inversion of the SC.\n"
     ]
    },
    {
     "name": "stderr",
     "output_type": "stream",
     "text": [
      "INFO:GTS.isc_modelling.contact_mechanics_biot:diff iter u = 5.810869e+09\n",
      "INFO:GTS.isc_modelling.contact_mechanics_biot:diff init u = 3.567467e+08\n",
      "INFO:GTS.isc_modelling.contact_mechanics_biot:diff iter contact = 6.662639e+31\n",
      "INFO:GTS.isc_modelling.contact_mechanics_biot:diff init contact = 1.535737e+30\n",
      "INFO:GTS.isc_modelling.contact_mechanics_biot:diff iter scalar = 4.217376e+29\n",
      "INFO:GTS.isc_modelling.contact_mechanics_biot:diff init scalar = 4.192338e+27\n",
      "INFO:GTS.isc_modelling.contact_mechanics_biot:Error in contact force is 4.338399e+01\n",
      "INFO:GTS.isc_modelling.contact_mechanics_biot:Error in matrix displacement is 1.628850e+01\n",
      "INFO:GTS.isc_modelling.contact_mechanics_biot:Error in pressure is 1.005972e+02.\n",
      "ERROR:GTS.isc_modelling.contact_mechanics_biot:Newton iterations did not converge\n",
      "INFO:GTS.isc_modelling.contact_mechanics_biot:Calling after_newton_convergence(<GTS.isc_modelling.contact_mechanics_biot.ContactMechanicsBiotISC object at 0x7f2f2466a1d0>, array([-394.25112675, 1181.82228488,  225.25112654, ...,    6.03840718,\n",
      "         -1.68805549,   -6.03840718]), [1.0, 0.07665772623977181, 0.049919906103939427, 0.43438121238485683, 1.0268522673163094, 1.4167836119098673, 0.923094141019318, 3.873749171373919, 1.5702532686702195, 3.089134762179521, 1.0242418467491652, 1.164429831129136, 1.111989506001351, 5.934354771163483, 6.129643316973982, 2.8690548888059637, 2.1422174340964917, 2.7540449798749056, 1.9857490660937396, 1.3056420004024534, 3.7311442041691034, 1.2138358590444187, 2.083590709901521, 6.602071176387184, 3.313231219601326, 0.9318096603750304, 4.918227019856138, 0.759720263199355, 0.8890759768457694, 1.2536528317558397, 4.284474996623562, 6.321740697110012, 0.9570117342106038, 1.2565796507051428, 1.385581281397309, 0.9854311923242914, 1.0657241926895993, 1.1086172589573002, 1.0713484098033672, 1.031549252107408, 16.288501442004115], 41)\n",
      "INFO:GTS.isc_modelling.contact_mechanics_biot:Calling export_step(<GTS.isc_modelling.contact_mechanics_biot.ContactMechanicsBiotISC object at 0x7f2f2466a1d0>)\n",
      "/home/haakon/.local/lib/python3.7/site-packages/vtk/util/numpy_support.py:137: FutureWarning: Conversion of the second argument of issubdtype from `complex` to `np.complexfloating` is deprecated. In future, it will be treated as `np.complex128 == np.dtype(complex).type`.\n",
      "  assert not numpy.issubdtype(z.dtype, complex), \\\n",
      "INFO:GTS.isc_modelling.contact_mechanics_biot:'export_step' returned None\n",
      "INFO:GTS.isc_modelling.contact_mechanics_biot:'after_newton_convergence' returned None\n",
      "INFO:GTS.isc_modelling.contact_mechanics_biot:Solution exported to folder \n",
      " /home/haakon/mastersproject/src/mastersproject/GTS/isc_modelling/results/200421/full_model_tests/ivar_1\n",
      "INFO:porepy.models.run_models:\n",
      "Time step 2 at time 4.8e+03 of 7.2e+03 with time step 2.4e+03\n",
      "INFO:GTS.isc_modelling.contact_mechanics_biot:Calling before_newton_loop(<GTS.isc_modelling.contact_mechanics_biot.ContactMechanicsBiotISC object at 0x7f2f2466a1d0>)\n",
      "INFO:GTS.isc_modelling.contact_mechanics_biot:Finished 'before_newton_loop' in 0.0407 secs\n",
      "INFO:GTS.isc_modelling.contact_mechanics_biot:'before_newton_loop' returned None\n",
      "INFO:porepy.numerics.nonlinear.nonlinear_solvers:Newton iteration number 0 of 40\n",
      "INFO:porepy.models.contact_mechanics_biot_model:Max element in A 2.26e+09\n",
      "INFO:porepy.models.contact_mechanics_biot_model:Max 2.83e+09 and min 1.00e+00 A sum.\n",
      "INFO:porepy.models.contact_mechanics_biot_model:Solve Ax=b using schur_complement\n"
     ]
    },
    {
     "name": "stdout",
     "output_type": "stream",
     "text": [
      "Attempting to compute inverse: M\n"
     ]
    },
    {
     "name": "stderr",
     "output_type": "stream",
     "text": [
      "INFO:porepy.models.contact_mechanics_biot_model:Done. Elapsed time 135.09031867980957\n"
     ]
    },
    {
     "name": "stdout",
     "output_type": "stream",
     "text": [
      "inverse computed\n",
      "Solved in 135.041743516922 s, with 134.93012380599976 for constant part, whereof 134.0368685722351 s were the inversion of the SC.\n"
     ]
    },
    {
     "name": "stderr",
     "output_type": "stream",
     "text": [
      "INFO:porepy.models.contact_mechanics_biot_model:||b-Ax|| = 0.0007524043563123401\n",
      "INFO:porepy.models.contact_mechanics_biot_model:||b-Ax|| / ||b|| = 6.272306167228521e-10\n",
      "INFO:GTS.isc_modelling.contact_mechanics_biot:diff iter u = 1.408949e+08\n",
      "INFO:GTS.isc_modelling.contact_mechanics_biot:diff init u = 1.408949e+08\n",
      "INFO:GTS.isc_modelling.contact_mechanics_biot:diff iter contact = 1.590313e+30\n",
      "INFO:GTS.isc_modelling.contact_mechanics_biot:diff init contact = 1.590313e+30\n",
      "INFO:GTS.isc_modelling.contact_mechanics_biot:diff iter scalar = 3.497570e+27\n",
      "INFO:GTS.isc_modelling.contact_mechanics_biot:diff init scalar = 3.497570e+27\n",
      "INFO:GTS.isc_modelling.contact_mechanics_biot:Error in contact force is 1.000000e+00\n",
      "INFO:GTS.isc_modelling.contact_mechanics_biot:Error in matrix displacement is 1.000000e+00\n",
      "INFO:GTS.isc_modelling.contact_mechanics_biot:Error in pressure is 1.000000e+00.\n",
      "INFO:porepy.numerics.nonlinear.nonlinear_solvers:Newton iteration number 1 of 40\n",
      "INFO:porepy.models.contact_mechanics_biot_model:Max element in A 2.26e+09\n",
      "INFO:porepy.models.contact_mechanics_biot_model:Max 2.83e+09 and min 1.00e+00 A sum.\n",
      "INFO:porepy.models.contact_mechanics_biot_model:Solve Ax=b using schur_complement\n"
     ]
    },
    {
     "name": "stdout",
     "output_type": "stream",
     "text": [
      "Attempting to compute inverse: M\n",
      "inverse computed\n",
      "Solved in 128.6932017803192 s, with 128.49698662757874 for constant part, whereof 127.49289512634277 s were the inversion of the SC.\n"
     ]
    },
    {
     "name": "stderr",
     "output_type": "stream",
     "text": [
      "INFO:porepy.models.contact_mechanics_biot_model:Done. Elapsed time 128.73742699623108\n",
      "INFO:porepy.models.contact_mechanics_biot_model:||b-Ax|| = 0.0008112732001913849\n",
      "INFO:porepy.models.contact_mechanics_biot_model:||b-Ax|| / ||b|| = 7.167496021106533e-10\n",
      "INFO:GTS.isc_modelling.contact_mechanics_biot:diff iter u = 1.012746e+08\n",
      "INFO:GTS.isc_modelling.contact_mechanics_biot:diff init u = 3.197096e+08\n",
      "INFO:GTS.isc_modelling.contact_mechanics_biot:diff iter contact = 7.939386e+29\n",
      "INFO:GTS.isc_modelling.contact_mechanics_biot:diff init contact = 2.189060e+30\n",
      "INFO:GTS.isc_modelling.contact_mechanics_biot:diff iter scalar = 1.537526e+27\n",
      "INFO:GTS.isc_modelling.contact_mechanics_biot:diff init scalar = 4.845060e+27\n",
      "INFO:GTS.isc_modelling.contact_mechanics_biot:Error in contact force is 3.626847e-01\n",
      "INFO:GTS.isc_modelling.contact_mechanics_biot:Error in matrix displacement is 3.167707e-01\n",
      "INFO:GTS.isc_modelling.contact_mechanics_biot:Error in pressure is 3.173388e-01.\n",
      "INFO:porepy.numerics.nonlinear.nonlinear_solvers:Newton iteration number 2 of 40\n",
      "INFO:porepy.models.contact_mechanics_biot_model:Max element in A 2.26e+09\n",
      "INFO:porepy.models.contact_mechanics_biot_model:Max 2.83e+09 and min 1.00e+00 A sum.\n",
      "INFO:porepy.models.contact_mechanics_biot_model:Solve Ax=b using schur_complement\n"
     ]
    },
    {
     "name": "stdout",
     "output_type": "stream",
     "text": [
      "Attempting to compute inverse: M\n",
      "inverse computed\n",
      "Solved in 126.89580798149109 s, with 126.75750041007996 for constant part, whereof 125.84917330741882 s were the inversion of the SC.\n"
     ]
    },
    {
     "name": "stderr",
     "output_type": "stream",
     "text": [
      "INFO:porepy.models.contact_mechanics_biot_model:Done. Elapsed time 126.93864393234253\n",
      "INFO:porepy.models.contact_mechanics_biot_model:||b-Ax|| = 0.0007901979514102776\n",
      "INFO:porepy.models.contact_mechanics_biot_model:||b-Ax|| / ||b|| = 7.129295932291803e-10\n",
      "INFO:GTS.isc_modelling.contact_mechanics_biot:diff iter u = 1.803670e+08\n",
      "INFO:GTS.isc_modelling.contact_mechanics_biot:diff init u = 4.396889e+08\n",
      "INFO:GTS.isc_modelling.contact_mechanics_biot:diff iter contact = 2.335639e+30\n",
      "INFO:GTS.isc_modelling.contact_mechanics_biot:diff init contact = 3.307636e+30\n",
      "INFO:GTS.isc_modelling.contact_mechanics_biot:diff iter scalar = 2.413736e+27\n",
      "INFO:GTS.isc_modelling.contact_mechanics_biot:diff init scalar = 4.872457e+27\n",
      "INFO:GTS.isc_modelling.contact_mechanics_biot:Error in contact force is 7.061356e-01\n",
      "INFO:GTS.isc_modelling.contact_mechanics_biot:Error in matrix displacement is 4.102150e-01\n",
      "INFO:GTS.isc_modelling.contact_mechanics_biot:Error in pressure is 4.953838e-01.\n",
      "INFO:porepy.numerics.nonlinear.nonlinear_solvers:Newton iteration number 3 of 40\n",
      "INFO:porepy.models.contact_mechanics_biot_model:Max element in A 2.26e+09\n",
      "INFO:porepy.models.contact_mechanics_biot_model:Max 2.83e+09 and min 1.00e+00 A sum.\n",
      "INFO:porepy.models.contact_mechanics_biot_model:Solve Ax=b using schur_complement\n"
     ]
    },
    {
     "name": "stdout",
     "output_type": "stream",
     "text": [
      "Attempting to compute inverse: M\n"
     ]
    },
    {
     "name": "stderr",
     "output_type": "stream",
     "text": [
      "INFO:porepy.models.contact_mechanics_biot_model:Done. Elapsed time 133.9767553806305\n"
     ]
    },
    {
     "name": "stdout",
     "output_type": "stream",
     "text": [
      "inverse computed\n",
      "Solved in 133.93900561332703 s, with 133.81467175483704 for constant part, whereof 132.88148403167725 s were the inversion of the SC.\n"
     ]
    },
    {
     "name": "stderr",
     "output_type": "stream",
     "text": [
      "INFO:porepy.models.contact_mechanics_biot_model:||b-Ax|| = 0.014727542366448824\n",
      "INFO:porepy.models.contact_mechanics_biot_model:||b-Ax|| / ||b|| = 1.3286581881876728e-08\n",
      "INFO:GTS.isc_modelling.contact_mechanics_biot:diff iter u = 3.942362e+11\n",
      "INFO:GTS.isc_modelling.contact_mechanics_biot:diff init u = 4.036345e+11\n",
      "INFO:GTS.isc_modelling.contact_mechanics_biot:diff iter contact = 1.060122e+33\n",
      "INFO:GTS.isc_modelling.contact_mechanics_biot:diff init contact = 1.060813e+33\n",
      "INFO:GTS.isc_modelling.contact_mechanics_biot:diff iter scalar = 6.245118e+30\n",
      "INFO:GTS.isc_modelling.contact_mechanics_biot:diff init scalar = 6.283618e+30\n",
      "INFO:GTS.isc_modelling.contact_mechanics_biot:Error in contact force is 9.993488e-01\n",
      "INFO:GTS.isc_modelling.contact_mechanics_biot:Error in matrix displacement is 9.767158e-01\n",
      "INFO:GTS.isc_modelling.contact_mechanics_biot:Error in pressure is 9.938730e-01.\n",
      "INFO:porepy.numerics.nonlinear.nonlinear_solvers:Newton iteration number 4 of 40\n",
      "INFO:porepy.models.contact_mechanics_biot_model:Max element in A 2.26e+09\n",
      "INFO:porepy.models.contact_mechanics_biot_model:Max 2.83e+09 and min 1.00e+00 A sum.\n",
      "INFO:porepy.models.contact_mechanics_biot_model:Solve Ax=b using schur_complement\n"
     ]
    },
    {
     "name": "stdout",
     "output_type": "stream",
     "text": [
      "Attempting to compute inverse: M\n"
     ]
    },
    {
     "name": "stderr",
     "output_type": "stream",
     "text": [
      "INFO:porepy.models.contact_mechanics_biot_model:Done. Elapsed time 129.72424221038818\n"
     ]
    },
    {
     "name": "stdout",
     "output_type": "stream",
     "text": [
      "inverse computed\n",
      "Solved in 129.67915773391724 s, with 129.57204794883728 for constant part, whereof 128.68818497657776 s were the inversion of the SC.\n"
     ]
    },
    {
     "name": "stderr",
     "output_type": "stream",
     "text": [
      "INFO:porepy.models.contact_mechanics_biot_model:||b-Ax|| = 0.02373214999152026\n",
      "INFO:porepy.models.contact_mechanics_biot_model:||b-Ax|| / ||b|| = 4.230705806990956e-09\n",
      "INFO:GTS.isc_modelling.contact_mechanics_biot:diff iter u = 2.265638e+11\n",
      "INFO:GTS.isc_modelling.contact_mechanics_biot:diff init u = 5.076012e+10\n",
      "INFO:GTS.isc_modelling.contact_mechanics_biot:diff iter contact = 1.204493e+33\n",
      "INFO:GTS.isc_modelling.contact_mechanics_biot:diff init contact = 1.532281e+32\n",
      "INFO:GTS.isc_modelling.contact_mechanics_biot:diff iter scalar = 4.920127e+30\n",
      "INFO:GTS.isc_modelling.contact_mechanics_biot:diff init scalar = 1.271306e+30\n",
      "INFO:GTS.isc_modelling.contact_mechanics_biot:Error in contact force is 7.860784e+00\n",
      "INFO:GTS.isc_modelling.contact_mechanics_biot:Error in matrix displacement is 4.463422e+00\n",
      "INFO:GTS.isc_modelling.contact_mechanics_biot:Error in pressure is 3.870135e+00.\n",
      "INFO:porepy.numerics.nonlinear.nonlinear_solvers:Newton iteration number 5 of 40\n",
      "INFO:porepy.models.contact_mechanics_biot_model:Max element in A 2.26e+09\n",
      "INFO:porepy.models.contact_mechanics_biot_model:Max 2.83e+09 and min 1.00e+00 A sum.\n",
      "INFO:porepy.models.contact_mechanics_biot_model:Solve Ax=b using schur_complement\n"
     ]
    },
    {
     "name": "stdout",
     "output_type": "stream",
     "text": [
      "Attempting to compute inverse: M\n"
     ]
    },
    {
     "name": "stderr",
     "output_type": "stream",
     "text": [
      "INFO:porepy.models.contact_mechanics_biot_model:Done. Elapsed time 129.60903978347778\n",
      "INFO:porepy.models.contact_mechanics_biot_model:||b-Ax|| = 0.09722584603263766\n"
     ]
    },
    {
     "name": "stdout",
     "output_type": "stream",
     "text": [
      "inverse computed\n",
      "Solved in 129.56916117668152 s, with 129.436270236969 for constant part, whereof 128.451327085495 s were the inversion of the SC.\n"
     ]
    },
    {
     "name": "stderr",
     "output_type": "stream",
     "text": [
      "INFO:porepy.models.contact_mechanics_biot_model:||b-Ax|| / ||b|| = 5.081388310298711e-08\n",
      "INFO:GTS.isc_modelling.contact_mechanics_biot:diff iter u = 1.038499e+12\n",
      "INFO:GTS.isc_modelling.contact_mechanics_biot:diff init u = 9.951986e+11\n",
      "INFO:GTS.isc_modelling.contact_mechanics_biot:diff iter contact = 3.912282e+33\n",
      "INFO:GTS.isc_modelling.contact_mechanics_biot:diff init contact = 3.764879e+33\n",
      "INFO:GTS.isc_modelling.contact_mechanics_biot:diff iter scalar = 1.730426e+31\n",
      "INFO:GTS.isc_modelling.contact_mechanics_biot:diff init scalar = 1.693269e+31\n",
      "INFO:GTS.isc_modelling.contact_mechanics_biot:Error in contact force is 1.039152e+00\n",
      "INFO:GTS.isc_modelling.contact_mechanics_biot:Error in matrix displacement is 1.043509e+00\n",
      "INFO:GTS.isc_modelling.contact_mechanics_biot:Error in pressure is 1.021944e+00.\n",
      "INFO:porepy.numerics.nonlinear.nonlinear_solvers:Newton iteration number 6 of 40\n",
      "INFO:porepy.models.contact_mechanics_biot_model:Max element in A 2.26e+09\n",
      "INFO:porepy.models.contact_mechanics_biot_model:Max 2.83e+09 and min 1.00e+00 A sum.\n",
      "INFO:porepy.models.contact_mechanics_biot_model:Solve Ax=b using schur_complement\n"
     ]
    },
    {
     "name": "stdout",
     "output_type": "stream",
     "text": [
      "Attempting to compute inverse: M\n"
     ]
    },
    {
     "name": "stderr",
     "output_type": "stream",
     "text": [
      "INFO:porepy.models.contact_mechanics_biot_model:Done. Elapsed time 147.98092770576477\n"
     ]
    },
    {
     "name": "stdout",
     "output_type": "stream",
     "text": [
      "inverse computed\n",
      "Solved in 147.93884420394897 s, with 147.8000202178955 for constant part, whereof 146.8403925895691 s were the inversion of the SC.\n"
     ]
    },
    {
     "name": "stderr",
     "output_type": "stream",
     "text": [
      "INFO:porepy.models.contact_mechanics_biot_model:||b-Ax|| = 0.13027846514019384\n",
      "INFO:porepy.models.contact_mechanics_biot_model:||b-Ax|| / ||b|| = 1.4223499476658543e-08\n",
      "INFO:GTS.isc_modelling.contact_mechanics_biot:diff iter u = 1.522152e+12\n",
      "INFO:GTS.isc_modelling.contact_mechanics_biot:diff init u = 5.961829e+11\n",
      "INFO:GTS.isc_modelling.contact_mechanics_biot:diff iter contact = 7.736578e+33\n",
      "INFO:GTS.isc_modelling.contact_mechanics_biot:diff init contact = 4.155255e+33\n",
      "INFO:GTS.isc_modelling.contact_mechanics_biot:diff iter scalar = 5.368920e+31\n",
      "INFO:GTS.isc_modelling.contact_mechanics_biot:diff init scalar = 3.877018e+31\n",
      "INFO:GTS.isc_modelling.contact_mechanics_biot:Error in contact force is 1.861878e+00\n",
      "INFO:GTS.isc_modelling.contact_mechanics_biot:Error in matrix displacement is 2.553162e+00\n",
      "INFO:GTS.isc_modelling.contact_mechanics_biot:Error in pressure is 1.384807e+00.\n",
      "INFO:porepy.numerics.nonlinear.nonlinear_solvers:Newton iteration number 7 of 40\n",
      "INFO:porepy.models.contact_mechanics_biot_model:Max element in A 2.26e+09\n",
      "INFO:porepy.models.contact_mechanics_biot_model:Max 2.83e+09 and min 1.00e+00 A sum.\n",
      "INFO:porepy.models.contact_mechanics_biot_model:Solve Ax=b using schur_complement\n"
     ]
    },
    {
     "name": "stdout",
     "output_type": "stream",
     "text": [
      "Attempting to compute inverse: M\n"
     ]
    },
    {
     "name": "stderr",
     "output_type": "stream",
     "text": [
      "INFO:porepy.models.contact_mechanics_biot_model:Done. Elapsed time 132.55045127868652\n"
     ]
    },
    {
     "name": "stdout",
     "output_type": "stream",
     "text": [
      "inverse computed\n",
      "Solved in 132.50965285301208 s, with 132.39206457138062 for constant part, whereof 131.461590051651 s were the inversion of the SC.\n"
     ]
    },
    {
     "name": "stderr",
     "output_type": "stream",
     "text": [
      "INFO:porepy.models.contact_mechanics_biot_model:||b-Ax|| = 0.006213401127651286\n",
      "INFO:porepy.models.contact_mechanics_biot_model:||b-Ax|| / ||b|| = 9.278945591864138e-10\n",
      "INFO:GTS.isc_modelling.contact_mechanics_biot:diff iter u = 4.861400e+11\n",
      "INFO:GTS.isc_modelling.contact_mechanics_biot:diff init u = 1.473809e+11\n",
      "INFO:GTS.isc_modelling.contact_mechanics_biot:diff iter contact = 4.657852e+33\n",
      "INFO:GTS.isc_modelling.contact_mechanics_biot:diff init contact = 5.532462e+32\n",
      "INFO:GTS.isc_modelling.contact_mechanics_biot:diff iter scalar = 3.830127e+31\n",
      "INFO:GTS.isc_modelling.contact_mechanics_biot:diff init scalar = 3.790783e+30\n",
      "INFO:GTS.isc_modelling.contact_mechanics_biot:Error in contact force is 8.419131e+00\n",
      "INFO:GTS.isc_modelling.contact_mechanics_biot:Error in matrix displacement is 3.298527e+00\n",
      "INFO:GTS.isc_modelling.contact_mechanics_biot:Error in pressure is 1.010379e+01.\n",
      "INFO:porepy.numerics.nonlinear.nonlinear_solvers:Newton iteration number 8 of 40\n",
      "INFO:porepy.models.contact_mechanics_biot_model:Max element in A 2.26e+09\n",
      "INFO:porepy.models.contact_mechanics_biot_model:Max 2.83e+09 and min 1.00e+00 A sum.\n",
      "INFO:porepy.models.contact_mechanics_biot_model:Solve Ax=b using schur_complement\n"
     ]
    },
    {
     "name": "stdout",
     "output_type": "stream",
     "text": [
      "Attempting to compute inverse: M\n"
     ]
    },
    {
     "name": "stderr",
     "output_type": "stream",
     "text": [
      "INFO:porepy.models.contact_mechanics_biot_model:Done. Elapsed time 130.78090643882751\n",
      "INFO:porepy.models.contact_mechanics_biot_model:||b-Ax|| = 0.03125306551336886\n"
     ]
    },
    {
     "name": "stdout",
     "output_type": "stream",
     "text": [
      "inverse computed\n",
      "Solved in 130.74203252792358 s, with 130.62580132484436 for constant part, whereof 129.7402367591858 s were the inversion of the SC.\n"
     ]
    },
    {
     "name": "stderr",
     "output_type": "stream",
     "text": [
      "INFO:porepy.models.contact_mechanics_biot_model:||b-Ax|| / ||b|| = 8.920688009715679e-09\n",
      "INFO:GTS.isc_modelling.contact_mechanics_biot:diff iter u = 5.965016e+10\n",
      "INFO:GTS.isc_modelling.contact_mechanics_biot:diff init u = 4.164314e+10\n",
      "INFO:GTS.isc_modelling.contact_mechanics_biot:diff iter contact = 5.413361e+32\n",
      "INFO:GTS.isc_modelling.contact_mechanics_biot:diff init contact = 1.363862e+31\n",
      "INFO:GTS.isc_modelling.contact_mechanics_biot:diff iter scalar = 3.097444e+30\n",
      "INFO:GTS.isc_modelling.contact_mechanics_biot:diff init scalar = 3.594423e+29\n",
      "INFO:GTS.isc_modelling.contact_mechanics_biot:Error in contact force is 3.969141e+01\n",
      "INFO:GTS.isc_modelling.contact_mechanics_biot:Error in matrix displacement is 1.432413e+00\n",
      "INFO:GTS.isc_modelling.contact_mechanics_biot:Error in pressure is 8.617362e+00.\n",
      "INFO:porepy.numerics.nonlinear.nonlinear_solvers:Newton iteration number 9 of 40\n",
      "INFO:porepy.models.contact_mechanics_biot_model:Max element in A 2.26e+09\n",
      "INFO:porepy.models.contact_mechanics_biot_model:Max 2.83e+09 and min 1.00e+00 A sum.\n",
      "INFO:porepy.models.contact_mechanics_biot_model:Solve Ax=b using schur_complement\n"
     ]
    },
    {
     "name": "stdout",
     "output_type": "stream",
     "text": [
      "Attempting to compute inverse: M\n"
     ]
    },
    {
     "name": "stderr",
     "output_type": "stream",
     "text": [
      "INFO:porepy.models.contact_mechanics_biot_model:Done. Elapsed time 138.66575813293457\n",
      "INFO:porepy.models.contact_mechanics_biot_model:||b-Ax|| = 0.007104847774040513\n"
     ]
    },
    {
     "name": "stdout",
     "output_type": "stream",
     "text": [
      "inverse computed\n",
      "Solved in 138.6203989982605 s, with 138.49975085258484 for constant part, whereof 137.60299921035767 s were the inversion of the SC.\n"
     ]
    },
    {
     "name": "stderr",
     "output_type": "stream",
     "text": [
      "INFO:porepy.models.contact_mechanics_biot_model:||b-Ax|| / ||b|| = 4.0700248600245736e-09\n",
      "INFO:GTS.isc_modelling.contact_mechanics_biot:diff iter u = 1.223805e+10\n",
      "INFO:GTS.isc_modelling.contact_mechanics_biot:diff init u = 1.129703e+10\n",
      "INFO:GTS.isc_modelling.contact_mechanics_biot:diff iter contact = 1.522894e+31\n",
      "INFO:GTS.isc_modelling.contact_mechanics_biot:diff init contact = 5.243340e+30\n",
      "INFO:GTS.isc_modelling.contact_mechanics_biot:diff iter scalar = 2.250652e+29\n",
      "INFO:GTS.isc_modelling.contact_mechanics_biot:diff init scalar = 8.740541e+28\n",
      "INFO:GTS.isc_modelling.contact_mechanics_biot:Error in contact force is 2.904434e+00\n",
      "INFO:GTS.isc_modelling.contact_mechanics_biot:Error in matrix displacement is 1.083298e+00\n",
      "INFO:GTS.isc_modelling.contact_mechanics_biot:Error in pressure is 2.574958e+00.\n",
      "INFO:porepy.numerics.nonlinear.nonlinear_solvers:Newton iteration number 10 of 40\n",
      "INFO:porepy.models.contact_mechanics_biot_model:Max element in A 2.26e+09\n",
      "INFO:porepy.models.contact_mechanics_biot_model:Max 2.83e+09 and min 1.00e+00 A sum.\n",
      "INFO:porepy.models.contact_mechanics_biot_model:Solve Ax=b using schur_complement\n"
     ]
    },
    {
     "name": "stdout",
     "output_type": "stream",
     "text": [
      "Attempting to compute inverse: M\n"
     ]
    },
    {
     "name": "stderr",
     "output_type": "stream",
     "text": [
      "INFO:porepy.models.contact_mechanics_biot_model:Done. Elapsed time 142.90426063537598\n"
     ]
    },
    {
     "name": "stdout",
     "output_type": "stream",
     "text": [
      "inverse computed\n",
      "Solved in 142.86020421981812 s, with 142.7267427444458 for constant part, whereof 141.8161654472351 s were the inversion of the SC.\n"
     ]
    },
    {
     "name": "stderr",
     "output_type": "stream",
     "text": [
      "INFO:porepy.models.contact_mechanics_biot_model:||b-Ax|| = 0.0027500541396649437\n",
      "INFO:porepy.models.contact_mechanics_biot_model:||b-Ax|| / ||b|| = 1.964199922708405e-09\n",
      "INFO:GTS.isc_modelling.contact_mechanics_biot:diff iter u = 5.397568e+09\n",
      "INFO:GTS.isc_modelling.contact_mechanics_biot:diff init u = 8.672383e+09\n",
      "INFO:GTS.isc_modelling.contact_mechanics_biot:diff iter contact = 9.752759e+31\n",
      "INFO:GTS.isc_modelling.contact_mechanics_biot:diff init contact = 9.564861e+31\n",
      "INFO:GTS.isc_modelling.contact_mechanics_biot:diff iter scalar = 9.858832e+28\n",
      "INFO:GTS.isc_modelling.contact_mechanics_biot:diff init scalar = 1.039030e+29\n",
      "INFO:GTS.isc_modelling.contact_mechanics_biot:Error in contact force is 1.019645e+00\n",
      "INFO:GTS.isc_modelling.contact_mechanics_biot:Error in matrix displacement is 6.223859e-01\n",
      "INFO:GTS.isc_modelling.contact_mechanics_biot:Error in pressure is 9.488496e-01.\n",
      "INFO:porepy.numerics.nonlinear.nonlinear_solvers:Newton iteration number 11 of 40\n",
      "INFO:porepy.models.contact_mechanics_biot_model:Max element in A 2.26e+09\n",
      "INFO:porepy.models.contact_mechanics_biot_model:Max 2.83e+09 and min 1.00e+00 A sum.\n",
      "INFO:porepy.models.contact_mechanics_biot_model:Solve Ax=b using schur_complement\n"
     ]
    },
    {
     "name": "stdout",
     "output_type": "stream",
     "text": [
      "Attempting to compute inverse: M\n"
     ]
    },
    {
     "name": "stderr",
     "output_type": "stream",
     "text": [
      "INFO:porepy.models.contact_mechanics_biot_model:Done. Elapsed time 135.25039839744568\n"
     ]
    },
    {
     "name": "stdout",
     "output_type": "stream",
     "text": [
      "inverse computed\n",
      "Solved in 135.21186137199402 s, with 135.03778672218323 for constant part, whereof 134.12387537956238 s were the inversion of the SC.\n"
     ]
    },
    {
     "name": "stderr",
     "output_type": "stream",
     "text": [
      "INFO:porepy.models.contact_mechanics_biot_model:||b-Ax|| = 0.048485451211939125\n",
      "INFO:porepy.models.contact_mechanics_biot_model:||b-Ax|| / ||b|| = 3.387044387130865e-08\n",
      "INFO:GTS.isc_modelling.contact_mechanics_biot:diff iter u = 1.526151e+11\n",
      "INFO:GTS.isc_modelling.contact_mechanics_biot:diff init u = 1.434511e+11\n",
      "INFO:GTS.isc_modelling.contact_mechanics_biot:diff iter contact = 4.310170e+32\n",
      "INFO:GTS.isc_modelling.contact_mechanics_biot:diff init contact = 3.346341e+32\n",
      "INFO:GTS.isc_modelling.contact_mechanics_biot:diff iter scalar = 1.209803e+30\n",
      "INFO:GTS.isc_modelling.contact_mechanics_biot:diff init scalar = 1.064086e+30\n",
      "INFO:GTS.isc_modelling.contact_mechanics_biot:Error in contact force is 1.288025e+00\n",
      "INFO:GTS.isc_modelling.contact_mechanics_biot:Error in matrix displacement is 1.063883e+00\n",
      "INFO:GTS.isc_modelling.contact_mechanics_biot:Error in pressure is 1.136941e+00.\n",
      "INFO:porepy.numerics.nonlinear.nonlinear_solvers:Newton iteration number 12 of 40\n",
      "INFO:porepy.models.contact_mechanics_biot_model:Max element in A 2.26e+09\n",
      "INFO:porepy.models.contact_mechanics_biot_model:Max 2.83e+09 and min 1.00e+00 A sum.\n",
      "INFO:porepy.models.contact_mechanics_biot_model:Solve Ax=b using schur_complement\n"
     ]
    },
    {
     "name": "stdout",
     "output_type": "stream",
     "text": [
      "Attempting to compute inverse: M\n"
     ]
    },
    {
     "name": "stderr",
     "output_type": "stream",
     "text": [
      "INFO:porepy.models.contact_mechanics_biot_model:Done. Elapsed time 125.92125654220581\n"
     ]
    },
    {
     "name": "stdout",
     "output_type": "stream",
     "text": [
      "inverse computed\n",
      "Solved in 125.87241291999817 s, with 125.73796319961548 for constant part, whereof 124.85452556610107 s were the inversion of the SC.\n"
     ]
    },
    {
     "name": "stderr",
     "output_type": "stream",
     "text": [
      "INFO:porepy.models.contact_mechanics_biot_model:||b-Ax|| = 0.61315006130712\n",
      "INFO:porepy.models.contact_mechanics_biot_model:||b-Ax|| / ||b|| = 1.757882085912056e-07\n",
      "INFO:GTS.isc_modelling.contact_mechanics_biot:diff iter u = 2.606075e+13\n",
      "INFO:GTS.isc_modelling.contact_mechanics_biot:diff init u = 2.472346e+13\n",
      "INFO:GTS.isc_modelling.contact_mechanics_biot:diff iter contact = 7.147929e+34\n",
      "INFO:GTS.isc_modelling.contact_mechanics_biot:diff init contact = 7.114394e+34\n",
      "INFO:GTS.isc_modelling.contact_mechanics_biot:diff iter scalar = 5.315748e+32\n",
      "INFO:GTS.isc_modelling.contact_mechanics_biot:diff init scalar = 5.292817e+32\n",
      "INFO:GTS.isc_modelling.contact_mechanics_biot:Error in contact force is 1.004714e+00\n",
      "INFO:GTS.isc_modelling.contact_mechanics_biot:Error in matrix displacement is 1.054090e+00\n",
      "INFO:GTS.isc_modelling.contact_mechanics_biot:Error in pressure is 1.004333e+00.\n",
      "INFO:porepy.numerics.nonlinear.nonlinear_solvers:Newton iteration number 13 of 40\n",
      "INFO:porepy.models.contact_mechanics_biot_model:Max element in A 2.26e+09\n",
      "INFO:porepy.models.contact_mechanics_biot_model:Max 2.83e+09 and min 1.00e+00 A sum.\n",
      "INFO:porepy.models.contact_mechanics_biot_model:Solve Ax=b using schur_complement\n"
     ]
    },
    {
     "name": "stdout",
     "output_type": "stream",
     "text": [
      "Attempting to compute inverse: M\n"
     ]
    },
    {
     "name": "stderr",
     "output_type": "stream",
     "text": [
      "INFO:porepy.models.contact_mechanics_biot_model:Done. Elapsed time 128.57436084747314\n",
      "INFO:porepy.models.contact_mechanics_biot_model:||b-Ax|| = 0.01883333887615266\n"
     ]
    },
    {
     "name": "stdout",
     "output_type": "stream",
     "text": [
      "inverse computed\n",
      "Solved in 128.52583241462708 s, with 128.4056794643402 for constant part, whereof 127.5397264957428 s were the inversion of the SC.\n"
     ]
    },
    {
     "name": "stderr",
     "output_type": "stream",
     "text": [
      "INFO:porepy.models.contact_mechanics_biot_model:||b-Ax|| / ||b|| = 6.166501984590167e-10\n",
      "INFO:GTS.isc_modelling.contact_mechanics_biot:diff iter u = 2.007366e+13\n",
      "INFO:GTS.isc_modelling.contact_mechanics_biot:diff init u = 1.965302e+12\n",
      "INFO:GTS.isc_modelling.contact_mechanics_biot:diff iter contact = 7.982417e+34\n",
      "INFO:GTS.isc_modelling.contact_mechanics_biot:diff init contact = 1.191502e+34\n",
      "INFO:GTS.isc_modelling.contact_mechanics_biot:diff iter scalar = 5.354372e+32\n",
      "INFO:GTS.isc_modelling.contact_mechanics_biot:diff init scalar = 2.846087e+31\n",
      "INFO:GTS.isc_modelling.contact_mechanics_biot:Error in contact force is 6.699459e+00\n",
      "INFO:GTS.isc_modelling.contact_mechanics_biot:Error in matrix displacement is 1.021403e+01\n",
      "INFO:GTS.isc_modelling.contact_mechanics_biot:Error in pressure is 1.881310e+01.\n",
      "INFO:porepy.numerics.nonlinear.nonlinear_solvers:Newton iteration number 14 of 40\n",
      "INFO:porepy.models.contact_mechanics_biot_model:Max element in A 2.26e+09\n",
      "INFO:porepy.models.contact_mechanics_biot_model:Max 2.83e+09 and min 1.00e+00 A sum.\n",
      "INFO:porepy.models.contact_mechanics_biot_model:Solve Ax=b using schur_complement\n"
     ]
    },
    {
     "name": "stdout",
     "output_type": "stream",
     "text": [
      "Attempting to compute inverse: M\n"
     ]
    },
    {
     "name": "stderr",
     "output_type": "stream",
     "text": [
      "INFO:porepy.models.contact_mechanics_biot_model:Done. Elapsed time 133.94614505767822\n"
     ]
    },
    {
     "name": "stdout",
     "output_type": "stream",
     "text": [
      "inverse computed\n",
      "Solved in 133.90916109085083 s, with 133.789724111557 for constant part, whereof 132.8751494884491 s were the inversion of the SC.\n"
     ]
    },
    {
     "name": "stderr",
     "output_type": "stream",
     "text": [
      "INFO:porepy.models.contact_mechanics_biot_model:||b-Ax|| = 0.05733513725662448\n",
      "INFO:porepy.models.contact_mechanics_biot_model:||b-Ax|| / ||b|| = 5.545963807092561e-09\n",
      "INFO:GTS.isc_modelling.contact_mechanics_biot:diff iter u = 3.353280e+12\n",
      "INFO:GTS.isc_modelling.contact_mechanics_biot:diff init u = 2.379079e+12\n",
      "INFO:GTS.isc_modelling.contact_mechanics_biot:diff iter contact = 1.754283e+34\n",
      "INFO:GTS.isc_modelling.contact_mechanics_biot:diff init contact = 5.835591e+33\n",
      "INFO:GTS.isc_modelling.contact_mechanics_biot:diff iter scalar = 4.287821e+31\n",
      "INFO:GTS.isc_modelling.contact_mechanics_biot:diff init scalar = 1.578738e+31\n",
      "INFO:GTS.isc_modelling.contact_mechanics_biot:Error in contact force is 3.006178e+00\n",
      "INFO:GTS.isc_modelling.contact_mechanics_biot:Error in matrix displacement is 1.409486e+00\n",
      "INFO:GTS.isc_modelling.contact_mechanics_biot:Error in pressure is 2.715980e+00.\n",
      "INFO:porepy.numerics.nonlinear.nonlinear_solvers:Newton iteration number 15 of 40\n",
      "INFO:porepy.models.contact_mechanics_biot_model:Max element in A 2.26e+09\n",
      "INFO:porepy.models.contact_mechanics_biot_model:Max 2.83e+09 and min 1.00e+00 A sum.\n",
      "INFO:porepy.models.contact_mechanics_biot_model:Solve Ax=b using schur_complement\n"
     ]
    },
    {
     "name": "stdout",
     "output_type": "stream",
     "text": [
      "Attempting to compute inverse: M\n",
      "inverse computed\n",
      "Solved in 122.87191033363342 s, with 122.74150896072388 for constant part, whereof 121.81991410255432 s were the inversion of the SC.\n"
     ]
    },
    {
     "name": "stderr",
     "output_type": "stream",
     "text": [
      "INFO:porepy.models.contact_mechanics_biot_model:Done. Elapsed time 122.92358136177063\n",
      "INFO:porepy.models.contact_mechanics_biot_model:||b-Ax|| = 0.05772855513991719\n",
      "INFO:porepy.models.contact_mechanics_biot_model:||b-Ax|| / ||b|| = 5.121911487227772e-09\n",
      "INFO:GTS.isc_modelling.contact_mechanics_biot:diff iter u = 2.603342e+12\n",
      "INFO:GTS.isc_modelling.contact_mechanics_biot:diff init u = 4.710044e+11\n",
      "INFO:GTS.isc_modelling.contact_mechanics_biot:diff iter contact = 9.762179e+33\n",
      "INFO:GTS.isc_modelling.contact_mechanics_biot:diff init contact = 4.038255e+33\n",
      "INFO:GTS.isc_modelling.contact_mechanics_biot:diff iter scalar = 2.951993e+31\n",
      "INFO:GTS.isc_modelling.contact_mechanics_biot:diff init scalar = 1.385143e+31\n",
      "INFO:GTS.isc_modelling.contact_mechanics_biot:Error in contact force is 2.417425e+00\n",
      "INFO:GTS.isc_modelling.contact_mechanics_biot:Error in matrix displacement is 5.527214e+00\n",
      "INFO:GTS.isc_modelling.contact_mechanics_biot:Error in pressure is 2.131184e+00.\n",
      "INFO:porepy.numerics.nonlinear.nonlinear_solvers:Newton iteration number 16 of 40\n",
      "INFO:porepy.models.contact_mechanics_biot_model:Max element in A 2.26e+09\n",
      "INFO:porepy.models.contact_mechanics_biot_model:Max 2.83e+09 and min 1.00e+00 A sum.\n",
      "INFO:porepy.models.contact_mechanics_biot_model:Solve Ax=b using schur_complement\n"
     ]
    },
    {
     "name": "stdout",
     "output_type": "stream",
     "text": [
      "Attempting to compute inverse: M\n"
     ]
    },
    {
     "name": "stderr",
     "output_type": "stream",
     "text": [
      "INFO:porepy.models.contact_mechanics_biot_model:Done. Elapsed time 129.8110110759735\n"
     ]
    },
    {
     "name": "stdout",
     "output_type": "stream",
     "text": [
      "inverse computed\n",
      "Solved in 129.75864124298096 s, with 129.63118529319763 for constant part, whereof 128.7193684577942 s were the inversion of the SC.\n"
     ]
    },
    {
     "name": "stderr",
     "output_type": "stream",
     "text": [
      "INFO:porepy.models.contact_mechanics_biot_model:||b-Ax|| = 0.00803005589086718\n",
      "INFO:porepy.models.contact_mechanics_biot_model:||b-Ax|| / ||b|| = 1.5410090123848024e-09\n",
      "INFO:GTS.isc_modelling.contact_mechanics_biot:diff iter u = 3.661503e+11\n",
      "INFO:GTS.isc_modelling.contact_mechanics_biot:diff init u = 1.281051e+11\n",
      "INFO:GTS.isc_modelling.contact_mechanics_biot:diff iter contact = 4.461526e+33\n",
      "INFO:GTS.isc_modelling.contact_mechanics_biot:diff init contact = 4.813461e+32\n",
      "INFO:GTS.isc_modelling.contact_mechanics_biot:diff iter scalar = 1.488621e+31\n",
      "INFO:GTS.isc_modelling.contact_mechanics_biot:diff init scalar = 1.177282e+30\n",
      "INFO:GTS.isc_modelling.contact_mechanics_biot:Error in contact force is 9.268853e+00\n",
      "INFO:GTS.isc_modelling.contact_mechanics_biot:Error in matrix displacement is 2.858203e+00\n",
      "INFO:GTS.isc_modelling.contact_mechanics_biot:Error in pressure is 1.264455e+01.\n",
      "INFO:porepy.numerics.nonlinear.nonlinear_solvers:Newton iteration number 17 of 40\n",
      "INFO:porepy.models.contact_mechanics_biot_model:Max element in A 2.26e+09\n",
      "INFO:porepy.models.contact_mechanics_biot_model:Max 2.83e+09 and min 1.00e+00 A sum.\n",
      "INFO:porepy.models.contact_mechanics_biot_model:Solve Ax=b using schur_complement\n"
     ]
    },
    {
     "name": "stdout",
     "output_type": "stream",
     "text": [
      "Attempting to compute inverse: M\n"
     ]
    },
    {
     "name": "stderr",
     "output_type": "stream",
     "text": [
      "INFO:porepy.models.contact_mechanics_biot_model:Done. Elapsed time 120.94017791748047\n",
      "INFO:porepy.models.contact_mechanics_biot_model:||b-Ax|| = 0.01863198030374534\n"
     ]
    },
    {
     "name": "stdout",
     "output_type": "stream",
     "text": [
      "inverse computed\n",
      "Solved in 120.90034294128418 s, with 120.77878284454346 for constant part, whereof 119.92945718765259 s were the inversion of the SC.\n"
     ]
    },
    {
     "name": "stderr",
     "output_type": "stream",
     "text": [
      "INFO:porepy.models.contact_mechanics_biot_model:||b-Ax|| / ||b|| = 7.102027275479026e-09\n",
      "INFO:GTS.isc_modelling.contact_mechanics_biot:diff iter u = 3.414970e+11\n",
      "INFO:GTS.isc_modelling.contact_mechanics_biot:diff init u = 4.082419e+11\n",
      "INFO:GTS.isc_modelling.contact_mechanics_biot:diff iter contact = 7.081573e+33\n",
      "INFO:GTS.isc_modelling.contact_mechanics_biot:diff init contact = 6.629652e+33\n",
      "INFO:GTS.isc_modelling.contact_mechanics_biot:diff iter scalar = 5.983616e+30\n",
      "INFO:GTS.isc_modelling.contact_mechanics_biot:diff init scalar = 5.357907e+30\n",
      "INFO:GTS.isc_modelling.contact_mechanics_biot:Error in contact force is 1.068167e+00\n",
      "INFO:GTS.isc_modelling.contact_mechanics_biot:Error in matrix displacement is 8.365066e-01\n",
      "INFO:GTS.isc_modelling.contact_mechanics_biot:Error in pressure is 1.116782e+00.\n",
      "INFO:porepy.numerics.nonlinear.nonlinear_solvers:Newton iteration number 18 of 40\n",
      "INFO:porepy.models.contact_mechanics_biot_model:Max element in A 2.26e+09\n",
      "INFO:porepy.models.contact_mechanics_biot_model:Max 2.83e+09 and min 1.00e+00 A sum.\n",
      "INFO:porepy.models.contact_mechanics_biot_model:Solve Ax=b using schur_complement\n"
     ]
    },
    {
     "name": "stdout",
     "output_type": "stream",
     "text": [
      "Attempting to compute inverse: M\n"
     ]
    },
    {
     "name": "stderr",
     "output_type": "stream",
     "text": [
      "INFO:porepy.models.contact_mechanics_biot_model:Done. Elapsed time 119.13731813430786\n",
      "INFO:porepy.models.contact_mechanics_biot_model:||b-Ax|| = 0.02021205126617124\n"
     ]
    },
    {
     "name": "stdout",
     "output_type": "stream",
     "text": [
      "inverse computed\n",
      "Solved in 119.09908199310303 s, with 118.99555683135986 for constant part, whereof 118.11763906478882 s were the inversion of the SC.\n"
     ]
    },
    {
     "name": "stderr",
     "output_type": "stream",
     "text": [
      "INFO:porepy.models.contact_mechanics_biot_model:||b-Ax|| / ||b|| = 3.393174295901937e-09\n",
      "INFO:GTS.isc_modelling.contact_mechanics_biot:diff iter u = 2.585376e+12\n",
      "INFO:GTS.isc_modelling.contact_mechanics_biot:diff init u = 1.985618e+12\n",
      "INFO:GTS.isc_modelling.contact_mechanics_biot:diff iter contact = 1.300689e+34\n",
      "INFO:GTS.isc_modelling.contact_mechanics_biot:diff init contact = 6.380023e+33\n",
      "INFO:GTS.isc_modelling.contact_mechanics_biot:diff iter scalar = 2.496020e+31\n",
      "INFO:GTS.isc_modelling.contact_mechanics_biot:diff init scalar = 1.898040e+31\n",
      "INFO:GTS.isc_modelling.contact_mechanics_biot:Error in contact force is 2.038690e+00\n",
      "INFO:GTS.isc_modelling.contact_mechanics_biot:Error in matrix displacement is 1.302051e+00\n",
      "INFO:GTS.isc_modelling.contact_mechanics_biot:Error in pressure is 1.315051e+00.\n",
      "INFO:porepy.numerics.nonlinear.nonlinear_solvers:Newton iteration number 19 of 40\n",
      "INFO:porepy.models.contact_mechanics_biot_model:Max element in A 2.26e+09\n",
      "INFO:porepy.models.contact_mechanics_biot_model:Max 2.83e+09 and min 1.00e+00 A sum.\n",
      "INFO:porepy.models.contact_mechanics_biot_model:Solve Ax=b using schur_complement\n"
     ]
    },
    {
     "name": "stdout",
     "output_type": "stream",
     "text": [
      "Attempting to compute inverse: M\n"
     ]
    },
    {
     "name": "stderr",
     "output_type": "stream",
     "text": [
      "INFO:porepy.models.contact_mechanics_biot_model:Done. Elapsed time 119.32537245750427\n",
      "INFO:porepy.models.contact_mechanics_biot_model:||b-Ax|| = 0.2678045036930835\n"
     ]
    },
    {
     "name": "stdout",
     "output_type": "stream",
     "text": [
      "inverse computed\n",
      "Solved in 119.28798604011536 s, with 119.16596412658691 for constant part, whereof 118.2690646648407 s were the inversion of the SC.\n"
     ]
    },
    {
     "name": "stderr",
     "output_type": "stream",
     "text": [
      "INFO:porepy.models.contact_mechanics_biot_model:||b-Ax|| / ||b|| = 1.9867029825423652e-08\n",
      "INFO:GTS.isc_modelling.contact_mechanics_biot:diff iter u = 2.461338e+13\n",
      "INFO:GTS.isc_modelling.contact_mechanics_biot:diff init u = 1.820939e+13\n",
      "INFO:GTS.isc_modelling.contact_mechanics_biot:diff iter contact = 5.597527e+34\n",
      "INFO:GTS.isc_modelling.contact_mechanics_biot:diff init contact = 4.976236e+34\n",
      "INFO:GTS.isc_modelling.contact_mechanics_biot:diff iter scalar = 1.824371e+32\n",
      "INFO:GTS.isc_modelling.contact_mechanics_biot:diff init scalar = 1.623320e+32\n",
      "INFO:GTS.isc_modelling.contact_mechanics_biot:Error in contact force is 1.124852e+00\n",
      "INFO:GTS.isc_modelling.contact_mechanics_biot:Error in matrix displacement is 1.351686e+00\n",
      "INFO:GTS.isc_modelling.contact_mechanics_biot:Error in pressure is 1.123852e+00.\n",
      "INFO:porepy.numerics.nonlinear.nonlinear_solvers:Newton iteration number 20 of 40\n",
      "INFO:porepy.models.contact_mechanics_biot_model:Max element in A 2.26e+09\n",
      "INFO:porepy.models.contact_mechanics_biot_model:Max 2.83e+09 and min 1.00e+00 A sum.\n",
      "INFO:porepy.models.contact_mechanics_biot_model:Solve Ax=b using schur_complement\n"
     ]
    },
    {
     "name": "stdout",
     "output_type": "stream",
     "text": [
      "Attempting to compute inverse: M\n"
     ]
    },
    {
     "name": "stderr",
     "output_type": "stream",
     "text": [
      "INFO:porepy.models.contact_mechanics_biot_model:Done. Elapsed time 121.64528608322144\n",
      "INFO:porepy.models.contact_mechanics_biot_model:||b-Ax|| = 0.2440242210887888\n",
      "INFO:porepy.models.contact_mechanics_biot_model:||b-Ax|| / ||b|| = 6.524683433745364e-09\n",
      "INFO:GTS.isc_modelling.contact_mechanics_biot:diff iter u = 2.947394e+13\n",
      "INFO:GTS.isc_modelling.contact_mechanics_biot:diff init u = 3.919090e+13\n",
      "INFO:GTS.isc_modelling.contact_mechanics_biot:diff iter contact = 3.600315e+35\n",
      "INFO:GTS.isc_modelling.contact_mechanics_biot:diff init contact = 3.113799e+35\n",
      "INFO:GTS.isc_modelling.contact_mechanics_biot:diff iter scalar = 5.267666e+32\n"
     ]
    },
    {
     "name": "stdout",
     "output_type": "stream",
     "text": [
      "inverse computed\n",
      "Solved in 121.60846781730652 s, with 121.49289727210999 for constant part, whereof 120.61786103248596 s were the inversion of the SC.\n"
     ]
    },
    {
     "name": "stderr",
     "output_type": "stream",
     "text": [
      "INFO:GTS.isc_modelling.contact_mechanics_biot:diff init scalar = 4.394748e+32\n",
      "INFO:GTS.isc_modelling.contact_mechanics_biot:Error in contact force is 1.156245e+00\n",
      "INFO:GTS.isc_modelling.contact_mechanics_biot:Error in matrix displacement is 7.520608e-01\n",
      "INFO:GTS.isc_modelling.contact_mechanics_biot:Error in pressure is 1.198627e+00.\n",
      "INFO:porepy.numerics.nonlinear.nonlinear_solvers:Newton iteration number 21 of 40\n",
      "INFO:porepy.models.contact_mechanics_biot_model:Max element in A 2.26e+09\n",
      "INFO:porepy.models.contact_mechanics_biot_model:Max 2.83e+09 and min 1.00e+00 A sum.\n",
      "INFO:porepy.models.contact_mechanics_biot_model:Solve Ax=b using schur_complement\n"
     ]
    },
    {
     "name": "stdout",
     "output_type": "stream",
     "text": [
      "Attempting to compute inverse: M\n"
     ]
    },
    {
     "name": "stderr",
     "output_type": "stream",
     "text": [
      "INFO:porepy.models.contact_mechanics_biot_model:Done. Elapsed time 119.86754989624023\n",
      "INFO:porepy.models.contact_mechanics_biot_model:||b-Ax|| = 0.4766775293220275\n"
     ]
    },
    {
     "name": "stdout",
     "output_type": "stream",
     "text": [
      "inverse computed\n",
      "Solved in 119.8274073600769 s, with 119.71862244606018 for constant part, whereof 118.82483911514282 s were the inversion of the SC.\n"
     ]
    },
    {
     "name": "stderr",
     "output_type": "stream",
     "text": [
      "INFO:porepy.models.contact_mechanics_biot_model:||b-Ax|| / ||b|| = 1.1831099299401694e-08\n",
      "INFO:GTS.isc_modelling.contact_mechanics_biot:diff iter u = 6.055115e+13\n",
      "INFO:GTS.isc_modelling.contact_mechanics_biot:diff init u = 2.601202e+13\n",
      "INFO:GTS.isc_modelling.contact_mechanics_biot:diff iter contact = 3.398026e+35\n",
      "INFO:GTS.isc_modelling.contact_mechanics_biot:diff init contact = 3.144122e+34\n",
      "INFO:GTS.isc_modelling.contact_mechanics_biot:diff iter scalar = 7.688452e+32\n",
      "INFO:GTS.isc_modelling.contact_mechanics_biot:diff init scalar = 3.429728e+32\n",
      "INFO:GTS.isc_modelling.contact_mechanics_biot:Error in contact force is 1.080755e+01\n",
      "INFO:GTS.isc_modelling.contact_mechanics_biot:Error in matrix displacement is 2.327814e+00\n",
      "INFO:GTS.isc_modelling.contact_mechanics_biot:Error in pressure is 2.241709e+00.\n",
      "INFO:porepy.numerics.nonlinear.nonlinear_solvers:Newton iteration number 22 of 40\n",
      "INFO:porepy.models.contact_mechanics_biot_model:Max element in A 2.26e+09\n",
      "INFO:porepy.models.contact_mechanics_biot_model:Max 2.83e+09 and min 1.00e+00 A sum.\n",
      "INFO:porepy.models.contact_mechanics_biot_model:Solve Ax=b using schur_complement\n"
     ]
    },
    {
     "name": "stdout",
     "output_type": "stream",
     "text": [
      "Attempting to compute inverse: M\n",
      "inverse computed\n",
      "Solved in 119.83352065086365 s, with 119.6825623512268 for constant part, whereof 118.7967209815979 s were the inversion of the SC.\n"
     ]
    },
    {
     "name": "stderr",
     "output_type": "stream",
     "text": [
      "INFO:porepy.models.contact_mechanics_biot_model:Done. Elapsed time 119.87457728385925\n",
      "INFO:porepy.models.contact_mechanics_biot_model:||b-Ax|| = 0.3001711337237492\n",
      "INFO:porepy.models.contact_mechanics_biot_model:||b-Ax|| / ||b|| = 5.10999506391378e-09\n",
      "INFO:GTS.isc_modelling.contact_mechanics_biot:diff iter u = 3.413910e+13\n",
      "INFO:GTS.isc_modelling.contact_mechanics_biot:diff init u = 1.397172e+13\n",
      "INFO:GTS.isc_modelling.contact_mechanics_biot:diff iter contact = 5.785982e+34\n",
      "INFO:GTS.isc_modelling.contact_mechanics_biot:diff init contact = 2.864250e+34\n",
      "INFO:GTS.isc_modelling.contact_mechanics_biot:diff iter scalar = 4.275374e+32\n",
      "INFO:GTS.isc_modelling.contact_mechanics_biot:diff init scalar = 2.866494e+32\n",
      "INFO:GTS.isc_modelling.contact_mechanics_biot:Error in contact force is 2.020069e+00\n",
      "INFO:GTS.isc_modelling.contact_mechanics_biot:Error in matrix displacement is 2.443443e+00\n",
      "INFO:GTS.isc_modelling.contact_mechanics_biot:Error in pressure is 1.491499e+00.\n",
      "INFO:porepy.numerics.nonlinear.nonlinear_solvers:Newton iteration number 23 of 40\n",
      "INFO:porepy.models.contact_mechanics_biot_model:Max element in A 2.26e+09\n",
      "INFO:porepy.models.contact_mechanics_biot_model:Max 2.83e+09 and min 1.00e+00 A sum.\n",
      "INFO:porepy.models.contact_mechanics_biot_model:Solve Ax=b using schur_complement\n"
     ]
    },
    {
     "name": "stdout",
     "output_type": "stream",
     "text": [
      "Attempting to compute inverse: M\n"
     ]
    },
    {
     "name": "stderr",
     "output_type": "stream",
     "text": [
      "INFO:porepy.models.contact_mechanics_biot_model:Done. Elapsed time 116.45942044258118\n"
     ]
    },
    {
     "name": "stdout",
     "output_type": "stream",
     "text": [
      "inverse computed\n",
      "Solved in 116.41917276382446 s, with 116.30689096450806 for constant part, whereof 115.43004846572876 s were the inversion of the SC.\n"
     ]
    },
    {
     "name": "stderr",
     "output_type": "stream",
     "text": [
      "INFO:porepy.models.contact_mechanics_biot_model:||b-Ax|| = 0.3435575915327907\n",
      "INFO:porepy.models.contact_mechanics_biot_model:||b-Ax|| / ||b|| = 9.53282400831455e-09\n",
      "INFO:GTS.isc_modelling.contact_mechanics_biot:diff iter u = 8.879618e+13\n",
      "INFO:GTS.isc_modelling.contact_mechanics_biot:diff init u = 1.009044e+14\n",
      "INFO:GTS.isc_modelling.contact_mechanics_biot:diff iter contact = 3.094295e+35\n",
      "INFO:GTS.isc_modelling.contact_mechanics_biot:diff init contact = 2.816763e+35\n",
      "INFO:GTS.isc_modelling.contact_mechanics_biot:diff iter scalar = 2.028731e+33\n",
      "INFO:GTS.isc_modelling.contact_mechanics_biot:diff init scalar = 1.857033e+33\n",
      "INFO:GTS.isc_modelling.contact_mechanics_biot:Error in contact force is 1.098529e+00\n",
      "INFO:GTS.isc_modelling.contact_mechanics_biot:Error in matrix displacement is 8.800031e-01\n",
      "INFO:GTS.isc_modelling.contact_mechanics_biot:Error in pressure is 1.092458e+00.\n",
      "INFO:porepy.numerics.nonlinear.nonlinear_solvers:Newton iteration number 24 of 40\n",
      "INFO:porepy.models.contact_mechanics_biot_model:Max element in A 2.26e+09\n",
      "INFO:porepy.models.contact_mechanics_biot_model:Max 2.83e+09 and min 1.00e+00 A sum.\n",
      "INFO:porepy.models.contact_mechanics_biot_model:Solve Ax=b using schur_complement\n"
     ]
    },
    {
     "name": "stdout",
     "output_type": "stream",
     "text": [
      "Attempting to compute inverse: M\n"
     ]
    },
    {
     "name": "stderr",
     "output_type": "stream",
     "text": [
      "INFO:porepy.models.contact_mechanics_biot_model:Done. Elapsed time 123.91029787063599\n"
     ]
    },
    {
     "name": "stdout",
     "output_type": "stream",
     "text": [
      "inverse computed\n",
      "Solved in 123.8734622001648 s, with 123.75957202911377 for constant part, whereof 122.87108945846558 s were the inversion of the SC.\n"
     ]
    },
    {
     "name": "stderr",
     "output_type": "stream",
     "text": [
      "INFO:porepy.models.contact_mechanics_biot_model:||b-Ax|| = 0.18106330198003182\n",
      "INFO:porepy.models.contact_mechanics_biot_model:||b-Ax|| / ||b|| = 2.21450206618361e-09\n",
      "INFO:GTS.isc_modelling.contact_mechanics_biot:diff iter u = 1.109968e+14\n",
      "INFO:GTS.isc_modelling.contact_mechanics_biot:diff init u = 1.665862e+13\n",
      "INFO:GTS.isc_modelling.contact_mechanics_biot:diff iter contact = 3.877275e+35\n",
      "INFO:GTS.isc_modelling.contact_mechanics_biot:diff init contact = 1.091496e+35\n",
      "INFO:GTS.isc_modelling.contact_mechanics_biot:diff iter scalar = 2.100821e+33\n",
      "INFO:GTS.isc_modelling.contact_mechanics_biot:diff init scalar = 2.923114e+32\n",
      "INFO:GTS.isc_modelling.contact_mechanics_biot:Error in contact force is 3.552257e+00\n",
      "INFO:GTS.isc_modelling.contact_mechanics_biot:Error in matrix displacement is 6.663026e+00\n",
      "INFO:GTS.isc_modelling.contact_mechanics_biot:Error in pressure is 7.186929e+00.\n",
      "INFO:porepy.numerics.nonlinear.nonlinear_solvers:Newton iteration number 25 of 40\n",
      "INFO:porepy.models.contact_mechanics_biot_model:Max element in A 2.26e+09\n",
      "INFO:porepy.models.contact_mechanics_biot_model:Max 2.83e+09 and min 1.00e+00 A sum.\n",
      "INFO:porepy.models.contact_mechanics_biot_model:Solve Ax=b using schur_complement\n"
     ]
    },
    {
     "name": "stdout",
     "output_type": "stream",
     "text": [
      "Attempting to compute inverse: M\n"
     ]
    },
    {
     "name": "stderr",
     "output_type": "stream",
     "text": [
      "INFO:porepy.models.contact_mechanics_biot_model:Done. Elapsed time 118.28936672210693\n",
      "INFO:porepy.models.contact_mechanics_biot_model:||b-Ax|| = 0.24524836894748236\n",
      "INFO:porepy.models.contact_mechanics_biot_model:||b-Ax|| / ||b|| = 5.9401353704010465e-09\n"
     ]
    },
    {
     "name": "stdout",
     "output_type": "stream",
     "text": [
      "inverse computed\n",
      "Solved in 118.2476110458374 s, with 118.11924767494202 for constant part, whereof 117.23381996154785 s were the inversion of the SC.\n"
     ]
    },
    {
     "name": "stderr",
     "output_type": "stream",
     "text": [
      "INFO:GTS.isc_modelling.contact_mechanics_biot:diff iter u = 1.333106e+13\n",
      "INFO:GTS.isc_modelling.contact_mechanics_biot:diff init u = 8.565405e+12\n",
      "INFO:GTS.isc_modelling.contact_mechanics_biot:diff iter contact = 1.460821e+35\n",
      "INFO:GTS.isc_modelling.contact_mechanics_biot:diff init contact = 3.806021e+34\n",
      "INFO:GTS.isc_modelling.contact_mechanics_biot:diff iter scalar = 2.981152e+32\n",
      "INFO:GTS.isc_modelling.contact_mechanics_biot:diff init scalar = 1.211641e+32\n",
      "INFO:GTS.isc_modelling.contact_mechanics_biot:Error in contact force is 3.838185e+00\n",
      "INFO:GTS.isc_modelling.contact_mechanics_biot:Error in matrix displacement is 1.556384e+00\n",
      "INFO:GTS.isc_modelling.contact_mechanics_biot:Error in pressure is 2.460426e+00.\n",
      "INFO:porepy.numerics.nonlinear.nonlinear_solvers:Newton iteration number 26 of 40\n",
      "INFO:porepy.models.contact_mechanics_biot_model:Max element in A 2.26e+09\n",
      "INFO:porepy.models.contact_mechanics_biot_model:Max 2.83e+09 and min 1.00e+00 A sum.\n",
      "INFO:porepy.models.contact_mechanics_biot_model:Solve Ax=b using schur_complement\n"
     ]
    },
    {
     "name": "stdout",
     "output_type": "stream",
     "text": [
      "Attempting to compute inverse: M\n"
     ]
    },
    {
     "name": "stderr",
     "output_type": "stream",
     "text": [
      "INFO:porepy.models.contact_mechanics_biot_model:Done. Elapsed time 118.05014634132385\n",
      "INFO:porepy.models.contact_mechanics_biot_model:||b-Ax|| = 0.06635548977254575\n"
     ]
    },
    {
     "name": "stdout",
     "output_type": "stream",
     "text": [
      "inverse computed\n",
      "Solved in 118.01312589645386 s, with 117.90443539619446 for constant part, whereof 117.05271816253662 s were the inversion of the SC.\n"
     ]
    },
    {
     "name": "stderr",
     "output_type": "stream",
     "text": [
      "INFO:porepy.models.contact_mechanics_biot_model:||b-Ax|| / ||b|| = 5.2471529004507e-09\n",
      "INFO:GTS.isc_modelling.contact_mechanics_biot:diff iter u = 7.054663e+12\n",
      "INFO:GTS.isc_modelling.contact_mechanics_biot:diff init u = 5.024375e+11\n",
      "INFO:GTS.isc_modelling.contact_mechanics_biot:diff iter contact = 3.944268e+34\n",
      "INFO:GTS.isc_modelling.contact_mechanics_biot:diff init contact = 1.677845e+33\n",
      "INFO:GTS.isc_modelling.contact_mechanics_biot:diff iter scalar = 1.271418e+32\n",
      "INFO:GTS.isc_modelling.contact_mechanics_biot:diff init scalar = 8.225326e+30\n",
      "INFO:GTS.isc_modelling.contact_mechanics_biot:Error in contact force is 2.350794e+01\n",
      "INFO:GTS.isc_modelling.contact_mechanics_biot:Error in matrix displacement is 1.404088e+01\n",
      "INFO:GTS.isc_modelling.contact_mechanics_biot:Error in pressure is 1.545735e+01.\n",
      "INFO:porepy.numerics.nonlinear.nonlinear_solvers:Newton iteration number 27 of 40\n",
      "INFO:porepy.models.contact_mechanics_biot_model:Max element in A 2.26e+09\n",
      "INFO:porepy.models.contact_mechanics_biot_model:Max 2.83e+09 and min 1.00e+00 A sum.\n",
      "INFO:porepy.models.contact_mechanics_biot_model:Solve Ax=b using schur_complement\n"
     ]
    },
    {
     "name": "stdout",
     "output_type": "stream",
     "text": [
      "Attempting to compute inverse: M\n"
     ]
    },
    {
     "name": "stderr",
     "output_type": "stream",
     "text": [
      "INFO:porepy.models.contact_mechanics_biot_model:Done. Elapsed time 122.33322596549988\n"
     ]
    },
    {
     "name": "stdout",
     "output_type": "stream",
     "text": [
      "inverse computed\n",
      "Solved in 122.29142093658447 s, with 122.18040180206299 for constant part, whereof 121.29808688163757 s were the inversion of the SC.\n"
     ]
    },
    {
     "name": "stderr",
     "output_type": "stream",
     "text": [
      "INFO:porepy.models.contact_mechanics_biot_model:||b-Ax|| = 0.20655225826627022\n",
      "INFO:porepy.models.contact_mechanics_biot_model:||b-Ax|| / ||b|| = 4.3818403446131706e-08\n",
      "INFO:GTS.isc_modelling.contact_mechanics_biot:diff iter u = 4.546219e+12\n",
      "INFO:GTS.isc_modelling.contact_mechanics_biot:diff init u = 4.288694e+12\n",
      "INFO:GTS.isc_modelling.contact_mechanics_biot:diff iter contact = 1.663362e+34\n",
      "INFO:GTS.isc_modelling.contact_mechanics_biot:diff init contact = 1.500231e+34\n",
      "INFO:GTS.isc_modelling.contact_mechanics_biot:diff iter scalar = 5.440185e+31\n",
      "INFO:GTS.isc_modelling.contact_mechanics_biot:diff init scalar = 4.797961e+31\n",
      "INFO:GTS.isc_modelling.contact_mechanics_biot:Error in contact force is 1.108737e+00\n",
      "INFO:GTS.isc_modelling.contact_mechanics_biot:Error in matrix displacement is 1.060047e+00\n",
      "INFO:GTS.isc_modelling.contact_mechanics_biot:Error in pressure is 1.133854e+00.\n",
      "INFO:porepy.numerics.nonlinear.nonlinear_solvers:Newton iteration number 28 of 40\n",
      "INFO:porepy.models.contact_mechanics_biot_model:Max element in A 2.26e+09\n",
      "INFO:porepy.models.contact_mechanics_biot_model:Max 2.83e+09 and min 1.00e+00 A sum.\n",
      "INFO:porepy.models.contact_mechanics_biot_model:Solve Ax=b using schur_complement\n"
     ]
    },
    {
     "name": "stdout",
     "output_type": "stream",
     "text": [
      "Attempting to compute inverse: M\n"
     ]
    },
    {
     "name": "stderr",
     "output_type": "stream",
     "text": [
      "INFO:porepy.models.contact_mechanics_biot_model:Done. Elapsed time 113.1731641292572\n"
     ]
    },
    {
     "name": "stdout",
     "output_type": "stream",
     "text": [
      "inverse computed\n",
      "Solved in 113.13232278823853 s, with 113.02164959907532 for constant part, whereof 112.15627646446228 s were the inversion of the SC.\n"
     ]
    },
    {
     "name": "stderr",
     "output_type": "stream",
     "text": [
      "INFO:porepy.models.contact_mechanics_biot_model:||b-Ax|| = 0.1050586127019024\n",
      "INFO:porepy.models.contact_mechanics_biot_model:||b-Ax|| / ||b|| = 5.678476073730947e-09\n",
      "INFO:GTS.isc_modelling.contact_mechanics_biot:diff iter u = 7.522368e+12\n",
      "INFO:GTS.isc_modelling.contact_mechanics_biot:diff init u = 1.998176e+12\n",
      "INFO:GTS.isc_modelling.contact_mechanics_biot:diff iter contact = 2.494812e+34\n",
      "INFO:GTS.isc_modelling.contact_mechanics_biot:diff init contact = 1.017472e+34\n",
      "INFO:GTS.isc_modelling.contact_mechanics_biot:diff iter scalar = 8.022841e+31\n",
      "INFO:GTS.isc_modelling.contact_mechanics_biot:diff init scalar = 4.143074e+31\n",
      "INFO:GTS.isc_modelling.contact_mechanics_biot:Error in contact force is 2.451971e+00\n",
      "INFO:GTS.isc_modelling.contact_mechanics_biot:Error in matrix displacement is 3.764616e+00\n",
      "INFO:GTS.isc_modelling.contact_mechanics_biot:Error in pressure is 1.936446e+00.\n",
      "INFO:porepy.numerics.nonlinear.nonlinear_solvers:Newton iteration number 29 of 40\n",
      "INFO:porepy.models.contact_mechanics_biot_model:Max element in A 2.26e+09\n",
      "INFO:porepy.models.contact_mechanics_biot_model:Max 2.83e+09 and min 1.00e+00 A sum.\n",
      "INFO:porepy.models.contact_mechanics_biot_model:Solve Ax=b using schur_complement\n"
     ]
    },
    {
     "name": "stdout",
     "output_type": "stream",
     "text": [
      "Attempting to compute inverse: M\n"
     ]
    },
    {
     "name": "stderr",
     "output_type": "stream",
     "text": [
      "INFO:porepy.models.contact_mechanics_biot_model:Done. Elapsed time 117.83558249473572\n",
      "INFO:porepy.models.contact_mechanics_biot_model:||b-Ax|| = 0.021080404110100853\n"
     ]
    },
    {
     "name": "stdout",
     "output_type": "stream",
     "text": [
      "inverse computed\n",
      "Solved in 117.79859828948975 s, with 117.68851065635681 for constant part, whereof 116.81178879737854 s were the inversion of the SC.\n"
     ]
    },
    {
     "name": "stderr",
     "output_type": "stream",
     "text": [
      "INFO:porepy.models.contact_mechanics_biot_model:||b-Ax|| / ||b|| = 2.2793969044969e-09\n",
      "INFO:GTS.isc_modelling.contact_mechanics_biot:diff iter u = 4.165122e+12\n",
      "INFO:GTS.isc_modelling.contact_mechanics_biot:diff init u = 2.478867e+12\n",
      "INFO:GTS.isc_modelling.contact_mechanics_biot:diff iter contact = 2.325531e+34\n",
      "INFO:GTS.isc_modelling.contact_mechanics_biot:diff init contact = 1.356388e+34\n",
      "INFO:GTS.isc_modelling.contact_mechanics_biot:diff iter scalar = 7.452331e+31\n",
      "INFO:GTS.isc_modelling.contact_mechanics_biot:diff init scalar = 3.309578e+31\n",
      "INFO:GTS.isc_modelling.contact_mechanics_biot:Error in contact force is 1.714503e+00\n",
      "INFO:GTS.isc_modelling.contact_mechanics_biot:Error in matrix displacement is 1.680252e+00\n",
      "INFO:GTS.isc_modelling.contact_mechanics_biot:Error in pressure is 2.251747e+00.\n",
      "INFO:porepy.numerics.nonlinear.nonlinear_solvers:Newton iteration number 30 of 40\n",
      "INFO:porepy.models.contact_mechanics_biot_model:Max element in A 2.26e+09\n",
      "INFO:porepy.models.contact_mechanics_biot_model:Max 2.83e+09 and min 1.00e+00 A sum.\n",
      "INFO:porepy.models.contact_mechanics_biot_model:Solve Ax=b using schur_complement\n"
     ]
    },
    {
     "name": "stdout",
     "output_type": "stream",
     "text": [
      "Attempting to compute inverse: M\n"
     ]
    },
    {
     "name": "stderr",
     "output_type": "stream",
     "text": [
      "INFO:porepy.models.contact_mechanics_biot_model:Done. Elapsed time 119.52668070793152\n",
      "INFO:porepy.models.contact_mechanics_biot_model:||b-Ax|| = 0.0739818875688514\n",
      "INFO:porepy.models.contact_mechanics_biot_model:||b-Ax|| / ||b|| = 7.61562821619951e-09\n"
     ]
    },
    {
     "name": "stdout",
     "output_type": "stream",
     "text": [
      "inverse computed\n",
      "Solved in 119.48635768890381 s, with 119.37281203269958 for constant part, whereof 118.51886534690857 s were the inversion of the SC.\n"
     ]
    },
    {
     "name": "stderr",
     "output_type": "stream",
     "text": [
      "INFO:GTS.isc_modelling.contact_mechanics_biot:diff iter u = 3.503560e+12\n",
      "INFO:GTS.isc_modelling.contact_mechanics_biot:diff init u = 7.617545e+11\n",
      "INFO:GTS.isc_modelling.contact_mechanics_biot:diff iter contact = 1.678878e+34\n",
      "INFO:GTS.isc_modelling.contact_mechanics_biot:diff init contact = 3.423448e+33\n",
      "INFO:GTS.isc_modelling.contact_mechanics_biot:diff iter scalar = 3.975480e+31\n",
      "INFO:GTS.isc_modelling.contact_mechanics_biot:diff init scalar = 9.345985e+30\n",
      "INFO:GTS.isc_modelling.contact_mechanics_biot:Error in contact force is 4.904055e+00\n",
      "INFO:GTS.isc_modelling.contact_mechanics_biot:Error in matrix displacement is 4.599330e+00\n",
      "INFO:GTS.isc_modelling.contact_mechanics_biot:Error in pressure is 4.253677e+00.\n",
      "INFO:porepy.numerics.nonlinear.nonlinear_solvers:Newton iteration number 31 of 40\n",
      "INFO:porepy.models.contact_mechanics_biot_model:Max element in A 2.26e+09\n",
      "INFO:porepy.models.contact_mechanics_biot_model:Max 2.83e+09 and min 1.00e+00 A sum.\n",
      "INFO:porepy.models.contact_mechanics_biot_model:Solve Ax=b using schur_complement\n"
     ]
    },
    {
     "name": "stdout",
     "output_type": "stream",
     "text": [
      "Attempting to compute inverse: M\n"
     ]
    },
    {
     "name": "stderr",
     "output_type": "stream",
     "text": [
      "INFO:porepy.models.contact_mechanics_biot_model:Done. Elapsed time 116.04614734649658\n"
     ]
    },
    {
     "name": "stdout",
     "output_type": "stream",
     "text": [
      "inverse computed\n",
      "Solved in 115.99845266342163 s, with 115.89914441108704 for constant part, whereof 115.04689264297485 s were the inversion of the SC.\n"
     ]
    },
    {
     "name": "stderr",
     "output_type": "stream",
     "text": [
      "INFO:porepy.models.contact_mechanics_biot_model:||b-Ax|| = 0.8686001304032359\n",
      "INFO:porepy.models.contact_mechanics_biot_model:||b-Ax|| / ||b|| = 1.8261469733649115e-07\n",
      "INFO:GTS.isc_modelling.contact_mechanics_biot:diff iter u = 6.436906e+13\n",
      "INFO:GTS.isc_modelling.contact_mechanics_biot:diff init u = 6.211033e+13\n",
      "INFO:GTS.isc_modelling.contact_mechanics_biot:diff iter contact = 2.675922e+35\n",
      "INFO:GTS.isc_modelling.contact_mechanics_biot:diff init contact = 2.642629e+35\n",
      "INFO:GTS.isc_modelling.contact_mechanics_biot:diff iter scalar = 9.434993e+32\n",
      "INFO:GTS.isc_modelling.contact_mechanics_biot:diff init scalar = 9.072750e+32\n",
      "INFO:GTS.isc_modelling.contact_mechanics_biot:Error in contact force is 1.012598e+00\n",
      "INFO:GTS.isc_modelling.contact_mechanics_biot:Error in matrix displacement is 1.036366e+00\n",
      "INFO:GTS.isc_modelling.contact_mechanics_biot:Error in pressure is 1.039926e+00.\n",
      "INFO:porepy.numerics.nonlinear.nonlinear_solvers:Newton iteration number 32 of 40\n",
      "INFO:porepy.models.contact_mechanics_biot_model:Max element in A 2.26e+09\n",
      "INFO:porepy.models.contact_mechanics_biot_model:Max 2.83e+09 and min 1.00e+00 A sum.\n",
      "INFO:porepy.models.contact_mechanics_biot_model:Solve Ax=b using schur_complement\n"
     ]
    },
    {
     "name": "stdout",
     "output_type": "stream",
     "text": [
      "Attempting to compute inverse: M\n"
     ]
    },
    {
     "name": "stderr",
     "output_type": "stream",
     "text": [
      "INFO:porepy.models.contact_mechanics_biot_model:Done. Elapsed time 116.27431058883667\n",
      "INFO:porepy.models.contact_mechanics_biot_model:||b-Ax|| = 2.2296568347917227\n"
     ]
    },
    {
     "name": "stdout",
     "output_type": "stream",
     "text": [
      "inverse computed\n",
      "Solved in 116.23644971847534 s, with 116.09733462333679 for constant part, whereof 115.2338240146637 s were the inversion of the SC.\n"
     ]
    },
    {
     "name": "stderr",
     "output_type": "stream",
     "text": [
      "INFO:porepy.models.contact_mechanics_biot_model:||b-Ax|| / ||b|| = 5.5856222133381615e-08\n",
      "INFO:GTS.isc_modelling.contact_mechanics_biot:diff iter u = 3.671592e+14\n",
      "INFO:GTS.isc_modelling.contact_mechanics_biot:diff init u = 3.280834e+14\n",
      "INFO:GTS.isc_modelling.contact_mechanics_biot:diff iter contact = 2.874552e+36\n",
      "INFO:GTS.isc_modelling.contact_mechanics_biot:diff init contact = 2.617150e+36\n",
      "INFO:GTS.isc_modelling.contact_mechanics_biot:diff iter scalar = 7.030746e+33\n",
      "INFO:GTS.isc_modelling.contact_mechanics_biot:diff init scalar = 5.642844e+33\n",
      "INFO:GTS.isc_modelling.contact_mechanics_biot:Error in contact force is 1.098352e+00\n",
      "INFO:GTS.isc_modelling.contact_mechanics_biot:Error in matrix displacement is 1.119103e+00\n",
      "INFO:GTS.isc_modelling.contact_mechanics_biot:Error in pressure is 1.245958e+00.\n",
      "INFO:porepy.numerics.nonlinear.nonlinear_solvers:Newton iteration number 33 of 40\n",
      "INFO:porepy.models.contact_mechanics_biot_model:Max element in A 2.26e+09\n",
      "INFO:porepy.models.contact_mechanics_biot_model:Max 2.83e+09 and min 1.00e+00 A sum.\n",
      "INFO:porepy.models.contact_mechanics_biot_model:Solve Ax=b using schur_complement\n"
     ]
    },
    {
     "name": "stdout",
     "output_type": "stream",
     "text": [
      "Attempting to compute inverse: M\n"
     ]
    },
    {
     "name": "stderr",
     "output_type": "stream",
     "text": [
      "INFO:porepy.models.contact_mechanics_biot_model:Done. Elapsed time 115.76275396347046\n",
      "INFO:porepy.models.contact_mechanics_biot_model:||b-Ax|| = 0.256150988722363\n"
     ]
    },
    {
     "name": "stdout",
     "output_type": "stream",
     "text": [
      "inverse computed\n",
      "Solved in 115.72558832168579 s, with 115.61055040359497 for constant part, whereof 114.77626967430115 s were the inversion of the SC.\n"
     ]
    },
    {
     "name": "stderr",
     "output_type": "stream",
     "text": [
      "INFO:porepy.models.contact_mechanics_biot_model:||b-Ax|| / ||b|| = 1.6176850720586114e-09\n",
      "INFO:GTS.isc_modelling.contact_mechanics_biot:diff iter u = 3.354824e+14\n",
      "INFO:GTS.isc_modelling.contact_mechanics_biot:diff init u = 2.624943e+14\n",
      "INFO:GTS.isc_modelling.contact_mechanics_biot:diff iter contact = 3.026264e+36\n",
      "INFO:GTS.isc_modelling.contact_mechanics_biot:diff init contact = 4.663620e+35\n",
      "INFO:GTS.isc_modelling.contact_mechanics_biot:diff iter scalar = 6.274726e+33\n",
      "INFO:GTS.isc_modelling.contact_mechanics_biot:diff init scalar = 1.141383e+33\n",
      "INFO:GTS.isc_modelling.contact_mechanics_biot:Error in contact force is 6.489089e+00\n",
      "INFO:GTS.isc_modelling.contact_mechanics_biot:Error in matrix displacement is 1.278056e+00\n",
      "INFO:GTS.isc_modelling.contact_mechanics_biot:Error in pressure is 5.497478e+00.\n",
      "INFO:porepy.numerics.nonlinear.nonlinear_solvers:Newton iteration number 34 of 40\n",
      "INFO:porepy.models.contact_mechanics_biot_model:Max element in A 2.26e+09\n",
      "INFO:porepy.models.contact_mechanics_biot_model:Max 2.83e+09 and min 1.00e+00 A sum.\n",
      "INFO:porepy.models.contact_mechanics_biot_model:Solve Ax=b using schur_complement\n"
     ]
    },
    {
     "name": "stdout",
     "output_type": "stream",
     "text": [
      "Attempting to compute inverse: M\n"
     ]
    },
    {
     "name": "stderr",
     "output_type": "stream",
     "text": [
      "INFO:porepy.models.contact_mechanics_biot_model:Done. Elapsed time 111.2722225189209\n",
      "INFO:porepy.models.contact_mechanics_biot_model:||b-Ax|| = 3.411972590862429\n"
     ]
    },
    {
     "name": "stdout",
     "output_type": "stream",
     "text": [
      "inverse computed\n",
      "Solved in 111.23374319076538 s, with 111.10737013816833 for constant part, whereof 110.1862382888794 s were the inversion of the SC.\n"
     ]
    },
    {
     "name": "stderr",
     "output_type": "stream",
     "text": [
      "INFO:porepy.models.contact_mechanics_biot_model:||b-Ax|| / ||b|| = 2.226152818850838e-08\n",
      "INFO:GTS.isc_modelling.contact_mechanics_biot:diff iter u = 2.951415e+14\n",
      "INFO:GTS.isc_modelling.contact_mechanics_biot:diff init u = 1.652696e+14\n",
      "INFO:GTS.isc_modelling.contact_mechanics_biot:diff iter contact = 1.044804e+36\n",
      "INFO:GTS.isc_modelling.contact_mechanics_biot:diff init contact = 5.870698e+35\n",
      "INFO:GTS.isc_modelling.contact_mechanics_biot:diff iter scalar = 3.518186e+33\n",
      "INFO:GTS.isc_modelling.contact_mechanics_biot:diff init scalar = 2.688837e+33\n",
      "INFO:GTS.isc_modelling.contact_mechanics_biot:Error in contact force is 1.779693e+00\n",
      "INFO:GTS.isc_modelling.contact_mechanics_biot:Error in matrix displacement is 1.785818e+00\n",
      "INFO:GTS.isc_modelling.contact_mechanics_biot:Error in pressure is 1.308442e+00.\n",
      "INFO:porepy.numerics.nonlinear.nonlinear_solvers:Newton iteration number 35 of 40\n",
      "INFO:porepy.models.contact_mechanics_biot_model:Max element in A 2.26e+09\n",
      "INFO:porepy.models.contact_mechanics_biot_model:Max 2.83e+09 and min 1.00e+00 A sum.\n",
      "INFO:porepy.models.contact_mechanics_biot_model:Solve Ax=b using schur_complement\n"
     ]
    },
    {
     "name": "stdout",
     "output_type": "stream",
     "text": [
      "Attempting to compute inverse: M\n"
     ]
    },
    {
     "name": "stderr",
     "output_type": "stream",
     "text": [
      "INFO:porepy.models.contact_mechanics_biot_model:Done. Elapsed time 122.68214893341064\n"
     ]
    },
    {
     "name": "stdout",
     "output_type": "stream",
     "text": [
      "inverse computed\n",
      "Solved in 122.64586663246155 s, with 122.53039121627808 for constant part, whereof 121.69008255004883 s were the inversion of the SC.\n"
     ]
    },
    {
     "name": "stderr",
     "output_type": "stream",
     "text": [
      "INFO:porepy.models.contact_mechanics_biot_model:||b-Ax|| = 0.054298738825910464\n",
      "INFO:porepy.models.contact_mechanics_biot_model:||b-Ax|| / ||b|| = 7.27981432381097e-10\n",
      "INFO:GTS.isc_modelling.contact_mechanics_biot:diff iter u = 1.569612e+14\n",
      "INFO:GTS.isc_modelling.contact_mechanics_biot:diff init u = 2.473144e+13\n",
      "INFO:GTS.isc_modelling.contact_mechanics_biot:diff iter contact = 6.550233e+35\n",
      "INFO:GTS.isc_modelling.contact_mechanics_biot:diff init contact = 8.302746e+34\n",
      "INFO:GTS.isc_modelling.contact_mechanics_biot:diff iter scalar = 2.964926e+33\n",
      "INFO:GTS.isc_modelling.contact_mechanics_biot:diff init scalar = 3.872362e+32\n",
      "INFO:GTS.isc_modelling.contact_mechanics_biot:Error in contact force is 7.889237e+00\n",
      "INFO:GTS.isc_modelling.contact_mechanics_biot:Error in matrix displacement is 6.346626e+00\n",
      "INFO:GTS.isc_modelling.contact_mechanics_biot:Error in pressure is 7.656635e+00.\n",
      "INFO:porepy.numerics.nonlinear.nonlinear_solvers:Newton iteration number 36 of 40\n",
      "INFO:porepy.models.contact_mechanics_biot_model:Max element in A 2.26e+09\n",
      "INFO:porepy.models.contact_mechanics_biot_model:Max 2.83e+09 and min 1.00e+00 A sum.\n",
      "INFO:porepy.models.contact_mechanics_biot_model:Solve Ax=b using schur_complement\n"
     ]
    },
    {
     "name": "stdout",
     "output_type": "stream",
     "text": [
      "Attempting to compute inverse: M\n",
      "inverse computed\n",
      "Solved in 118.872967004776 s, with 118.76090908050537 for constant part, whereof 117.881019115448 s were the inversion of the SC.\n"
     ]
    },
    {
     "name": "stderr",
     "output_type": "stream",
     "text": [
      "INFO:porepy.models.contact_mechanics_biot_model:Done. Elapsed time 118.92091679573059\n",
      "INFO:porepy.models.contact_mechanics_biot_model:||b-Ax|| = 0.9408795903721069\n",
      "INFO:porepy.models.contact_mechanics_biot_model:||b-Ax|| / ||b|| = 2.3526400145743245e-08\n",
      "INFO:GTS.isc_modelling.contact_mechanics_biot:diff iter u = 6.034190e+14\n",
      "INFO:GTS.isc_modelling.contact_mechanics_biot:diff init u = 6.307875e+14\n",
      "INFO:GTS.isc_modelling.contact_mechanics_biot:diff iter contact = 6.048726e+36\n",
      "INFO:GTS.isc_modelling.contact_mechanics_biot:diff init contact = 5.968925e+36\n",
      "INFO:GTS.isc_modelling.contact_mechanics_biot:diff iter scalar = 1.463420e+34\n",
      "INFO:GTS.isc_modelling.contact_mechanics_biot:diff init scalar = 1.490909e+34\n",
      "INFO:GTS.isc_modelling.contact_mechanics_biot:Error in contact force is 1.013369e+00\n",
      "INFO:GTS.isc_modelling.contact_mechanics_biot:Error in matrix displacement is 9.566122e-01\n",
      "INFO:GTS.isc_modelling.contact_mechanics_biot:Error in pressure is 9.815621e-01.\n",
      "INFO:porepy.numerics.nonlinear.nonlinear_solvers:Newton iteration number 37 of 40\n",
      "INFO:porepy.models.contact_mechanics_biot_model:Max element in A 2.26e+09\n",
      "INFO:porepy.models.contact_mechanics_biot_model:Max 2.83e+09 and min 1.00e+00 A sum.\n",
      "INFO:porepy.models.contact_mechanics_biot_model:Solve Ax=b using schur_complement\n"
     ]
    },
    {
     "name": "stdout",
     "output_type": "stream",
     "text": [
      "Attempting to compute inverse: M\n"
     ]
    },
    {
     "name": "stderr",
     "output_type": "stream",
     "text": [
      "INFO:porepy.models.contact_mechanics_biot_model:Done. Elapsed time 114.60992312431335\n"
     ]
    },
    {
     "name": "stdout",
     "output_type": "stream",
     "text": [
      "inverse computed\n",
      "Solved in 114.57243013381958 s, with 114.45742774009705 for constant part, whereof 113.56213092803955 s were the inversion of the SC.\n"
     ]
    },
    {
     "name": "stderr",
     "output_type": "stream",
     "text": [
      "INFO:porepy.models.contact_mechanics_biot_model:||b-Ax|| = 1.3793440214897252\n",
      "INFO:porepy.models.contact_mechanics_biot_model:||b-Ax|| / ||b|| = 1.05623835879221e-08\n",
      "INFO:GTS.isc_modelling.contact_mechanics_biot:diff iter u = 1.190122e+16\n",
      "INFO:GTS.isc_modelling.contact_mechanics_biot:diff init u = 1.196063e+16\n",
      "INFO:GTS.isc_modelling.contact_mechanics_biot:diff iter contact = 2.146348e+37\n",
      "INFO:GTS.isc_modelling.contact_mechanics_biot:diff init contact = 1.554076e+37\n",
      "INFO:GTS.isc_modelling.contact_mechanics_biot:diff iter scalar = 3.138488e+35\n",
      "INFO:GTS.isc_modelling.contact_mechanics_biot:diff init scalar = 2.966157e+35\n",
      "INFO:GTS.isc_modelling.contact_mechanics_biot:Error in contact force is 1.381109e+00\n",
      "INFO:GTS.isc_modelling.contact_mechanics_biot:Error in matrix displacement is 9.950335e-01\n",
      "INFO:GTS.isc_modelling.contact_mechanics_biot:Error in pressure is 1.058099e+00.\n",
      "INFO:porepy.numerics.nonlinear.nonlinear_solvers:Newton iteration number 38 of 40\n",
      "INFO:porepy.models.contact_mechanics_biot_model:Max element in A 2.26e+09\n",
      "INFO:porepy.models.contact_mechanics_biot_model:Max 2.83e+09 and min 1.00e+00 A sum.\n",
      "INFO:porepy.models.contact_mechanics_biot_model:Solve Ax=b using schur_complement\n"
     ]
    },
    {
     "name": "stdout",
     "output_type": "stream",
     "text": [
      "Attempting to compute inverse: M\n"
     ]
    },
    {
     "name": "stderr",
     "output_type": "stream",
     "text": [
      "INFO:porepy.models.contact_mechanics_biot_model:Done. Elapsed time 112.00649666786194\n",
      "INFO:porepy.models.contact_mechanics_biot_model:||b-Ax|| = 3.227512215952909\n",
      "INFO:porepy.models.contact_mechanics_biot_model:||b-Ax|| / ||b|| = 2.098887679780803e-09\n",
      "INFO:GTS.isc_modelling.contact_mechanics_biot:diff iter u = 4.064632e+15\n",
      "INFO:GTS.isc_modelling.contact_mechanics_biot:diff init u = 5.123929e+15\n",
      "INFO:GTS.isc_modelling.contact_mechanics_biot:diff iter contact = 2.170557e+37\n",
      "INFO:GTS.isc_modelling.contact_mechanics_biot:diff init contact = 6.433953e+36\n",
      "INFO:GTS.isc_modelling.contact_mechanics_biot:diff iter scalar = 2.537424e+35\n",
      "INFO:GTS.isc_modelling.contact_mechanics_biot:diff init scalar = 9.962990e+34\n",
      "INFO:GTS.isc_modelling.contact_mechanics_biot:Error in contact force is 3.373598e+00\n",
      "INFO:GTS.isc_modelling.contact_mechanics_biot:Error in matrix displacement is 7.932648e-01\n",
      "INFO:GTS.isc_modelling.contact_mechanics_biot:Error in pressure is 2.546850e+00.\n",
      "INFO:porepy.numerics.nonlinear.nonlinear_solvers:Newton iteration number 39 of 40\n"
     ]
    },
    {
     "name": "stdout",
     "output_type": "stream",
     "text": [
      "inverse computed\n",
      "Solved in 111.9683244228363 s, with 111.86428022384644 for constant part, whereof 111.01505661010742 s were the inversion of the SC.\n"
     ]
    },
    {
     "name": "stderr",
     "output_type": "stream",
     "text": [
      "INFO:porepy.models.contact_mechanics_biot_model:Max element in A 2.26e+09\n",
      "INFO:porepy.models.contact_mechanics_biot_model:Max 2.83e+09 and min 1.00e+00 A sum.\n",
      "INFO:porepy.models.contact_mechanics_biot_model:Solve Ax=b using schur_complement\n"
     ]
    },
    {
     "name": "stdout",
     "output_type": "stream",
     "text": [
      "Attempting to compute inverse: M\n"
     ]
    },
    {
     "name": "stderr",
     "output_type": "stream",
     "text": [
      "INFO:porepy.models.contact_mechanics_biot_model:Done. Elapsed time 121.31820964813232\n",
      "INFO:porepy.models.contact_mechanics_biot_model:||b-Ax|| = 1.1280850536469176\n"
     ]
    },
    {
     "name": "stdout",
     "output_type": "stream",
     "text": [
      "inverse computed\n",
      "Solved in 121.27843832969666 s, with 121.163747549057 for constant part, whereof 120.29124426841736 s were the inversion of the SC.\n"
     ]
    },
    {
     "name": "stderr",
     "output_type": "stream",
     "text": [
      "INFO:porepy.models.contact_mechanics_biot_model:||b-Ax|| / ||b|| = 2.9796824952103486e-09\n",
      "INFO:GTS.isc_modelling.contact_mechanics_biot:diff iter u = 3.809886e+15\n",
      "INFO:GTS.isc_modelling.contact_mechanics_biot:diff init u = 2.082981e+14\n",
      "INFO:GTS.isc_modelling.contact_mechanics_biot:diff iter contact = 6.630803e+36\n",
      "INFO:GTS.isc_modelling.contact_mechanics_biot:diff init contact = 2.725924e+35\n",
      "INFO:GTS.isc_modelling.contact_mechanics_biot:diff iter scalar = 7.979471e+34\n",
      "INFO:GTS.isc_modelling.contact_mechanics_biot:diff init scalar = 7.110448e+33\n",
      "INFO:GTS.isc_modelling.contact_mechanics_biot:Error in contact force is 2.432497e+01\n",
      "INFO:GTS.isc_modelling.contact_mechanics_biot:Error in matrix displacement is 1.829055e+01\n",
      "INFO:GTS.isc_modelling.contact_mechanics_biot:Error in pressure is 1.122218e+01.\n",
      "INFO:porepy.numerics.nonlinear.nonlinear_solvers:Newton iteration number 40 of 40\n",
      "INFO:porepy.models.contact_mechanics_biot_model:Max element in A 2.26e+09\n",
      "INFO:porepy.models.contact_mechanics_biot_model:Max 2.83e+09 and min 1.00e+00 A sum.\n",
      "INFO:porepy.models.contact_mechanics_biot_model:Solve Ax=b using schur_complement\n"
     ]
    },
    {
     "name": "stdout",
     "output_type": "stream",
     "text": [
      "Attempting to compute inverse: M\n"
     ]
    },
    {
     "name": "stderr",
     "output_type": "stream",
     "text": [
      "INFO:porepy.models.contact_mechanics_biot_model:Done. Elapsed time 113.81967949867249\n",
      "INFO:porepy.models.contact_mechanics_biot_model:||b-Ax|| = 1.0693782118820618\n"
     ]
    },
    {
     "name": "stdout",
     "output_type": "stream",
     "text": [
      "inverse computed\n",
      "Solved in 113.7820348739624 s, with 113.67840051651001 for constant part, whereof 112.8006432056427 s were the inversion of the SC.\n"
     ]
    },
    {
     "name": "stderr",
     "output_type": "stream",
     "text": [
      "INFO:porepy.models.contact_mechanics_biot_model:||b-Ax|| / ||b|| = 9.29392160687936e-09\n",
      "INFO:GTS.isc_modelling.contact_mechanics_biot:diff iter u = 4.136959e+14\n",
      "INFO:GTS.isc_modelling.contact_mechanics_biot:diff init u = 1.522563e+14\n",
      "INFO:GTS.isc_modelling.contact_mechanics_biot:diff iter contact = 1.077742e+36\n",
      "INFO:GTS.isc_modelling.contact_mechanics_biot:diff init contact = 8.324725e+35\n",
      "INFO:GTS.isc_modelling.contact_mechanics_biot:diff iter scalar = 9.262696e+33\n",
      "INFO:GTS.isc_modelling.contact_mechanics_biot:diff init scalar = 1.986183e+33\n",
      "INFO:GTS.isc_modelling.contact_mechanics_biot:Error in contact force is 1.294628e+00\n",
      "INFO:GTS.isc_modelling.contact_mechanics_biot:Error in matrix displacement is 2.717102e+00\n",
      "INFO:GTS.isc_modelling.contact_mechanics_biot:Error in pressure is 4.663567e+00.\n",
      "ERROR:GTS.isc_modelling.contact_mechanics_biot:Newton iterations did not converge\n",
      "INFO:GTS.isc_modelling.contact_mechanics_biot:Calling after_newton_convergence(<GTS.isc_modelling.contact_mechanics_biot.ContactMechanicsBiotISC object at 0x7f2f2466a1d0>, array([-1.66195434e+05, -8.90818487e+05,  2.89937164e+05, ...,\n",
      "        5.76684100e+01, -2.54935812e+04, -5.76684113e+01]), [1.0, 0.31677066775558743, 0.41021499420083113, 0.9767157794942805, 4.463421890902754, 1.0435093623181897, 2.553162410986487, 3.298527110422429, 1.432412653568865, 1.0832977809044406, 0.622385881095996, 1.0638829377334296, 1.0540895428591108, 10.214034186943465, 1.4094863078689557, 5.5272140592170675, 2.858203056782097, 0.8365065695617858, 1.3020511768641325, 1.3516860559984107, 0.7520608082965811, 2.3278140392037376, 2.4434425636998016, 0.8800031077095631, 6.663026315962045, 1.5563841452571572, 14.04087705522957, 1.0600474653371015, 3.7646162262025262, 1.6802523609036513, 4.599329968056682, 1.0363664519312747, 1.1191034268511006, 1.2780556737877458, 1.7858182584841165, 6.346626203270726, 0.9566121738949032, 0.9950334715600261, 0.7932648084376479, 18.290545685107695, 2.7171016506309544], 41)\n",
      "INFO:GTS.isc_modelling.contact_mechanics_biot:Calling export_step(<GTS.isc_modelling.contact_mechanics_biot.ContactMechanicsBiotISC object at 0x7f2f2466a1d0>)\n",
      "INFO:GTS.isc_modelling.contact_mechanics_biot:'export_step' returned None\n",
      "INFO:GTS.isc_modelling.contact_mechanics_biot:'after_newton_convergence' returned None\n",
      "INFO:GTS.isc_modelling.contact_mechanics_biot:Solution exported to folder \n",
      " /home/haakon/mastersproject/src/mastersproject/GTS/isc_modelling/results/200421/full_model_tests/ivar_1\n",
      "INFO:porepy.models.run_models:\n",
      "Time step 3 at time 7.2e+03 of 7.2e+03 with time step 2.4e+03\n",
      "INFO:GTS.isc_modelling.contact_mechanics_biot:Calling before_newton_loop(<GTS.isc_modelling.contact_mechanics_biot.ContactMechanicsBiotISC object at 0x7f2f2466a1d0>)\n",
      "INFO:GTS.isc_modelling.contact_mechanics_biot:Finished 'before_newton_loop' in 0.0513 secs\n",
      "INFO:GTS.isc_modelling.contact_mechanics_biot:'before_newton_loop' returned None\n",
      "INFO:porepy.numerics.nonlinear.nonlinear_solvers:Newton iteration number 0 of 40\n",
      "INFO:porepy.models.contact_mechanics_biot_model:Max element in A 2.26e+09\n",
      "INFO:porepy.models.contact_mechanics_biot_model:Max 2.83e+09 and min 1.00e+00 A sum.\n",
      "INFO:porepy.models.contact_mechanics_biot_model:Solve Ax=b using schur_complement\n"
     ]
    },
    {
     "name": "stdout",
     "output_type": "stream",
     "text": [
      "Attempting to compute inverse: M\n"
     ]
    },
    {
     "name": "stderr",
     "output_type": "stream",
     "text": [
      "INFO:porepy.models.contact_mechanics_biot_model:Done. Elapsed time 113.33418393135071\n"
     ]
    },
    {
     "name": "stdout",
     "output_type": "stream",
     "text": [
      "inverse computed\n",
      "Solved in 113.29640889167786 s, with 113.18070316314697 for constant part, whereof 112.30771994590759 s were the inversion of the SC.\n"
     ]
    },
    {
     "name": "stderr",
     "output_type": "stream",
     "text": [
      "INFO:porepy.models.contact_mechanics_biot_model:||b-Ax|| = 1.4540183586674515\n",
      "INFO:porepy.models.contact_mechanics_biot_model:||b-Ax|| / ||b|| = 1.1361361740458782e-09\n",
      "INFO:GTS.isc_modelling.contact_mechanics_biot:diff iter u = 6.748635e+13\n",
      "INFO:GTS.isc_modelling.contact_mechanics_biot:diff init u = 6.748635e+13\n",
      "INFO:GTS.isc_modelling.contact_mechanics_biot:diff iter contact = 8.603189e+35\n",
      "INFO:GTS.isc_modelling.contact_mechanics_biot:diff init contact = 8.603189e+35\n",
      "INFO:GTS.isc_modelling.contact_mechanics_biot:diff iter scalar = 1.761584e+33\n",
      "INFO:GTS.isc_modelling.contact_mechanics_biot:diff init scalar = 1.761584e+33\n",
      "INFO:GTS.isc_modelling.contact_mechanics_biot:Error in contact force is 1.000000e+00\n",
      "INFO:GTS.isc_modelling.contact_mechanics_biot:Error in matrix displacement is 1.000000e+00\n",
      "INFO:GTS.isc_modelling.contact_mechanics_biot:Error in pressure is 1.000000e+00.\n",
      "INFO:porepy.numerics.nonlinear.nonlinear_solvers:Newton iteration number 1 of 40\n",
      "INFO:porepy.models.contact_mechanics_biot_model:Max element in A 2.26e+09\n",
      "INFO:porepy.models.contact_mechanics_biot_model:Max 2.83e+09 and min 1.00e+00 A sum.\n",
      "INFO:porepy.models.contact_mechanics_biot_model:Solve Ax=b using schur_complement\n"
     ]
    },
    {
     "name": "stdout",
     "output_type": "stream",
     "text": [
      "Attempting to compute inverse: M\n"
     ]
    },
    {
     "name": "stderr",
     "output_type": "stream",
     "text": [
      "INFO:porepy.models.contact_mechanics_biot_model:Done. Elapsed time 117.44821333885193\n",
      "INFO:porepy.models.contact_mechanics_biot_model:||b-Ax|| = 0.6774186576463199\n"
     ]
    },
    {
     "name": "stdout",
     "output_type": "stream",
     "text": [
      "inverse computed\n",
      "Solved in 117.40217661857605 s, with 117.2969605922699 for constant part, whereof 116.43739628791809 s were the inversion of the SC.\n"
     ]
    },
    {
     "name": "stderr",
     "output_type": "stream",
     "text": [
      "INFO:porepy.models.contact_mechanics_biot_model:||b-Ax|| / ||b|| = 5.401692984152245e-10\n",
      "INFO:GTS.isc_modelling.contact_mechanics_biot:diff iter u = 1.721084e+13\n",
      "INFO:GTS.isc_modelling.contact_mechanics_biot:diff init u = 1.149190e+14\n",
      "INFO:GTS.isc_modelling.contact_mechanics_biot:diff iter contact = 3.449189e+34\n",
      "INFO:GTS.isc_modelling.contact_mechanics_biot:diff init contact = 8.758333e+35\n",
      "INFO:GTS.isc_modelling.contact_mechanics_biot:diff iter scalar = 2.228395e+32\n",
      "INFO:GTS.isc_modelling.contact_mechanics_biot:diff init scalar = 1.861211e+33\n",
      "INFO:GTS.isc_modelling.contact_mechanics_biot:Error in contact force is 3.938180e-02\n",
      "INFO:GTS.isc_modelling.contact_mechanics_biot:Error in matrix displacement is 1.497649e-01\n",
      "INFO:GTS.isc_modelling.contact_mechanics_biot:Error in pressure is 1.197282e-01.\n",
      "INFO:porepy.numerics.nonlinear.nonlinear_solvers:Newton iteration number 2 of 40\n",
      "INFO:porepy.models.contact_mechanics_biot_model:Max element in A 2.26e+09\n",
      "INFO:porepy.models.contact_mechanics_biot_model:Max 2.83e+09 and min 1.00e+00 A sum.\n",
      "INFO:porepy.models.contact_mechanics_biot_model:Solve Ax=b using schur_complement\n"
     ]
    },
    {
     "name": "stdout",
     "output_type": "stream",
     "text": [
      "Attempting to compute inverse: M\n"
     ]
    },
    {
     "name": "stderr",
     "output_type": "stream",
     "text": [
      "INFO:porepy.models.contact_mechanics_biot_model:Done. Elapsed time 122.95619177818298\n",
      "INFO:porepy.models.contact_mechanics_biot_model:||b-Ax|| = 0.5792645777599106\n"
     ]
    },
    {
     "name": "stdout",
     "output_type": "stream",
     "text": [
      "inverse computed\n",
      "Solved in 122.91656684875488 s, with 122.79288220405579 for constant part, whereof 121.8731038570404 s were the inversion of the SC.\n"
     ]
    },
    {
     "name": "stderr",
     "output_type": "stream",
     "text": [
      "INFO:porepy.models.contact_mechanics_biot_model:||b-Ax|| / ||b|| = 4.664446597074878e-10\n",
      "INFO:GTS.isc_modelling.contact_mechanics_biot:diff iter u = 4.422748e+12\n",
      "INFO:GTS.isc_modelling.contact_mechanics_biot:diff init u = 1.233893e+14\n",
      "INFO:GTS.isc_modelling.contact_mechanics_biot:diff iter contact = 3.841650e+34\n",
      "INFO:GTS.isc_modelling.contact_mechanics_biot:diff init contact = 8.972746e+35\n",
      "INFO:GTS.isc_modelling.contact_mechanics_biot:diff iter scalar = 1.324642e+32\n",
      "INFO:GTS.isc_modelling.contact_mechanics_biot:diff init scalar = 2.110102e+33\n",
      "INFO:GTS.isc_modelling.contact_mechanics_biot:Error in contact force is 4.281465e-02\n",
      "INFO:GTS.isc_modelling.contact_mechanics_biot:Error in matrix displacement is 3.584384e-02\n",
      "INFO:GTS.isc_modelling.contact_mechanics_biot:Error in pressure is 6.277620e-02.\n",
      "INFO:porepy.numerics.nonlinear.nonlinear_solvers:Newton iteration number 3 of 40\n",
      "INFO:porepy.models.contact_mechanics_biot_model:Max element in A 2.26e+09\n",
      "INFO:porepy.models.contact_mechanics_biot_model:Max 2.83e+09 and min 1.00e+00 A sum.\n",
      "INFO:porepy.models.contact_mechanics_biot_model:Solve Ax=b using schur_complement\n"
     ]
    },
    {
     "name": "stdout",
     "output_type": "stream",
     "text": [
      "Attempting to compute inverse: M\n"
     ]
    },
    {
     "name": "stderr",
     "output_type": "stream",
     "text": [
      "INFO:porepy.models.contact_mechanics_biot_model:Done. Elapsed time 121.49918556213379\n",
      "INFO:porepy.models.contact_mechanics_biot_model:||b-Ax|| = 1.7238826619266236\n",
      "INFO:porepy.models.contact_mechanics_biot_model:||b-Ax|| / ||b|| = 1.3882268808751108e-09\n",
      "INFO:GTS.isc_modelling.contact_mechanics_biot:diff iter u = 3.152501e+14\n",
      "INFO:GTS.isc_modelling.contact_mechanics_biot:diff init u = 4.515555e+14\n"
     ]
    },
    {
     "name": "stdout",
     "output_type": "stream",
     "text": [
      "inverse computed\n",
      "Solved in 121.45897555351257 s, with 121.34661602973938 for constant part, whereof 120.49405980110168 s were the inversion of the SC.\n"
     ]
    },
    {
     "name": "stderr",
     "output_type": "stream",
     "text": [
      "INFO:GTS.isc_modelling.contact_mechanics_biot:diff iter contact = 2.106322e+36\n",
      "INFO:GTS.isc_modelling.contact_mechanics_biot:diff init contact = 3.083630e+36\n",
      "INFO:GTS.isc_modelling.contact_mechanics_biot:diff iter scalar = 2.951842e+33\n",
      "INFO:GTS.isc_modelling.contact_mechanics_biot:diff init scalar = 4.790347e+33\n",
      "INFO:GTS.isc_modelling.contact_mechanics_biot:Error in contact force is 6.830659e-01\n",
      "INFO:GTS.isc_modelling.contact_mechanics_biot:Error in matrix displacement is 6.981425e-01\n",
      "INFO:GTS.isc_modelling.contact_mechanics_biot:Error in pressure is 6.162063e-01.\n",
      "INFO:porepy.numerics.nonlinear.nonlinear_solvers:Newton iteration number 4 of 40\n",
      "INFO:porepy.models.contact_mechanics_biot_model:Max element in A 2.26e+09\n",
      "INFO:porepy.models.contact_mechanics_biot_model:Max 2.83e+09 and min 1.00e+00 A sum.\n",
      "INFO:porepy.models.contact_mechanics_biot_model:Solve Ax=b using schur_complement\n"
     ]
    },
    {
     "name": "stdout",
     "output_type": "stream",
     "text": [
      "Attempting to compute inverse: M\n",
      "inverse computed\n",
      "Solved in 123.18705439567566 s, with 123.07913398742676 for constant part, whereof 122.1748538017273 s were the inversion of the SC.\n"
     ]
    },
    {
     "name": "stderr",
     "output_type": "stream",
     "text": [
      "INFO:porepy.models.contact_mechanics_biot_model:Done. Elapsed time 123.22930073738098\n",
      "INFO:porepy.models.contact_mechanics_biot_model:||b-Ax|| = 3.718838285792026\n",
      "INFO:porepy.models.contact_mechanics_biot_model:||b-Ax|| / ||b|| = 2.987472537511211e-09\n",
      "INFO:GTS.isc_modelling.contact_mechanics_biot:diff iter u = 3.405072e+15\n",
      "INFO:GTS.isc_modelling.contact_mechanics_biot:diff init u = 3.781447e+15\n",
      "INFO:GTS.isc_modelling.contact_mechanics_biot:diff iter contact = 1.168754e+37\n",
      "INFO:GTS.isc_modelling.contact_mechanics_biot:diff init contact = 1.100456e+37\n",
      "INFO:GTS.isc_modelling.contact_mechanics_biot:diff iter scalar = 4.333430e+34\n",
      "INFO:GTS.isc_modelling.contact_mechanics_biot:diff init scalar = 4.291477e+34\n",
      "INFO:GTS.isc_modelling.contact_mechanics_biot:Error in contact force is 1.062063e+00\n",
      "INFO:GTS.isc_modelling.contact_mechanics_biot:Error in matrix displacement is 9.004680e-01\n",
      "INFO:GTS.isc_modelling.contact_mechanics_biot:Error in pressure is 1.009776e+00.\n",
      "INFO:porepy.numerics.nonlinear.nonlinear_solvers:Newton iteration number 5 of 40\n",
      "INFO:porepy.models.contact_mechanics_biot_model:Max element in A 2.26e+09\n",
      "INFO:porepy.models.contact_mechanics_biot_model:Max 2.83e+09 and min 1.00e+00 A sum.\n",
      "INFO:porepy.models.contact_mechanics_biot_model:Solve Ax=b using schur_complement\n"
     ]
    },
    {
     "name": "stdout",
     "output_type": "stream",
     "text": [
      "Attempting to compute inverse: M\n"
     ]
    },
    {
     "name": "stderr",
     "output_type": "stream",
     "text": [
      "INFO:porepy.models.contact_mechanics_biot_model:Done. Elapsed time 117.3734917640686\n",
      "INFO:porepy.models.contact_mechanics_biot_model:||b-Ax|| = 118.07331290270365\n"
     ]
    },
    {
     "name": "stdout",
     "output_type": "stream",
     "text": [
      "inverse computed\n",
      "Solved in 117.33412957191467 s, with 117.21706318855286 for constant part, whereof 116.30839681625366 s were the inversion of the SC.\n"
     ]
    },
    {
     "name": "stderr",
     "output_type": "stream",
     "text": [
      "INFO:porepy.models.contact_mechanics_biot_model:||b-Ax|| / ||b|| = 9.289178330298169e-08\n",
      "INFO:GTS.isc_modelling.contact_mechanics_biot:diff iter u = 6.883900e+17\n",
      "INFO:GTS.isc_modelling.contact_mechanics_biot:diff init u = 6.828187e+17\n",
      "INFO:GTS.isc_modelling.contact_mechanics_biot:diff iter contact = 2.603249e+40\n",
      "INFO:GTS.isc_modelling.contact_mechanics_biot:diff init contact = 2.602790e+40\n",
      "INFO:GTS.isc_modelling.contact_mechanics_biot:diff iter scalar = 2.129091e+37\n",
      "INFO:GTS.isc_modelling.contact_mechanics_biot:diff init scalar = 2.127205e+37\n",
      "INFO:GTS.isc_modelling.contact_mechanics_biot:Error in contact force is 1.000176e+00\n",
      "INFO:GTS.isc_modelling.contact_mechanics_biot:Error in matrix displacement is 1.008159e+00\n",
      "INFO:GTS.isc_modelling.contact_mechanics_biot:Error in pressure is 1.000887e+00.\n",
      "INFO:porepy.numerics.nonlinear.nonlinear_solvers:Newton iteration number 6 of 40\n",
      "INFO:porepy.models.contact_mechanics_biot_model:Max element in A 2.26e+09\n",
      "INFO:porepy.models.contact_mechanics_biot_model:Max 2.83e+09 and min 1.00e+00 A sum.\n",
      "INFO:porepy.models.contact_mechanics_biot_model:Solve Ax=b using schur_complement\n"
     ]
    },
    {
     "name": "stdout",
     "output_type": "stream",
     "text": [
      "Attempting to compute inverse: M\n"
     ]
    },
    {
     "name": "stderr",
     "output_type": "stream",
     "text": [
      "INFO:porepy.models.contact_mechanics_biot_model:Done. Elapsed time 120.4236011505127\n"
     ]
    },
    {
     "name": "stdout",
     "output_type": "stream",
     "text": [
      "inverse computed\n",
      "Solved in 120.37627172470093 s, with 120.24698448181152 for constant part, whereof 119.3776683807373 s were the inversion of the SC.\n"
     ]
    },
    {
     "name": "stderr",
     "output_type": "stream",
     "text": [
      "INFO:porepy.models.contact_mechanics_biot_model:||b-Ax|| = 15.660794154696449\n",
      "INFO:porepy.models.contact_mechanics_biot_model:||b-Ax|| / ||b|| = 2.451970740559623e-09\n",
      "INFO:GTS.isc_modelling.contact_mechanics_biot:diff iter u = 1.132281e+18\n",
      "INFO:GTS.isc_modelling.contact_mechanics_biot:diff init u = 1.368221e+17\n",
      "INFO:GTS.isc_modelling.contact_mechanics_biot:diff iter contact = 2.616571e+40\n",
      "INFO:GTS.isc_modelling.contact_mechanics_biot:diff init contact = 4.339711e+38\n",
      "INFO:GTS.isc_modelling.contact_mechanics_biot:diff iter scalar = 2.091121e+37\n",
      "INFO:GTS.isc_modelling.contact_mechanics_biot:diff init scalar = 1.374885e+36\n",
      "INFO:GTS.isc_modelling.contact_mechanics_biot:Error in contact force is 6.029366e+01\n",
      "INFO:GTS.isc_modelling.contact_mechanics_biot:Error in matrix displacement is 8.275569e+00\n",
      "INFO:GTS.isc_modelling.contact_mechanics_biot:Error in pressure is 1.520942e+01.\n",
      "INFO:porepy.numerics.nonlinear.nonlinear_solvers:Newton iteration number 7 of 40\n",
      "INFO:porepy.models.contact_mechanics_biot_model:Max element in A 2.26e+09\n",
      "INFO:porepy.models.contact_mechanics_biot_model:Max 2.83e+09 and min 1.00e+00 A sum.\n",
      "INFO:porepy.models.contact_mechanics_biot_model:Solve Ax=b using schur_complement\n"
     ]
    },
    {
     "name": "stdout",
     "output_type": "stream",
     "text": [
      "Attempting to compute inverse: M\n"
     ]
    },
    {
     "name": "stderr",
     "output_type": "stream",
     "text": [
      "INFO:porepy.models.contact_mechanics_biot_model:Done. Elapsed time 116.69520592689514\n"
     ]
    },
    {
     "name": "stdout",
     "output_type": "stream",
     "text": [
      "inverse computed\n",
      "Solved in 116.65360355377197 s, with 116.54873967170715 for constant part, whereof 115.68320679664612 s were the inversion of the SC.\n"
     ]
    },
    {
     "name": "stderr",
     "output_type": "stream",
     "text": [
      "INFO:porepy.models.contact_mechanics_biot_model:||b-Ax|| = 40.1586914956357\n",
      "INFO:porepy.models.contact_mechanics_biot_model:||b-Ax|| / ||b|| = 1.4044591597086605e-08\n",
      "INFO:GTS.isc_modelling.contact_mechanics_biot:diff iter u = 4.920562e+17\n",
      "INFO:GTS.isc_modelling.contact_mechanics_biot:diff init u = 5.120812e+17\n",
      "INFO:GTS.isc_modelling.contact_mechanics_biot:diff iter contact = 6.840659e+39\n",
      "INFO:GTS.isc_modelling.contact_mechanics_biot:diff init contact = 6.415502e+39\n",
      "INFO:GTS.isc_modelling.contact_mechanics_biot:diff iter scalar = 9.058374e+36\n",
      "INFO:GTS.isc_modelling.contact_mechanics_biot:diff init scalar = 7.706216e+36\n",
      "INFO:GTS.isc_modelling.contact_mechanics_biot:Error in contact force is 1.066270e+00\n",
      "INFO:GTS.isc_modelling.contact_mechanics_biot:Error in matrix displacement is 9.608948e-01\n",
      "INFO:GTS.isc_modelling.contact_mechanics_biot:Error in pressure is 1.175463e+00.\n",
      "INFO:porepy.numerics.nonlinear.nonlinear_solvers:Newton iteration number 8 of 40\n",
      "INFO:porepy.models.contact_mechanics_biot_model:Max element in A 2.26e+09\n",
      "INFO:porepy.models.contact_mechanics_biot_model:Max 2.83e+09 and min 1.00e+00 A sum.\n",
      "INFO:porepy.models.contact_mechanics_biot_model:Solve Ax=b using schur_complement\n"
     ]
    },
    {
     "name": "stdout",
     "output_type": "stream",
     "text": [
      "Attempting to compute inverse: M\n"
     ]
    },
    {
     "name": "stderr",
     "output_type": "stream",
     "text": [
      "INFO:porepy.models.contact_mechanics_biot_model:Done. Elapsed time 124.7582266330719\n",
      "INFO:porepy.models.contact_mechanics_biot_model:||b-Ax|| = 108.76604293059502\n"
     ]
    },
    {
     "name": "stdout",
     "output_type": "stream",
     "text": [
      "inverse computed\n",
      "Solved in 124.72198796272278 s, with 124.61003828048706 for constant part, whereof 123.75529408454895 s were the inversion of the SC.\n"
     ]
    },
    {
     "name": "stderr",
     "output_type": "stream",
     "text": [
      "INFO:porepy.models.contact_mechanics_biot_model:||b-Ax|| / ||b|| = 2.237759927369586e-08\n",
      "INFO:GTS.isc_modelling.contact_mechanics_biot:diff iter u = 1.326423e+18\n",
      "INFO:GTS.isc_modelling.contact_mechanics_biot:diff init u = 7.008580e+17\n",
      "INFO:GTS.isc_modelling.contact_mechanics_biot:diff iter contact = 8.046564e+39\n",
      "INFO:GTS.isc_modelling.contact_mechanics_biot:diff init contact = 1.769830e+39\n",
      "INFO:GTS.isc_modelling.contact_mechanics_biot:diff iter scalar = 1.514782e+37\n",
      "INFO:GTS.isc_modelling.contact_mechanics_biot:diff init scalar = 7.773529e+36\n",
      "INFO:GTS.isc_modelling.contact_mechanics_biot:Error in contact force is 4.546519e+00\n",
      "INFO:GTS.isc_modelling.contact_mechanics_biot:Error in matrix displacement is 1.892570e+00\n",
      "INFO:GTS.isc_modelling.contact_mechanics_biot:Error in pressure is 1.948641e+00.\n",
      "INFO:porepy.numerics.nonlinear.nonlinear_solvers:Newton iteration number 9 of 40\n",
      "INFO:porepy.models.contact_mechanics_biot_model:Max element in A 2.26e+09\n",
      "INFO:porepy.models.contact_mechanics_biot_model:Max 2.83e+09 and min 1.00e+00 A sum.\n",
      "INFO:porepy.models.contact_mechanics_biot_model:Solve Ax=b using schur_complement\n"
     ]
    },
    {
     "name": "stdout",
     "output_type": "stream",
     "text": [
      "Attempting to compute inverse: M\n"
     ]
    },
    {
     "name": "stderr",
     "output_type": "stream",
     "text": [
      "INFO:porepy.models.contact_mechanics_biot_model:Done. Elapsed time 118.37381601333618\n"
     ]
    },
    {
     "name": "stdout",
     "output_type": "stream",
     "text": [
      "inverse computed\n",
      "Solved in 118.32946729660034 s, with 118.21443200111389 for constant part, whereof 117.34360671043396 s were the inversion of the SC.\n"
     ]
    },
    {
     "name": "stderr",
     "output_type": "stream",
     "text": [
      "INFO:porepy.models.contact_mechanics_biot_model:||b-Ax|| = 22.11130091808575\n",
      "INFO:porepy.models.contact_mechanics_biot_model:||b-Ax|| / ||b|| = 3.5665616622829015e-09\n",
      "INFO:GTS.isc_modelling.contact_mechanics_biot:diff iter u = 5.480878e+17\n",
      "INFO:GTS.isc_modelling.contact_mechanics_biot:diff init u = 2.644865e+16\n",
      "INFO:GTS.isc_modelling.contact_mechanics_biot:diff iter contact = 1.747119e+39\n",
      "INFO:GTS.isc_modelling.contact_mechanics_biot:diff init contact = 4.302236e+37\n",
      "INFO:GTS.isc_modelling.contact_mechanics_biot:diff iter scalar = 6.983221e+36\n",
      "INFO:GTS.isc_modelling.contact_mechanics_biot:diff init scalar = 2.804537e+35\n",
      "INFO:GTS.isc_modelling.contact_mechanics_biot:Error in contact force is 4.060954e+01\n",
      "INFO:GTS.isc_modelling.contact_mechanics_biot:Error in matrix displacement is 2.072271e+01\n",
      "INFO:GTS.isc_modelling.contact_mechanics_biot:Error in pressure is 2.489973e+01.\n",
      "INFO:porepy.numerics.nonlinear.nonlinear_solvers:Newton iteration number 10 of 40\n",
      "INFO:porepy.models.contact_mechanics_biot_model:Max element in A 2.26e+09\n",
      "INFO:porepy.models.contact_mechanics_biot_model:Max 2.83e+09 and min 1.00e+00 A sum.\n",
      "INFO:porepy.models.contact_mechanics_biot_model:Solve Ax=b using schur_complement\n"
     ]
    },
    {
     "name": "stdout",
     "output_type": "stream",
     "text": [
      "Attempting to compute inverse: M\n"
     ]
    },
    {
     "name": "stderr",
     "output_type": "stream",
     "text": [
      "INFO:porepy.models.contact_mechanics_biot_model:Done. Elapsed time 116.52039241790771\n",
      "INFO:porepy.models.contact_mechanics_biot_model:||b-Ax|| = 6.546299403005146\n"
     ]
    },
    {
     "name": "stdout",
     "output_type": "stream",
     "text": [
      "inverse computed\n",
      "Solved in 116.46935105323792 s, with 116.36241006851196 for constant part, whereof 115.51556205749512 s were the inversion of the SC.\n"
     ]
    },
    {
     "name": "stderr",
     "output_type": "stream",
     "text": [
      "INFO:porepy.models.contact_mechanics_biot_model:||b-Ax|| / ||b|| = 3.94131557240944e-09\n",
      "INFO:GTS.isc_modelling.contact_mechanics_biot:diff iter u = 3.226980e+16\n",
      "INFO:GTS.isc_modelling.contact_mechanics_biot:diff init u = 1.610932e+16\n",
      "INFO:GTS.isc_modelling.contact_mechanics_biot:diff iter contact = 1.462353e+38\n",
      "INFO:GTS.isc_modelling.contact_mechanics_biot:diff init contact = 1.075174e+38\n",
      "INFO:GTS.isc_modelling.contact_mechanics_biot:diff iter scalar = 5.450881e+35\n",
      "INFO:GTS.isc_modelling.contact_mechanics_biot:diff init scalar = 3.699554e+35\n",
      "INFO:GTS.isc_modelling.contact_mechanics_biot:Error in contact force is 1.360109e+00\n",
      "INFO:GTS.isc_modelling.contact_mechanics_biot:Error in matrix displacement is 2.003177e+00\n",
      "INFO:GTS.isc_modelling.contact_mechanics_biot:Error in pressure is 1.473389e+00.\n",
      "INFO:porepy.numerics.nonlinear.nonlinear_solvers:Newton iteration number 11 of 40\n",
      "INFO:porepy.models.contact_mechanics_biot_model:Max element in A 2.26e+09\n",
      "INFO:porepy.models.contact_mechanics_biot_model:Max 2.83e+09 and min 1.00e+00 A sum.\n",
      "INFO:porepy.models.contact_mechanics_biot_model:Solve Ax=b using schur_complement\n"
     ]
    },
    {
     "name": "stdout",
     "output_type": "stream",
     "text": [
      "Attempting to compute inverse: M\n"
     ]
    },
    {
     "name": "stderr",
     "output_type": "stream",
     "text": [
      "INFO:porepy.models.contact_mechanics_biot_model:Done. Elapsed time 121.2473623752594\n",
      "INFO:porepy.models.contact_mechanics_biot_model:||b-Ax|| = 11.263937322479439\n"
     ]
    },
    {
     "name": "stdout",
     "output_type": "stream",
     "text": [
      "inverse computed\n",
      "Solved in 121.20694851875305 s, with 121.08492660522461 for constant part, whereof 120.2064893245697 s were the inversion of the SC.\n"
     ]
    },
    {
     "name": "stderr",
     "output_type": "stream",
     "text": [
      "INFO:porepy.models.contact_mechanics_biot_model:||b-Ax|| / ||b|| = 6.811097170862884e-09\n",
      "INFO:GTS.isc_modelling.contact_mechanics_biot:diff iter u = 9.649558e+15\n",
      "INFO:GTS.isc_modelling.contact_mechanics_biot:diff init u = 5.581289e+15\n",
      "INFO:GTS.isc_modelling.contact_mechanics_biot:diff iter contact = 1.234940e+38\n",
      "INFO:GTS.isc_modelling.contact_mechanics_biot:diff init contact = 2.167336e+37\n",
      "INFO:GTS.isc_modelling.contact_mechanics_biot:diff iter scalar = 3.291285e+35\n",
      "INFO:GTS.isc_modelling.contact_mechanics_biot:diff init scalar = 5.637832e+34\n",
      "INFO:GTS.isc_modelling.contact_mechanics_biot:Error in contact force is 5.697966e+00\n",
      "INFO:GTS.isc_modelling.contact_mechanics_biot:Error in matrix displacement is 1.728912e+00\n",
      "INFO:GTS.isc_modelling.contact_mechanics_biot:Error in pressure is 5.837855e+00.\n",
      "INFO:porepy.numerics.nonlinear.nonlinear_solvers:Newton iteration number 12 of 40\n",
      "INFO:porepy.models.contact_mechanics_biot_model:Max element in A 2.26e+09\n",
      "INFO:porepy.models.contact_mechanics_biot_model:Max 2.83e+09 and min 1.00e+00 A sum.\n",
      "INFO:porepy.models.contact_mechanics_biot_model:Solve Ax=b using schur_complement\n"
     ]
    },
    {
     "name": "stdout",
     "output_type": "stream",
     "text": [
      "Attempting to compute inverse: M\n"
     ]
    },
    {
     "name": "stderr",
     "output_type": "stream",
     "text": [
      "INFO:porepy.models.contact_mechanics_biot_model:Done. Elapsed time 113.8884744644165\n",
      "INFO:porepy.models.contact_mechanics_biot_model:||b-Ax|| = 6.13671663883708\n"
     ]
    },
    {
     "name": "stdout",
     "output_type": "stream",
     "text": [
      "inverse computed\n",
      "Solved in 113.84570050239563 s, with 113.73691773414612 for constant part, whereof 112.8482437133789 s were the inversion of the SC.\n"
     ]
    },
    {
     "name": "stderr",
     "output_type": "stream",
     "text": [
      "INFO:porepy.models.contact_mechanics_biot_model:||b-Ax|| / ||b|| = 4.4916893061396886e-09\n",
      "INFO:GTS.isc_modelling.contact_mechanics_biot:diff iter u = 3.198641e+15\n",
      "INFO:GTS.isc_modelling.contact_mechanics_biot:diff init u = 2.393141e+15\n",
      "INFO:GTS.isc_modelling.contact_mechanics_biot:diff iter contact = 2.825093e+37\n",
      "INFO:GTS.isc_modelling.contact_mechanics_biot:diff init contact = 8.285984e+36\n",
      "INFO:GTS.isc_modelling.contact_mechanics_biot:diff iter scalar = 1.037788e+35\n",
      "INFO:GTS.isc_modelling.contact_mechanics_biot:diff init scalar = 6.934157e+34\n",
      "INFO:GTS.isc_modelling.contact_mechanics_biot:Error in contact force is 3.409484e+00\n",
      "INFO:GTS.isc_modelling.contact_mechanics_biot:Error in matrix displacement is 1.336587e+00\n",
      "INFO:GTS.isc_modelling.contact_mechanics_biot:Error in pressure is 1.496631e+00.\n",
      "INFO:porepy.numerics.nonlinear.nonlinear_solvers:Newton iteration number 13 of 40\n",
      "INFO:porepy.models.contact_mechanics_biot_model:Max element in A 2.26e+09\n",
      "INFO:porepy.models.contact_mechanics_biot_model:Max 2.83e+09 and min 1.00e+00 A sum.\n",
      "INFO:porepy.models.contact_mechanics_biot_model:Solve Ax=b using schur_complement\n"
     ]
    },
    {
     "name": "stdout",
     "output_type": "stream",
     "text": [
      "Attempting to compute inverse: M\n"
     ]
    },
    {
     "name": "stderr",
     "output_type": "stream",
     "text": [
      "INFO:porepy.models.contact_mechanics_biot_model:Done. Elapsed time 118.21679949760437\n"
     ]
    },
    {
     "name": "stdout",
     "output_type": "stream",
     "text": [
      "inverse computed\n",
      "Solved in 118.17788100242615 s, with 118.01283550262451 for constant part, whereof 117.12057828903198 s were the inversion of the SC.\n"
     ]
    },
    {
     "name": "stderr",
     "output_type": "stream",
     "text": [
      "INFO:porepy.models.contact_mechanics_biot_model:||b-Ax|| = 5.55868183449345\n",
      "INFO:porepy.models.contact_mechanics_biot_model:||b-Ax|| / ||b|| = 4.181682101426195e-09\n",
      "INFO:GTS.isc_modelling.contact_mechanics_biot:diff iter u = 3.080097e+15\n",
      "INFO:GTS.isc_modelling.contact_mechanics_biot:diff init u = 2.040612e+15\n",
      "INFO:GTS.isc_modelling.contact_mechanics_biot:diff iter contact = 1.827744e+37\n",
      "INFO:GTS.isc_modelling.contact_mechanics_biot:diff init contact = 1.164247e+37\n",
      "INFO:GTS.isc_modelling.contact_mechanics_biot:diff iter scalar = 9.008126e+34\n",
      "INFO:GTS.isc_modelling.contact_mechanics_biot:diff init scalar = 2.738203e+34\n",
      "INFO:GTS.isc_modelling.contact_mechanics_biot:Error in contact force is 1.569893e+00\n",
      "INFO:GTS.isc_modelling.contact_mechanics_biot:Error in matrix displacement is 1.509399e+00\n",
      "INFO:GTS.isc_modelling.contact_mechanics_biot:Error in pressure is 3.289795e+00.\n",
      "INFO:porepy.numerics.nonlinear.nonlinear_solvers:Newton iteration number 14 of 40\n",
      "INFO:porepy.models.contact_mechanics_biot_model:Max element in A 2.26e+09\n",
      "INFO:porepy.models.contact_mechanics_biot_model:Max 2.83e+09 and min 1.00e+00 A sum.\n",
      "INFO:porepy.models.contact_mechanics_biot_model:Solve Ax=b using schur_complement\n"
     ]
    },
    {
     "name": "stdout",
     "output_type": "stream",
     "text": [
      "Attempting to compute inverse: M\n"
     ]
    },
    {
     "name": "stderr",
     "output_type": "stream",
     "text": [
      "INFO:porepy.models.contact_mechanics_biot_model:Done. Elapsed time 121.43423247337341\n"
     ]
    },
    {
     "name": "stdout",
     "output_type": "stream",
     "text": [
      "inverse computed\n",
      "Solved in 121.39550423622131 s, with 121.25708794593811 for constant part, whereof 120.41744065284729 s were the inversion of the SC.\n"
     ]
    },
    {
     "name": "stderr",
     "output_type": "stream",
     "text": [
      "INFO:porepy.models.contact_mechanics_biot_model:||b-Ax|| = 0.9692655749661937\n",
      "INFO:porepy.models.contact_mechanics_biot_model:||b-Ax|| / ||b|| = 7.403638038462717e-10\n",
      "INFO:GTS.isc_modelling.contact_mechanics_biot:diff iter u = 1.586231e+15\n",
      "INFO:GTS.isc_modelling.contact_mechanics_biot:diff init u = 4.295051e+14\n",
      "INFO:GTS.isc_modelling.contact_mechanics_biot:diff iter contact = 1.176626e+37\n",
      "INFO:GTS.isc_modelling.contact_mechanics_biot:diff init contact = 2.085648e+36\n",
      "INFO:GTS.isc_modelling.contact_mechanics_biot:diff iter scalar = 2.801257e+34\n",
      "INFO:GTS.isc_modelling.contact_mechanics_biot:diff init scalar = 7.017329e+33\n",
      "INFO:GTS.isc_modelling.contact_mechanics_biot:Error in contact force is 5.641538e+00\n",
      "INFO:GTS.isc_modelling.contact_mechanics_biot:Error in matrix displacement is 3.693159e+00\n",
      "INFO:GTS.isc_modelling.contact_mechanics_biot:Error in pressure is 3.991914e+00.\n",
      "INFO:porepy.numerics.nonlinear.nonlinear_solvers:Newton iteration number 15 of 40\n",
      "INFO:porepy.models.contact_mechanics_biot_model:Max element in A 2.26e+09\n",
      "INFO:porepy.models.contact_mechanics_biot_model:Max 2.83e+09 and min 1.00e+00 A sum.\n",
      "INFO:porepy.models.contact_mechanics_biot_model:Solve Ax=b using schur_complement\n"
     ]
    },
    {
     "name": "stdout",
     "output_type": "stream",
     "text": [
      "Attempting to compute inverse: M\n"
     ]
    },
    {
     "name": "stderr",
     "output_type": "stream",
     "text": [
      "INFO:porepy.models.contact_mechanics_biot_model:Done. Elapsed time 111.67637157440186\n",
      "INFO:porepy.models.contact_mechanics_biot_model:||b-Ax|| = 0.3364322480819221\n"
     ]
    },
    {
     "name": "stdout",
     "output_type": "stream",
     "text": [
      "inverse computed\n",
      "Solved in 111.633944272995 s, with 111.51782631874084 for constant part, whereof 110.62317061424255 s were the inversion of the SC.\n"
     ]
    },
    {
     "name": "stderr",
     "output_type": "stream",
     "text": [
      "INFO:porepy.models.contact_mechanics_biot_model:||b-Ax|| / ||b|| = 2.6880094761754854e-10\n",
      "INFO:GTS.isc_modelling.contact_mechanics_biot:diff iter u = 4.234531e+14\n",
      "INFO:GTS.isc_modelling.contact_mechanics_biot:diff init u = 2.238505e+14\n",
      "INFO:GTS.isc_modelling.contact_mechanics_biot:diff iter contact = 1.461256e+36\n",
      "INFO:GTS.isc_modelling.contact_mechanics_biot:diff init contact = 1.066085e+36\n",
      "INFO:GTS.isc_modelling.contact_mechanics_biot:diff iter scalar = 6.461075e+33\n",
      "INFO:GTS.isc_modelling.contact_mechanics_biot:diff init scalar = 3.985807e+33\n",
      "INFO:GTS.isc_modelling.contact_mechanics_biot:Error in contact force is 1.370675e+00\n",
      "INFO:GTS.isc_modelling.contact_mechanics_biot:Error in matrix displacement is 1.891678e+00\n",
      "INFO:GTS.isc_modelling.contact_mechanics_biot:Error in pressure is 1.621021e+00.\n",
      "INFO:porepy.numerics.nonlinear.nonlinear_solvers:Newton iteration number 16 of 40\n",
      "INFO:porepy.models.contact_mechanics_biot_model:Max element in A 2.26e+09\n",
      "INFO:porepy.models.contact_mechanics_biot_model:Max 2.83e+09 and min 1.00e+00 A sum.\n",
      "INFO:porepy.models.contact_mechanics_biot_model:Solve Ax=b using schur_complement\n"
     ]
    },
    {
     "name": "stdout",
     "output_type": "stream",
     "text": [
      "Attempting to compute inverse: M\n"
     ]
    },
    {
     "name": "stderr",
     "output_type": "stream",
     "text": [
      "INFO:porepy.models.contact_mechanics_biot_model:Done. Elapsed time 119.72133326530457\n"
     ]
    },
    {
     "name": "stdout",
     "output_type": "stream",
     "text": [
      "inverse computed\n",
      "Solved in 119.6740894317627 s, with 119.56490659713745 for constant part, whereof 118.7026162147522 s were the inversion of the SC.\n"
     ]
    },
    {
     "name": "stderr",
     "output_type": "stream",
     "text": [
      "INFO:porepy.models.contact_mechanics_biot_model:||b-Ax|| = 2.7547713148962325\n",
      "INFO:porepy.models.contact_mechanics_biot_model:||b-Ax|| / ||b|| = 2.214113389037199e-09\n",
      "INFO:GTS.isc_modelling.contact_mechanics_biot:diff iter u = 3.475240e+15\n",
      "INFO:GTS.isc_modelling.contact_mechanics_biot:diff init u = 3.676785e+15\n",
      "INFO:GTS.isc_modelling.contact_mechanics_biot:diff iter contact = 1.518297e+37\n",
      "INFO:GTS.isc_modelling.contact_mechanics_biot:diff init contact = 1.607429e+37\n",
      "INFO:GTS.isc_modelling.contact_mechanics_biot:diff iter scalar = 2.809537e+34\n",
      "INFO:GTS.isc_modelling.contact_mechanics_biot:diff init scalar = 2.919304e+34\n",
      "INFO:GTS.isc_modelling.contact_mechanics_biot:Error in contact force is 9.445494e-01\n",
      "INFO:GTS.isc_modelling.contact_mechanics_biot:Error in matrix displacement is 9.451842e-01\n",
      "INFO:GTS.isc_modelling.contact_mechanics_biot:Error in pressure is 9.623996e-01.\n",
      "INFO:porepy.numerics.nonlinear.nonlinear_solvers:Newton iteration number 17 of 40\n",
      "INFO:porepy.models.contact_mechanics_biot_model:Max element in A 2.26e+09\n",
      "INFO:porepy.models.contact_mechanics_biot_model:Max 2.83e+09 and min 1.00e+00 A sum.\n",
      "INFO:porepy.models.contact_mechanics_biot_model:Solve Ax=b using schur_complement\n"
     ]
    },
    {
     "name": "stdout",
     "output_type": "stream",
     "text": [
      "Attempting to compute inverse: M\n"
     ]
    },
    {
     "name": "stderr",
     "output_type": "stream",
     "text": [
      "INFO:porepy.models.contact_mechanics_biot_model:Done. Elapsed time 123.20642924308777\n",
      "INFO:porepy.models.contact_mechanics_biot_model:||b-Ax|| = 4.045362035550398\n",
      "INFO:porepy.models.contact_mechanics_biot_model:||b-Ax|| / ||b|| = 3.1734291897212916e-09\n",
      "INFO:GTS.isc_modelling.contact_mechanics_biot:diff iter u = 5.416243e+16\n",
      "INFO:GTS.isc_modelling.contact_mechanics_biot:diff init u = 5.425535e+16\n"
     ]
    },
    {
     "name": "stdout",
     "output_type": "stream",
     "text": [
      "inverse computed\n",
      "Solved in 123.16848301887512 s, with 123.0570387840271 for constant part, whereof 122.19623494148254 s were the inversion of the SC.\n"
     ]
    },
    {
     "name": "stderr",
     "output_type": "stream",
     "text": [
      "INFO:GTS.isc_modelling.contact_mechanics_biot:diff iter contact = 2.365455e+38\n",
      "INFO:GTS.isc_modelling.contact_mechanics_biot:diff init contact = 2.202952e+38\n",
      "INFO:GTS.isc_modelling.contact_mechanics_biot:diff iter scalar = 6.407566e+35\n",
      "INFO:GTS.isc_modelling.contact_mechanics_biot:diff init scalar = 6.523831e+35\n",
      "INFO:GTS.isc_modelling.contact_mechanics_biot:Error in contact force is 1.073766e+00\n",
      "INFO:GTS.isc_modelling.contact_mechanics_biot:Error in matrix displacement is 9.982873e-01\n",
      "INFO:GTS.isc_modelling.contact_mechanics_biot:Error in pressure is 9.821784e-01.\n",
      "INFO:porepy.numerics.nonlinear.nonlinear_solvers:Newton iteration number 18 of 40\n",
      "INFO:porepy.models.contact_mechanics_biot_model:Max element in A 2.26e+09\n",
      "INFO:porepy.models.contact_mechanics_biot_model:Max 2.83e+09 and min 1.00e+00 A sum.\n",
      "INFO:porepy.models.contact_mechanics_biot_model:Solve Ax=b using schur_complement\n"
     ]
    },
    {
     "name": "stdout",
     "output_type": "stream",
     "text": [
      "Attempting to compute inverse: M\n"
     ]
    },
    {
     "name": "stderr",
     "output_type": "stream",
     "text": [
      "INFO:porepy.models.contact_mechanics_biot_model:Done. Elapsed time 115.79611778259277\n",
      "INFO:porepy.models.contact_mechanics_biot_model:||b-Ax|| = 29.204187093068494\n"
     ]
    },
    {
     "name": "stdout",
     "output_type": "stream",
     "text": [
      "inverse computed\n",
      "Solved in 115.7572968006134 s, with 115.62872648239136 for constant part, whereof 114.7659924030304 s were the inversion of the SC.\n"
     ]
    },
    {
     "name": "stderr",
     "output_type": "stream",
     "text": [
      "INFO:porepy.models.contact_mechanics_biot_model:||b-Ax|| / ||b|| = 1.2226871220464585e-08\n",
      "INFO:GTS.isc_modelling.contact_mechanics_biot:diff iter u = 1.756450e+17\n",
      "INFO:GTS.isc_modelling.contact_mechanics_biot:diff init u = 2.269201e+17\n",
      "INFO:GTS.isc_modelling.contact_mechanics_biot:diff iter contact = 1.134892e+39\n",
      "INFO:GTS.isc_modelling.contact_mechanics_biot:diff init contact = 9.214449e+38\n",
      "INFO:GTS.isc_modelling.contact_mechanics_biot:diff iter scalar = 3.706167e+36\n",
      "INFO:GTS.isc_modelling.contact_mechanics_biot:diff init scalar = 3.175878e+36\n",
      "INFO:GTS.isc_modelling.contact_mechanics_biot:Error in contact force is 1.231643e+00\n",
      "INFO:GTS.isc_modelling.contact_mechanics_biot:Error in matrix displacement is 7.740392e-01\n",
      "INFO:GTS.isc_modelling.contact_mechanics_biot:Error in pressure is 1.166974e+00.\n",
      "INFO:porepy.numerics.nonlinear.nonlinear_solvers:Newton iteration number 19 of 40\n",
      "INFO:porepy.models.contact_mechanics_biot_model:Max element in A 2.26e+09\n",
      "INFO:porepy.models.contact_mechanics_biot_model:Max 2.83e+09 and min 1.00e+00 A sum.\n",
      "INFO:porepy.models.contact_mechanics_biot_model:Solve Ax=b using schur_complement\n"
     ]
    },
    {
     "name": "stdout",
     "output_type": "stream",
     "text": [
      "Attempting to compute inverse: M\n"
     ]
    },
    {
     "name": "stderr",
     "output_type": "stream",
     "text": [
      "INFO:porepy.models.contact_mechanics_biot_model:Done. Elapsed time 118.7062497138977\n",
      "INFO:porepy.models.contact_mechanics_biot_model:||b-Ax|| = 3021.147051099511\n"
     ]
    },
    {
     "name": "stdout",
     "output_type": "stream",
     "text": [
      "inverse computed\n",
      "Solved in 118.66338276863098 s, with 118.55263662338257 for constant part, whereof 117.67906785011292 s were the inversion of the SC.\n"
     ]
    },
    {
     "name": "stderr",
     "output_type": "stream",
     "text": [
      "INFO:porepy.models.contact_mechanics_biot_model:||b-Ax|| / ||b|| = 7.569873377083602e-07\n",
      "INFO:GTS.isc_modelling.contact_mechanics_biot:diff iter u = 3.078023e+19\n",
      "INFO:GTS.isc_modelling.contact_mechanics_biot:diff init u = 3.406468e+19\n",
      "INFO:GTS.isc_modelling.contact_mechanics_biot:diff iter contact = 5.744915e+40\n",
      "INFO:GTS.isc_modelling.contact_mechanics_biot:diff init contact = 5.668831e+40\n",
      "INFO:GTS.isc_modelling.contact_mechanics_biot:diff iter scalar = 4.499210e+38\n",
      "INFO:GTS.isc_modelling.contact_mechanics_biot:diff init scalar = 4.661150e+38\n",
      "INFO:GTS.isc_modelling.contact_mechanics_biot:Error in contact force is 1.013421e+00\n",
      "INFO:GTS.isc_modelling.contact_mechanics_biot:Error in matrix displacement is 9.035819e-01\n",
      "INFO:GTS.isc_modelling.contact_mechanics_biot:Error in pressure is 9.652574e-01.\n",
      "INFO:porepy.numerics.nonlinear.nonlinear_solvers:Newton iteration number 20 of 40\n",
      "INFO:porepy.models.contact_mechanics_biot_model:Max element in A 2.26e+09\n",
      "INFO:porepy.models.contact_mechanics_biot_model:Max 2.83e+09 and min 1.00e+00 A sum.\n",
      "INFO:porepy.models.contact_mechanics_biot_model:Solve Ax=b using schur_complement\n"
     ]
    },
    {
     "name": "stdout",
     "output_type": "stream",
     "text": [
      "Attempting to compute inverse: M\n"
     ]
    },
    {
     "name": "stderr",
     "output_type": "stream",
     "text": [
      "INFO:porepy.models.contact_mechanics_biot_model:Done. Elapsed time 118.38373589515686\n"
     ]
    },
    {
     "name": "stdout",
     "output_type": "stream",
     "text": [
      "inverse computed\n",
      "Solved in 118.34240293502808 s, with 118.1987841129303 for constant part, whereof 117.2936499118805 s were the inversion of the SC.\n"
     ]
    },
    {
     "name": "stderr",
     "output_type": "stream",
     "text": [
      "INFO:porepy.models.contact_mechanics_biot_model:||b-Ax|| = 353.75665857619464\n",
      "INFO:porepy.models.contact_mechanics_biot_model:||b-Ax|| / ||b|| = 7.119310836088656e-09\n",
      "INFO:GTS.isc_modelling.contact_mechanics_biot:diff iter u = 3.157807e+19\n",
      "INFO:GTS.isc_modelling.contact_mechanics_biot:diff init u = 2.893611e+19\n",
      "INFO:GTS.isc_modelling.contact_mechanics_biot:diff iter contact = 1.348744e+41\n",
      "INFO:GTS.isc_modelling.contact_mechanics_biot:diff init contact = 7.993427e+40\n",
      "INFO:GTS.isc_modelling.contact_mechanics_biot:diff iter scalar = 6.790436e+38\n",
      "INFO:GTS.isc_modelling.contact_mechanics_biot:diff init scalar = 3.609355e+38\n",
      "INFO:GTS.isc_modelling.contact_mechanics_biot:Error in contact force is 1.687316e+00\n",
      "INFO:GTS.isc_modelling.contact_mechanics_biot:Error in matrix displacement is 1.091303e+00\n",
      "INFO:GTS.isc_modelling.contact_mechanics_biot:Error in pressure is 1.881343e+00.\n",
      "INFO:porepy.numerics.nonlinear.nonlinear_solvers:Newton iteration number 21 of 40\n",
      "INFO:porepy.models.contact_mechanics_biot_model:Max element in A 2.26e+09\n",
      "INFO:porepy.models.contact_mechanics_biot_model:Max 2.83e+09 and min 1.00e+00 A sum.\n",
      "INFO:porepy.models.contact_mechanics_biot_model:Solve Ax=b using schur_complement\n"
     ]
    },
    {
     "name": "stdout",
     "output_type": "stream",
     "text": [
      "Attempting to compute inverse: M\n"
     ]
    },
    {
     "name": "stderr",
     "output_type": "stream",
     "text": [
      "INFO:porepy.models.contact_mechanics_biot_model:Done. Elapsed time 121.37245917320251\n",
      "INFO:porepy.models.contact_mechanics_biot_model:||b-Ax|| = 594.3902718722138\n"
     ]
    },
    {
     "name": "stdout",
     "output_type": "stream",
     "text": [
      "inverse computed\n",
      "Solved in 121.33209252357483 s, with 121.19445180892944 for constant part, whereof 120.29190635681152 s were the inversion of the SC.\n"
     ]
    },
    {
     "name": "stderr",
     "output_type": "stream",
     "text": [
      "INFO:porepy.models.contact_mechanics_biot_model:||b-Ax|| / ||b|| = 1.5263173787926897e-08\n",
      "INFO:GTS.isc_modelling.contact_mechanics_biot:diff iter u = 6.651974e+19\n",
      "INFO:GTS.isc_modelling.contact_mechanics_biot:diff init u = 3.851139e+19\n",
      "INFO:GTS.isc_modelling.contact_mechanics_biot:diff iter contact = 1.730030e+41\n",
      "INFO:GTS.isc_modelling.contact_mechanics_biot:diff init contact = 9.655943e+40\n",
      "INFO:GTS.isc_modelling.contact_mechanics_biot:diff iter scalar = 1.249628e+39\n",
      "INFO:GTS.isc_modelling.contact_mechanics_biot:diff init scalar = 1.050682e+39\n",
      "INFO:GTS.isc_modelling.contact_mechanics_biot:Error in contact force is 1.791674e+00\n",
      "INFO:GTS.isc_modelling.contact_mechanics_biot:Error in matrix displacement is 1.727274e+00\n",
      "INFO:GTS.isc_modelling.contact_mechanics_biot:Error in pressure is 1.189349e+00.\n",
      "INFO:porepy.numerics.nonlinear.nonlinear_solvers:Newton iteration number 22 of 40\n",
      "INFO:porepy.models.contact_mechanics_biot_model:Max element in A 2.26e+09\n",
      "INFO:porepy.models.contact_mechanics_biot_model:Max 2.83e+09 and min 1.00e+00 A sum.\n",
      "INFO:porepy.models.contact_mechanics_biot_model:Solve Ax=b using schur_complement\n"
     ]
    },
    {
     "name": "stdout",
     "output_type": "stream",
     "text": [
      "Attempting to compute inverse: M\n"
     ]
    },
    {
     "name": "stderr",
     "output_type": "stream",
     "text": [
      "INFO:porepy.models.contact_mechanics_biot_model:Done. Elapsed time 113.90723848342896\n"
     ]
    },
    {
     "name": "stdout",
     "output_type": "stream",
     "text": [
      "inverse computed\n",
      "Solved in 113.85945844650269 s, with 113.75313830375671 for constant part, whereof 112.8701822757721 s were the inversion of the SC.\n"
     ]
    },
    {
     "name": "stderr",
     "output_type": "stream",
     "text": [
      "INFO:porepy.models.contact_mechanics_biot_model:||b-Ax|| = 733.0761229613304\n",
      "INFO:porepy.models.contact_mechanics_biot_model:||b-Ax|| / ||b|| = 1.6085115574773035e-08\n",
      "INFO:GTS.isc_modelling.contact_mechanics_biot:diff iter u = 2.647348e+19\n",
      "INFO:GTS.isc_modelling.contact_mechanics_biot:diff init u = 1.103479e+19\n",
      "INFO:GTS.isc_modelling.contact_mechanics_biot:diff iter contact = 1.151657e+41\n",
      "INFO:GTS.isc_modelling.contact_mechanics_biot:diff init contact = 2.374327e+40\n",
      "INFO:GTS.isc_modelling.contact_mechanics_biot:diff iter scalar = 9.478378e+38\n",
      "INFO:GTS.isc_modelling.contact_mechanics_biot:diff init scalar = 1.357523e+38\n",
      "INFO:GTS.isc_modelling.contact_mechanics_biot:Error in contact force is 4.850458e+00\n",
      "INFO:GTS.isc_modelling.contact_mechanics_biot:Error in matrix displacement is 2.399093e+00\n",
      "INFO:GTS.isc_modelling.contact_mechanics_biot:Error in pressure is 6.982112e+00.\n",
      "INFO:porepy.numerics.nonlinear.nonlinear_solvers:Newton iteration number 23 of 40\n",
      "INFO:porepy.models.contact_mechanics_biot_model:Max element in A 2.26e+09\n",
      "INFO:porepy.models.contact_mechanics_biot_model:Max 2.83e+09 and min 1.00e+00 A sum.\n",
      "INFO:porepy.models.contact_mechanics_biot_model:Solve Ax=b using schur_complement\n"
     ]
    },
    {
     "name": "stdout",
     "output_type": "stream",
     "text": [
      "Attempting to compute inverse: M\n"
     ]
    },
    {
     "name": "stderr",
     "output_type": "stream",
     "text": [
      "INFO:porepy.models.contact_mechanics_biot_model:Done. Elapsed time 126.69342112541199\n",
      "INFO:porepy.models.contact_mechanics_biot_model:||b-Ax|| = 134.30970800791798\n"
     ]
    },
    {
     "name": "stdout",
     "output_type": "stream",
     "text": [
      "inverse computed\n",
      "Solved in 126.65482091903687 s, with 126.53525400161743 for constant part, whereof 125.68767642974854 s were the inversion of the SC.\n"
     ]
    },
    {
     "name": "stderr",
     "output_type": "stream",
     "text": [
      "INFO:porepy.models.contact_mechanics_biot_model:||b-Ax|| / ||b|| = 6.8252796784533104e-09\n",
      "INFO:GTS.isc_modelling.contact_mechanics_biot:diff iter u = 2.207714e+19\n",
      "INFO:GTS.isc_modelling.contact_mechanics_biot:diff init u = 7.305454e+18\n",
      "INFO:GTS.isc_modelling.contact_mechanics_biot:diff iter contact = 8.389862e+40\n",
      "INFO:GTS.isc_modelling.contact_mechanics_biot:diff init contact = 6.062458e+40\n",
      "INFO:GTS.isc_modelling.contact_mechanics_biot:diff iter scalar = 2.401207e+38\n",
      "INFO:GTS.isc_modelling.contact_mechanics_biot:diff init scalar = 8.915700e+37\n",
      "INFO:GTS.isc_modelling.contact_mechanics_biot:Error in contact force is 1.383904e+00\n",
      "INFO:GTS.isc_modelling.contact_mechanics_biot:Error in matrix displacement is 3.022008e+00\n",
      "INFO:GTS.isc_modelling.contact_mechanics_biot:Error in pressure is 2.693235e+00.\n",
      "INFO:porepy.numerics.nonlinear.nonlinear_solvers:Newton iteration number 24 of 40\n",
      "INFO:porepy.models.contact_mechanics_biot_model:Max element in A 2.26e+09\n",
      "INFO:porepy.models.contact_mechanics_biot_model:Max 2.83e+09 and min 1.00e+00 A sum.\n",
      "INFO:porepy.models.contact_mechanics_biot_model:Solve Ax=b using schur_complement\n"
     ]
    },
    {
     "name": "stdout",
     "output_type": "stream",
     "text": [
      "Attempting to compute inverse: M\n"
     ]
    },
    {
     "name": "stderr",
     "output_type": "stream",
     "text": [
      "INFO:porepy.models.contact_mechanics_biot_model:Done. Elapsed time 114.89991617202759\n",
      "INFO:porepy.models.contact_mechanics_biot_model:||b-Ax|| = 515.2577797979145\n"
     ]
    },
    {
     "name": "stdout",
     "output_type": "stream",
     "text": [
      "inverse computed\n",
      "Solved in 114.85854315757751 s, with 114.75171828269958 for constant part, whereof 113.89199376106262 s were the inversion of the SC.\n"
     ]
    },
    {
     "name": "stderr",
     "output_type": "stream",
     "text": [
      "INFO:porepy.models.contact_mechanics_biot_model:||b-Ax|| / ||b|| = 2.5410204363641514e-08\n",
      "INFO:GTS.isc_modelling.contact_mechanics_biot:diff iter u = 2.821021e+19\n",
      "INFO:GTS.isc_modelling.contact_mechanics_biot:diff init u = 1.805178e+19\n",
      "INFO:GTS.isc_modelling.contact_mechanics_biot:diff iter contact = 1.748184e+41\n",
      "INFO:GTS.isc_modelling.contact_mechanics_biot:diff init contact = 1.147900e+41\n",
      "INFO:GTS.isc_modelling.contact_mechanics_biot:diff iter scalar = 3.073000e+38\n",
      "INFO:GTS.isc_modelling.contact_mechanics_biot:diff init scalar = 1.940849e+38\n",
      "INFO:GTS.isc_modelling.contact_mechanics_biot:Error in contact force is 1.522941e+00\n",
      "INFO:GTS.isc_modelling.contact_mechanics_biot:Error in matrix displacement is 1.562738e+00\n",
      "INFO:GTS.isc_modelling.contact_mechanics_biot:Error in pressure is 1.583327e+00.\n",
      "INFO:porepy.numerics.nonlinear.nonlinear_solvers:Newton iteration number 25 of 40\n",
      "INFO:porepy.models.contact_mechanics_biot_model:Max element in A 2.26e+09\n",
      "INFO:porepy.models.contact_mechanics_biot_model:Max 2.83e+09 and min 1.00e+00 A sum.\n",
      "INFO:porepy.models.contact_mechanics_biot_model:Solve Ax=b using schur_complement\n"
     ]
    },
    {
     "name": "stdout",
     "output_type": "stream",
     "text": [
      "Attempting to compute inverse: M\n"
     ]
    },
    {
     "name": "stderr",
     "output_type": "stream",
     "text": [
      "INFO:porepy.models.contact_mechanics_biot_model:Done. Elapsed time 123.42794346809387\n"
     ]
    },
    {
     "name": "stdout",
     "output_type": "stream",
     "text": [
      "inverse computed\n",
      "Solved in 123.38997077941895 s, with 123.23573565483093 for constant part, whereof 122.21284317970276 s were the inversion of the SC.\n"
     ]
    },
    {
     "name": "stderr",
     "output_type": "stream",
     "text": [
      "INFO:porepy.models.contact_mechanics_biot_model:||b-Ax|| = 122.35063002360845\n",
      "INFO:porepy.models.contact_mechanics_biot_model:||b-Ax|| / ||b|| = 3.758028302090034e-09\n",
      "INFO:GTS.isc_modelling.contact_mechanics_biot:diff iter u = 1.345185e+19\n",
      "INFO:GTS.isc_modelling.contact_mechanics_biot:diff init u = 2.269884e+18\n",
      "INFO:GTS.isc_modelling.contact_mechanics_biot:diff iter contact = 1.214239e+41\n",
      "INFO:GTS.isc_modelling.contact_mechanics_biot:diff init contact = 1.213988e+40\n",
      "INFO:GTS.isc_modelling.contact_mechanics_biot:diff iter scalar = 1.933466e+38\n",
      "INFO:GTS.isc_modelling.contact_mechanics_biot:diff init scalar = 2.879040e+37\n",
      "INFO:GTS.isc_modelling.contact_mechanics_biot:Error in contact force is 1.000207e+01\n",
      "INFO:GTS.isc_modelling.contact_mechanics_biot:Error in matrix displacement is 5.926225e+00\n",
      "INFO:GTS.isc_modelling.contact_mechanics_biot:Error in pressure is 6.715661e+00.\n",
      "INFO:porepy.numerics.nonlinear.nonlinear_solvers:Newton iteration number 26 of 40\n",
      "INFO:porepy.models.contact_mechanics_biot_model:Max element in A 2.26e+09\n",
      "INFO:porepy.models.contact_mechanics_biot_model:Max 2.83e+09 and min 1.00e+00 A sum.\n",
      "INFO:porepy.models.contact_mechanics_biot_model:Solve Ax=b using schur_complement\n"
     ]
    },
    {
     "name": "stdout",
     "output_type": "stream",
     "text": [
      "Attempting to compute inverse: M\n"
     ]
    },
    {
     "name": "stderr",
     "output_type": "stream",
     "text": [
      "INFO:porepy.models.contact_mechanics_biot_model:Done. Elapsed time 124.11691784858704\n",
      "INFO:porepy.models.contact_mechanics_biot_model:||b-Ax|| = 80.21952766124993\n"
     ]
    },
    {
     "name": "stdout",
     "output_type": "stream",
     "text": [
      "inverse computed\n",
      "Solved in 124.07024240493774 s, with 123.9667112827301 for constant part, whereof 123.1134262084961 s were the inversion of the SC.\n"
     ]
    },
    {
     "name": "stderr",
     "output_type": "stream",
     "text": [
      "INFO:porepy.models.contact_mechanics_biot_model:||b-Ax|| / ||b|| = 9.844014343681995e-09\n",
      "INFO:GTS.isc_modelling.contact_mechanics_biot:diff iter u = 1.913672e+18\n",
      "INFO:GTS.isc_modelling.contact_mechanics_biot:diff init u = 8.841293e+17\n",
      "INFO:GTS.isc_modelling.contact_mechanics_biot:diff iter contact = 2.055078e+40\n",
      "INFO:GTS.isc_modelling.contact_mechanics_biot:diff init contact = 8.739975e+39\n",
      "INFO:GTS.isc_modelling.contact_mechanics_biot:diff iter scalar = 3.031348e+37\n",
      "INFO:GTS.isc_modelling.contact_mechanics_biot:diff init scalar = 9.331014e+36\n",
      "INFO:GTS.isc_modelling.contact_mechanics_biot:Error in contact force is 2.351354e+00\n",
      "INFO:GTS.isc_modelling.contact_mechanics_biot:Error in matrix displacement is 2.164471e+00\n",
      "INFO:GTS.isc_modelling.contact_mechanics_biot:Error in pressure is 3.248680e+00.\n",
      "INFO:porepy.numerics.nonlinear.nonlinear_solvers:Newton iteration number 27 of 40\n",
      "INFO:porepy.models.contact_mechanics_biot_model:Max element in A 2.26e+09\n",
      "INFO:porepy.models.contact_mechanics_biot_model:Max 2.83e+09 and min 1.00e+00 A sum.\n",
      "INFO:porepy.models.contact_mechanics_biot_model:Solve Ax=b using schur_complement\n"
     ]
    },
    {
     "name": "stdout",
     "output_type": "stream",
     "text": [
      "Attempting to compute inverse: M\n"
     ]
    },
    {
     "name": "stderr",
     "output_type": "stream",
     "text": [
      "INFO:porepy.models.contact_mechanics_biot_model:Done. Elapsed time 119.06350421905518\n",
      "INFO:porepy.models.contact_mechanics_biot_model:||b-Ax|| = 184.99627964691308\n",
      "INFO:porepy.models.contact_mechanics_biot_model:||b-Ax|| / ||b|| = 2.9207482046352898e-08\n",
      "INFO:GTS.isc_modelling.contact_mechanics_biot:diff iter u = 2.020464e+19\n",
      "INFO:GTS.isc_modelling.contact_mechanics_biot:diff init u = 1.744570e+19\n",
      "INFO:GTS.isc_modelling.contact_mechanics_biot:diff iter contact = 3.195040e+41\n",
      "INFO:GTS.isc_modelling.contact_mechanics_biot:diff init contact = 3.107541e+41\n",
      "INFO:GTS.isc_modelling.contact_mechanics_biot:diff iter scalar = 1.793586e+38\n"
     ]
    },
    {
     "name": "stdout",
     "output_type": "stream",
     "text": [
      "inverse computed\n",
      "Solved in 119.02583575248718 s, with 118.92256569862366 for constant part, whereof 118.09040117263794 s were the inversion of the SC.\n"
     ]
    },
    {
     "name": "stderr",
     "output_type": "stream",
     "text": [
      "INFO:GTS.isc_modelling.contact_mechanics_biot:diff init scalar = 1.712034e+38\n",
      "INFO:GTS.isc_modelling.contact_mechanics_biot:Error in contact force is 1.028157e+00\n",
      "INFO:GTS.isc_modelling.contact_mechanics_biot:Error in matrix displacement is 1.158144e+00\n",
      "INFO:GTS.isc_modelling.contact_mechanics_biot:Error in pressure is 1.047635e+00.\n",
      "INFO:porepy.numerics.nonlinear.nonlinear_solvers:Newton iteration number 28 of 40\n",
      "INFO:porepy.models.contact_mechanics_biot_model:Max element in A 2.26e+09\n",
      "INFO:porepy.models.contact_mechanics_biot_model:Max 2.83e+09 and min 1.00e+00 A sum.\n",
      "INFO:porepy.models.contact_mechanics_biot_model:Solve Ax=b using schur_complement\n"
     ]
    },
    {
     "name": "stdout",
     "output_type": "stream",
     "text": [
      "Attempting to compute inverse: M\n"
     ]
    },
    {
     "name": "stderr",
     "output_type": "stream",
     "text": [
      "INFO:porepy.models.contact_mechanics_biot_model:Done. Elapsed time 124.8046362400055\n",
      "INFO:porepy.models.contact_mechanics_biot_model:||b-Ax|| = 187.9122072189336\n"
     ]
    },
    {
     "name": "stdout",
     "output_type": "stream",
     "text": [
      "inverse computed\n",
      "Solved in 124.75885009765625 s, with 124.64474964141846 for constant part, whereof 123.80051112174988 s were the inversion of the SC.\n"
     ]
    },
    {
     "name": "stderr",
     "output_type": "stream",
     "text": [
      "INFO:porepy.models.contact_mechanics_biot_model:||b-Ax|| / ||b|| = 6.830242738776469e-09\n",
      "INFO:GTS.isc_modelling.contact_mechanics_biot:diff iter u = 3.890172e+19\n",
      "INFO:GTS.isc_modelling.contact_mechanics_biot:diff init u = 2.366842e+19\n",
      "INFO:GTS.isc_modelling.contact_mechanics_biot:diff iter contact = 3.953829e+41\n",
      "INFO:GTS.isc_modelling.contact_mechanics_biot:diff init contact = 8.825278e+40\n",
      "INFO:GTS.isc_modelling.contact_mechanics_biot:diff iter scalar = 8.612127e+38\n",
      "INFO:GTS.isc_modelling.contact_mechanics_biot:diff init scalar = 6.719417e+38\n",
      "INFO:GTS.isc_modelling.contact_mechanics_biot:Error in contact force is 4.480118e+00\n",
      "INFO:GTS.isc_modelling.contact_mechanics_biot:Error in matrix displacement is 1.643613e+00\n",
      "INFO:GTS.isc_modelling.contact_mechanics_biot:Error in pressure is 1.281678e+00.\n",
      "INFO:porepy.numerics.nonlinear.nonlinear_solvers:Newton iteration number 29 of 40\n",
      "INFO:porepy.models.contact_mechanics_biot_model:Max element in A 2.26e+09\n",
      "INFO:porepy.models.contact_mechanics_biot_model:Max 2.83e+09 and min 1.00e+00 A sum.\n",
      "INFO:porepy.models.contact_mechanics_biot_model:Solve Ax=b using schur_complement\n"
     ]
    },
    {
     "name": "stdout",
     "output_type": "stream",
     "text": [
      "Attempting to compute inverse: M\n"
     ]
    },
    {
     "name": "stderr",
     "output_type": "stream",
     "text": [
      "INFO:porepy.models.contact_mechanics_biot_model:Done. Elapsed time 112.74504899978638\n",
      "INFO:porepy.models.contact_mechanics_biot_model:||b-Ax|| = 168.43499277301737\n"
     ]
    },
    {
     "name": "stdout",
     "output_type": "stream",
     "text": [
      "inverse computed\n",
      "Solved in 112.70630598068237 s, with 112.59117817878723 for constant part, whereof 111.69684648513794 s were the inversion of the SC.\n"
     ]
    },
    {
     "name": "stderr",
     "output_type": "stream",
     "text": [
      "INFO:porepy.models.contact_mechanics_biot_model:||b-Ax|| / ||b|| = 4.206602050150322e-09\n",
      "INFO:GTS.isc_modelling.contact_mechanics_biot:diff iter u = 3.282355e+19\n",
      "INFO:GTS.isc_modelling.contact_mechanics_biot:diff init u = 7.966415e+18\n",
      "INFO:GTS.isc_modelling.contact_mechanics_biot:diff iter contact = 1.167423e+41\n",
      "INFO:GTS.isc_modelling.contact_mechanics_biot:diff init contact = 2.960049e+40\n",
      "INFO:GTS.isc_modelling.contact_mechanics_biot:diff iter scalar = 6.300620e+38\n",
      "INFO:GTS.isc_modelling.contact_mechanics_biot:diff init scalar = 5.539592e+37\n",
      "INFO:GTS.isc_modelling.contact_mechanics_biot:Error in contact force is 3.943932e+00\n",
      "INFO:GTS.isc_modelling.contact_mechanics_biot:Error in matrix displacement is 4.120241e+00\n",
      "INFO:GTS.isc_modelling.contact_mechanics_biot:Error in pressure is 1.137380e+01.\n",
      "INFO:porepy.numerics.nonlinear.nonlinear_solvers:Newton iteration number 30 of 40\n",
      "INFO:porepy.models.contact_mechanics_biot_model:Max element in A 2.26e+09\n",
      "INFO:porepy.models.contact_mechanics_biot_model:Max 2.83e+09 and min 1.00e+00 A sum.\n",
      "INFO:porepy.models.contact_mechanics_biot_model:Solve Ax=b using schur_complement\n"
     ]
    },
    {
     "name": "stdout",
     "output_type": "stream",
     "text": [
      "Attempting to compute inverse: M\n"
     ]
    },
    {
     "name": "stderr",
     "output_type": "stream",
     "text": [
      "INFO:porepy.models.contact_mechanics_biot_model:Done. Elapsed time 116.10731983184814\n",
      "INFO:porepy.models.contact_mechanics_biot_model:||b-Ax|| = 53.8935964885386\n",
      "INFO:porepy.models.contact_mechanics_biot_model:||b-Ax|| / ||b|| = 2.803800066807923e-09\n",
      "INFO:GTS.isc_modelling.contact_mechanics_biot:diff iter u = 9.192205e+18\n"
     ]
    },
    {
     "name": "stdout",
     "output_type": "stream",
     "text": [
      "inverse computed\n",
      "Solved in 116.06706428527832 s, with 115.94381976127625 for constant part, whereof 115.09295725822449 s were the inversion of the SC.\n"
     ]
    },
    {
     "name": "stderr",
     "output_type": "stream",
     "text": [
      "INFO:GTS.isc_modelling.contact_mechanics_biot:diff init u = 4.198541e+18\n",
      "INFO:GTS.isc_modelling.contact_mechanics_biot:diff iter contact = 4.696975e+40\n",
      "INFO:GTS.isc_modelling.contact_mechanics_biot:diff init contact = 1.840603e+40\n",
      "INFO:GTS.isc_modelling.contact_mechanics_biot:diff iter scalar = 1.018012e+38\n",
      "INFO:GTS.isc_modelling.contact_mechanics_biot:diff init scalar = 6.053416e+37\n",
      "INFO:GTS.isc_modelling.contact_mechanics_biot:Error in contact force is 2.551867e+00\n",
      "INFO:GTS.isc_modelling.contact_mechanics_biot:Error in matrix displacement is 2.189381e+00\n",
      "INFO:GTS.isc_modelling.contact_mechanics_biot:Error in pressure is 1.681714e+00.\n",
      "INFO:porepy.numerics.nonlinear.nonlinear_solvers:Newton iteration number 31 of 40\n",
      "INFO:porepy.models.contact_mechanics_biot_model:Max element in A 2.26e+09\n",
      "INFO:porepy.models.contact_mechanics_biot_model:Max 2.83e+09 and min 1.00e+00 A sum.\n",
      "INFO:porepy.models.contact_mechanics_biot_model:Solve Ax=b using schur_complement\n"
     ]
    },
    {
     "name": "stdout",
     "output_type": "stream",
     "text": [
      "Attempting to compute inverse: M\n"
     ]
    },
    {
     "name": "stderr",
     "output_type": "stream",
     "text": [
      "INFO:porepy.models.contact_mechanics_biot_model:Done. Elapsed time 127.22312307357788\n",
      "INFO:porepy.models.contact_mechanics_biot_model:||b-Ax|| = 20.003062247658182\n",
      "INFO:porepy.models.contact_mechanics_biot_model:||b-Ax|| / ||b|| = 1.5089270228107136e-09\n"
     ]
    },
    {
     "name": "stdout",
     "output_type": "stream",
     "text": [
      "inverse computed\n",
      "Solved in 127.18035626411438 s, with 127.06978106498718 for constant part, whereof 126.18817329406738 s were the inversion of the SC.\n"
     ]
    },
    {
     "name": "stderr",
     "output_type": "stream",
     "text": [
      "INFO:GTS.isc_modelling.contact_mechanics_biot:diff iter u = 3.644766e+18\n",
      "INFO:GTS.isc_modelling.contact_mechanics_biot:diff init u = 2.716929e+17\n",
      "INFO:GTS.isc_modelling.contact_mechanics_biot:diff iter contact = 2.017059e+40\n",
      "INFO:GTS.isc_modelling.contact_mechanics_biot:diff init contact = 2.027459e+39\n",
      "INFO:GTS.isc_modelling.contact_mechanics_biot:diff iter scalar = 6.692435e+37\n",
      "INFO:GTS.isc_modelling.contact_mechanics_biot:diff init scalar = 6.700238e+36\n",
      "INFO:GTS.isc_modelling.contact_mechanics_biot:Error in contact force is 9.948703e+00\n",
      "INFO:GTS.isc_modelling.contact_mechanics_biot:Error in matrix displacement is 1.341502e+01\n",
      "INFO:GTS.isc_modelling.contact_mechanics_biot:Error in pressure is 9.988355e+00.\n",
      "INFO:porepy.numerics.nonlinear.nonlinear_solvers:Newton iteration number 32 of 40\n",
      "INFO:porepy.models.contact_mechanics_biot_model:Max element in A 2.26e+09\n",
      "INFO:porepy.models.contact_mechanics_biot_model:Max 2.83e+09 and min 1.00e+00 A sum.\n",
      "INFO:porepy.models.contact_mechanics_biot_model:Solve Ax=b using schur_complement\n"
     ]
    },
    {
     "name": "stdout",
     "output_type": "stream",
     "text": [
      "Attempting to compute inverse: M\n"
     ]
    },
    {
     "name": "stderr",
     "output_type": "stream",
     "text": [
      "INFO:porepy.models.contact_mechanics_biot_model:Done. Elapsed time 116.0050675868988\n"
     ]
    },
    {
     "name": "stdout",
     "output_type": "stream",
     "text": [
      "inverse computed\n",
      "Solved in 115.9656491279602 s, with 115.8539810180664 for constant part, whereof 114.97726488113403 s were the inversion of the SC.\n"
     ]
    },
    {
     "name": "stderr",
     "output_type": "stream",
     "text": [
      "INFO:porepy.models.contact_mechanics_biot_model:||b-Ax|| = 13.064288342403831\n",
      "INFO:porepy.models.contact_mechanics_biot_model:||b-Ax|| / ||b|| = 3.911681377939512e-09\n",
      "INFO:GTS.isc_modelling.contact_mechanics_biot:diff iter u = 2.100237e+17\n",
      "INFO:GTS.isc_modelling.contact_mechanics_biot:diff init u = 3.428166e+16\n",
      "INFO:GTS.isc_modelling.contact_mechanics_biot:diff iter contact = 1.985321e+39\n",
      "INFO:GTS.isc_modelling.contact_mechanics_biot:diff init contact = 3.617764e+37\n",
      "INFO:GTS.isc_modelling.contact_mechanics_biot:diff iter scalar = 6.735564e+36\n",
      "INFO:GTS.isc_modelling.contact_mechanics_biot:diff init scalar = 3.919239e+35\n",
      "INFO:GTS.isc_modelling.contact_mechanics_biot:Error in contact force is 5.487704e+01\n",
      "INFO:GTS.isc_modelling.contact_mechanics_biot:Error in matrix displacement is 6.126414e+00\n",
      "INFO:GTS.isc_modelling.contact_mechanics_biot:Error in pressure is 1.718590e+01.\n",
      "INFO:porepy.numerics.nonlinear.nonlinear_solvers:Newton iteration number 33 of 40\n",
      "INFO:porepy.models.contact_mechanics_biot_model:Max element in A 2.26e+09\n",
      "INFO:porepy.models.contact_mechanics_biot_model:Max 2.83e+09 and min 1.00e+00 A sum.\n",
      "INFO:porepy.models.contact_mechanics_biot_model:Solve Ax=b using schur_complement\n"
     ]
    },
    {
     "name": "stdout",
     "output_type": "stream",
     "text": [
      "Attempting to compute inverse: M\n"
     ]
    },
    {
     "name": "stderr",
     "output_type": "stream",
     "text": [
      "INFO:porepy.models.contact_mechanics_biot_model:Done. Elapsed time 117.29407572746277\n",
      "INFO:porepy.models.contact_mechanics_biot_model:||b-Ax|| = 7.645101136779225\n"
     ]
    },
    {
     "name": "stdout",
     "output_type": "stream",
     "text": [
      "inverse computed\n",
      "Solved in 117.25158739089966 s, with 117.13005900382996 for constant part, whereof 116.26288533210754 s were the inversion of the SC.\n"
     ]
    },
    {
     "name": "stderr",
     "output_type": "stream",
     "text": [
      "INFO:porepy.models.contact_mechanics_biot_model:||b-Ax|| / ||b|| = 4.354612937117285e-09\n",
      "INFO:GTS.isc_modelling.contact_mechanics_biot:diff iter u = 3.817499e+16\n",
      "INFO:GTS.isc_modelling.contact_mechanics_biot:diff init u = 3.489206e+16\n",
      "INFO:GTS.isc_modelling.contact_mechanics_biot:diff iter contact = 2.924483e+38\n",
      "INFO:GTS.isc_modelling.contact_mechanics_biot:diff init contact = 2.600657e+38\n",
      "INFO:GTS.isc_modelling.contact_mechanics_biot:diff iter scalar = 8.953642e+35\n",
      "INFO:GTS.isc_modelling.contact_mechanics_biot:diff init scalar = 6.087663e+35\n",
      "INFO:GTS.isc_modelling.contact_mechanics_biot:Error in contact force is 1.124517e+00\n",
      "INFO:GTS.isc_modelling.contact_mechanics_biot:Error in matrix displacement is 1.094088e+00\n",
      "INFO:GTS.isc_modelling.contact_mechanics_biot:Error in pressure is 1.470785e+00.\n",
      "INFO:porepy.numerics.nonlinear.nonlinear_solvers:Newton iteration number 34 of 40\n",
      "INFO:porepy.models.contact_mechanics_biot_model:Max element in A 2.26e+09\n",
      "INFO:porepy.models.contact_mechanics_biot_model:Max 2.83e+09 and min 1.00e+00 A sum.\n",
      "INFO:porepy.models.contact_mechanics_biot_model:Solve Ax=b using schur_complement\n"
     ]
    },
    {
     "name": "stdout",
     "output_type": "stream",
     "text": [
      "Attempting to compute inverse: M\n"
     ]
    },
    {
     "name": "stderr",
     "output_type": "stream",
     "text": [
      "INFO:porepy.models.contact_mechanics_biot_model:Done. Elapsed time 117.47973322868347\n"
     ]
    },
    {
     "name": "stdout",
     "output_type": "stream",
     "text": [
      "inverse computed\n",
      "Solved in 117.44140863418579 s, with 117.33322238922119 for constant part, whereof 116.47264170646667 s were the inversion of the SC.\n"
     ]
    },
    {
     "name": "stderr",
     "output_type": "stream",
     "text": [
      "INFO:porepy.models.contact_mechanics_biot_model:||b-Ax|| = 42.097328261425645\n",
      "INFO:porepy.models.contact_mechanics_biot_model:||b-Ax|| / ||b|| = 2.4734165187929517e-08\n",
      "INFO:GTS.isc_modelling.contact_mechanics_biot:diff iter u = 1.607131e+17\n",
      "INFO:GTS.isc_modelling.contact_mechanics_biot:diff init u = 1.633296e+17\n",
      "INFO:GTS.isc_modelling.contact_mechanics_biot:diff iter contact = 1.033945e+39\n",
      "INFO:GTS.isc_modelling.contact_mechanics_biot:diff init contact = 7.840894e+38\n",
      "INFO:GTS.isc_modelling.contact_mechanics_biot:diff iter scalar = 3.551415e+36\n",
      "INFO:GTS.isc_modelling.contact_mechanics_biot:diff init scalar = 3.111920e+36\n",
      "INFO:GTS.isc_modelling.contact_mechanics_biot:Error in contact force is 1.318657e+00\n",
      "INFO:GTS.isc_modelling.contact_mechanics_biot:Error in matrix displacement is 9.839805e-01\n",
      "INFO:GTS.isc_modelling.contact_mechanics_biot:Error in pressure is 1.141230e+00.\n",
      "INFO:porepy.numerics.nonlinear.nonlinear_solvers:Newton iteration number 35 of 40\n",
      "INFO:porepy.models.contact_mechanics_biot_model:Max element in A 2.26e+09\n",
      "INFO:porepy.models.contact_mechanics_biot_model:Max 2.83e+09 and min 1.00e+00 A sum.\n",
      "INFO:porepy.models.contact_mechanics_biot_model:Solve Ax=b using schur_complement\n"
     ]
    },
    {
     "name": "stdout",
     "output_type": "stream",
     "text": [
      "Attempting to compute inverse: M\n"
     ]
    },
    {
     "name": "stderr",
     "output_type": "stream",
     "text": [
      "INFO:porepy.models.contact_mechanics_biot_model:Done. Elapsed time 117.15985536575317\n",
      "INFO:porepy.models.contact_mechanics_biot_model:||b-Ax|| = 702.6444747793777\n",
      "INFO:porepy.models.contact_mechanics_biot_model:||b-Ax|| / ||b|| = 2.853850636068209e-07\n",
      "INFO:GTS.isc_modelling.contact_mechanics_biot:diff iter u = 1.081115e+21\n",
      "INFO:GTS.isc_modelling.contact_mechanics_biot:diff init u = 1.077582e+21\n",
      "INFO:GTS.isc_modelling.contact_mechanics_biot:diff iter contact = 6.013855e+42\n",
      "INFO:GTS.isc_modelling.contact_mechanics_biot:diff init contact = 6.013342e+42\n",
      "INFO:GTS.isc_modelling.contact_mechanics_biot:diff iter scalar = 3.356205e+40\n",
      "INFO:GTS.isc_modelling.contact_mechanics_biot:diff init scalar = 3.356127e+40\n",
      "INFO:GTS.isc_modelling.contact_mechanics_biot:Error in contact force is 1.000085e+00\n",
      "INFO:GTS.isc_modelling.contact_mechanics_biot:Error in matrix displacement is 1.003279e+00\n",
      "INFO:GTS.isc_modelling.contact_mechanics_biot:Error in pressure is 1.000023e+00.\n",
      "INFO:porepy.numerics.nonlinear.nonlinear_solvers:Newton iteration number 36 of 40\n"
     ]
    },
    {
     "name": "stdout",
     "output_type": "stream",
     "text": [
      "inverse computed\n",
      "Solved in 117.12189221382141 s, with 116.98840498924255 for constant part, whereof 116.10277938842773 s were the inversion of the SC.\n"
     ]
    },
    {
     "name": "stderr",
     "output_type": "stream",
     "text": [
      "INFO:porepy.models.contact_mechanics_biot_model:Max element in A 2.26e+09\n",
      "INFO:porepy.models.contact_mechanics_biot_model:Max 2.83e+09 and min 1.00e+00 A sum.\n",
      "INFO:porepy.models.contact_mechanics_biot_model:Solve Ax=b using schur_complement\n"
     ]
    },
    {
     "name": "stdout",
     "output_type": "stream",
     "text": [
      "Attempting to compute inverse: M\n"
     ]
    },
    {
     "name": "stderr",
     "output_type": "stream",
     "text": [
      "INFO:porepy.models.contact_mechanics_biot_model:Done. Elapsed time 107.16961359977722\n"
     ]
    },
    {
     "name": "stdout",
     "output_type": "stream",
     "text": [
      "inverse computed\n",
      "Solved in 107.12524127960205 s, with 106.97714328765869 for constant part, whereof 106.08657145500183 s were the inversion of the SC.\n"
     ]
    },
    {
     "name": "stderr",
     "output_type": "stream",
     "text": [
      "INFO:porepy.models.contact_mechanics_biot_model:||b-Ax|| = 911.4483509188469\n",
      "INFO:porepy.models.contact_mechanics_biot_model:||b-Ax|| / ||b|| = 2.6572709245605774e-09\n",
      "INFO:GTS.isc_modelling.contact_mechanics_biot:diff iter u = 1.395531e+21\n",
      "INFO:GTS.isc_modelling.contact_mechanics_biot:diff init u = 7.525022e+20\n",
      "INFO:GTS.isc_modelling.contact_mechanics_biot:diff iter contact = 8.794079e+42\n",
      "INFO:GTS.isc_modelling.contact_mechanics_biot:diff init contact = 2.970067e+42\n",
      "INFO:GTS.isc_modelling.contact_mechanics_biot:diff iter scalar = 4.634167e+40\n",
      "INFO:GTS.isc_modelling.contact_mechanics_biot:diff init scalar = 1.329000e+40\n",
      "INFO:GTS.isc_modelling.contact_mechanics_biot:Error in contact force is 2.960903e+00\n",
      "INFO:GTS.isc_modelling.contact_mechanics_biot:Error in matrix displacement is 1.854520e+00\n",
      "INFO:GTS.isc_modelling.contact_mechanics_biot:Error in pressure is 3.486957e+00.\n",
      "INFO:porepy.numerics.nonlinear.nonlinear_solvers:Newton iteration number 37 of 40\n",
      "INFO:porepy.models.contact_mechanics_biot_model:Max element in A 2.26e+09\n",
      "INFO:porepy.models.contact_mechanics_biot_model:Max 2.83e+09 and min 1.00e+00 A sum.\n",
      "INFO:porepy.models.contact_mechanics_biot_model:Solve Ax=b using schur_complement\n"
     ]
    },
    {
     "name": "stdout",
     "output_type": "stream",
     "text": [
      "Attempting to compute inverse: M\n"
     ]
    },
    {
     "name": "stderr",
     "output_type": "stream",
     "text": [
      "INFO:porepy.models.contact_mechanics_biot_model:Done. Elapsed time 119.69896268844604\n",
      "INFO:porepy.models.contact_mechanics_biot_model:||b-Ax|| = 271.0202179726743\n"
     ]
    },
    {
     "name": "stdout",
     "output_type": "stream",
     "text": [
      "inverse computed\n",
      "Solved in 119.66101312637329 s, with 119.54483366012573 for constant part, whereof 118.67630815505981 s were the inversion of the SC.\n"
     ]
    },
    {
     "name": "stderr",
     "output_type": "stream",
     "text": [
      "INFO:porepy.models.contact_mechanics_biot_model:||b-Ax|| / ||b|| = 1.2301147104282995e-09\n",
      "INFO:GTS.isc_modelling.contact_mechanics_biot:diff iter u = 1.209069e+21\n",
      "INFO:GTS.isc_modelling.contact_mechanics_biot:diff init u = 3.035993e+20\n",
      "INFO:GTS.isc_modelling.contact_mechanics_biot:diff iter contact = 3.742380e+42\n",
      "INFO:GTS.isc_modelling.contact_mechanics_biot:diff init contact = 7.964888e+41\n",
      "INFO:GTS.isc_modelling.contact_mechanics_biot:diff iter scalar = 2.193370e+40\n",
      "INFO:GTS.isc_modelling.contact_mechanics_biot:diff init scalar = 8.776738e+39\n",
      "INFO:GTS.isc_modelling.contact_mechanics_biot:Error in contact force is 4.698597e+00\n",
      "INFO:GTS.isc_modelling.contact_mechanics_biot:Error in matrix displacement is 3.982451e+00\n",
      "INFO:GTS.isc_modelling.contact_mechanics_biot:Error in pressure is 2.499072e+00.\n",
      "INFO:porepy.numerics.nonlinear.nonlinear_solvers:Newton iteration number 38 of 40\n",
      "INFO:porepy.models.contact_mechanics_biot_model:Max element in A 2.26e+09\n",
      "INFO:porepy.models.contact_mechanics_biot_model:Max 2.83e+09 and min 1.00e+00 A sum.\n",
      "INFO:porepy.models.contact_mechanics_biot_model:Solve Ax=b using schur_complement\n"
     ]
    },
    {
     "name": "stdout",
     "output_type": "stream",
     "text": [
      "Attempting to compute inverse: M\n"
     ]
    },
    {
     "name": "stderr",
     "output_type": "stream",
     "text": [
      "INFO:porepy.models.contact_mechanics_biot_model:Done. Elapsed time 120.5279860496521\n",
      "INFO:porepy.models.contact_mechanics_biot_model:||b-Ax|| = 365.52113305508055\n",
      "INFO:porepy.models.contact_mechanics_biot_model:||b-Ax|| / ||b|| = 3.088697666914557e-09\n",
      "INFO:GTS.isc_modelling.contact_mechanics_biot:diff iter u = 2.418975e+20\n",
      "INFO:GTS.isc_modelling.contact_mechanics_biot:diff init u = 4.905039e+19\n",
      "INFO:GTS.isc_modelling.contact_mechanics_biot:diff iter contact = 9.297619e+41\n",
      "INFO:GTS.isc_modelling.contact_mechanics_biot:diff init contact = 1.853225e+41\n",
      "INFO:GTS.isc_modelling.contact_mechanics_biot:diff iter scalar = 7.733349e+39\n",
      "INFO:GTS.isc_modelling.contact_mechanics_biot:diff init scalar = 8.770872e+38\n",
      "INFO:GTS.isc_modelling.contact_mechanics_biot:Error in contact force is 5.016995e+00\n",
      "INFO:GTS.isc_modelling.contact_mechanics_biot:Error in matrix displacement is 4.931613e+00\n",
      "INFO:GTS.isc_modelling.contact_mechanics_biot:Error in pressure is 8.817081e+00.\n",
      "INFO:porepy.numerics.nonlinear.nonlinear_solvers:Newton iteration number 39 of 40\n"
     ]
    },
    {
     "name": "stdout",
     "output_type": "stream",
     "text": [
      "inverse computed\n",
      "Solved in 120.48930263519287 s, with 120.37918639183044 for constant part, whereof 119.55818128585815 s were the inversion of the SC.\n"
     ]
    },
    {
     "name": "stderr",
     "output_type": "stream",
     "text": [
      "INFO:porepy.models.contact_mechanics_biot_model:Max element in A 2.26e+09\n",
      "INFO:porepy.models.contact_mechanics_biot_model:Max 2.83e+09 and min 1.00e+00 A sum.\n",
      "INFO:porepy.models.contact_mechanics_biot_model:Solve Ax=b using schur_complement\n"
     ]
    },
    {
     "name": "stdout",
     "output_type": "stream",
     "text": [
      "Attempting to compute inverse: M\n",
      "inverse computed\n",
      "Solved in 130.7193522453308 s, with 130.6101644039154 for constant part, whereof 129.72348546981812 s were the inversion of the SC.\n"
     ]
    },
    {
     "name": "stderr",
     "output_type": "stream",
     "text": [
      "INFO:porepy.models.contact_mechanics_biot_model:Done. Elapsed time 130.7742030620575\n",
      "INFO:porepy.models.contact_mechanics_biot_model:||b-Ax|| = 24.762522510723414\n",
      "INFO:porepy.models.contact_mechanics_biot_model:||b-Ax|| / ||b|| = 4.2173718783983425e-10\n",
      "INFO:GTS.isc_modelling.contact_mechanics_biot:diff iter u = 3.952616e+19\n",
      "INFO:GTS.isc_modelling.contact_mechanics_biot:diff init u = 1.026319e+19\n",
      "INFO:GTS.isc_modelling.contact_mechanics_biot:diff iter contact = 2.587518e+41\n",
      "INFO:GTS.isc_modelling.contact_mechanics_biot:diff init contact = 8.268439e+40\n",
      "INFO:GTS.isc_modelling.contact_mechanics_biot:diff iter scalar = 9.100400e+38\n",
      "INFO:GTS.isc_modelling.contact_mechanics_biot:diff init scalar = 1.495203e+38\n",
      "INFO:GTS.isc_modelling.contact_mechanics_biot:Error in contact force is 3.129391e+00\n",
      "INFO:GTS.isc_modelling.contact_mechanics_biot:Error in matrix displacement is 3.851256e+00\n",
      "INFO:GTS.isc_modelling.contact_mechanics_biot:Error in pressure is 6.086397e+00.\n",
      "INFO:porepy.numerics.nonlinear.nonlinear_solvers:Newton iteration number 40 of 40\n",
      "INFO:porepy.models.contact_mechanics_biot_model:Max element in A 2.26e+09\n",
      "INFO:porepy.models.contact_mechanics_biot_model:Max 2.83e+09 and min 1.00e+00 A sum.\n",
      "INFO:porepy.models.contact_mechanics_biot_model:Solve Ax=b using schur_complement\n"
     ]
    },
    {
     "name": "stdout",
     "output_type": "stream",
     "text": [
      "Attempting to compute inverse: M\n"
     ]
    },
    {
     "name": "stderr",
     "output_type": "stream",
     "text": [
      "INFO:porepy.models.contact_mechanics_biot_model:Done. Elapsed time 134.69092965126038\n"
     ]
    },
    {
     "name": "stdout",
     "output_type": "stream",
     "text": [
      "inverse computed\n",
      "Solved in 134.65334916114807 s, with 134.4809489250183 for constant part, whereof 133.46194577217102 s were the inversion of the SC.\n"
     ]
    },
    {
     "name": "stderr",
     "output_type": "stream",
     "text": [
      "INFO:porepy.models.contact_mechanics_biot_model:||b-Ax|| = 74.58275092887543\n",
      "INFO:porepy.models.contact_mechanics_biot_model:||b-Ax|| / ||b|| = 4.150982201857603e-09\n",
      "INFO:GTS.isc_modelling.contact_mechanics_biot:diff iter u = 1.167400e+19\n",
      "INFO:GTS.isc_modelling.contact_mechanics_biot:diff init u = 2.294182e+18\n",
      "INFO:GTS.isc_modelling.contact_mechanics_biot:diff iter contact = 9.479560e+40\n",
      "INFO:GTS.isc_modelling.contact_mechanics_biot:diff init contact = 1.367972e+40\n",
      "INFO:GTS.isc_modelling.contact_mechanics_biot:diff iter scalar = 1.464552e+38\n",
      "INFO:GTS.isc_modelling.contact_mechanics_biot:diff init scalar = 2.978813e+37\n",
      "INFO:GTS.isc_modelling.contact_mechanics_biot:Error in contact force is 6.929643e+00\n",
      "INFO:GTS.isc_modelling.contact_mechanics_biot:Error in matrix displacement is 5.088524e+00\n",
      "INFO:GTS.isc_modelling.contact_mechanics_biot:Error in pressure is 4.916564e+00.\n",
      "ERROR:GTS.isc_modelling.contact_mechanics_biot:Newton iterations did not converge\n",
      "INFO:GTS.isc_modelling.contact_mechanics_biot:Calling after_newton_convergence(<GTS.isc_modelling.contact_mechanics_biot.ContactMechanicsBiotISC object at 0x7f2f2466a1d0>, array([ 5.91925907e+07, -9.00557040e+07, -8.67079882e+07, ...,\n",
      "       -6.64237924e+04, -2.60042414e+03,  6.64237924e+04]), [1.0, 0.14976492400236877, 0.03584384349566908, 0.6981424887523294, 0.9004680385575358, 1.0081591819622733, 8.27556903581229, 0.9608947729448197, 1.8925701277542075, 20.722710001374935, 2.003176563724237, 1.7289122167856847, 1.3365870139777898, 1.5093987290148847, 3.693159292657897, 1.8916781397668176, 0.9451842245239025, 0.9982872554555012, 0.7740392049896329, 0.9035819036035697, 1.0913031426770106, 1.7272744786422707, 2.3990930631453944, 3.0220083059068323, 1.562738032603497, 5.92622549554955, 2.1644712091050615, 1.1581440962831686, 1.6436127399766174, 4.120240737993982, 2.1893805564667512, 13.415021416938794, 6.126413872812392, 1.0940880859123854, 0.9839805352121072, 1.0032791869059265, 1.854520488949319, 3.9824511175999766, 4.931612986261173, 3.85125551472613, 5.088523810018403], 41)\n",
      "INFO:GTS.isc_modelling.contact_mechanics_biot:Calling export_step(<GTS.isc_modelling.contact_mechanics_biot.ContactMechanicsBiotISC object at 0x7f2f2466a1d0>)\n",
      "INFO:GTS.isc_modelling.contact_mechanics_biot:'export_step' returned None\n",
      "INFO:GTS.isc_modelling.contact_mechanics_biot:'after_newton_convergence' returned None\n",
      "INFO:GTS.isc_modelling.contact_mechanics_biot:Solution exported to folder \n",
      " /home/haakon/mastersproject/src/mastersproject/GTS/isc_modelling/results/200421/full_model_tests/ivar_1\n",
      "INFO:GTS.isc_modelling.contact_mechanics_biot:Solution exported to folder \n",
      " /home/haakon/mastersproject/src/mastersproject/GTS/isc_modelling/results/200421/full_model_tests/ivar_1\n"
     ]
    }
   ],
   "source": [
    "pp.run_time_dependent_model(setup=setup, params=newton_params)"
   ]
  },
  {
   "cell_type": "code",
   "execution_count": null,
   "metadata": {},
   "outputs": [],
   "source": []
  }
 ],
 "metadata": {
  "kernelspec": {
   "display_name": "Python 3",
   "language": "python",
   "name": "python3"
  },
  "language_info": {
   "codemirror_mode": {
    "name": "ipython",
    "version": 3
   },
   "file_extension": ".py",
   "mimetype": "text/x-python",
   "name": "python",
   "nbconvert_exporter": "python",
   "pygments_lexer": "ipython3",
   "version": "3.7.0"
  }
 },
 "nbformat": 4,
 "nbformat_minor": 4
}
